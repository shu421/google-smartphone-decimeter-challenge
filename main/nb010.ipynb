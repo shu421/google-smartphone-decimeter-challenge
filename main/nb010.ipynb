{
 "cells": [
  {
   "cell_type": "code",
   "execution_count": 1,
   "id": "1c7b36f9-58fb-4315-9576-d6fd387eec06",
   "metadata": {},
   "outputs": [],
   "source": [
    "import numpy as np # linear algebra\n",
    "import pandas as pd\n",
    "from pathlib import Path\n",
    "INPUT = Path(\"../input/google-smartphone-decimeter-challenge/\")"
   ]
  },
  {
   "cell_type": "code",
   "execution_count": 2,
   "id": "d5ccdcd7-e8a3-4ca5-bfbc-9be904888f17",
   "metadata": {},
   "outputs": [],
   "source": [
    "df_baseline = pd.read_csv(INPUT/\"baseline_locations_train.csv\")\n",
    "df_sample_trail_gt = pd.read_csv(INPUT/\"train/2020-05-14-US-MTV-1/Pixel4/ground_truth.csv\")\n",
    "df_sample_trail = pd.read_csv(INPUT/\"train/2020-05-14-US-MTV-1/Pixel4/Pixel4_derived.csv\")\n",
    "df_sample_trail[\"correctedPrM\"] = df_sample_trail[\"rawPrM\"] + df_sample_trail[\"satClkBiasM\"] - df_sample_trail[\"isrbM\"] - df_sample_trail[\"ionoDelayM\"] - df_sample_trail[\"tropoDelayM\"] "
   ]
  },
  {
   "cell_type": "code",
   "execution_count": 3,
   "id": "36350adf-cdca-412c-b315-5137cb605676",
   "metadata": {},
   "outputs": [],
   "source": [
    "def ecef2lla(x, y, z):\n",
    "    # x, y and z are scalars or vectors in meters\n",
    "    x = np.array([x]).reshape(np.array([x]).shape[-1], 1)\n",
    "    y = np.array([y]).reshape(np.array([y]).shape[-1], 1)\n",
    "    z = np.array([z]).reshape(np.array([z]).shape[-1], 1)\n",
    "\n",
    "    a=6378137\n",
    "    a_sq=a**2\n",
    "    e = 8.181919084261345e-2\n",
    "    e_sq = 6.69437999014e-3\n",
    "\n",
    "    f = 1/298.257223563\n",
    "    b = a*(1-f)\n",
    "\n",
    "    # calculations:\n",
    "    r = np.sqrt(x**2 + y**2)\n",
    "    ep_sq  = (a**2-b**2)/b**2\n",
    "    ee = (a**2-b**2)\n",
    "    f = (54*b**2)*(z**2)\n",
    "    g = r**2 + (1 - e_sq)*(z**2) - e_sq*ee*2\n",
    "    c = (e_sq**2)*f*r**2/(g**3)\n",
    "    s = (1 + c + np.sqrt(c**2 + 2*c))**(1/3.)\n",
    "    p = f/(3.*(g**2)*(s + (1./s) + 1)**2)\n",
    "    q = np.sqrt(1 + 2*p*e_sq**2)\n",
    "    r_0 = -(p*e_sq*r)/(1+q) + np.sqrt(0.5*(a**2)*(1+(1./q)) - p*(z**2)*(1-e_sq)/(q*(1+q)) - 0.5*p*(r**2))\n",
    "    u = np.sqrt((r - e_sq*r_0)**2 + z**2)\n",
    "    v = np.sqrt((r - e_sq*r_0)**2 + (1 - e_sq)*z**2)\n",
    "    z_0 = (b**2)*z/(a*v)\n",
    "    h = u*(1 - b**2/(a*v))\n",
    "    phi = np.arctan((z + ep_sq*z_0)/r)\n",
    "    lambd = np.arctan2(y, x)\n",
    "\n",
    "    return phi*180/np.pi, lambd*180/np.pi, h"
   ]
  },
  {
   "cell_type": "code",
   "execution_count": 4,
   "id": "90582f87-0c11-485e-97c9-acc58684aeda",
   "metadata": {},
   "outputs": [],
   "source": [
    "epoch_time = 1273529464442\n",
    "df_sample_epoch = df_sample_trail[df_sample_trail.millisSinceGpsEpoch == epoch_time]\n",
    "df_sample_epoch_gt = df_sample_trail_gt[df_sample_trail_gt.millisSinceGpsEpoch == epoch_time]\n",
    "df_sample_epoch_baseline = df_baseline[(df_baseline.collectionName == \"2020-05-14-US-MTV-1\") & (df_baseline.phoneName == \"Pixel4\") & (df_baseline.millisSinceGpsEpoch == epoch_time)]\n",
    "\n",
    "sat_pos = df_sample_epoch[[\"xSatPosM\",\"ySatPosM\",\"zSatPosM\"]].to_numpy()\n",
    "pseudoranges = np.squeeze(df_sample_epoch[[\"correctedPrM\"]].to_numpy())"
   ]
  },
  {
   "cell_type": "code",
   "execution_count": 5,
   "id": "249ea3c5-930b-4fde-8951-69ef79d5f0bc",
   "metadata": {},
   "outputs": [],
   "source": [
    "def least_squares(sat_pos, pseudoranges, weights=1, x_hat=np.array([0, 0, 0, 0])):\n",
    "    \"\"\"\n",
    "    Args:\n",
    "    sat_pos: The satellite position (meters) in an ECEF coordinate frame\n",
    "    pseudoranges: The corrected pseudorange (i.e. a closer approximation to the geometric range from the phone to the satellite)\n",
    "    x_hat: the phone's initial/previous estimated position (x, y, z, b) and \n",
    "           b represent the user clock bias in units of distance = clock bias (t) * light speed (c)\n",
    "\n",
    "    Returns:\n",
    "    x_hat: the phone's estimated position\n",
    "    norm_dp:\n",
    "    \"\"\"\n",
    "    dx = np.Inf*np.ones(3)\n",
    "    G = np.ones((pseudoranges.size, 4))\n",
    "    iterations = 0\n",
    "\n",
    "    if isinstance(weights, np.ndarray):\n",
    "        weights = np.diag(weights)\n",
    "    else:\n",
    "        weights = weights*np.eye(pseudoranges.size)\n",
    "\n",
    "    while np.linalg.norm(dx) > 1e-3:\n",
    "        norms = np.linalg.norm(sat_pos - x_hat[:3], axis=1)\n",
    "        dp = pseudoranges - norms - x_hat[3]\n",
    "        G[:, 0:3] = -(sat_pos - x_hat[:3])/norms[:, None]\n",
    "        # G_T = np.transpose(G)\n",
    "        # dx = np.linalg.inv(G_T@G) @ G_T @ dp\n",
    "        dx = np.linalg.pinv(weights@G) @ weights @ dp\n",
    "        x_hat = x_hat + dx\n",
    "        iterations += 1\n",
    "    return x_hat, np.linalg.norm(dp)"
   ]
  },
  {
   "cell_type": "code",
   "execution_count": 6,
   "id": "9eadadc3-2c4d-47d8-8992-e84e772ddce4",
   "metadata": {},
   "outputs": [
    {
     "name": "stdout",
     "output_type": "stream",
     "text": [
      "Ground truth: [[  37.42357595 -122.09413204   33.21      ]]\n",
      "Weighted Least Square Estimation (Baseline): [[  37.4235777 -122.094101   -33.29     ]]\n",
      "Weighted Least Square Estimation: [[37.42357917]] [[-122.09375829]] [[-35.25074978]]\n"
     ]
    }
   ],
   "source": [
    "pseudoranges_sigma = np.squeeze(df_sample_epoch[[\"rawPrUncM\"]].to_numpy())\n",
    "\n",
    "x, dp = least_squares(sat_pos, pseudoranges, 1/pseudoranges_sigma)\n",
    "\n",
    "print(\"Ground truth:\", df_sample_epoch_gt[[\"latDeg\",\"lngDeg\",\"heightAboveWgs84EllipsoidM\"]].to_numpy())\n",
    "print(\"Weighted Least Square Estimation (Baseline):\", df_sample_epoch_baseline[[\"latDeg\",\"lngDeg\",\"heightAboveWgs84EllipsoidM\"]].to_numpy())\n",
    "print(\"Weighted Least Square Estimation:\", *ecef2lla(*x[:3]))"
   ]
  },
  {
   "cell_type": "code",
   "execution_count": 16,
   "id": "688ea945-32df-4971-a253-de091619d3b9",
   "metadata": {},
   "outputs": [],
   "source": [
    "import scipy.optimize as opt\n",
    "\n",
    "def calc_pos_fix(sat_pos, pr, weights=1, x0=[0, 0, 0, 0]):\n",
    "    '''\n",
    "    Calculates gps fix with WLS optimizer\n",
    "    returns:\n",
    "    0 -> list with positions\n",
    "    1 -> pseudorange errs\n",
    "    '''\n",
    "    n = len(pr)\n",
    "    if n < 3:\n",
    "        return x0, []\n",
    "\n",
    "    Fx_pos = pr_residual(sat_pos, pr, weights=weights)\n",
    "    opt_pos = opt.least_squares(Fx_pos, x0).x\n",
    "    return opt_pos, Fx_pos(opt_pos, weights=1)\n",
    "\n",
    "\n",
    "def pr_residual(sat_pos, pr, weights=1):\n",
    "    # solve for pos\n",
    "    def Fx_pos(x_hat, weights=weights):\n",
    "        rows = weights * (np.linalg.norm(sat_pos - x_hat[:3], axis=1) + x_hat[3] - pr)\n",
    "        return rows\n",
    "    return Fx_pos"
   ]
  },
  {
   "cell_type": "code",
   "execution_count": 17,
   "id": "00975602-38a6-4248-aa3d-7f3f7f7e4af9",
   "metadata": {},
   "outputs": [
    {
     "name": "stdout",
     "output_type": "stream",
     "text": [
      "Ground truth: [[  37.42357595 -122.09413204   33.21      ]]\n",
      "Weighted Least Square Estimation (Baseline): [[  37.4235777 -122.094101   -33.29     ]]\n",
      "Simple Least Square Estimation: [[37.42361372]] [[-122.0936959]] [[-26.18615579]]\n"
     ]
    }
   ],
   "source": [
    "x, dp = calc_pos_fix(sat_pos, pseudoranges)\n",
    "\n",
    "print(\"Ground truth:\", df_sample_epoch_gt[[\"latDeg\",\"lngDeg\",\"heightAboveWgs84EllipsoidM\"]].to_numpy())\n",
    "print(\"Weighted Least Square Estimation (Baseline):\", df_sample_epoch_baseline[[\"latDeg\",\"lngDeg\",\"heightAboveWgs84EllipsoidM\"]].to_numpy())\n",
    "print(\"Simple Least Square Estimation:\", *ecef2lla(*x[:3]))\n",
    "# print(x[3]/LIGHTSPEED)\n",
    "# print(dp)"
   ]
  },
  {
   "cell_type": "code",
   "execution_count": 18,
   "id": "b4a07223-dba9-41f7-9cda-78ddd0ea1d15",
   "metadata": {},
   "outputs": [
    {
     "name": "stdout",
     "output_type": "stream",
     "text": [
      "Ground truth: [[  37.42357595 -122.09413204   33.21      ]]\n",
      "Weighted Least Square Estimation (Baseline): [[  37.4235777 -122.094101   -33.29     ]]\n",
      "Weighted Least Square Estimation: [[37.42357917]] [[-122.09375829]] [[-35.25075022]]\n"
     ]
    }
   ],
   "source": [
    "pseudoranges_sigma = np.squeeze(df_sample_epoch[[\"rawPrUncM\"]].to_numpy())\n",
    "\n",
    "x, dp = calc_pos_fix(sat_pos, pseudoranges, 1/pseudoranges_sigma)\n",
    "\n",
    "print(\"Ground truth:\", df_sample_epoch_gt[[\"latDeg\",\"lngDeg\",\"heightAboveWgs84EllipsoidM\"]].to_numpy())\n",
    "print(\"Weighted Least Square Estimation (Baseline):\", df_sample_epoch_baseline[[\"latDeg\",\"lngDeg\",\"heightAboveWgs84EllipsoidM\"]].to_numpy())\n",
    "print(\"Weighted Least Square Estimation:\", *ecef2lla(*x[:3]))"
   ]
  },
  {
   "cell_type": "code",
   "execution_count": 19,
   "id": "5aafbf4b-f0fb-475c-98e4-7179a5aae2ee",
   "metadata": {},
   "outputs": [],
   "source": [
    "def calc_haversine(lat1, lon1, lat2, lon2):\n",
    "    \"\"\"Calculates the great circle distance between two points\n",
    "    on the earth. Inputs are array-like and specified in decimal degrees.\n",
    "    \"\"\"\n",
    "    RADIUS = 6_367_000\n",
    "    lat1, lon1, lat2, lon2 = map(np.radians, [lat1, lon1, lat2, lon2])\n",
    "    dlat = lat2 - lat1\n",
    "    dlon = lon2 - lon1\n",
    "    a = np.sin(dlat/2)**2 + \\\n",
    "        np.cos(lat1) * np.cos(lat2) * np.sin(dlon/2)**2\n",
    "    dist = 2 * RADIUS * np.arcsin(a**0.5)\n",
    "    return dist"
   ]
  },
  {
   "cell_type": "code",
   "execution_count": 20,
   "id": "5153e49a-ffed-4928-8416-41296af41330",
   "metadata": {},
   "outputs": [
    {
     "name": "stdout",
     "output_type": "stream",
     "text": [
      "Weighted Least Square (baseline) haversine distance (M): [2.74590055]\n",
      "Weighted Least Square haversine distance (M): [[32.98570795]]\n"
     ]
    }
   ],
   "source": [
    "deg_gt = df_sample_epoch_gt[[\"latDeg\",\"lngDeg\"]].to_numpy().transpose()\n",
    "deg_baseline = df_sample_epoch_baseline[[\"latDeg\",\"lngDeg\"]].to_numpy().transpose()\n",
    "print(\"Weighted Least Square (baseline) haversine distance (M):\", calc_haversine(*deg_gt, *deg_baseline))\n",
    "print(\"Weighted Least Square haversine distance (M):\", calc_haversine(*deg_gt, *ecef2lla(*x[:3])[:2]))"
   ]
  },
  {
   "cell_type": "code",
   "execution_count": 21,
   "id": "b5d6c0bf-ec1a-41b7-b8c0-bf09f31153b7",
   "metadata": {},
   "outputs": [],
   "source": [
    "def simple_pipeline(df_trails):\n",
    "    \"\"\" simple pipeline to estimate the GNSS receiver location by least square\n",
    "    Args:\n",
    "    df_trails: the df read from derived file\n",
    "\n",
    "    Returns:\n",
    "    result df with estimated degrees and heights\n",
    "    \"\"\"\n",
    "    df_trails[\"correctedPrM\"] = df_trails[\"rawPrM\"] + df_trails[\"satClkBiasM\"] - df_trails[\"isrbM\"] - df_trails[\"ionoDelayM\"] - df_trails[\"tropoDelayM\"]\n",
    "\n",
    "    results = []\n",
    "    x = [0, 0, 0, 0]\n",
    "    df_epochs = df_trails.groupby([\"collectionName\", \"phoneName\", \"millisSinceGpsEpoch\"])\n",
    "    for indices, df_epoch in tqdm(df_epochs, desc=\"Estimate location by LS for epoch\"):\n",
    "        sat_pos = df_epoch[[\"xSatPosM\",\"ySatPosM\",\"zSatPosM\"]].to_numpy()\n",
    "        pseudoranges = np.squeeze(df_epoch[[\"correctedPrM\"]].to_numpy())\n",
    "        pseudoranges_sigma = np.squeeze(df_epoch[[\"rawPrUncM\"]].to_numpy())\n",
    "        x, _ = calc_pos_fix(sat_pos, pseudoranges, 1/pseudoranges_sigma, x)\n",
    "        # x, _ = calc_pos_fix(sat_pos, pseudoranges, 1, x)\n",
    "        values = np.squeeze(ecef2lla(*x[:3]))\n",
    "        results.append([*indices, *values])\n",
    "    return pd.DataFrame(results,columns=[\"collectionName\", \"phoneName\", \"millisSinceGpsEpoch\", \"latDeg\", \"lngDeg\", \"heightAboveWgs84EllipsoidM\"])"
   ]
  },
  {
   "cell_type": "code",
   "execution_count": 22,
   "id": "cac7afb4-f80c-4683-a1b8-54103c6f93a0",
   "metadata": {},
   "outputs": [
    {
     "data": {
      "application/vnd.jupyter.widget-view+json": {
       "model_id": "2c2f137053a74ca8b14af5335030c5dc",
       "version_major": 2,
       "version_minor": 0
      },
      "text/plain": [
       "Reading ground truth data:   0%|          | 0/73 [00:00<?, ?it/s]"
      ]
     },
     "metadata": {},
     "output_type": "display_data"
    },
    {
     "data": {
      "application/vnd.jupyter.widget-view+json": {
       "model_id": "ff42bd38c87f4a8abaaeaea8124969a4",
       "version_major": 2,
       "version_minor": 0
      },
      "text/plain": [
       "Reading drived data:   0%|          | 0/73 [00:00<?, ?it/s]"
      ]
     },
     "metadata": {},
     "output_type": "display_data"
    }
   ],
   "source": [
    "from pathlib import Path\n",
    "# from tqdm import tqdm\n",
    "from tqdm.notebook import tqdm\n",
    "\n",
    "# INPUT = Path(\"./data\")\n",
    "ground_truths = (INPUT / \"train\").rglob(\"ground_truth.csv\")\n",
    "drived_files = (INPUT / \"train\").rglob(\"*_derived.csv\")\n",
    "\n",
    "df_sample_trails_baseline = pd.read_csv(INPUT / 'baseline_locations_train.csv')\n",
    "df_sample_trails_gt = pd.concat([pd.read_csv(filepath) for filepath in tqdm(ground_truths, total=73, desc=\"Reading ground truth data\")], ignore_index=True)\n",
    "df_sample_trails = pd.concat([pd.read_csv(filepath) for filepath in tqdm(drived_files, total=73, desc=\"Reading drived data\")], ignore_index=True)"
   ]
  },
  {
   "cell_type": "code",
   "execution_count": 23,
   "id": "ed9c9024-b32c-4bfa-8c53-777c57316a4e",
   "metadata": {},
   "outputs": [],
   "source": [
    "df_sample_trails_gt[\"receivedSvTimeInGpsNanos\"] = df_sample_trails_gt.millisSinceGpsEpoch*int(1e6)\n",
    "df_sample_trails_raw = df_sample_trails.drop(\"millisSinceGpsEpoch\", axis=1)\n",
    "\n",
    "df_merge = pd.merge_asof(df_sample_trails_raw.sort_values('receivedSvTimeInGpsNanos'), df_sample_trails_gt.sort_values('receivedSvTimeInGpsNanos'), \n",
    "                                           on=\"receivedSvTimeInGpsNanos\", by=[\"collectionName\", \"phoneName\"], direction='nearest',tolerance=int(1e9))\n",
    "df_merge = df_merge.sort_values(by=[\"collectionName\", \"phoneName\", \"millisSinceGpsEpoch\"], ignore_index=True)"
   ]
  },
  {
   "cell_type": "code",
   "execution_count": 24,
   "id": "97c7f6f6-38ee-4a97-aa88-9e2d759e3136",
   "metadata": {},
   "outputs": [
    {
     "data": {
      "application/vnd.jupyter.widget-view+json": {
       "model_id": "86bdf8e21d2447b28edb220a87730ac6",
       "version_major": 2,
       "version_minor": 0
      },
      "text/plain": [
       "Estimate location by LS for epoch:   0%|          | 0/130756 [00:00<?, ?it/s]"
      ]
     },
     "metadata": {},
     "output_type": "display_data"
    }
   ],
   "source": [
    "df_sample_trails_estimate = simple_pipeline(df_merge)"
   ]
  },
  {
   "cell_type": "code",
   "execution_count": 27,
   "id": "de0f26c6-280d-4901-a6ec-9f62e4868090",
   "metadata": {},
   "outputs": [
    {
     "name": "stdout",
     "output_type": "stream",
     "text": [
      "Weighted Least Square (baseline) haversine distance (M): 3.8468483749952074\n",
      "Weighted Least Square haversine distance (M): 30.854276673073244\n"
     ]
    }
   ],
   "source": [
    "df_sample_trails_merged_baseline = pd.merge_asof(df_sample_trails_gt.sort_values('millisSinceGpsEpoch'),\n",
    "                                                 df_sample_trails_baseline.sort_values('millisSinceGpsEpoch'), \n",
    "                                                 on=\"millisSinceGpsEpoch\", by=[\"collectionName\", \"phoneName\"], \n",
    "                                                 direction='nearest',tolerance=100000, suffixes=('_truth', '_pred'))\n",
    "df_sample_trails_merged_baseline = df_sample_trails_merged_baseline.sort_values(by=[\"collectionName\", \"phoneName\", \"millisSinceGpsEpoch\"], ignore_index=True)\n",
    "\n",
    "df_sample_trails_merged_SL = pd.merge_asof(df_sample_trails_gt.sort_values('millisSinceGpsEpoch'), \n",
    "                                           df_sample_trails_estimate.sort_values('millisSinceGpsEpoch'), \n",
    "                                           on=\"millisSinceGpsEpoch\", by=[\"collectionName\", \"phoneName\"], \n",
    "                                           direction='nearest',tolerance=100000, suffixes=('_truth', '_pred'))\n",
    "df_sample_trails_merged_SL = df_sample_trails_merged_SL.sort_values(by=[\"collectionName\", \"phoneName\", \"millisSinceGpsEpoch\"], ignore_index=True)\n",
    "\n",
    "compared_cols = [\"latDeg_truth\",\"lngDeg_truth\",\"latDeg_pred\",\"lngDeg_pred\"]\n",
    "print(\"Weighted Least Square (baseline) haversine distance (M):\", calc_haversine(*df_sample_trails_merged_baseline[compared_cols].to_numpy().transpose()).mean())\n",
    "print(\"Weighted Least Square haversine distance (M):\", calc_haversine(*df_sample_trails_merged_SL[compared_cols].to_numpy().transpose()).mean())"
   ]
  },
  {
   "cell_type": "markdown",
   "id": "5e4aa67a-9b53-43e4-8163-d45a6bd5a01f",
   "metadata": {},
   "source": [
    "## Submission"
   ]
  },
  {
   "cell_type": "code",
   "execution_count": 28,
   "id": "22b2ba44-1c28-4623-b630-0c04f986c906",
   "metadata": {},
   "outputs": [
    {
     "data": {
      "application/vnd.jupyter.widget-view+json": {
       "model_id": "1824e307338a4b78bdf379519e095a0a",
       "version_major": 2,
       "version_minor": 0
      },
      "text/plain": [
       "Reading drived data:   0%|          | 0/48 [00:00<?, ?it/s]"
      ]
     },
     "metadata": {},
     "output_type": "display_data"
    }
   ],
   "source": [
    "from pathlib import Path\n",
    "# from tqdm import tqdm\n",
    "from tqdm.notebook import tqdm\n",
    "\n",
    "# INPUT = Path(\"./data\")\n",
    "drived_files = (INPUT / \"test\").rglob(\"*_derived.csv\")\n",
    "\n",
    "df_sample_trails_baseline = pd.read_csv(INPUT / 'baseline_locations_test.csv')\n",
    "df_sample_trails = pd.concat([pd.read_csv(filepath) for filepath in tqdm(drived_files, total=48, desc=\"Reading drived data\")], ignore_index=True)"
   ]
  },
  {
   "cell_type": "code",
   "execution_count": null,
   "id": "0a6cfe82-db7f-4a58-9c2f-8dcc62bf541f",
   "metadata": {},
   "outputs": [],
   "source": [
    "df_sample_trails_baseline[\"receivedSvTimeInGpsNanos\"] = df_sample_trails_baseline.millisSinceGpsEpoch*int(1e6)\n",
    "df_sample_trails_raw = df_sample_trails.drop(\"millisSinceGpsEpoch\", axis=1)\n",
    "\n",
    "df_merge = pd.merge_asof(df_sample_trails_raw.sort_values('receivedSvTimeInGpsNanos'), df_sample_trails_baseline.sort_values('receivedSvTimeInGpsNanos'), \n",
    "                                           on=\"receivedSvTimeInGpsNanos\", by=[\"collectionName\", \"phoneName\"], direction='nearest',tolerance=int(1e9))\n",
    "df_merge = df_merge.sort_values(by=[\"collectionName\", \"phoneName\", \"millisSinceGpsEpoch\"], ignore_index=True)"
   ]
  },
  {
   "cell_type": "code",
   "execution_count": null,
   "id": "570ad8bf-80f6-44e5-b86a-9c9e86c6e57b",
   "metadata": {},
   "outputs": [],
   "source": [
    "df_sample_trails_estimate = simple_pipeline(df_merge)"
   ]
  },
  {
   "cell_type": "code",
   "execution_count": null,
   "id": "db349550-6d16-46e4-af7e-59026b3354bf",
   "metadata": {},
   "outputs": [],
   "source": [
    "df_sample_trails_baseline = df_sample_trails_baseline.drop([\"latDeg\",\"lngDeg\",\"heightAboveWgs84EllipsoidM\"], axis=1)\n",
    "df_sample_trails_merged = pd.merge_asof(df_sample_trails_baseline.sort_values('millisSinceGpsEpoch'), \n",
    "                                        df_sample_trails_estimate.sort_values('millisSinceGpsEpoch'), \n",
    "                                        on=\"millisSinceGpsEpoch\", by=[\"collectionName\", \"phoneName\"], direction='nearest', tolerance=100000)\n",
    "df_sample_trails_merged = df_sample_trails_merged.sort_values(by=[\"phone\", \"millisSinceGpsEpoch\"], ignore_index=True)\n",
    "\n",
    "df_submission = df_sample_trails_merged[[\"phone\", \"millisSinceGpsEpoch\", \"latDeg\", \"lngDeg\"]].copy()\n",
    "df_submission.to_csv('../output/sub_nb010.csv', index=False)"
   ]
  },
  {
   "cell_type": "code",
   "execution_count": null,
   "id": "32ad172c-a4b6-41ec-991f-5c6ee010c68e",
   "metadata": {},
   "outputs": [],
   "source": []
  }
 ],
 "metadata": {
  "kernelspec": {
   "display_name": "Python 3",
   "language": "python",
   "name": "python3"
  },
  "language_info": {
   "codemirror_mode": {
    "name": "ipython",
    "version": 3
   },
   "file_extension": ".py",
   "mimetype": "text/x-python",
   "name": "python",
   "nbconvert_exporter": "python",
   "pygments_lexer": "ipython3",
   "version": "3.7.4"
  }
 },
 "nbformat": 4,
 "nbformat_minor": 5
}
