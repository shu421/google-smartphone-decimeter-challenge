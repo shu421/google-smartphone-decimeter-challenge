{
 "cells": [
  {
   "cell_type": "markdown",
   "id": "85bfaaa1-9f00-4589-b000-8ef8b3e0296c",
   "metadata": {},
   "source": [
    "# Outlier correction"
   ]
  },
  {
   "cell_type": "code",
   "execution_count": 66,
   "id": "725483b5-cba0-45b8-bbcd-8009ec460114",
   "metadata": {},
   "outputs": [
    {
     "data": {
      "application/vnd.jupyter.widget-view+json": {
       "model_id": "a772ddab1f004711821e31f970d3ff1e",
       "version_major": 2,
       "version_minor": 0
      },
      "text/plain": [
       "  0%|          | 0/73 [00:00<?, ?it/s]"
      ]
     },
     "metadata": {},
     "output_type": "display_data"
    }
   ],
   "source": [
    "from pathlib import Path\n",
    "import pandas as pd\n",
    "\n",
    "import numpy as np\n",
    "from tqdm.notebook import tqdm\n",
    "\n",
    "\n",
    "data_path = Path(\"../input/google-smartphone-decimeter-challenge\")\n",
    "df_test = pd.read_csv(data_path / 'baseline_locations_test.csv')\n",
    "df_sub    = pd.read_csv(data_path / 'sample_submission.csv')\n",
    "\n",
    "# returns a generator\n",
    "truths = (data_path / 'train').rglob('ground_truth.csv')\n",
    "\n",
    "df_list = []\n",
    "cols = ['collectionName', 'phoneName', 'millisSinceGpsEpoch', 'latDeg',\n",
    "       'lngDeg']\n",
    "\n",
    "for t in tqdm(truths, total=73):\n",
    "    df_phone = pd.read_csv(t, usecols=cols)  \n",
    "    df_list.append(df_phone)\n",
    "df_truth = pd.concat(df_list, ignore_index=True)\n",
    "\n",
    "df_basepreds = pd.read_csv(data_path / 'baseline_locations_train.csv')#, usecols=cols)\n",
    "df_all = df_truth.merge(df_basepreds, how='inner', on=cols[:3], suffixes=('_truth', '_basepred'))\n",
    "\n",
    "def calc_haversine(lat1, lon1, lat2, lon2):\n",
    "    \"\"\"Calculates the great circle distance between two points\n",
    "    on the earth. Inputs are array-like and specified in decimal degrees.\n",
    "    \"\"\"\n",
    "    RADIUS = 6_367_000\n",
    "    lat1, lon1, lat2, lon2 = map(np.radians, [lat1, lon1, lat2, lon2])\n",
    "    dlat = lat2 - lat1\n",
    "    dlon = lon2 - lon1\n",
    "    a = np.sin(dlat/2)**2 + \\\n",
    "        np.cos(lat1) * np.cos(lat2) * np.sin(dlon/2)**2\n",
    "    dist = 2 * RADIUS * np.arcsin(a**0.5)\n",
    "    return dist\n",
    "\n",
    "df_all['dist'] = calc_haversine(df_all.latDeg_truth, df_all.lngDeg_truth, \n",
    "    df_all.latDeg_basepred, df_all.lngDeg_basepred)"
   ]
  },
  {
   "cell_type": "code",
   "execution_count": 67,
   "id": "843ea902-9238-4ce7-9722-79cb3aab2c97",
   "metadata": {},
   "outputs": [
    {
     "data": {
      "text/plain": [
       "count    131342.000000\n",
       "mean          3.846848\n",
       "std          30.739767\n",
       "min           0.001338\n",
       "25%           1.210976\n",
       "50%           2.065769\n",
       "75%           3.560001\n",
       "max        8340.257976\n",
       "Name: dist, dtype: float64"
      ]
     },
     "execution_count": 67,
     "metadata": {},
     "output_type": "execute_result"
    }
   ],
   "source": [
    "df_all.dist.describe()"
   ]
  },
  {
   "cell_type": "code",
   "execution_count": 68,
   "id": "3b77991a-1cc6-48fb-8e77-c3c9600c876f",
   "metadata": {},
   "outputs": [
    {
     "data": {
      "text/html": [
       "<div>\n",
       "<style scoped>\n",
       "    .dataframe tbody tr th:only-of-type {\n",
       "        vertical-align: middle;\n",
       "    }\n",
       "\n",
       "    .dataframe tbody tr th {\n",
       "        vertical-align: top;\n",
       "    }\n",
       "\n",
       "    .dataframe thead th {\n",
       "        text-align: right;\n",
       "    }\n",
       "</style>\n",
       "<table border=\"1\" class=\"dataframe\">\n",
       "  <thead>\n",
       "    <tr style=\"text-align: right;\">\n",
       "      <th></th>\n",
       "      <th>collectionName</th>\n",
       "      <th>dist</th>\n",
       "    </tr>\n",
       "  </thead>\n",
       "  <tbody>\n",
       "    <tr>\n",
       "      <th>64035</th>\n",
       "      <td>2020-09-04-US-SF-1</td>\n",
       "      <td>8340.257976</td>\n",
       "    </tr>\n",
       "    <tr>\n",
       "      <th>114354</th>\n",
       "      <td>2020-07-17-US-MTV-2</td>\n",
       "      <td>5050.995543</td>\n",
       "    </tr>\n",
       "    <tr>\n",
       "      <th>52894</th>\n",
       "      <td>2021-04-26-US-SVL-1</td>\n",
       "      <td>2254.344928</td>\n",
       "    </tr>\n",
       "    <tr>\n",
       "      <th>113362</th>\n",
       "      <td>2020-07-17-US-MTV-2</td>\n",
       "      <td>2026.294654</td>\n",
       "    </tr>\n",
       "    <tr>\n",
       "      <th>113360</th>\n",
       "      <td>2020-07-17-US-MTV-2</td>\n",
       "      <td>1934.676643</td>\n",
       "    </tr>\n",
       "    <tr>\n",
       "      <th>108223</th>\n",
       "      <td>2021-04-29-US-SJC-2</td>\n",
       "      <td>1599.570433</td>\n",
       "    </tr>\n",
       "    <tr>\n",
       "      <th>83930</th>\n",
       "      <td>2020-05-29-US-MTV-1</td>\n",
       "      <td>1128.348831</td>\n",
       "    </tr>\n",
       "    <tr>\n",
       "      <th>113361</th>\n",
       "      <td>2020-07-17-US-MTV-2</td>\n",
       "      <td>1044.316856</td>\n",
       "    </tr>\n",
       "    <tr>\n",
       "      <th>54443</th>\n",
       "      <td>2021-01-05-US-SVL-1</td>\n",
       "      <td>653.703379</td>\n",
       "    </tr>\n",
       "    <tr>\n",
       "      <th>74448</th>\n",
       "      <td>2021-04-15-US-MTV-1</td>\n",
       "      <td>549.061548</td>\n",
       "    </tr>\n",
       "  </tbody>\n",
       "</table>\n",
       "</div>"
      ],
      "text/plain": [
       "             collectionName         dist\n",
       "64035    2020-09-04-US-SF-1  8340.257976\n",
       "114354  2020-07-17-US-MTV-2  5050.995543\n",
       "52894   2021-04-26-US-SVL-1  2254.344928\n",
       "113362  2020-07-17-US-MTV-2  2026.294654\n",
       "113360  2020-07-17-US-MTV-2  1934.676643\n",
       "108223  2021-04-29-US-SJC-2  1599.570433\n",
       "83930   2020-05-29-US-MTV-1  1128.348831\n",
       "113361  2020-07-17-US-MTV-2  1044.316856\n",
       "54443   2021-01-05-US-SVL-1   653.703379\n",
       "74448   2021-04-15-US-MTV-1   549.061548"
      ]
     },
     "execution_count": 68,
     "metadata": {},
     "output_type": "execute_result"
    }
   ],
   "source": [
    "df_all.sort_values(by = 'dist',ascending = False)[['collectionName','dist']].head(10)"
   ]
  },
  {
   "cell_type": "markdown",
   "id": "90741660-b6e1-480c-bf3e-1cd1b1ece799",
   "metadata": {},
   "source": [
    "# Correct outlier"
   ]
  },
  {
   "cell_type": "code",
   "execution_count": 69,
   "id": "b08de15e-7df0-4025-9779-2007fbb24514",
   "metadata": {},
   "outputs": [],
   "source": [
    "def correct_outlier(df):    \n",
    "    df['dist_pre'] = 0\n",
    "    df['dist_pro'] = 0\n",
    "\n",
    "    df['latDeg_pre'] = df['latDeg'].shift(periods=1,fill_value=0)\n",
    "    df['lngDeg_pre'] = df['lngDeg'].shift(periods=1,fill_value=0)\n",
    "    df['latDeg_pro'] = df['latDeg'].shift(periods=-1,fill_value=0)\n",
    "    df['lngDeg_pro'] = df['lngDeg'].shift(periods=-1,fill_value=0)\n",
    "    df['dist_pre'] = calc_haversine(df.latDeg_pre, df.lngDeg_pre, df.latDeg, df.lngDeg)\n",
    "    df['dist_pro'] = calc_haversine(df.latDeg, df.lngDeg, df.latDeg_pro, df.lngDeg_pro)\n",
    "\n",
    "    list_phone = df['phone'].unique()\n",
    "    for phone in list_phone:\n",
    "        ind_s = df[df['phone'] == phone].index[0]\n",
    "        ind_e = df[df['phone'] == phone].index[-1]\n",
    "        df.loc[ind_s,'dist_pre'] = 0\n",
    "        df.loc[ind_e,'dist_pro'] = 0\n",
    "\n",
    "    pro_95 = df['dist_pro'].mean() + (df['dist_pro'].std() * 2)\n",
    "    pre_95 = df['dist_pre'].mean() + (df['dist_pre'].std() * 2)\n",
    "    ind = df[(df['dist_pro'] > pro_95)&(df['dist_pre'] > pre_95)][['dist_pre','dist_pro']].index\n",
    "\n",
    "    for i in ind:\n",
    "        df.loc[i,'latDeg'] = (df.loc[i-1,'latDeg'] + df.loc[i+1,'latDeg'])/2\n",
    "        df.loc[i,'lngDeg'] = (df.loc[i-1,'lngDeg'] + df.loc[i+1,'lngDeg'])/2\n",
    "    \n",
    "    return df"
   ]
  },
  {
   "cell_type": "markdown",
   "id": "89e43c77-d82a-4965-8f85-82961c440690",
   "metadata": {},
   "source": [
    "# Kalman filter"
   ]
  },
  {
   "cell_type": "code",
   "execution_count": 70,
   "id": "b96c9ffe-c389-420e-a224-48805918b18a",
   "metadata": {},
   "outputs": [],
   "source": [
    "from pathlib import Path\n",
    "import numpy as np\n",
    "import pandas as pd\n",
    "import simdkalman\n",
    "from tqdm.notebook import tqdm\n",
    "\n",
    "T = 1.0\n",
    "state_transition = np.array([[1, 0, T, 0, 0.5 * T ** 2, 0], [0, 1, 0, T, 0, 0.5 * T ** 2], [0, 0, 1, 0, T, 0],\n",
    "                             [0, 0, 0, 1, 0, T], [0, 0, 0, 0, 1, 0], [0, 0, 0, 0, 0, 1]])\n",
    "process_noise = np.diag([1e-5, 1e-5, 5e-6, 5e-6, 1e-6, 1e-6]) + np.ones((6, 6)) * 1e-9\n",
    "observation_model = np.array([[1, 0, 0, 0, 0, 0], [0, 1, 0, 0, 0, 0]])\n",
    "observation_noise = np.diag([5e-5, 5e-5]) + np.ones((2, 2)) * 1e-9\n",
    "\n",
    "kf = simdkalman.KalmanFilter(\n",
    "        state_transition = state_transition,\n",
    "        process_noise = process_noise,\n",
    "        observation_model = observation_model,\n",
    "        observation_noise = observation_noise)"
   ]
  },
  {
   "cell_type": "code",
   "execution_count": 71,
   "id": "508ad048-619e-450e-96c5-5c6e6696c2d2",
   "metadata": {},
   "outputs": [],
   "source": [
    "def apply_kf_smoothing(df, kf_=kf):\n",
    "    unique_paths = df[['collectionName', 'phoneName']].drop_duplicates().to_numpy()\n",
    "    for collection, phone in tqdm(unique_paths):\n",
    "        cond = np.logical_and(df['collectionName'] == collection, df['phoneName'] == phone)\n",
    "        data = df[cond][['latDeg', 'lngDeg']].to_numpy()\n",
    "        data = data.reshape(1, len(data), 2)\n",
    "        smoothed = kf_.smooth(data)\n",
    "        df.loc[cond, 'latDeg'] = smoothed.states.mean[0, :, 0]\n",
    "        df.loc[cond, 'lngDeg'] = smoothed.states.mean[0, :, 1]\n",
    "    return df"
   ]
  },
  {
   "cell_type": "code",
   "execution_count": 72,
   "id": "e48cb980-c605-4b5d-ad23-4907bcd9f443",
   "metadata": {
    "tags": []
   },
   "outputs": [],
   "source": [
    "def percentile50(x):\n",
    "    return np.percentile(x, 50)\n",
    "def percentile95(x):\n",
    "    return np.percentile(x, 95)\n",
    "\n",
    "def get_train_score(df, gt):\n",
    "    gt = gt.rename(columns={'latDeg':'latDeg_gt', 'lngDeg':'lngDeg_gt'})\n",
    "    df = df.merge(gt, on=['collectionName', 'phoneName', 'millisSinceGpsEpoch'], how='inner')\n",
    "    # calc_distance_error\n",
    "    df['err'] = calc_haversine(df['latDeg_gt'], df['lngDeg_gt'], df['latDeg'], df['lngDeg'])\n",
    "    # calc_evaluate_score\n",
    "    df['phone'] = df['collectionName'] + '_' + df['phoneName']\n",
    "    res = df.groupby('phone')['err'].agg([percentile50, percentile95]) # phoneによってgroupbyし、gtと予測値の差(err)の50%,95%値を求める\n",
    "    res['p50_p90_mean'] = (res['percentile50'] + res['percentile95']) / 2 \n",
    "    score = res['p50_p90_mean'].mean()\n",
    "    return score"
   ]
  },
  {
   "cell_type": "code",
   "execution_count": 73,
   "id": "735f1c02-eb6a-422f-aa38-d890bc626b85",
   "metadata": {},
   "outputs": [
    {
     "data": {
      "application/vnd.jupyter.widget-view+json": {
       "model_id": "d6e5ca5734134fadb088b66f21a985df",
       "version_major": 2,
       "version_minor": 0
      },
      "text/plain": [
       "  0%|          | 0/73 [00:00<?, ?it/s]"
      ]
     },
     "metadata": {},
     "output_type": "display_data"
    },
    {
     "data": {
      "text/plain": [
       "4.58290973646303"
      ]
     },
     "execution_count": 73,
     "metadata": {},
     "output_type": "execute_result"
    }
   ],
   "source": [
    "df_correct_outlier = correct_outlier(df_basepreds)\n",
    "kf_smoothed_baseline = apply_kf_smoothing(df_correct_outlier)\n",
    "get_train_score(kf_smoothed_baseline, df_truth)"
   ]
  },
  {
   "cell_type": "code",
   "execution_count": null,
   "id": "918c4d21-1439-4714-9260-2de474e87963",
   "metadata": {},
   "outputs": [],
   "source": []
  }
 ],
 "metadata": {
  "kernelspec": {
   "display_name": "Python 3",
   "language": "python",
   "name": "python3"
  },
  "language_info": {
   "codemirror_mode": {
    "name": "ipython",
    "version": 3
   },
   "file_extension": ".py",
   "mimetype": "text/x-python",
   "name": "python",
   "nbconvert_exporter": "python",
   "pygments_lexer": "ipython3",
   "version": "3.7.4"
  }
 },
 "nbformat": 4,
 "nbformat_minor": 5
}
