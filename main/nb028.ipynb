{
 "metadata": {
  "language_info": {
   "codemirror_mode": {
    "name": "ipython",
    "version": 3
   },
   "file_extension": ".py",
   "mimetype": "text/x-python",
   "name": "python",
   "nbconvert_exporter": "python",
   "pygments_lexer": "ipython3",
   "version": "3.7.4"
  },
  "orig_nbformat": 2,
  "kernelspec": {
   "name": "python3",
   "display_name": "Python 3.7.4 64-bit ('venv_outdoor': venv)",
   "metadata": {
    "interpreter": {
     "hash": "bd00b75c79969edcf008edd1fd5973862c0c93beffacd004fb7d75ad6fcb357f"
    }
   }
  }
 },
 "nbformat": 4,
 "nbformat_minor": 2,
 "cells": [
  {
   "cell_type": "code",
   "execution_count": 38,
   "metadata": {},
   "outputs": [],
   "source": [
    "import pandas as pd\n",
    "import numpy as np\n",
    "\n",
    "import scipy.optimize as opt\n",
    "\n",
    "from pathlib import Path\n",
    "root = Path(\"../input/google-smartphone-decimeter-challenge/\")"
   ]
  },
  {
   "cell_type": "code",
   "execution_count": 39,
   "metadata": {},
   "outputs": [],
   "source": [
    "def ecef2lla(x, y, z):\n",
    "    # x, y and z are scalars or vectors in meters\n",
    "    x = np.array([x]).reshape(np.array([x]).shape[-1], 1)\n",
    "    y = np.array([y]).reshape(np.array([y]).shape[-1], 1)\n",
    "    z = np.array([z]).reshape(np.array([z]).shape[-1], 1)\n",
    "\n",
    "    a=6378137\n",
    "    a_sq=a**2\n",
    "    e = 8.181919084261345e-2\n",
    "    e_sq = 6.69437999014e-3\n",
    "\n",
    "    f = 1/298.257223563\n",
    "    b = a*(1-f)\n",
    "\n",
    "    # calculations:\n",
    "    r = np.sqrt(x**2 + y**2)\n",
    "    ep_sq  = (a**2-b**2)/b**2\n",
    "    ee = (a**2-b**2)\n",
    "    f = (54*b**2)*(z**2)\n",
    "    g = r**2 + (1 - e_sq)*(z**2) - e_sq*ee*2\n",
    "    c = (e_sq**2)*f*r**2/(g**3)\n",
    "    s = (1 + c + np.sqrt(c**2 + 2*c))**(1/3.)\n",
    "    p = f/(3.*(g**2)*(s + (1./s) + 1)**2)\n",
    "    q = np.sqrt(1 + 2*p*e_sq**2)\n",
    "    r_0 = -(p*e_sq*r)/(1+q) + np.sqrt(0.5*(a**2)*(1+(1./q)) - p*(z**2)*(1-e_sq)/(q*(1+q)) - 0.5*p*(r**2))\n",
    "    u = np.sqrt((r - e_sq*r_0)**2 + z**2)\n",
    "    v = np.sqrt((r - e_sq*r_0)**2 + (1 - e_sq)*z**2)\n",
    "    z_0 = (b**2)*z/(a*v)\n",
    "    h = u*(1 - b**2/(a*v))\n",
    "    phi = np.arctan((z + ep_sq*z_0)/r)\n",
    "    lambd = np.arctan2(y, x)\n",
    "\n",
    "    return phi*180/np.pi, lambd*180/np.pi, h\n",
    "\n",
    "def calc_haversine(lat1, lon1, lat2, lon2):\n",
    "    \"\"\"Calculates the great circle distance between two points\n",
    "    on the earth. Inputs are array-like and specified in decimal degrees.\n",
    "    \"\"\"\n",
    "    RADIUS = 6_367_000\n",
    "    lat1, lon1, lat2, lon2 = map(np.radians, [lat1, lon1, lat2, lon2])\n",
    "    dlat = lat2 - lat1\n",
    "    dlon = lon2 - lon1\n",
    "    a = np.sin(dlat/2)**2 + \\\n",
    "      np.cos(lat1) * np.cos(lat2) * np.sin(dlon/2)**2\n",
    "    dist = 2 * RADIUS * np.arcsin(a**0.5)\n",
    "    return dist"
   ]
  },
  {
   "source": [
    "# Apply WLS on one collection and one measurement"
   ],
   "cell_type": "markdown",
   "metadata": {}
  },
  {
   "cell_type": "code",
   "execution_count": 40,
   "metadata": {},
   "outputs": [],
   "source": [
    "collection_name=\"2020-05-29-US-MTV-1\"\n",
    "file_path = Path(f\"train/{collection_name}\")\n",
    "phone = 'Pixel4'\n",
    "measurement_epoch_time = 1274827487438\n",
    "\n",
    "# baseline we'll compare our solution against\n",
    "df_baseline = pd.read_csv(root/\"baseline_locations_train.csv\")\n",
    "\n",
    "# ground truth to compute methods performance\n",
    "df_groundtruth = pd.read_csv(root/file_path/f\"{phone}/ground_truth.csv\")\n",
    "\n",
    "# Train df here only contains one collection and one measurement\n",
    "df_train = pd.read_csv(root/file_path/f\"{phone}/{phone}_derived.csv\")\n",
    "df_train = df_train[df_train['millisSinceGpsEpoch'] == measurement_epoch_time] "
   ]
  },
  {
   "cell_type": "code",
   "execution_count": 14,
   "metadata": {},
   "outputs": [],
   "source": [
    "# Corrected pseudorange according to data instructions\n",
    "df_train['correctedPrM'] = df_train.apply(\n",
    "    lambda r: r.rawPrM + r.satClkBiasM - r.isrbM - r.ionoDelayM - r.tropoDelayM,\n",
    "    axis=1\n",
    ")\n",
    "\n",
    "# Time it took for signal to travel\n",
    "light_speed = 299_792_458\n",
    "df_train['transmissionTimeSeconds'] = df_train['correctedPrM'] / light_speed"
   ]
  },
  {
   "cell_type": "code",
   "execution_count": 15,
   "metadata": {},
   "outputs": [],
   "source": [
    "# Compute true sat positions at arrival time\n",
    "omega_e = 7.2921151467e-5\n",
    "df_train['xSatPosMRotated'] = \\\n",
    "    np.cos(omega_e * df_train['transmissionTimeSeconds']) * df_train['xSatPosM'] \\\n",
    "    + np.sin(omega_e * df_train['transmissionTimeSeconds']) * df_train['ySatPosM']\n",
    "    \n",
    "df_train['ySatPosMRotated'] = \\\n",
    "    - np.sin(omega_e * df_train['transmissionTimeSeconds']) * df_train['xSatPosM'] \\\n",
    "    + np.cos(omega_e * df_train['transmissionTimeSeconds']) * df_train['ySatPosM']\n",
    "    \n",
    "df_train['zSatPosMRotated'] = df_train['zSatPosM']"
   ]
  },
  {
   "cell_type": "code",
   "execution_count": 16,
   "metadata": {},
   "outputs": [],
   "source": [
    "# Uncertainty weight for the WLS method\n",
    "df_train['uncertaintyWeight'] = 1 / df_train['rawPrUncM']"
   ]
  },
  {
   "cell_type": "code",
   "execution_count": 17,
   "metadata": {},
   "outputs": [],
   "source": [
    "# Set up least squares methods\n",
    "def distance(sat_pos, x):\n",
    "    sat_pos_diff = sat_pos.copy(deep=True)\n",
    "    \n",
    "    sat_pos_diff['xSatPosMRotated'] = sat_pos_diff['xSatPosMRotated'] - x[0]\n",
    "    sat_pos_diff['ySatPosMRotated'] = sat_pos_diff['ySatPosMRotated'] - x[1]\n",
    "    sat_pos_diff['zSatPosMRotated'] = sat_pos_diff['zSatPosMRotated'] - x[2]\n",
    "\n",
    "    sat_pos_diff['d'] = sat_pos_diff.apply(\n",
    "        lambda r: r.uncertaintyWeight * \n",
    "            (np.sqrt((r.xSatPosMRotated**2 + r.ySatPosMRotated**2 + r.zSatPosMRotated**2)) + x[3] - r.correctedPrM),\n",
    "        axis=1\n",
    "    )\n",
    "\n",
    "    return sat_pos_diff['d']\n",
    "\n",
    "def distance_fixed_satpos(x):\n",
    "    return distance(df_train[['xSatPosMRotated', 'ySatPosMRotated', 'zSatPosMRotated', 'correctedPrM', 'uncertaintyWeight']], x)"
   ]
  },
  {
   "cell_type": "code",
   "execution_count": 18,
   "metadata": {},
   "outputs": [],
   "source": [
    "# Start point for the optimiser\n",
    "x0= [0,0,0,0]\n",
    "\n",
    "opt_res = opt.least_squares(distance_fixed_satpos, x0)\n",
    "\n",
    "# Optimiser yields a position in the ECEF coordinates\n",
    "opt_res_pos = opt_res.x"
   ]
  },
  {
   "cell_type": "code",
   "execution_count": 69,
   "metadata": {},
   "outputs": [
    {
     "output_type": "execute_result",
     "data": {
      "text/plain": [
       "array([-2.69376112e+06, -4.29754958e+06,  3.85419898e+06, -1.66097252e+00])"
      ]
     },
     "metadata": {},
     "execution_count": 69
    }
   ],
   "source": [
    "opt_res_pos"
   ]
  },
  {
   "cell_type": "code",
   "execution_count": 72,
   "metadata": {},
   "outputs": [],
   "source": [
    "# ECEF position to lat/long\n",
    "wls_estimated_pos = ecef2lla(*opt_res_pos[:3]) # x,y,z\n",
    "wls_estimated_pos = np.squeeze(wls_estimated_pos) # １次元を削除"
   ]
  },
  {
   "cell_type": "code",
   "execution_count": 21,
   "metadata": {},
   "outputs": [],
   "source": [
    "val_baseline = df_baseline[\n",
    "    (df_baseline['collectionName']==collection_name)\n",
    "    & (df_baseline['phoneName']==phone)\n",
    "    & (df_baseline['millisSinceGpsEpoch']==measurement_epoch_time)\n",
    "].iloc[0]"
   ]
  },
  {
   "cell_type": "code",
   "execution_count": 22,
   "metadata": {},
   "outputs": [],
   "source": [
    "val_groundtruth = df_groundtruth[\n",
    "    (df_groundtruth['collectionName']==collection_name)\n",
    "    & (df_groundtruth['phoneName']==phone)\n",
    "    & (df_groundtruth['millisSinceGpsEpoch']==measurement_epoch_time)\n",
    "].iloc[0]"
   ]
  },
  {
   "cell_type": "code",
   "execution_count": 24,
   "metadata": {},
   "outputs": [
    {
     "output_type": "stream",
     "name": "stdout",
     "text": [
      "Baseline distance with groundtruth position (m)\n"
     ]
    },
    {
     "output_type": "execute_result",
     "data": {
      "text/plain": [
       "15.419474998287948"
      ]
     },
     "metadata": {},
     "execution_count": 24
    }
   ],
   "source": [
    "print(\"Baseline distance with groundtruth position (m)\")\n",
    "calc_haversine(val_baseline['latDeg'], val_baseline['lngDeg'], val_groundtruth['latDeg'], val_groundtruth['lngDeg'])"
   ]
  },
  {
   "cell_type": "code",
   "execution_count": 25,
   "metadata": {},
   "outputs": [
    {
     "output_type": "stream",
     "name": "stdout",
     "text": [
      "Our estimated position (with WLS) distance with groundtruth position (m)\n"
     ]
    },
    {
     "output_type": "execute_result",
     "data": {
      "text/plain": [
       "11.161633363336618"
      ]
     },
     "metadata": {},
     "execution_count": 25
    }
   ],
   "source": [
    "print(\"Our estimated position (with WLS) distance with groundtruth position (m)\")\n",
    "calc_haversine(wls_estimated_pos[0], wls_estimated_pos[1], val_groundtruth['latDeg'], val_groundtruth['lngDeg'])"
   ]
  },
  {
   "cell_type": "code",
   "execution_count": 26,
   "metadata": {},
   "outputs": [
    {
     "output_type": "execute_result",
     "data": {
      "text/plain": [
       "collectionName                       2020-05-29-US-MTV-1\n",
       "phoneName                                         Pixel4\n",
       "millisSinceGpsEpoch                        1274827487438\n",
       "latDeg                                         37.416644\n",
       "lngDeg                                       -122.080149\n",
       "heightAboveWgs84EllipsoidM                        -21.74\n",
       "phone                         2020-05-29-US-MTV-1_Pixel4\n",
       "Name: 11624, dtype: object"
      ]
     },
     "metadata": {},
     "execution_count": 26
    }
   ],
   "source": [
    "val_baseline"
   ]
  },
  {
   "cell_type": "code",
   "execution_count": 27,
   "metadata": {},
   "outputs": [
    {
     "output_type": "execute_result",
     "data": {
      "text/plain": [
       "array([  37.4166094 , -122.08003187,  -29.53142955])"
      ]
     },
     "metadata": {},
     "execution_count": 27
    }
   ],
   "source": [
    "wls_estimated_pos"
   ]
  },
  {
   "cell_type": "code",
   "execution_count": 28,
   "metadata": {},
   "outputs": [
    {
     "output_type": "execute_result",
     "data": {
      "text/plain": [
       "             collectionName        phoneName  millisSinceGpsEpoch     latDeg  \\\n",
       "0       2020-05-14-US-MTV-1           Pixel4        1273529463442  37.423575   \n",
       "1       2020-05-14-US-MTV-1           Pixel4        1273529464442  37.423578   \n",
       "2       2020-05-14-US-MTV-1           Pixel4        1273529465442  37.423573   \n",
       "3       2020-05-14-US-MTV-1           Pixel4        1273529466442  37.423583   \n",
       "4       2020-05-14-US-MTV-1           Pixel4        1273529467442  37.423579   \n",
       "...                     ...              ...                  ...        ...   \n",
       "131337  2021-04-29-US-SJC-2  SamsungS20Ultra        1303760315000  37.334460   \n",
       "131338  2021-04-29-US-SJC-2  SamsungS20Ultra        1303760316000  37.334472   \n",
       "131339  2021-04-29-US-SJC-2  SamsungS20Ultra        1303760317000  37.334491   \n",
       "131340  2021-04-29-US-SJC-2  SamsungS20Ultra        1303760318000  37.334495   \n",
       "131341  2021-04-29-US-SJC-2  SamsungS20Ultra        1303760319000  37.334485   \n",
       "\n",
       "            lngDeg  heightAboveWgs84EllipsoidM  \\\n",
       "0      -122.094091                      -34.06   \n",
       "1      -122.094101                      -33.29   \n",
       "2      -122.094111                      -30.99   \n",
       "3      -122.094121                      -32.83   \n",
       "4      -122.094114                      -34.49   \n",
       "...            ...                         ...   \n",
       "131337 -121.899600                       -8.09   \n",
       "131338 -121.899583                       -7.59   \n",
       "131339 -121.899597                       -8.35   \n",
       "131340 -121.899583                       -8.73   \n",
       "131341 -121.899570                       -7.64   \n",
       "\n",
       "                                      phone  \n",
       "0                2020-05-14-US-MTV-1_Pixel4  \n",
       "1                2020-05-14-US-MTV-1_Pixel4  \n",
       "2                2020-05-14-US-MTV-1_Pixel4  \n",
       "3                2020-05-14-US-MTV-1_Pixel4  \n",
       "4                2020-05-14-US-MTV-1_Pixel4  \n",
       "...                                     ...  \n",
       "131337  2021-04-29-US-SJC-2_SamsungS20Ultra  \n",
       "131338  2021-04-29-US-SJC-2_SamsungS20Ultra  \n",
       "131339  2021-04-29-US-SJC-2_SamsungS20Ultra  \n",
       "131340  2021-04-29-US-SJC-2_SamsungS20Ultra  \n",
       "131341  2021-04-29-US-SJC-2_SamsungS20Ultra  \n",
       "\n",
       "[131342 rows x 7 columns]"
      ],
      "text/html": "<div>\n<style scoped>\n    .dataframe tbody tr th:only-of-type {\n        vertical-align: middle;\n    }\n\n    .dataframe tbody tr th {\n        vertical-align: top;\n    }\n\n    .dataframe thead th {\n        text-align: right;\n    }\n</style>\n<table border=\"1\" class=\"dataframe\">\n  <thead>\n    <tr style=\"text-align: right;\">\n      <th></th>\n      <th>collectionName</th>\n      <th>phoneName</th>\n      <th>millisSinceGpsEpoch</th>\n      <th>latDeg</th>\n      <th>lngDeg</th>\n      <th>heightAboveWgs84EllipsoidM</th>\n      <th>phone</th>\n    </tr>\n  </thead>\n  <tbody>\n    <tr>\n      <th>0</th>\n      <td>2020-05-14-US-MTV-1</td>\n      <td>Pixel4</td>\n      <td>1273529463442</td>\n      <td>37.423575</td>\n      <td>-122.094091</td>\n      <td>-34.06</td>\n      <td>2020-05-14-US-MTV-1_Pixel4</td>\n    </tr>\n    <tr>\n      <th>1</th>\n      <td>2020-05-14-US-MTV-1</td>\n      <td>Pixel4</td>\n      <td>1273529464442</td>\n      <td>37.423578</td>\n      <td>-122.094101</td>\n      <td>-33.29</td>\n      <td>2020-05-14-US-MTV-1_Pixel4</td>\n    </tr>\n    <tr>\n      <th>2</th>\n      <td>2020-05-14-US-MTV-1</td>\n      <td>Pixel4</td>\n      <td>1273529465442</td>\n      <td>37.423573</td>\n      <td>-122.094111</td>\n      <td>-30.99</td>\n      <td>2020-05-14-US-MTV-1_Pixel4</td>\n    </tr>\n    <tr>\n      <th>3</th>\n      <td>2020-05-14-US-MTV-1</td>\n      <td>Pixel4</td>\n      <td>1273529466442</td>\n      <td>37.423583</td>\n      <td>-122.094121</td>\n      <td>-32.83</td>\n      <td>2020-05-14-US-MTV-1_Pixel4</td>\n    </tr>\n    <tr>\n      <th>4</th>\n      <td>2020-05-14-US-MTV-1</td>\n      <td>Pixel4</td>\n      <td>1273529467442</td>\n      <td>37.423579</td>\n      <td>-122.094114</td>\n      <td>-34.49</td>\n      <td>2020-05-14-US-MTV-1_Pixel4</td>\n    </tr>\n    <tr>\n      <th>...</th>\n      <td>...</td>\n      <td>...</td>\n      <td>...</td>\n      <td>...</td>\n      <td>...</td>\n      <td>...</td>\n      <td>...</td>\n    </tr>\n    <tr>\n      <th>131337</th>\n      <td>2021-04-29-US-SJC-2</td>\n      <td>SamsungS20Ultra</td>\n      <td>1303760315000</td>\n      <td>37.334460</td>\n      <td>-121.899600</td>\n      <td>-8.09</td>\n      <td>2021-04-29-US-SJC-2_SamsungS20Ultra</td>\n    </tr>\n    <tr>\n      <th>131338</th>\n      <td>2021-04-29-US-SJC-2</td>\n      <td>SamsungS20Ultra</td>\n      <td>1303760316000</td>\n      <td>37.334472</td>\n      <td>-121.899583</td>\n      <td>-7.59</td>\n      <td>2021-04-29-US-SJC-2_SamsungS20Ultra</td>\n    </tr>\n    <tr>\n      <th>131339</th>\n      <td>2021-04-29-US-SJC-2</td>\n      <td>SamsungS20Ultra</td>\n      <td>1303760317000</td>\n      <td>37.334491</td>\n      <td>-121.899597</td>\n      <td>-8.35</td>\n      <td>2021-04-29-US-SJC-2_SamsungS20Ultra</td>\n    </tr>\n    <tr>\n      <th>131340</th>\n      <td>2021-04-29-US-SJC-2</td>\n      <td>SamsungS20Ultra</td>\n      <td>1303760318000</td>\n      <td>37.334495</td>\n      <td>-121.899583</td>\n      <td>-8.73</td>\n      <td>2021-04-29-US-SJC-2_SamsungS20Ultra</td>\n    </tr>\n    <tr>\n      <th>131341</th>\n      <td>2021-04-29-US-SJC-2</td>\n      <td>SamsungS20Ultra</td>\n      <td>1303760319000</td>\n      <td>37.334485</td>\n      <td>-121.899570</td>\n      <td>-7.64</td>\n      <td>2021-04-29-US-SJC-2_SamsungS20Ultra</td>\n    </tr>\n  </tbody>\n</table>\n<p>131342 rows × 7 columns</p>\n</div>"
     },
     "metadata": {},
     "execution_count": 28
    }
   ],
   "source": []
  },
  {
   "cell_type": "code",
   "execution_count": 29,
   "metadata": {},
   "outputs": [],
   "source": [
    "base_test = pd.read_csv(root/\"baseline_locations_test.csv\")"
   ]
  },
  {
   "cell_type": "code",
   "execution_count": 32,
   "metadata": {},
   "outputs": [
    {
     "output_type": "execute_result",
     "data": {
      "text/plain": [
       "0        False\n",
       "1         True\n",
       "2        False\n",
       "3        False\n",
       "4        False\n",
       "         ...  \n",
       "91481    False\n",
       "91482    False\n",
       "91483    False\n",
       "91484    False\n",
       "91485    False\n",
       "Name: millisSinceGpsEpoch, Length: 91486, dtype: bool"
      ]
     },
     "metadata": {},
     "execution_count": 32
    }
   ],
   "source": [
    "base_test['millisSinceGpsEpoch']==1273608786432"
   ]
  },
  {
   "cell_type": "code",
   "execution_count": 35,
   "metadata": {},
   "outputs": [
    {
     "output_type": "execute_result",
     "data": {
      "text/plain": [
       "            collectionName        phoneName  millisSinceGpsEpoch     latDeg  \\\n",
       "0      2020-05-15-US-MTV-1           Pixel4        1273608785432  37.416628   \n",
       "1      2020-05-15-US-MTV-1           Pixel4        1273608786432  37.416646   \n",
       "2      2020-05-15-US-MTV-1           Pixel4        1273608787432  37.416652   \n",
       "3      2020-05-15-US-MTV-1           Pixel4        1273608788432  37.416607   \n",
       "4      2020-05-15-US-MTV-1           Pixel4        1273608789432  37.416609   \n",
       "...                    ...              ...                  ...        ...   \n",
       "91481  2021-04-29-US-SJC-3  SamsungS20Ultra        1303763185000  37.334539   \n",
       "91482  2021-04-29-US-SJC-3  SamsungS20Ultra        1303763186000  37.334545   \n",
       "91483  2021-04-29-US-SJC-3  SamsungS20Ultra        1303763187000  37.334551   \n",
       "91484  2021-04-29-US-SJC-3  SamsungS20Ultra        1303763188000  37.334540   \n",
       "91485  2021-04-29-US-SJC-3  SamsungS20Ultra        1303763189000  37.334562   \n",
       "\n",
       "           lngDeg  heightAboveWgs84EllipsoidM  \\\n",
       "0     -122.082053                      -30.69   \n",
       "1     -122.082040                      -31.76   \n",
       "2     -122.082039                      -31.65   \n",
       "3     -122.082063                      -31.52   \n",
       "4     -122.082073                      -28.95   \n",
       "...           ...                         ...   \n",
       "91481 -121.899383                       -8.39   \n",
       "91482 -121.899380                       -7.36   \n",
       "91483 -121.899371                       -4.08   \n",
       "91484 -121.899371                       -5.70   \n",
       "91485 -121.899354                       -0.90   \n",
       "\n",
       "                                     phone  \n",
       "0               2020-05-15-US-MTV-1_Pixel4  \n",
       "1               2020-05-15-US-MTV-1_Pixel4  \n",
       "2               2020-05-15-US-MTV-1_Pixel4  \n",
       "3               2020-05-15-US-MTV-1_Pixel4  \n",
       "4               2020-05-15-US-MTV-1_Pixel4  \n",
       "...                                    ...  \n",
       "91481  2021-04-29-US-SJC-3_SamsungS20Ultra  \n",
       "91482  2021-04-29-US-SJC-3_SamsungS20Ultra  \n",
       "91483  2021-04-29-US-SJC-3_SamsungS20Ultra  \n",
       "91484  2021-04-29-US-SJC-3_SamsungS20Ultra  \n",
       "91485  2021-04-29-US-SJC-3_SamsungS20Ultra  \n",
       "\n",
       "[91486 rows x 7 columns]"
      ],
      "text/html": "<div>\n<style scoped>\n    .dataframe tbody tr th:only-of-type {\n        vertical-align: middle;\n    }\n\n    .dataframe tbody tr th {\n        vertical-align: top;\n    }\n\n    .dataframe thead th {\n        text-align: right;\n    }\n</style>\n<table border=\"1\" class=\"dataframe\">\n  <thead>\n    <tr style=\"text-align: right;\">\n      <th></th>\n      <th>collectionName</th>\n      <th>phoneName</th>\n      <th>millisSinceGpsEpoch</th>\n      <th>latDeg</th>\n      <th>lngDeg</th>\n      <th>heightAboveWgs84EllipsoidM</th>\n      <th>phone</th>\n    </tr>\n  </thead>\n  <tbody>\n    <tr>\n      <th>0</th>\n      <td>2020-05-15-US-MTV-1</td>\n      <td>Pixel4</td>\n      <td>1273608785432</td>\n      <td>37.416628</td>\n      <td>-122.082053</td>\n      <td>-30.69</td>\n      <td>2020-05-15-US-MTV-1_Pixel4</td>\n    </tr>\n    <tr>\n      <th>1</th>\n      <td>2020-05-15-US-MTV-1</td>\n      <td>Pixel4</td>\n      <td>1273608786432</td>\n      <td>37.416646</td>\n      <td>-122.082040</td>\n      <td>-31.76</td>\n      <td>2020-05-15-US-MTV-1_Pixel4</td>\n    </tr>\n    <tr>\n      <th>2</th>\n      <td>2020-05-15-US-MTV-1</td>\n      <td>Pixel4</td>\n      <td>1273608787432</td>\n      <td>37.416652</td>\n      <td>-122.082039</td>\n      <td>-31.65</td>\n      <td>2020-05-15-US-MTV-1_Pixel4</td>\n    </tr>\n    <tr>\n      <th>3</th>\n      <td>2020-05-15-US-MTV-1</td>\n      <td>Pixel4</td>\n      <td>1273608788432</td>\n      <td>37.416607</td>\n      <td>-122.082063</td>\n      <td>-31.52</td>\n      <td>2020-05-15-US-MTV-1_Pixel4</td>\n    </tr>\n    <tr>\n      <th>4</th>\n      <td>2020-05-15-US-MTV-1</td>\n      <td>Pixel4</td>\n      <td>1273608789432</td>\n      <td>37.416609</td>\n      <td>-122.082073</td>\n      <td>-28.95</td>\n      <td>2020-05-15-US-MTV-1_Pixel4</td>\n    </tr>\n    <tr>\n      <th>...</th>\n      <td>...</td>\n      <td>...</td>\n      <td>...</td>\n      <td>...</td>\n      <td>...</td>\n      <td>...</td>\n      <td>...</td>\n    </tr>\n    <tr>\n      <th>91481</th>\n      <td>2021-04-29-US-SJC-3</td>\n      <td>SamsungS20Ultra</td>\n      <td>1303763185000</td>\n      <td>37.334539</td>\n      <td>-121.899383</td>\n      <td>-8.39</td>\n      <td>2021-04-29-US-SJC-3_SamsungS20Ultra</td>\n    </tr>\n    <tr>\n      <th>91482</th>\n      <td>2021-04-29-US-SJC-3</td>\n      <td>SamsungS20Ultra</td>\n      <td>1303763186000</td>\n      <td>37.334545</td>\n      <td>-121.899380</td>\n      <td>-7.36</td>\n      <td>2021-04-29-US-SJC-3_SamsungS20Ultra</td>\n    </tr>\n    <tr>\n      <th>91483</th>\n      <td>2021-04-29-US-SJC-3</td>\n      <td>SamsungS20Ultra</td>\n      <td>1303763187000</td>\n      <td>37.334551</td>\n      <td>-121.899371</td>\n      <td>-4.08</td>\n      <td>2021-04-29-US-SJC-3_SamsungS20Ultra</td>\n    </tr>\n    <tr>\n      <th>91484</th>\n      <td>2021-04-29-US-SJC-3</td>\n      <td>SamsungS20Ultra</td>\n      <td>1303763188000</td>\n      <td>37.334540</td>\n      <td>-121.899371</td>\n      <td>-5.70</td>\n      <td>2021-04-29-US-SJC-3_SamsungS20Ultra</td>\n    </tr>\n    <tr>\n      <th>91485</th>\n      <td>2021-04-29-US-SJC-3</td>\n      <td>SamsungS20Ultra</td>\n      <td>1303763189000</td>\n      <td>37.334562</td>\n      <td>-121.899354</td>\n      <td>-0.90</td>\n      <td>2021-04-29-US-SJC-3_SamsungS20Ultra</td>\n    </tr>\n  </tbody>\n</table>\n<p>91486 rows × 7 columns</p>\n</div>"
     },
     "metadata": {},
     "execution_count": 35
    }
   ],
   "source": [
    "base_test"
   ]
  },
  {
   "cell_type": "code",
   "execution_count": 33,
   "metadata": {},
   "outputs": [],
   "source": [
    "sub = pd.read_csv(root/\"sample_submission.csv\")"
   ]
  },
  {
   "cell_type": "code",
   "execution_count": 34,
   "metadata": {},
   "outputs": [
    {
     "output_type": "execute_result",
     "data": {
      "text/plain": [
       "                                     phone  millisSinceGpsEpoch     latDeg  \\\n",
       "0               2020-05-15-US-MTV-1_Pixel4        1273608785432  37.904611   \n",
       "1               2020-05-15-US-MTV-1_Pixel4        1273608786432  37.904611   \n",
       "2               2020-05-15-US-MTV-1_Pixel4        1273608787432  37.904611   \n",
       "3               2020-05-15-US-MTV-1_Pixel4        1273608788432  37.904611   \n",
       "4               2020-05-15-US-MTV-1_Pixel4        1273608789432  37.904611   \n",
       "...                                    ...                  ...        ...   \n",
       "91481  2021-04-29-US-SJC-3_SamsungS20Ultra        1303763185000  37.904611   \n",
       "91482  2021-04-29-US-SJC-3_SamsungS20Ultra        1303763186000  37.904611   \n",
       "91483  2021-04-29-US-SJC-3_SamsungS20Ultra        1303763187000  37.904611   \n",
       "91484  2021-04-29-US-SJC-3_SamsungS20Ultra        1303763188000  37.904611   \n",
       "91485  2021-04-29-US-SJC-3_SamsungS20Ultra        1303763189000  37.904611   \n",
       "\n",
       "          lngDeg  \n",
       "0     -86.481078  \n",
       "1     -86.481078  \n",
       "2     -86.481078  \n",
       "3     -86.481078  \n",
       "4     -86.481078  \n",
       "...          ...  \n",
       "91481 -86.481078  \n",
       "91482 -86.481078  \n",
       "91483 -86.481078  \n",
       "91484 -86.481078  \n",
       "91485 -86.481078  \n",
       "\n",
       "[91486 rows x 4 columns]"
      ],
      "text/html": "<div>\n<style scoped>\n    .dataframe tbody tr th:only-of-type {\n        vertical-align: middle;\n    }\n\n    .dataframe tbody tr th {\n        vertical-align: top;\n    }\n\n    .dataframe thead th {\n        text-align: right;\n    }\n</style>\n<table border=\"1\" class=\"dataframe\">\n  <thead>\n    <tr style=\"text-align: right;\">\n      <th></th>\n      <th>phone</th>\n      <th>millisSinceGpsEpoch</th>\n      <th>latDeg</th>\n      <th>lngDeg</th>\n    </tr>\n  </thead>\n  <tbody>\n    <tr>\n      <th>0</th>\n      <td>2020-05-15-US-MTV-1_Pixel4</td>\n      <td>1273608785432</td>\n      <td>37.904611</td>\n      <td>-86.481078</td>\n    </tr>\n    <tr>\n      <th>1</th>\n      <td>2020-05-15-US-MTV-1_Pixel4</td>\n      <td>1273608786432</td>\n      <td>37.904611</td>\n      <td>-86.481078</td>\n    </tr>\n    <tr>\n      <th>2</th>\n      <td>2020-05-15-US-MTV-1_Pixel4</td>\n      <td>1273608787432</td>\n      <td>37.904611</td>\n      <td>-86.481078</td>\n    </tr>\n    <tr>\n      <th>3</th>\n      <td>2020-05-15-US-MTV-1_Pixel4</td>\n      <td>1273608788432</td>\n      <td>37.904611</td>\n      <td>-86.481078</td>\n    </tr>\n    <tr>\n      <th>4</th>\n      <td>2020-05-15-US-MTV-1_Pixel4</td>\n      <td>1273608789432</td>\n      <td>37.904611</td>\n      <td>-86.481078</td>\n    </tr>\n    <tr>\n      <th>...</th>\n      <td>...</td>\n      <td>...</td>\n      <td>...</td>\n      <td>...</td>\n    </tr>\n    <tr>\n      <th>91481</th>\n      <td>2021-04-29-US-SJC-3_SamsungS20Ultra</td>\n      <td>1303763185000</td>\n      <td>37.904611</td>\n      <td>-86.481078</td>\n    </tr>\n    <tr>\n      <th>91482</th>\n      <td>2021-04-29-US-SJC-3_SamsungS20Ultra</td>\n      <td>1303763186000</td>\n      <td>37.904611</td>\n      <td>-86.481078</td>\n    </tr>\n    <tr>\n      <th>91483</th>\n      <td>2021-04-29-US-SJC-3_SamsungS20Ultra</td>\n      <td>1303763187000</td>\n      <td>37.904611</td>\n      <td>-86.481078</td>\n    </tr>\n    <tr>\n      <th>91484</th>\n      <td>2021-04-29-US-SJC-3_SamsungS20Ultra</td>\n      <td>1303763188000</td>\n      <td>37.904611</td>\n      <td>-86.481078</td>\n    </tr>\n    <tr>\n      <th>91485</th>\n      <td>2021-04-29-US-SJC-3_SamsungS20Ultra</td>\n      <td>1303763189000</td>\n      <td>37.904611</td>\n      <td>-86.481078</td>\n    </tr>\n  </tbody>\n</table>\n<p>91486 rows × 4 columns</p>\n</div>"
     },
     "metadata": {},
     "execution_count": 34
    }
   ],
   "source": [
    "sub"
   ]
  },
  {
   "cell_type": "code",
   "execution_count": 63,
   "metadata": {},
   "outputs": [
    {
     "output_type": "execute_result",
     "data": {
      "text/plain": [
       "            collectionName phoneName  millisSinceGpsEpoch  constellationType  \\\n",
       "0      2020-05-15-US-MTV-1    Pixel4        1273608786431                  1   \n",
       "1      2020-05-15-US-MTV-1    Pixel4        1273608786431                  6   \n",
       "2      2020-05-15-US-MTV-1    Pixel4        1273608786431                  1   \n",
       "3      2020-05-15-US-MTV-1    Pixel4        1273608786431                  1   \n",
       "4      2020-05-15-US-MTV-1    Pixel4        1273608786431                  6   \n",
       "...                    ...       ...                  ...                ...   \n",
       "57725  2020-05-15-US-MTV-1    Pixel4        1273612275632                  3   \n",
       "57726  2020-05-15-US-MTV-1    Pixel4        1273612275632                  3   \n",
       "57727  2020-05-15-US-MTV-1    Pixel4        1273612275632                  6   \n",
       "57728  2020-05-15-US-MTV-1    Pixel4        1273612275632                  6   \n",
       "57729  2020-05-15-US-MTV-1    Pixel4        1273612275632                  6   \n",
       "\n",
       "       svid signalType  receivedSvTimeInGpsNanos      xSatPosM      ySatPosM  \\\n",
       "0         2     GPS_L1       1273608785359142537 -1.355808e+07 -2.285482e+07   \n",
       "1        11     GAL_E1       1273608785345898271  1.275171e+07 -1.023081e+07   \n",
       "2         6     GPS_L1       1273608785362136210 -5.156902e+06 -2.381480e+07   \n",
       "3        12     GPS_L1       1273608785356867050 -1.745219e+07  1.887561e+06   \n",
       "4         2    GAL_E5A       1273608785354070569 -8.979749e+06 -1.914611e+07   \n",
       "...     ...        ...                       ...           ...           ...   \n",
       "57725    13     GLO_G1       1273612275568180115 -1.219834e+07 -1.338065e+07   \n",
       "57726    14     GLO_G1       1273612275557382661 -9.952700e+06  5.477318e+06   \n",
       "57727    30     GAL_E1       1273612275555754963 -1.589697e+07 -7.064249e+06   \n",
       "57728    36     GAL_E1       1273612275552308959  6.525533e+05 -1.761160e+07   \n",
       "57729     2     GAL_E1       1273612275554057088 -8.354157e+06 -2.513847e+07   \n",
       "\n",
       "           zSatPosM  xSatVelMps  ySatVelMps  zSatVelMps  satClkBiasM  \\\n",
       "0      1.544018e+06     299.739     -52.442    3161.066  -136834.371   \n",
       "1      2.466967e+07    1759.975    1745.212    -184.065   855531.658   \n",
       "2      1.056469e+07     820.205    1068.285    2827.140   -81575.023   \n",
       "3      1.964540e+07    1365.684   -2152.439    1418.596    35245.362   \n",
       "4      2.071128e+07     494.969   -2020.888   -1652.319    40044.541   \n",
       "...             ...         ...         ...         ...          ...   \n",
       "57725  1.794654e+07    -705.894   -2360.645   -2237.702   -11610.677   \n",
       "57726  2.284841e+07    -718.551   -3041.501     414.853    15362.334   \n",
       "57727  2.393849e+07      22.881   -2404.899    -693.358  1170586.979   \n",
       "57728  2.378304e+07    2044.321    1235.423     859.698   167805.129   \n",
       "57729  1.321391e+07     -80.935   -1328.447   -2576.657    40046.743   \n",
       "\n",
       "       satClkDriftMps        rawPrM  rawPrUncM     isrbM  ionoDelayM  \\\n",
       "0              -0.002  2.176422e+07      4.197     0.000       4.792   \n",
       "1               0.068  2.573475e+07     10.493  -214.130       6.801   \n",
       "2              -0.002  2.086674e+07      3.897     0.000       3.945   \n",
       "3              -0.002  2.244640e+07      6.296     0.000       5.739   \n",
       "4               0.001  2.328476e+07      1.799 -2344.573       6.341   \n",
       "...               ...           ...        ...       ...         ...   \n",
       "57725           0.000  1.927615e+07      4.197  1153.070       3.620   \n",
       "57726          -0.000  2.251315e+07      4.797  1153.070       6.953   \n",
       "57727          -0.009  2.300112e+07      5.096  -222.012       4.288   \n",
       "57728          -0.002  2.403420e+07      2.099  -222.012       4.311   \n",
       "57729           0.001  2.351013e+07      2.099  -222.012       3.901   \n",
       "\n",
       "       tropoDelayM  \n",
       "0            3.446  \n",
       "1            6.527  \n",
       "2            2.845  \n",
       "3            4.806  \n",
       "4            2.547  \n",
       "...            ...  \n",
       "57725        2.577  \n",
       "57726        6.868  \n",
       "57727        3.066  \n",
       "57728        3.081  \n",
       "57729        2.673  \n",
       "\n",
       "[57730 rows x 20 columns]"
      ],
      "text/html": "<div>\n<style scoped>\n    .dataframe tbody tr th:only-of-type {\n        vertical-align: middle;\n    }\n\n    .dataframe tbody tr th {\n        vertical-align: top;\n    }\n\n    .dataframe thead th {\n        text-align: right;\n    }\n</style>\n<table border=\"1\" class=\"dataframe\">\n  <thead>\n    <tr style=\"text-align: right;\">\n      <th></th>\n      <th>collectionName</th>\n      <th>phoneName</th>\n      <th>millisSinceGpsEpoch</th>\n      <th>constellationType</th>\n      <th>svid</th>\n      <th>signalType</th>\n      <th>receivedSvTimeInGpsNanos</th>\n      <th>xSatPosM</th>\n      <th>ySatPosM</th>\n      <th>zSatPosM</th>\n      <th>xSatVelMps</th>\n      <th>ySatVelMps</th>\n      <th>zSatVelMps</th>\n      <th>satClkBiasM</th>\n      <th>satClkDriftMps</th>\n      <th>rawPrM</th>\n      <th>rawPrUncM</th>\n      <th>isrbM</th>\n      <th>ionoDelayM</th>\n      <th>tropoDelayM</th>\n    </tr>\n  </thead>\n  <tbody>\n    <tr>\n      <th>0</th>\n      <td>2020-05-15-US-MTV-1</td>\n      <td>Pixel4</td>\n      <td>1273608786431</td>\n      <td>1</td>\n      <td>2</td>\n      <td>GPS_L1</td>\n      <td>1273608785359142537</td>\n      <td>-1.355808e+07</td>\n      <td>-2.285482e+07</td>\n      <td>1.544018e+06</td>\n      <td>299.739</td>\n      <td>-52.442</td>\n      <td>3161.066</td>\n      <td>-136834.371</td>\n      <td>-0.002</td>\n      <td>2.176422e+07</td>\n      <td>4.197</td>\n      <td>0.000</td>\n      <td>4.792</td>\n      <td>3.446</td>\n    </tr>\n    <tr>\n      <th>1</th>\n      <td>2020-05-15-US-MTV-1</td>\n      <td>Pixel4</td>\n      <td>1273608786431</td>\n      <td>6</td>\n      <td>11</td>\n      <td>GAL_E1</td>\n      <td>1273608785345898271</td>\n      <td>1.275171e+07</td>\n      <td>-1.023081e+07</td>\n      <td>2.466967e+07</td>\n      <td>1759.975</td>\n      <td>1745.212</td>\n      <td>-184.065</td>\n      <td>855531.658</td>\n      <td>0.068</td>\n      <td>2.573475e+07</td>\n      <td>10.493</td>\n      <td>-214.130</td>\n      <td>6.801</td>\n      <td>6.527</td>\n    </tr>\n    <tr>\n      <th>2</th>\n      <td>2020-05-15-US-MTV-1</td>\n      <td>Pixel4</td>\n      <td>1273608786431</td>\n      <td>1</td>\n      <td>6</td>\n      <td>GPS_L1</td>\n      <td>1273608785362136210</td>\n      <td>-5.156902e+06</td>\n      <td>-2.381480e+07</td>\n      <td>1.056469e+07</td>\n      <td>820.205</td>\n      <td>1068.285</td>\n      <td>2827.140</td>\n      <td>-81575.023</td>\n      <td>-0.002</td>\n      <td>2.086674e+07</td>\n      <td>3.897</td>\n      <td>0.000</td>\n      <td>3.945</td>\n      <td>2.845</td>\n    </tr>\n    <tr>\n      <th>3</th>\n      <td>2020-05-15-US-MTV-1</td>\n      <td>Pixel4</td>\n      <td>1273608786431</td>\n      <td>1</td>\n      <td>12</td>\n      <td>GPS_L1</td>\n      <td>1273608785356867050</td>\n      <td>-1.745219e+07</td>\n      <td>1.887561e+06</td>\n      <td>1.964540e+07</td>\n      <td>1365.684</td>\n      <td>-2152.439</td>\n      <td>1418.596</td>\n      <td>35245.362</td>\n      <td>-0.002</td>\n      <td>2.244640e+07</td>\n      <td>6.296</td>\n      <td>0.000</td>\n      <td>5.739</td>\n      <td>4.806</td>\n    </tr>\n    <tr>\n      <th>4</th>\n      <td>2020-05-15-US-MTV-1</td>\n      <td>Pixel4</td>\n      <td>1273608786431</td>\n      <td>6</td>\n      <td>2</td>\n      <td>GAL_E5A</td>\n      <td>1273608785354070569</td>\n      <td>-8.979749e+06</td>\n      <td>-1.914611e+07</td>\n      <td>2.071128e+07</td>\n      <td>494.969</td>\n      <td>-2020.888</td>\n      <td>-1652.319</td>\n      <td>40044.541</td>\n      <td>0.001</td>\n      <td>2.328476e+07</td>\n      <td>1.799</td>\n      <td>-2344.573</td>\n      <td>6.341</td>\n      <td>2.547</td>\n    </tr>\n    <tr>\n      <th>...</th>\n      <td>...</td>\n      <td>...</td>\n      <td>...</td>\n      <td>...</td>\n      <td>...</td>\n      <td>...</td>\n      <td>...</td>\n      <td>...</td>\n      <td>...</td>\n      <td>...</td>\n      <td>...</td>\n      <td>...</td>\n      <td>...</td>\n      <td>...</td>\n      <td>...</td>\n      <td>...</td>\n      <td>...</td>\n      <td>...</td>\n      <td>...</td>\n      <td>...</td>\n    </tr>\n    <tr>\n      <th>57725</th>\n      <td>2020-05-15-US-MTV-1</td>\n      <td>Pixel4</td>\n      <td>1273612275632</td>\n      <td>3</td>\n      <td>13</td>\n      <td>GLO_G1</td>\n      <td>1273612275568180115</td>\n      <td>-1.219834e+07</td>\n      <td>-1.338065e+07</td>\n      <td>1.794654e+07</td>\n      <td>-705.894</td>\n      <td>-2360.645</td>\n      <td>-2237.702</td>\n      <td>-11610.677</td>\n      <td>0.000</td>\n      <td>1.927615e+07</td>\n      <td>4.197</td>\n      <td>1153.070</td>\n      <td>3.620</td>\n      <td>2.577</td>\n    </tr>\n    <tr>\n      <th>57726</th>\n      <td>2020-05-15-US-MTV-1</td>\n      <td>Pixel4</td>\n      <td>1273612275632</td>\n      <td>3</td>\n      <td>14</td>\n      <td>GLO_G1</td>\n      <td>1273612275557382661</td>\n      <td>-9.952700e+06</td>\n      <td>5.477318e+06</td>\n      <td>2.284841e+07</td>\n      <td>-718.551</td>\n      <td>-3041.501</td>\n      <td>414.853</td>\n      <td>15362.334</td>\n      <td>-0.000</td>\n      <td>2.251315e+07</td>\n      <td>4.797</td>\n      <td>1153.070</td>\n      <td>6.953</td>\n      <td>6.868</td>\n    </tr>\n    <tr>\n      <th>57727</th>\n      <td>2020-05-15-US-MTV-1</td>\n      <td>Pixel4</td>\n      <td>1273612275632</td>\n      <td>6</td>\n      <td>30</td>\n      <td>GAL_E1</td>\n      <td>1273612275555754963</td>\n      <td>-1.589697e+07</td>\n      <td>-7.064249e+06</td>\n      <td>2.393849e+07</td>\n      <td>22.881</td>\n      <td>-2404.899</td>\n      <td>-693.358</td>\n      <td>1170586.979</td>\n      <td>-0.009</td>\n      <td>2.300112e+07</td>\n      <td>5.096</td>\n      <td>-222.012</td>\n      <td>4.288</td>\n      <td>3.066</td>\n    </tr>\n    <tr>\n      <th>57728</th>\n      <td>2020-05-15-US-MTV-1</td>\n      <td>Pixel4</td>\n      <td>1273612275632</td>\n      <td>6</td>\n      <td>36</td>\n      <td>GAL_E1</td>\n      <td>1273612275552308959</td>\n      <td>6.525533e+05</td>\n      <td>-1.761160e+07</td>\n      <td>2.378304e+07</td>\n      <td>2044.321</td>\n      <td>1235.423</td>\n      <td>859.698</td>\n      <td>167805.129</td>\n      <td>-0.002</td>\n      <td>2.403420e+07</td>\n      <td>2.099</td>\n      <td>-222.012</td>\n      <td>4.311</td>\n      <td>3.081</td>\n    </tr>\n    <tr>\n      <th>57729</th>\n      <td>2020-05-15-US-MTV-1</td>\n      <td>Pixel4</td>\n      <td>1273612275632</td>\n      <td>6</td>\n      <td>2</td>\n      <td>GAL_E1</td>\n      <td>1273612275554057088</td>\n      <td>-8.354157e+06</td>\n      <td>-2.513847e+07</td>\n      <td>1.321391e+07</td>\n      <td>-80.935</td>\n      <td>-1328.447</td>\n      <td>-2576.657</td>\n      <td>40046.743</td>\n      <td>0.001</td>\n      <td>2.351013e+07</td>\n      <td>2.099</td>\n      <td>-222.012</td>\n      <td>3.901</td>\n      <td>2.673</td>\n    </tr>\n  </tbody>\n</table>\n<p>57730 rows × 20 columns</p>\n</div>"
     },
     "metadata": {},
     "execution_count": 63
    }
   ],
   "source": [
    "tmp = pd.read_csv(root/'test/2020-05-15-US-MTV-1/Pixel4/Pixel4_derived.csv')\n",
    "tmp"
   ]
  },
  {
   "cell_type": "code",
   "execution_count": 74,
   "metadata": {},
   "outputs": [
    {
     "output_type": "execute_result",
     "data": {
      "text/plain": [
       "           collectionName phoneName  millisSinceGpsEpoch     latDeg  \\\n",
       "0     2020-05-15-US-MTV-1    Pixel4        1273608785432  37.416628   \n",
       "1     2020-05-15-US-MTV-1    Pixel4        1273608786432  37.416646   \n",
       "2     2020-05-15-US-MTV-1    Pixel4        1273608787432  37.416652   \n",
       "3     2020-05-15-US-MTV-1    Pixel4        1273608788432  37.416607   \n",
       "4     2020-05-15-US-MTV-1    Pixel4        1273608789432  37.416609   \n",
       "...                   ...       ...                  ...        ...   \n",
       "3483  2020-05-15-US-MTV-1    Pixel4        1273612271645  37.631537   \n",
       "3484  2020-05-15-US-MTV-1    Pixel4        1273612272640  37.631595   \n",
       "3485  2020-05-15-US-MTV-1    Pixel4        1273612273649  37.631613   \n",
       "3486  2020-05-15-US-MTV-1    Pixel4        1273612274644  37.631650   \n",
       "3487  2020-05-15-US-MTV-1    Pixel4        1273612275632  37.631528   \n",
       "\n",
       "          lngDeg  heightAboveWgs84EllipsoidM                       phone  \n",
       "0    -122.082053                      -30.69  2020-05-15-US-MTV-1_Pixel4  \n",
       "1    -122.082040                      -31.76  2020-05-15-US-MTV-1_Pixel4  \n",
       "2    -122.082039                      -31.65  2020-05-15-US-MTV-1_Pixel4  \n",
       "3    -122.082063                      -31.52  2020-05-15-US-MTV-1_Pixel4  \n",
       "4    -122.082073                      -28.95  2020-05-15-US-MTV-1_Pixel4  \n",
       "...          ...                         ...                         ...  \n",
       "3483 -122.424975                       -9.51  2020-05-15-US-MTV-1_Pixel4  \n",
       "3484 -122.424938                       -6.80  2020-05-15-US-MTV-1_Pixel4  \n",
       "3485 -122.424912                        6.91  2020-05-15-US-MTV-1_Pixel4  \n",
       "3486 -122.424871                      -14.42  2020-05-15-US-MTV-1_Pixel4  \n",
       "3487 -122.424898                       -6.46  2020-05-15-US-MTV-1_Pixel4  \n",
       "\n",
       "[3488 rows x 7 columns]"
      ],
      "text/html": "<div>\n<style scoped>\n    .dataframe tbody tr th:only-of-type {\n        vertical-align: middle;\n    }\n\n    .dataframe tbody tr th {\n        vertical-align: top;\n    }\n\n    .dataframe thead th {\n        text-align: right;\n    }\n</style>\n<table border=\"1\" class=\"dataframe\">\n  <thead>\n    <tr style=\"text-align: right;\">\n      <th></th>\n      <th>collectionName</th>\n      <th>phoneName</th>\n      <th>millisSinceGpsEpoch</th>\n      <th>latDeg</th>\n      <th>lngDeg</th>\n      <th>heightAboveWgs84EllipsoidM</th>\n      <th>phone</th>\n    </tr>\n  </thead>\n  <tbody>\n    <tr>\n      <th>0</th>\n      <td>2020-05-15-US-MTV-1</td>\n      <td>Pixel4</td>\n      <td>1273608785432</td>\n      <td>37.416628</td>\n      <td>-122.082053</td>\n      <td>-30.69</td>\n      <td>2020-05-15-US-MTV-1_Pixel4</td>\n    </tr>\n    <tr>\n      <th>1</th>\n      <td>2020-05-15-US-MTV-1</td>\n      <td>Pixel4</td>\n      <td>1273608786432</td>\n      <td>37.416646</td>\n      <td>-122.082040</td>\n      <td>-31.76</td>\n      <td>2020-05-15-US-MTV-1_Pixel4</td>\n    </tr>\n    <tr>\n      <th>2</th>\n      <td>2020-05-15-US-MTV-1</td>\n      <td>Pixel4</td>\n      <td>1273608787432</td>\n      <td>37.416652</td>\n      <td>-122.082039</td>\n      <td>-31.65</td>\n      <td>2020-05-15-US-MTV-1_Pixel4</td>\n    </tr>\n    <tr>\n      <th>3</th>\n      <td>2020-05-15-US-MTV-1</td>\n      <td>Pixel4</td>\n      <td>1273608788432</td>\n      <td>37.416607</td>\n      <td>-122.082063</td>\n      <td>-31.52</td>\n      <td>2020-05-15-US-MTV-1_Pixel4</td>\n    </tr>\n    <tr>\n      <th>4</th>\n      <td>2020-05-15-US-MTV-1</td>\n      <td>Pixel4</td>\n      <td>1273608789432</td>\n      <td>37.416609</td>\n      <td>-122.082073</td>\n      <td>-28.95</td>\n      <td>2020-05-15-US-MTV-1_Pixel4</td>\n    </tr>\n    <tr>\n      <th>...</th>\n      <td>...</td>\n      <td>...</td>\n      <td>...</td>\n      <td>...</td>\n      <td>...</td>\n      <td>...</td>\n      <td>...</td>\n    </tr>\n    <tr>\n      <th>3483</th>\n      <td>2020-05-15-US-MTV-1</td>\n      <td>Pixel4</td>\n      <td>1273612271645</td>\n      <td>37.631537</td>\n      <td>-122.424975</td>\n      <td>-9.51</td>\n      <td>2020-05-15-US-MTV-1_Pixel4</td>\n    </tr>\n    <tr>\n      <th>3484</th>\n      <td>2020-05-15-US-MTV-1</td>\n      <td>Pixel4</td>\n      <td>1273612272640</td>\n      <td>37.631595</td>\n      <td>-122.424938</td>\n      <td>-6.80</td>\n      <td>2020-05-15-US-MTV-1_Pixel4</td>\n    </tr>\n    <tr>\n      <th>3485</th>\n      <td>2020-05-15-US-MTV-1</td>\n      <td>Pixel4</td>\n      <td>1273612273649</td>\n      <td>37.631613</td>\n      <td>-122.424912</td>\n      <td>6.91</td>\n      <td>2020-05-15-US-MTV-1_Pixel4</td>\n    </tr>\n    <tr>\n      <th>3486</th>\n      <td>2020-05-15-US-MTV-1</td>\n      <td>Pixel4</td>\n      <td>1273612274644</td>\n      <td>37.631650</td>\n      <td>-122.424871</td>\n      <td>-14.42</td>\n      <td>2020-05-15-US-MTV-1_Pixel4</td>\n    </tr>\n    <tr>\n      <th>3487</th>\n      <td>2020-05-15-US-MTV-1</td>\n      <td>Pixel4</td>\n      <td>1273612275632</td>\n      <td>37.631528</td>\n      <td>-122.424898</td>\n      <td>-6.46</td>\n      <td>2020-05-15-US-MTV-1_Pixel4</td>\n    </tr>\n  </tbody>\n</table>\n<p>3488 rows × 7 columns</p>\n</div>"
     },
     "metadata": {},
     "execution_count": 74
    }
   ],
   "source": [
    "base_test[base_test['phone']=='2020-05-15-US-MTV-1_Pixel4']"
   ]
  },
  {
   "cell_type": "code",
   "execution_count": 66,
   "metadata": {},
   "outputs": [
    {
     "output_type": "execute_result",
     "data": {
      "text/plain": [
       "           collectionName phoneName  millisSinceGpsEpoch     latDeg  \\\n",
       "16    2020-05-15-US-MTV-1    Pixel4        1273608801654  37.416566   \n",
       "19    2020-05-15-US-MTV-1    Pixel4        1273608804648  37.416576   \n",
       "22    2020-05-15-US-MTV-1    Pixel4        1273608807665  37.416584   \n",
       "24    2020-05-15-US-MTV-1    Pixel4        1273608809647  37.416566   \n",
       "25    2020-05-15-US-MTV-1    Pixel4        1273608810662  37.416630   \n",
       "...                   ...       ...                  ...        ...   \n",
       "4661  2020-05-15-US-MTV-1  Pixel4XL        1273609925446  37.408569   \n",
       "4662  2020-05-15-US-MTV-1  Pixel4XL        1273609926446  37.408441   \n",
       "4663  2020-05-15-US-MTV-1  Pixel4XL        1273609927446  37.408318   \n",
       "4664  2020-05-15-US-MTV-1  Pixel4XL        1273609928446  37.408189   \n",
       "4665  2020-05-15-US-MTV-1  Pixel4XL        1273609929446  37.408031   \n",
       "\n",
       "          lngDeg  heightAboveWgs84EllipsoidM                         phone  \n",
       "16   -122.082111                      -27.75    2020-05-15-US-MTV-1_Pixel4  \n",
       "19   -122.082096                      -35.79    2020-05-15-US-MTV-1_Pixel4  \n",
       "22   -122.082122                      -27.05    2020-05-15-US-MTV-1_Pixel4  \n",
       "24   -122.082042                      -24.89    2020-05-15-US-MTV-1_Pixel4  \n",
       "25   -122.081969                      -10.05    2020-05-15-US-MTV-1_Pixel4  \n",
       "...          ...                         ...                           ...  \n",
       "4661 -122.071247                      -18.90  2020-05-15-US-MTV-1_Pixel4XL  \n",
       "4662 -122.071083                      -15.48  2020-05-15-US-MTV-1_Pixel4XL  \n",
       "4663 -122.070924                      -15.50  2020-05-15-US-MTV-1_Pixel4XL  \n",
       "4664 -122.070774                      -14.87  2020-05-15-US-MTV-1_Pixel4XL  \n",
       "4665 -122.070640                      -13.89  2020-05-15-US-MTV-1_Pixel4XL  \n",
       "\n",
       "[1674 rows x 7 columns]"
      ],
      "text/html": "<div>\n<style scoped>\n    .dataframe tbody tr th:only-of-type {\n        vertical-align: middle;\n    }\n\n    .dataframe tbody tr th {\n        vertical-align: top;\n    }\n\n    .dataframe thead th {\n        text-align: right;\n    }\n</style>\n<table border=\"1\" class=\"dataframe\">\n  <thead>\n    <tr style=\"text-align: right;\">\n      <th></th>\n      <th>collectionName</th>\n      <th>phoneName</th>\n      <th>millisSinceGpsEpoch</th>\n      <th>latDeg</th>\n      <th>lngDeg</th>\n      <th>heightAboveWgs84EllipsoidM</th>\n      <th>phone</th>\n    </tr>\n  </thead>\n  <tbody>\n    <tr>\n      <th>16</th>\n      <td>2020-05-15-US-MTV-1</td>\n      <td>Pixel4</td>\n      <td>1273608801654</td>\n      <td>37.416566</td>\n      <td>-122.082111</td>\n      <td>-27.75</td>\n      <td>2020-05-15-US-MTV-1_Pixel4</td>\n    </tr>\n    <tr>\n      <th>19</th>\n      <td>2020-05-15-US-MTV-1</td>\n      <td>Pixel4</td>\n      <td>1273608804648</td>\n      <td>37.416576</td>\n      <td>-122.082096</td>\n      <td>-35.79</td>\n      <td>2020-05-15-US-MTV-1_Pixel4</td>\n    </tr>\n    <tr>\n      <th>22</th>\n      <td>2020-05-15-US-MTV-1</td>\n      <td>Pixel4</td>\n      <td>1273608807665</td>\n      <td>37.416584</td>\n      <td>-122.082122</td>\n      <td>-27.05</td>\n      <td>2020-05-15-US-MTV-1_Pixel4</td>\n    </tr>\n    <tr>\n      <th>24</th>\n      <td>2020-05-15-US-MTV-1</td>\n      <td>Pixel4</td>\n      <td>1273608809647</td>\n      <td>37.416566</td>\n      <td>-122.082042</td>\n      <td>-24.89</td>\n      <td>2020-05-15-US-MTV-1_Pixel4</td>\n    </tr>\n    <tr>\n      <th>25</th>\n      <td>2020-05-15-US-MTV-1</td>\n      <td>Pixel4</td>\n      <td>1273608810662</td>\n      <td>37.416630</td>\n      <td>-122.081969</td>\n      <td>-10.05</td>\n      <td>2020-05-15-US-MTV-1_Pixel4</td>\n    </tr>\n    <tr>\n      <th>...</th>\n      <td>...</td>\n      <td>...</td>\n      <td>...</td>\n      <td>...</td>\n      <td>...</td>\n      <td>...</td>\n      <td>...</td>\n    </tr>\n    <tr>\n      <th>4661</th>\n      <td>2020-05-15-US-MTV-1</td>\n      <td>Pixel4XL</td>\n      <td>1273609925446</td>\n      <td>37.408569</td>\n      <td>-122.071247</td>\n      <td>-18.90</td>\n      <td>2020-05-15-US-MTV-1_Pixel4XL</td>\n    </tr>\n    <tr>\n      <th>4662</th>\n      <td>2020-05-15-US-MTV-1</td>\n      <td>Pixel4XL</td>\n      <td>1273609926446</td>\n      <td>37.408441</td>\n      <td>-122.071083</td>\n      <td>-15.48</td>\n      <td>2020-05-15-US-MTV-1_Pixel4XL</td>\n    </tr>\n    <tr>\n      <th>4663</th>\n      <td>2020-05-15-US-MTV-1</td>\n      <td>Pixel4XL</td>\n      <td>1273609927446</td>\n      <td>37.408318</td>\n      <td>-122.070924</td>\n      <td>-15.50</td>\n      <td>2020-05-15-US-MTV-1_Pixel4XL</td>\n    </tr>\n    <tr>\n      <th>4664</th>\n      <td>2020-05-15-US-MTV-1</td>\n      <td>Pixel4XL</td>\n      <td>1273609928446</td>\n      <td>37.408189</td>\n      <td>-122.070774</td>\n      <td>-14.87</td>\n      <td>2020-05-15-US-MTV-1_Pixel4XL</td>\n    </tr>\n    <tr>\n      <th>4665</th>\n      <td>2020-05-15-US-MTV-1</td>\n      <td>Pixel4XL</td>\n      <td>1273609929446</td>\n      <td>37.408031</td>\n      <td>-122.070640</td>\n      <td>-13.89</td>\n      <td>2020-05-15-US-MTV-1_Pixel4XL</td>\n    </tr>\n  </tbody>\n</table>\n<p>1674 rows × 7 columns</p>\n</div>"
     },
     "metadata": {},
     "execution_count": 66
    }
   ],
   "source": [
    "base_test[base_test['millisSinceGpsEpoch'].isin(tmp['millisSinceGpsEpoch'])]"
   ]
  },
  {
   "cell_type": "code",
   "execution_count": 65,
   "metadata": {},
   "outputs": [
    {
     "output_type": "execute_result",
     "data": {
      "text/plain": [
       "            collectionName phoneName  millisSinceGpsEpoch  constellationType  \\\n",
       "325    2020-05-15-US-MTV-1    Pixel4        1273608801654                  1   \n",
       "326    2020-05-15-US-MTV-1    Pixel4        1273608801654                  1   \n",
       "327    2020-05-15-US-MTV-1    Pixel4        1273608801654                  6   \n",
       "328    2020-05-15-US-MTV-1    Pixel4        1273608801654                  1   \n",
       "329    2020-05-15-US-MTV-1    Pixel4        1273608801654                  3   \n",
       "...                    ...       ...                  ...                ...   \n",
       "57725  2020-05-15-US-MTV-1    Pixel4        1273612275632                  3   \n",
       "57726  2020-05-15-US-MTV-1    Pixel4        1273612275632                  3   \n",
       "57727  2020-05-15-US-MTV-1    Pixel4        1273612275632                  6   \n",
       "57728  2020-05-15-US-MTV-1    Pixel4        1273612275632                  6   \n",
       "57729  2020-05-15-US-MTV-1    Pixel4        1273612275632                  6   \n",
       "\n",
       "       svid signalType  receivedSvTimeInGpsNanos      xSatPosM      ySatPosM  \\\n",
       "325       2     GPS_L1       1273608800568117297 -1.355350e+07 -2.285558e+07   \n",
       "326       6     GPS_L1       1273608800571097922 -5.144400e+06 -2.379852e+07   \n",
       "327      25     GAL_E1       1273608800554999274  4.323120e+06 -2.881377e+07   \n",
       "328      17     GPS_L1       1273608800565023316  7.661722e+06 -1.391200e+07   \n",
       "329      22     GLO_G1       1273608800574904107 -3.862793e+06 -1.355721e+07   \n",
       "...     ...        ...                       ...           ...           ...   \n",
       "57725    13     GLO_G1       1273612275568180115 -1.219834e+07 -1.338065e+07   \n",
       "57726    14     GLO_G1       1273612275557382661 -9.952700e+06  5.477318e+06   \n",
       "57727    30     GAL_E1       1273612275555754963 -1.589697e+07 -7.064249e+06   \n",
       "57728    36     GAL_E1       1273612275552308959  6.525533e+05 -1.761160e+07   \n",
       "57729     2     GAL_E1       1273612275554057088 -8.354157e+06 -2.513847e+07   \n",
       "\n",
       "           zSatPosM  xSatVelMps  ySatVelMps  zSatVelMps  satClkBiasM  \\\n",
       "325    1.592091e+06     302.889     -47.613    3160.562  -136834.396   \n",
       "326    1.060766e+07     823.829    1072.241    2823.713   -81575.055   \n",
       "327    5.220182e+06      23.951    -536.768   -2983.575  -153084.743   \n",
       "328    2.170208e+07    2640.705     239.526    -798.715    79526.801   \n",
       "329    2.122717e+07    2429.314    1613.344    1483.924     -418.462   \n",
       "...             ...         ...         ...         ...          ...   \n",
       "57725  1.794654e+07    -705.894   -2360.645   -2237.702   -11610.677   \n",
       "57726  2.284841e+07    -718.551   -3041.501     414.853    15362.334   \n",
       "57727  2.393849e+07      22.881   -2404.899    -693.358  1170586.979   \n",
       "57728  2.378304e+07    2044.321    1235.423     859.698   167805.129   \n",
       "57729  1.321391e+07     -80.935   -1328.447   -2576.657    40046.743   \n",
       "\n",
       "       satClkDriftMps        rawPrM  rawPrUncM     isrbM  ionoDelayM  \\\n",
       "325            -0.002  2.175749e+07      3.598     0.000       4.784   \n",
       "326            -0.002  2.086392e+07      2.998     0.000       3.944   \n",
       "327            -0.000  2.569017e+07      2.398  -216.118       5.918   \n",
       "328             0.003  2.268504e+07      1.799     0.000       5.496   \n",
       "329            -0.001  1.972285e+07      4.797  1144.294       3.714   \n",
       "...               ...           ...        ...       ...         ...   \n",
       "57725           0.000  1.927615e+07      4.197  1153.070       3.620   \n",
       "57726          -0.000  2.251315e+07      4.797  1153.070       6.953   \n",
       "57727          -0.009  2.300112e+07      5.096  -222.012       4.288   \n",
       "57728          -0.002  2.403420e+07      2.099  -222.012       4.311   \n",
       "57729           0.001  2.351013e+07      2.099  -222.012       3.901   \n",
       "\n",
       "       tropoDelayM  \n",
       "325          3.446  \n",
       "326          2.849  \n",
       "327          4.439  \n",
       "328          4.392  \n",
       "329          2.857  \n",
       "...            ...  \n",
       "57725        2.577  \n",
       "57726        6.868  \n",
       "57727        3.066  \n",
       "57728        3.081  \n",
       "57729        2.673  \n",
       "\n",
       "[27761 rows x 20 columns]"
      ],
      "text/html": "<div>\n<style scoped>\n    .dataframe tbody tr th:only-of-type {\n        vertical-align: middle;\n    }\n\n    .dataframe tbody tr th {\n        vertical-align: top;\n    }\n\n    .dataframe thead th {\n        text-align: right;\n    }\n</style>\n<table border=\"1\" class=\"dataframe\">\n  <thead>\n    <tr style=\"text-align: right;\">\n      <th></th>\n      <th>collectionName</th>\n      <th>phoneName</th>\n      <th>millisSinceGpsEpoch</th>\n      <th>constellationType</th>\n      <th>svid</th>\n      <th>signalType</th>\n      <th>receivedSvTimeInGpsNanos</th>\n      <th>xSatPosM</th>\n      <th>ySatPosM</th>\n      <th>zSatPosM</th>\n      <th>xSatVelMps</th>\n      <th>ySatVelMps</th>\n      <th>zSatVelMps</th>\n      <th>satClkBiasM</th>\n      <th>satClkDriftMps</th>\n      <th>rawPrM</th>\n      <th>rawPrUncM</th>\n      <th>isrbM</th>\n      <th>ionoDelayM</th>\n      <th>tropoDelayM</th>\n    </tr>\n  </thead>\n  <tbody>\n    <tr>\n      <th>325</th>\n      <td>2020-05-15-US-MTV-1</td>\n      <td>Pixel4</td>\n      <td>1273608801654</td>\n      <td>1</td>\n      <td>2</td>\n      <td>GPS_L1</td>\n      <td>1273608800568117297</td>\n      <td>-1.355350e+07</td>\n      <td>-2.285558e+07</td>\n      <td>1.592091e+06</td>\n      <td>302.889</td>\n      <td>-47.613</td>\n      <td>3160.562</td>\n      <td>-136834.396</td>\n      <td>-0.002</td>\n      <td>2.175749e+07</td>\n      <td>3.598</td>\n      <td>0.000</td>\n      <td>4.784</td>\n      <td>3.446</td>\n    </tr>\n    <tr>\n      <th>326</th>\n      <td>2020-05-15-US-MTV-1</td>\n      <td>Pixel4</td>\n      <td>1273608801654</td>\n      <td>1</td>\n      <td>6</td>\n      <td>GPS_L1</td>\n      <td>1273608800571097922</td>\n      <td>-5.144400e+06</td>\n      <td>-2.379852e+07</td>\n      <td>1.060766e+07</td>\n      <td>823.829</td>\n      <td>1072.241</td>\n      <td>2823.713</td>\n      <td>-81575.055</td>\n      <td>-0.002</td>\n      <td>2.086392e+07</td>\n      <td>2.998</td>\n      <td>0.000</td>\n      <td>3.944</td>\n      <td>2.849</td>\n    </tr>\n    <tr>\n      <th>327</th>\n      <td>2020-05-15-US-MTV-1</td>\n      <td>Pixel4</td>\n      <td>1273608801654</td>\n      <td>6</td>\n      <td>25</td>\n      <td>GAL_E1</td>\n      <td>1273608800554999274</td>\n      <td>4.323120e+06</td>\n      <td>-2.881377e+07</td>\n      <td>5.220182e+06</td>\n      <td>23.951</td>\n      <td>-536.768</td>\n      <td>-2983.575</td>\n      <td>-153084.743</td>\n      <td>-0.000</td>\n      <td>2.569017e+07</td>\n      <td>2.398</td>\n      <td>-216.118</td>\n      <td>5.918</td>\n      <td>4.439</td>\n    </tr>\n    <tr>\n      <th>328</th>\n      <td>2020-05-15-US-MTV-1</td>\n      <td>Pixel4</td>\n      <td>1273608801654</td>\n      <td>1</td>\n      <td>17</td>\n      <td>GPS_L1</td>\n      <td>1273608800565023316</td>\n      <td>7.661722e+06</td>\n      <td>-1.391200e+07</td>\n      <td>2.170208e+07</td>\n      <td>2640.705</td>\n      <td>239.526</td>\n      <td>-798.715</td>\n      <td>79526.801</td>\n      <td>0.003</td>\n      <td>2.268504e+07</td>\n      <td>1.799</td>\n      <td>0.000</td>\n      <td>5.496</td>\n      <td>4.392</td>\n    </tr>\n    <tr>\n      <th>329</th>\n      <td>2020-05-15-US-MTV-1</td>\n      <td>Pixel4</td>\n      <td>1273608801654</td>\n      <td>3</td>\n      <td>22</td>\n      <td>GLO_G1</td>\n      <td>1273608800574904107</td>\n      <td>-3.862793e+06</td>\n      <td>-1.355721e+07</td>\n      <td>2.122717e+07</td>\n      <td>2429.314</td>\n      <td>1613.344</td>\n      <td>1483.924</td>\n      <td>-418.462</td>\n      <td>-0.001</td>\n      <td>1.972285e+07</td>\n      <td>4.797</td>\n      <td>1144.294</td>\n      <td>3.714</td>\n      <td>2.857</td>\n    </tr>\n    <tr>\n      <th>...</th>\n      <td>...</td>\n      <td>...</td>\n      <td>...</td>\n      <td>...</td>\n      <td>...</td>\n      <td>...</td>\n      <td>...</td>\n      <td>...</td>\n      <td>...</td>\n      <td>...</td>\n      <td>...</td>\n      <td>...</td>\n      <td>...</td>\n      <td>...</td>\n      <td>...</td>\n      <td>...</td>\n      <td>...</td>\n      <td>...</td>\n      <td>...</td>\n      <td>...</td>\n    </tr>\n    <tr>\n      <th>57725</th>\n      <td>2020-05-15-US-MTV-1</td>\n      <td>Pixel4</td>\n      <td>1273612275632</td>\n      <td>3</td>\n      <td>13</td>\n      <td>GLO_G1</td>\n      <td>1273612275568180115</td>\n      <td>-1.219834e+07</td>\n      <td>-1.338065e+07</td>\n      <td>1.794654e+07</td>\n      <td>-705.894</td>\n      <td>-2360.645</td>\n      <td>-2237.702</td>\n      <td>-11610.677</td>\n      <td>0.000</td>\n      <td>1.927615e+07</td>\n      <td>4.197</td>\n      <td>1153.070</td>\n      <td>3.620</td>\n      <td>2.577</td>\n    </tr>\n    <tr>\n      <th>57726</th>\n      <td>2020-05-15-US-MTV-1</td>\n      <td>Pixel4</td>\n      <td>1273612275632</td>\n      <td>3</td>\n      <td>14</td>\n      <td>GLO_G1</td>\n      <td>1273612275557382661</td>\n      <td>-9.952700e+06</td>\n      <td>5.477318e+06</td>\n      <td>2.284841e+07</td>\n      <td>-718.551</td>\n      <td>-3041.501</td>\n      <td>414.853</td>\n      <td>15362.334</td>\n      <td>-0.000</td>\n      <td>2.251315e+07</td>\n      <td>4.797</td>\n      <td>1153.070</td>\n      <td>6.953</td>\n      <td>6.868</td>\n    </tr>\n    <tr>\n      <th>57727</th>\n      <td>2020-05-15-US-MTV-1</td>\n      <td>Pixel4</td>\n      <td>1273612275632</td>\n      <td>6</td>\n      <td>30</td>\n      <td>GAL_E1</td>\n      <td>1273612275555754963</td>\n      <td>-1.589697e+07</td>\n      <td>-7.064249e+06</td>\n      <td>2.393849e+07</td>\n      <td>22.881</td>\n      <td>-2404.899</td>\n      <td>-693.358</td>\n      <td>1170586.979</td>\n      <td>-0.009</td>\n      <td>2.300112e+07</td>\n      <td>5.096</td>\n      <td>-222.012</td>\n      <td>4.288</td>\n      <td>3.066</td>\n    </tr>\n    <tr>\n      <th>57728</th>\n      <td>2020-05-15-US-MTV-1</td>\n      <td>Pixel4</td>\n      <td>1273612275632</td>\n      <td>6</td>\n      <td>36</td>\n      <td>GAL_E1</td>\n      <td>1273612275552308959</td>\n      <td>6.525533e+05</td>\n      <td>-1.761160e+07</td>\n      <td>2.378304e+07</td>\n      <td>2044.321</td>\n      <td>1235.423</td>\n      <td>859.698</td>\n      <td>167805.129</td>\n      <td>-0.002</td>\n      <td>2.403420e+07</td>\n      <td>2.099</td>\n      <td>-222.012</td>\n      <td>4.311</td>\n      <td>3.081</td>\n    </tr>\n    <tr>\n      <th>57729</th>\n      <td>2020-05-15-US-MTV-1</td>\n      <td>Pixel4</td>\n      <td>1273612275632</td>\n      <td>6</td>\n      <td>2</td>\n      <td>GAL_E1</td>\n      <td>1273612275554057088</td>\n      <td>-8.354157e+06</td>\n      <td>-2.513847e+07</td>\n      <td>1.321391e+07</td>\n      <td>-80.935</td>\n      <td>-1328.447</td>\n      <td>-2576.657</td>\n      <td>40046.743</td>\n      <td>0.001</td>\n      <td>2.351013e+07</td>\n      <td>2.099</td>\n      <td>-222.012</td>\n      <td>3.901</td>\n      <td>2.673</td>\n    </tr>\n  </tbody>\n</table>\n<p>27761 rows × 20 columns</p>\n</div>"
     },
     "metadata": {},
     "execution_count": 65
    }
   ],
   "source": [
    "tmp[tmp['millisSinceGpsEpoch'].isin(base_test['millisSinceGpsEpoch'])]"
   ]
  },
  {
   "cell_type": "code",
   "execution_count": 75,
   "metadata": {},
   "outputs": [
    {
     "output_type": "execute_result",
     "data": {
      "text/plain": [
       "Empty DataFrame\n",
       "Columns: [collectionName, phoneName, millisSinceGpsEpoch, constellationType, svid, signalType, receivedSvTimeInGpsNanos, xSatPosM, ySatPosM, zSatPosM, xSatVelMps, ySatVelMps, zSatVelMps, satClkBiasM, satClkDriftMps, rawPrM, rawPrUncM, isrbM, ionoDelayM, tropoDelayM]\n",
       "Index: []"
      ],
      "text/html": "<div>\n<style scoped>\n    .dataframe tbody tr th:only-of-type {\n        vertical-align: middle;\n    }\n\n    .dataframe tbody tr th {\n        vertical-align: top;\n    }\n\n    .dataframe thead th {\n        text-align: right;\n    }\n</style>\n<table border=\"1\" class=\"dataframe\">\n  <thead>\n    <tr style=\"text-align: right;\">\n      <th></th>\n      <th>collectionName</th>\n      <th>phoneName</th>\n      <th>millisSinceGpsEpoch</th>\n      <th>constellationType</th>\n      <th>svid</th>\n      <th>signalType</th>\n      <th>receivedSvTimeInGpsNanos</th>\n      <th>xSatPosM</th>\n      <th>ySatPosM</th>\n      <th>zSatPosM</th>\n      <th>xSatVelMps</th>\n      <th>ySatVelMps</th>\n      <th>zSatVelMps</th>\n      <th>satClkBiasM</th>\n      <th>satClkDriftMps</th>\n      <th>rawPrM</th>\n      <th>rawPrUncM</th>\n      <th>isrbM</th>\n      <th>ionoDelayM</th>\n      <th>tropoDelayM</th>\n    </tr>\n  </thead>\n  <tbody>\n  </tbody>\n</table>\n</div>"
     },
     "metadata": {},
     "execution_count": 75
    }
   ],
   "source": [
    "tmp[tmp['millisSinceGpsEpoch']==1273608785432]"
   ]
  },
  {
   "cell_type": "code",
   "execution_count": null,
   "metadata": {},
   "outputs": [],
   "source": []
  }
 ]
}