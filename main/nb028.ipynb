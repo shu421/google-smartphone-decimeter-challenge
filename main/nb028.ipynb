{
 "metadata": {
  "language_info": {
   "codemirror_mode": {
    "name": "ipython",
    "version": 3
   },
   "file_extension": ".py",
   "mimetype": "text/x-python",
   "name": "python",
   "nbconvert_exporter": "python",
   "pygments_lexer": "ipython3",
   "version": "3.7.4"
  },
  "orig_nbformat": 2,
  "kernelspec": {
   "name": "python3",
   "display_name": "Python 3.7.4 64-bit ('venv_outdoor': venv)",
   "metadata": {
    "interpreter": {
     "hash": "bd00b75c79969edcf008edd1fd5973862c0c93beffacd004fb7d75ad6fcb357f"
    }
   }
  }
 },
 "nbformat": 4,
 "nbformat_minor": 2,
 "cells": [
  {
   "cell_type": "code",
   "execution_count": 66,
   "metadata": {},
   "outputs": [],
   "source": [
    "import pandas as pd\n",
    "import numpy as np\n",
    "\n",
    "import scipy.optimize as opt\n",
    "\n",
    "from pathlib import Path\n",
    "root = Path(\"../input/google-smartphone-decimeter-challenge/\")"
   ]
  },
  {
   "cell_type": "code",
   "execution_count": 67,
   "metadata": {},
   "outputs": [],
   "source": [
    "def ecef2lla(x, y, z):\n",
    "    # x, y and z are scalars or vectors in meters\n",
    "    x = np.array([x]).reshape(np.array([x]).shape[-1], 1)\n",
    "    y = np.array([y]).reshape(np.array([y]).shape[-1], 1)\n",
    "    z = np.array([z]).reshape(np.array([z]).shape[-1], 1)\n",
    "\n",
    "    a=6378137\n",
    "    a_sq=a**2\n",
    "    e = 8.181919084261345e-2\n",
    "    e_sq = 6.69437999014e-3\n",
    "\n",
    "    f = 1/298.257223563\n",
    "    b = a*(1-f)\n",
    "\n",
    "    # calculations:\n",
    "    r = np.sqrt(x**2 + y**2)\n",
    "    ep_sq  = (a**2-b**2)/b**2\n",
    "    ee = (a**2-b**2)\n",
    "    f = (54*b**2)*(z**2)\n",
    "    g = r**2 + (1 - e_sq)*(z**2) - e_sq*ee*2\n",
    "    c = (e_sq**2)*f*r**2/(g**3)\n",
    "    s = (1 + c + np.sqrt(c**2 + 2*c))**(1/3.)\n",
    "    p = f/(3.*(g**2)*(s + (1./s) + 1)**2)\n",
    "    q = np.sqrt(1 + 2*p*e_sq**2)\n",
    "    r_0 = -(p*e_sq*r)/(1+q) + np.sqrt(0.5*(a**2)*(1+(1./q)) - p*(z**2)*(1-e_sq)/(q*(1+q)) - 0.5*p*(r**2))\n",
    "    u = np.sqrt((r - e_sq*r_0)**2 + z**2)\n",
    "    v = np.sqrt((r - e_sq*r_0)**2 + (1 - e_sq)*z**2)\n",
    "    z_0 = (b**2)*z/(a*v)\n",
    "    h = u*(1 - b**2/(a*v))\n",
    "    phi = np.arctan((z + ep_sq*z_0)/r)\n",
    "    lambd = np.arctan2(y, x)\n",
    "\n",
    "    return phi*180/np.pi, lambd*180/np.pi, h\n",
    "\n",
    "def calc_haversine(lat1, lon1, lat2, lon2):\n",
    "    \"\"\"Calculates the great circle distance between two points\n",
    "    on the earth. Inputs are array-like and specified in decimal degrees.\n",
    "    \"\"\"\n",
    "    RADIUS = 6_367_000\n",
    "    lat1, lon1, lat2, lon2 = map(np.radians, [lat1, lon1, lat2, lon2])\n",
    "    dlat = lat2 - lat1\n",
    "    dlon = lon2 - lon1\n",
    "    a = np.sin(dlat/2)**2 + \\\n",
    "      np.cos(lat1) * np.cos(lat2) * np.sin(dlon/2)**2\n",
    "    dist = 2 * RADIUS * np.arcsin(a**0.5)\n",
    "    return dist"
   ]
  },
  {
   "source": [
    "# Apply WLS on one collection and one measurement"
   ],
   "cell_type": "markdown",
   "metadata": {}
  },
  {
   "cell_type": "code",
   "execution_count": 68,
   "metadata": {},
   "outputs": [],
   "source": [
    "collection_name=\"2020-05-29-US-MTV-1\"\n",
    "file_path = Path(f\"train/{collection_name}\")\n",
    "phone = 'Pixel4'\n",
    "measurement_epoch_time = 1274827487438\n",
    "\n",
    "# baseline we'll compare our solution against\n",
    "df_baseline = pd.read_csv(root/\"baseline_locations_train.csv\")\n",
    "\n",
    "# ground truth to compute methods performance\n",
    "df_groundtruth = pd.read_csv(root/file_path/f\"{phone}/ground_truth.csv\")\n",
    "\n",
    "# Train df here only contains one collection and one measurement\n",
    "df_train = pd.read_csv(root/file_path/f\"{phone}/{phone}_derived.csv\")\n",
    "df_train = df_train[df_train['millisSinceGpsEpoch'] == measurement_epoch_time] "
   ]
  },
  {
   "cell_type": "code",
   "execution_count": 69,
   "metadata": {},
   "outputs": [],
   "source": [
    "# Corrected pseudorange according to data instructions\n",
    "df_train['correctedPrM'] = df_train.apply(\n",
    "    lambda r: r.rawPrM + r.satClkBiasM - r.isrbM - r.ionoDelayM - r.tropoDelayM,\n",
    "    axis=1\n",
    ")\n",
    "\n",
    "# Time it took for signal to travel\n",
    "light_speed = 299_792_458\n",
    "df_train['transmissionTimeSeconds'] = df_train['correctedPrM'] / light_speed"
   ]
  },
  {
   "cell_type": "code",
   "execution_count": 70,
   "metadata": {},
   "outputs": [],
   "source": [
    "# Compute true sat positions at arrival time\n",
    "omega_e = 7.2921151467e-5\n",
    "df_train['xSatPosMRotated'] = \\\n",
    "    np.cos(omega_e * df_train['transmissionTimeSeconds']) * df_train['xSatPosM'] \\\n",
    "    + np.sin(omega_e * df_train['transmissionTimeSeconds']) * df_train['ySatPosM']\n",
    "    \n",
    "df_train['ySatPosMRotated'] = \\\n",
    "    - np.sin(omega_e * df_train['transmissionTimeSeconds']) * df_train['xSatPosM'] \\\n",
    "    + np.cos(omega_e * df_train['transmissionTimeSeconds']) * df_train['ySatPosM']\n",
    "    \n",
    "df_train['zSatPosMRotated'] = df_train['zSatPosM']"
   ]
  },
  {
   "cell_type": "code",
   "execution_count": 71,
   "metadata": {},
   "outputs": [],
   "source": [
    "# Uncertainty weight for the WLS method\n",
    "df_train['uncertaintyWeight'] = 1 / df_train['rawPrUncM']"
   ]
  },
  {
   "cell_type": "code",
   "execution_count": 72,
   "metadata": {},
   "outputs": [],
   "source": [
    "df_train = df_train.iloc[0:10,:]"
   ]
  },
  {
   "cell_type": "code",
   "execution_count": 73,
   "metadata": {},
   "outputs": [],
   "source": [
    "# Set up least squares methods\n",
    "def distance(sat_pos, x):\n",
    "    sat_pos_diff = sat_pos.copy(deep=True)\n",
    "    \n",
    "    sat_pos_diff['xSatPosMRotated'] = sat_pos_diff['xSatPosMRotated'] - x[0]\n",
    "    sat_pos_diff['ySatPosMRotated'] = sat_pos_diff['ySatPosMRotated'] - x[1]\n",
    "    sat_pos_diff['zSatPosMRotated'] = sat_pos_diff['zSatPosMRotated'] - x[2]\n",
    "\n",
    "    sat_pos_diff['d'] = sat_pos_diff.apply(\n",
    "        lambda r: r.uncertaintyWeight * \n",
    "            (np.sqrt((r.xSatPosMRotated**2 + r.ySatPosMRotated**2 + r.zSatPosMRotated**2)) + x[3] - r.correctedPrM),\n",
    "        axis=1\n",
    "    )\n",
    "\n",
    "    return sat_pos_diff['d']\n",
    "\n",
    "def distance_fixed_satpos(x):\n",
    "    return distance(df_train[['xSatPosMRotated', 'ySatPosMRotated', 'zSatPosMRotated', 'correctedPrM', 'uncertaintyWeight']], x)"
   ]
  },
  {
   "cell_type": "code",
   "execution_count": 74,
   "metadata": {
    "tags": []
   },
   "outputs": [],
   "source": [
    "# Start point for the optimiser\n",
    "x0= [0,0,0,0]\n",
    "\n",
    "opt_res = opt.least_squares(distance_fixed_satpos, x0)\n",
    "\n",
    "# Optimiser yields a position in the ECEF coordinates\n",
    "opt_res_pos = opt_res.x"
   ]
  },
  {
   "cell_type": "code",
   "execution_count": 75,
   "metadata": {},
   "outputs": [],
   "source": [
    "# ECEF position to lat/long\n",
    "wls_estimated_pos = ecef2lla(*opt_res_pos[:3]) # x,y,z\n",
    "wls_estimated_pos = np.squeeze(wls_estimated_pos) # １次元を削除"
   ]
  },
  {
   "cell_type": "code",
   "execution_count": 76,
   "metadata": {},
   "outputs": [],
   "source": [
    "val_baseline = df_baseline[\n",
    "    (df_baseline['collectionName']==collection_name)\n",
    "    & (df_baseline['phoneName']==phone)\n",
    "    & (df_baseline['millisSinceGpsEpoch']==measurement_epoch_time)\n",
    "].iloc[0]"
   ]
  },
  {
   "cell_type": "code",
   "execution_count": 77,
   "metadata": {},
   "outputs": [],
   "source": [
    "val_groundtruth = df_groundtruth[\n",
    "    (df_groundtruth['collectionName']==collection_name)\n",
    "    & (df_groundtruth['phoneName']==phone)\n",
    "    & (df_groundtruth['millisSinceGpsEpoch']==measurement_epoch_time)\n",
    "].iloc[0]"
   ]
  },
  {
   "cell_type": "code",
   "execution_count": 78,
   "metadata": {},
   "outputs": [
    {
     "output_type": "stream",
     "name": "stdout",
     "text": [
      "Baseline distance with groundtruth position (m)\n"
     ]
    },
    {
     "output_type": "execute_result",
     "data": {
      "text/plain": [
       "15.419474998287948"
      ]
     },
     "metadata": {},
     "execution_count": 78
    }
   ],
   "source": [
    "print(\"Baseline distance with groundtruth position (m)\")\n",
    "calc_haversine(val_baseline['latDeg'], val_baseline['lngDeg'], val_groundtruth['latDeg'], val_groundtruth['lngDeg'])"
   ]
  },
  {
   "cell_type": "code",
   "execution_count": 79,
   "metadata": {},
   "outputs": [
    {
     "output_type": "stream",
     "name": "stdout",
     "text": [
      "Our estimated position (with WLS) distance with groundtruth position (m)\n"
     ]
    },
    {
     "output_type": "execute_result",
     "data": {
      "text/plain": [
       "12.820946086302946"
      ]
     },
     "metadata": {},
     "execution_count": 79
    }
   ],
   "source": [
    "print(\"Our estimated position (with WLS) distance with groundtruth position (m)\")\n",
    "calc_haversine(wls_estimated_pos[0], wls_estimated_pos[1], val_groundtruth['latDeg'], val_groundtruth['lngDeg'])"
   ]
  },
  {
   "cell_type": "code",
   "execution_count": null,
   "metadata": {},
   "outputs": [],
   "source": []
  },
  {
   "cell_type": "code",
   "execution_count": null,
   "metadata": {},
   "outputs": [],
   "source": []
  },
  {
   "cell_type": "code",
   "execution_count": null,
   "metadata": {},
   "outputs": [],
   "source": []
  },
  {
   "cell_type": "code",
   "execution_count": null,
   "metadata": {},
   "outputs": [],
   "source": []
  }
 ]
}