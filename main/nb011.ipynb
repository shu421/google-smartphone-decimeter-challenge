{
 "cells": [
  {
   "cell_type": "markdown",
   "id": "fa362513-af28-4878-b0a6-35b4ad70e79a",
   "metadata": {},
   "source": [
    "# Train Error"
   ]
  },
  {
   "cell_type": "code",
   "execution_count": 1,
   "id": "fd9c8769-5299-490a-899d-4a3431444210",
   "metadata": {},
   "outputs": [],
   "source": [
    "from pathlib import Path\n",
    "import pandas as pd"
   ]
  },
  {
   "cell_type": "code",
   "execution_count": 2,
   "id": "89a8e7af-16ad-4900-909b-f5d8dc164d8f",
   "metadata": {},
   "outputs": [],
   "source": [
    "data_path = Path(\"../input/google-smartphone-decimeter-challenge\")\n",
    "test_base = pd.read_csv(\n",
    "    data_path / 'baseline_locations_test.csv')\n",
    "sub = pd.read_csv(\n",
    "    data_path / 'sample_submission.csv')"
   ]
  },
  {
   "cell_type": "code",
   "execution_count": 3,
   "id": "33cf9124-5a06-4fe1-9447-11bd1c94199e",
   "metadata": {},
   "outputs": [],
   "source": [
    "import numpy as np\n",
    "from tqdm.notebook import tqdm"
   ]
  },
  {
   "cell_type": "code",
   "execution_count": 18,
   "id": "c57190ea-5b70-405e-8c8a-c47e4adb7574",
   "metadata": {},
   "outputs": [
    {
     "data": {
      "application/vnd.jupyter.widget-view+json": {
       "model_id": "728ef16ab6d44fa4890daeb97875b73d",
       "version_major": 2,
       "version_minor": 0
      },
      "text/plain": [
       "  0%|          | 0/73 [00:00<?, ?it/s]"
      ]
     },
     "metadata": {},
     "output_type": "display_data"
    },
    {
     "data": {
      "text/html": [
       "<div>\n",
       "<style scoped>\n",
       "    .dataframe tbody tr th:only-of-type {\n",
       "        vertical-align: middle;\n",
       "    }\n",
       "\n",
       "    .dataframe tbody tr th {\n",
       "        vertical-align: top;\n",
       "    }\n",
       "\n",
       "    .dataframe thead th {\n",
       "        text-align: right;\n",
       "    }\n",
       "</style>\n",
       "<table border=\"1\" class=\"dataframe\">\n",
       "  <thead>\n",
       "    <tr style=\"text-align: right;\">\n",
       "      <th></th>\n",
       "      <th>collectionName</th>\n",
       "      <th>phoneName</th>\n",
       "      <th>millisSinceGpsEpoch</th>\n",
       "      <th>latDeg_truth</th>\n",
       "      <th>lngDeg_truth</th>\n",
       "      <th>latDeg_basepred</th>\n",
       "      <th>lngDeg_basepred</th>\n",
       "    </tr>\n",
       "  </thead>\n",
       "  <tbody>\n",
       "    <tr>\n",
       "      <th>0</th>\n",
       "      <td>2020-05-21-US-MTV-1</td>\n",
       "      <td>Pixel4</td>\n",
       "      <td>1274119793431</td>\n",
       "      <td>37.424354</td>\n",
       "      <td>-122.091865</td>\n",
       "      <td>37.424400</td>\n",
       "      <td>-122.091850</td>\n",
       "    </tr>\n",
       "    <tr>\n",
       "      <th>1</th>\n",
       "      <td>2020-05-21-US-MTV-1</td>\n",
       "      <td>Pixel4</td>\n",
       "      <td>1274119794431</td>\n",
       "      <td>37.424354</td>\n",
       "      <td>-122.091865</td>\n",
       "      <td>37.424385</td>\n",
       "      <td>-122.091854</td>\n",
       "    </tr>\n",
       "    <tr>\n",
       "      <th>2</th>\n",
       "      <td>2020-05-21-US-MTV-1</td>\n",
       "      <td>Pixel4</td>\n",
       "      <td>1274119795431</td>\n",
       "      <td>37.424354</td>\n",
       "      <td>-122.091865</td>\n",
       "      <td>37.424393</td>\n",
       "      <td>-122.091849</td>\n",
       "    </tr>\n",
       "    <tr>\n",
       "      <th>3</th>\n",
       "      <td>2020-05-21-US-MTV-1</td>\n",
       "      <td>Pixel4</td>\n",
       "      <td>1274119796431</td>\n",
       "      <td>37.424354</td>\n",
       "      <td>-122.091865</td>\n",
       "      <td>37.424402</td>\n",
       "      <td>-122.091818</td>\n",
       "    </tr>\n",
       "    <tr>\n",
       "      <th>4</th>\n",
       "      <td>2020-05-21-US-MTV-1</td>\n",
       "      <td>Pixel4</td>\n",
       "      <td>1274119797431</td>\n",
       "      <td>37.424354</td>\n",
       "      <td>-122.091865</td>\n",
       "      <td>37.424418</td>\n",
       "      <td>-122.091795</td>\n",
       "    </tr>\n",
       "  </tbody>\n",
       "</table>\n",
       "</div>"
      ],
      "text/plain": [
       "        collectionName phoneName  millisSinceGpsEpoch  latDeg_truth  \\\n",
       "0  2020-05-21-US-MTV-1    Pixel4        1274119793431     37.424354   \n",
       "1  2020-05-21-US-MTV-1    Pixel4        1274119794431     37.424354   \n",
       "2  2020-05-21-US-MTV-1    Pixel4        1274119795431     37.424354   \n",
       "3  2020-05-21-US-MTV-1    Pixel4        1274119796431     37.424354   \n",
       "4  2020-05-21-US-MTV-1    Pixel4        1274119797431     37.424354   \n",
       "\n",
       "   lngDeg_truth  latDeg_basepred  lngDeg_basepred  \n",
       "0   -122.091865        37.424400      -122.091850  \n",
       "1   -122.091865        37.424385      -122.091854  \n",
       "2   -122.091865        37.424393      -122.091849  \n",
       "3   -122.091865        37.424402      -122.091818  \n",
       "4   -122.091865        37.424418      -122.091795  "
      ]
     },
     "metadata": {},
     "output_type": "display_data"
    }
   ],
   "source": [
    "truths = (data_path / 'train').rglob('ground_truth.csv')\n",
    "    # returns a generator\n",
    "\n",
    "df_list = []\n",
    "cols = ['collectionName', 'phoneName', 'millisSinceGpsEpoch', 'latDeg',\n",
    "       'lngDeg']\n",
    "\n",
    "for t in tqdm(truths, total=73):\n",
    "    df_phone = pd.read_csv(t, usecols=cols)  \n",
    "    df_list.append(df_phone)\n",
    "df_truth = pd.concat(df_list, ignore_index=True)\n",
    "\n",
    "df_basepreds = pd.read_csv(data_path / 'baseline_locations_train.csv', usecols=cols)\n",
    "\n",
    "\"\"\"\n",
    "basepredsとground_truthはカラム同じ。df_allではlat,lngを分けてマージしているため、カラムは2増える\n",
    "\"\"\"\n",
    "df_all = df_truth.merge(df_basepreds, how='inner', on=cols[:3], suffixes=('_truth', '_basepred'))\n",
    "display(df_all[:5])"
   ]
  },
  {
   "cell_type": "code",
   "execution_count": 7,
   "id": "18061994-bba2-42ea-b117-06e5ef01c808",
   "metadata": {},
   "outputs": [
    {
     "data": {
      "text/plain": [
       "2021-01-04-US-RWC-1    8293\n",
       "2021-01-04-US-RWC-2    7576\n",
       "2021-04-15-US-MTV-1    6905\n",
       "2020-09-04-US-SF-2     6108\n",
       "2021-04-28-US-MTV-1    5965\n",
       "2020-05-29-US-MTV-1    5751\n",
       "2021-04-22-US-SJC-1    5716\n",
       "2021-01-05-US-SVL-1    5640\n",
       "2020-07-08-US-MTV-1    5348\n",
       "2020-08-06-US-MTV-2    5283\n",
       "2020-09-04-US-SF-1     5214\n",
       "2020-06-04-US-MTV-1    5190\n",
       "2020-06-05-US-MTV-1    5157\n",
       "2021-04-29-US-MTV-1    4857\n",
       "2021-04-29-US-SJC-2    4700\n",
       "2021-04-28-US-SJC-1    4097\n",
       "2020-05-29-US-MTV-2    4009\n",
       "2020-08-03-US-MTV-1    3984\n",
       "2020-06-11-US-MTV-1    3764\n",
       "2020-05-21-US-MTV-2    3759\n",
       "2021-01-05-US-SVL-2    3648\n",
       "2020-06-05-US-MTV-2    3561\n",
       "2020-05-14-US-MTV-1    3486\n",
       "2021-03-10-US-SVL-1    3046\n",
       "2020-05-14-US-MTV-2    2347\n",
       "2020-07-17-US-MTV-1    2095\n",
       "2021-04-26-US-SVL-1    2070\n",
       "2020-05-21-US-MTV-1    2031\n",
       "2020-07-17-US-MTV-2    1742\n",
       "Name: collectionName, dtype: int64"
      ]
     },
     "execution_count": 7,
     "metadata": {},
     "output_type": "execute_result"
    }
   ],
   "source": [
    "df_truth['collectionName'].value_counts()"
   ]
  },
  {
   "cell_type": "code",
   "execution_count": 9,
   "id": "0ce146a7-42a2-412b-96e7-a3ace082dd09",
   "metadata": {},
   "outputs": [
    {
     "data": {
      "text/plain": [
       "2021-01-04-US-RWC-1    8293\n",
       "2021-01-04-US-RWC-2    7576\n",
       "2021-04-15-US-MTV-1    6905\n",
       "2020-09-04-US-SF-2     6108\n",
       "2021-04-28-US-MTV-1    5965\n",
       "2020-05-29-US-MTV-1    5751\n",
       "2021-04-22-US-SJC-1    5716\n",
       "2021-01-05-US-SVL-1    5640\n",
       "2020-07-08-US-MTV-1    5348\n",
       "2020-08-06-US-MTV-2    5283\n",
       "2020-09-04-US-SF-1     5214\n",
       "2020-06-04-US-MTV-1    5190\n",
       "2020-06-05-US-MTV-1    5157\n",
       "2021-04-29-US-MTV-1    4857\n",
       "2021-04-29-US-SJC-2    4700\n",
       "2021-04-28-US-SJC-1    4097\n",
       "2020-05-29-US-MTV-2    4009\n",
       "2020-08-03-US-MTV-1    3984\n",
       "2020-06-11-US-MTV-1    3764\n",
       "2020-05-21-US-MTV-2    3759\n",
       "2021-01-05-US-SVL-2    3648\n",
       "2020-06-05-US-MTV-2    3561\n",
       "2020-05-14-US-MTV-1    3486\n",
       "2021-03-10-US-SVL-1    3046\n",
       "2020-05-14-US-MTV-2    2347\n",
       "2020-07-17-US-MTV-1    2095\n",
       "2021-04-26-US-SVL-1    2070\n",
       "2020-05-21-US-MTV-1    2031\n",
       "2020-07-17-US-MTV-2    1742\n",
       "Name: collectionName, dtype: int64"
      ]
     },
     "execution_count": 9,
     "metadata": {},
     "output_type": "execute_result"
    }
   ],
   "source": [
    "df_basepreds['collectionName'].value_counts()"
   ]
  },
  {
   "cell_type": "code",
   "execution_count": 12,
   "id": "9c724a5d-cbea-4379-b7e5-7ffd9d7caac0",
   "metadata": {},
   "outputs": [
    {
     "data": {
      "text/plain": [
       "2021-01-04-US-RWC-1    8293\n",
       "2021-01-04-US-RWC-2    7576\n",
       "2021-04-15-US-MTV-1    6905\n",
       "2020-09-04-US-SF-2     6108\n",
       "2021-04-28-US-MTV-1    5965\n",
       "2020-05-29-US-MTV-1    5751\n",
       "2021-04-22-US-SJC-1    5716\n",
       "2021-01-05-US-SVL-1    5640\n",
       "2020-07-08-US-MTV-1    5348\n",
       "2020-08-06-US-MTV-2    5283\n",
       "2020-09-04-US-SF-1     5214\n",
       "2020-06-04-US-MTV-1    5190\n",
       "2020-06-05-US-MTV-1    5157\n",
       "2021-04-29-US-MTV-1    4857\n",
       "2021-04-29-US-SJC-2    4700\n",
       "2021-04-28-US-SJC-1    4097\n",
       "2020-05-29-US-MTV-2    4009\n",
       "2020-08-03-US-MTV-1    3984\n",
       "2020-06-11-US-MTV-1    3764\n",
       "2020-05-21-US-MTV-2    3759\n",
       "2021-01-05-US-SVL-2    3648\n",
       "2020-06-05-US-MTV-2    3561\n",
       "2020-05-14-US-MTV-1    3486\n",
       "2021-03-10-US-SVL-1    3046\n",
       "2020-05-14-US-MTV-2    2347\n",
       "2020-07-17-US-MTV-1    2095\n",
       "2021-04-26-US-SVL-1    2070\n",
       "2020-05-21-US-MTV-1    2031\n",
       "2020-07-17-US-MTV-2    1742\n",
       "Name: collectionName, dtype: int64"
      ]
     },
     "execution_count": 12,
     "metadata": {},
     "output_type": "execute_result"
    }
   ],
   "source": [
    "df_all['collectionName'].value_counts()"
   ]
  },
  {
   "cell_type": "code",
   "execution_count": 13,
   "id": "89ea2249-a153-4ae0-a0c3-0eb2bf91610c",
   "metadata": {},
   "outputs": [
    {
     "data": {
      "text/plain": [
       "(131342, 7)"
      ]
     },
     "execution_count": 13,
     "metadata": {},
     "output_type": "execute_result"
    }
   ],
   "source": [
    "df_all.shape"
   ]
  },
  {
   "cell_type": "code",
   "execution_count": 15,
   "id": "735234db-38cc-4e3f-bbd1-751620c6c4e1",
   "metadata": {},
   "outputs": [
    {
     "data": {
      "text/plain": [
       "Index(['collectionName', 'phoneName', 'millisSinceGpsEpoch', 'latDeg',\n",
       "       'lngDeg'],\n",
       "      dtype='object')"
      ]
     },
     "execution_count": 15,
     "metadata": {},
     "output_type": "execute_result"
    }
   ],
   "source": [
    "df_basepreds.columns"
   ]
  },
  {
   "cell_type": "code",
   "execution_count": 17,
   "id": "a5bba9a0-80ea-4638-8304-8bfb4830faac",
   "metadata": {},
   "outputs": [
    {
     "data": {
      "text/plain": [
       "Index(['collectionName', 'phoneName', 'millisSinceGpsEpoch', 'latDeg_truth',\n",
       "       'lngDeg_truth', 'latDeg_basepred', 'lngDeg_basepred'],\n",
       "      dtype='object')"
      ]
     },
     "execution_count": 17,
     "metadata": {},
     "output_type": "execute_result"
    }
   ],
   "source": [
    "df_all.columns"
   ]
  }
 ],
 "metadata": {
  "kernelspec": {
   "display_name": "Python 3",
   "language": "python",
   "name": "python3"
  },
  "language_info": {
   "codemirror_mode": {
    "name": "ipython",
    "version": 3
   },
   "file_extension": ".py",
   "mimetype": "text/x-python",
   "name": "python",
   "nbconvert_exporter": "python",
   "pygments_lexer": "ipython3",
   "version": "3.7.4"
  }
 },
 "nbformat": 4,
 "nbformat_minor": 5
}
