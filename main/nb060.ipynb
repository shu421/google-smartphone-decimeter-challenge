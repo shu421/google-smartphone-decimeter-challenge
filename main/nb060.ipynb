{
 "cells": [
  {
   "cell_type": "code",
   "execution_count": 1,
   "metadata": {},
   "outputs": [
    {
     "name": "stderr",
     "output_type": "stream",
     "text": [
      "/Users/shugo/Desktop/Competitions/kaggle/outdoor/venv_outdoor/lib/python3.7/site-packages/geopandas/_compat.py:110: UserWarning: The Shapely GEOS version (3.8.0-CAPI-1.13.1 ) is incompatible with the GEOS version PyGEOS was compiled with (3.9.1-CAPI-1.14.2). Conversions between both will be slow.\n",
      "  shapely_geos_version, geos_capi_version_string\n"
     ]
    }
   ],
   "source": [
    "import numpy as np \n",
    "import pandas as pd\n",
    "import seaborn as sns\n",
    "\n",
    "import matplotlib.pyplot as plt\n",
    "import plotly.figure_factory as ff\n",
    "import plotly.express as px\n",
    "%matplotlib inline"
   ]
  },
  {
   "cell_type": "code",
   "execution_count": 2,
   "metadata": {},
   "outputs": [],
   "source": [
    "def ensembling(main, support, coeff1, coeff2): \n",
    "    \n",
    "    suba  = main.copy() \n",
    "    subav = suba.values\n",
    "       \n",
    "    subb  = support.copy()\n",
    "    subbv = subb.values    \n",
    "           \n",
    "    ense  = main.copy()    \n",
    "    ensev = ense.values  \n",
    " \n",
    "    for i in range (len(main)):\n",
    "        \n",
    "        pera1 = subav[i, 2]\n",
    "        pera2 = subav[i, 3]\n",
    "        \n",
    "        perb1 = subbv[i, 2]\n",
    "        perb2 = subbv[i, 3]\n",
    "\n",
    "        per1 = (pera1 * coeff1) + (perb1 * (1.0 - coeff1))\n",
    "        per2 = (pera2 * coeff2) + (perb2 * (1.0 - coeff2))\n",
    "        \n",
    "        ensev[i, 2] = per1\n",
    "        ensev[i, 3] = per2\n",
    "        \n",
    "    ense.iloc[:, 2:] = ensev[:, 2:]  \n",
    "  \n",
    "    return ense "
   ]
  },
  {
   "cell_type": "code",
   "execution_count": null,
   "metadata": {},
   "outputs": [],
   "source": [
    "path1 = '../input/gsdc5639/submission.csv' \n",
    "\n",
    "sub5639 = pd.read_csv(path1)\n",
    "\n",
    "path2 = '../input/gsdc5370/submission.csv' \n",
    "\n",
    "sub5370 = pd.read_csv(path2)\n",
    "\n",
    "path = [path0, path1, path2]"
   ]
  },
  {
   "cell_type": "code",
   "execution_count": null,
   "metadata": {},
   "outputs": [],
   "source": [
    "sub1 = ensembling(sub5639, sub6027, 0.25, 0.60)\n",
    "\n",
    "sub2 = ensembling(sub5370,    sub1, 0.50, 0.60)"
   ]
  },
  {
   "cell_type": "code",
   "execution_count": null,
   "metadata": {},
   "outputs": [],
   "source": [
    "sub1.to_csv(\"submission1.csv\",index=False)\n",
    "sub2.to_csv(\"submission2.csv\",index=False)"
   ]
  }
 ],
 "metadata": {
  "kernelspec": {
   "display_name": "Python 3.7.4 64-bit ('venv_outdoor': venv)",
   "metadata": {
    "interpreter": {
     "hash": "bd00b75c79969edcf008edd1fd5973862c0c93beffacd004fb7d75ad6fcb357f"
    }
   },
   "name": "python3"
  },
  "language_info": {
   "codemirror_mode": {
    "name": "ipython",
    "version": 3
   },
   "file_extension": ".py",
   "mimetype": "text/x-python",
   "name": "python",
   "nbconvert_exporter": "python",
   "pygments_lexer": "ipython3",
   "version": "3.7.4"
  },
  "orig_nbformat": 2
 },
 "nbformat": 4,
 "nbformat_minor": 2
}