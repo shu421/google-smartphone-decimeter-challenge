{
 "cells": [
  {
   "cell_type": "code",
   "execution_count": 2,
   "id": "ad6bf892-4c27-4d37-8a8b-432f097037f9",
   "metadata": {},
   "outputs": [],
   "source": [
    "import simdkalman\n",
    "import numpy as np\n",
    "\n",
    "kf = simdkalman.KalmanFilter(\n",
    "    state_transition = [[1,1],[0,1]],        # matrix A\n",
    "    process_noise = np.diag([0.1, 0.01]),    # Q\n",
    "    observation_model = np.array([[1,0]]),   # H\n",
    "    observation_noise = 1.0)                 # R"
   ]
  },
  {
   "cell_type": "code",
   "execution_count": 3,
   "id": "e228cb0c-3bc0-4fed-afd1-fbf90604549f",
   "metadata": {},
   "outputs": [],
   "source": [
    "import numpy.random as random\n",
    "\n",
    "# 100 independent time series\n",
    "data = random.normal(size=(100, 200))\n",
    "\n",
    "# with 10% of NaNs denoting missing values\n",
    "data[random.uniform(size=data.shape) < 0.1] = np.nan"
   ]
  },
  {
   "cell_type": "code",
   "execution_count": 4,
   "id": "27e12fca-4ede-4cfd-8c73-66b9a688ba34",
   "metadata": {},
   "outputs": [
    {
     "name": "stdout",
     "output_type": "stream",
     "text": [
      "mean\n",
      "[ 0.50293214 -0.11386827]\n",
      "covariance\n",
      "[[ 0.21466367 -0.01050228]\n",
      " [-0.01050228  0.02598924]]\n"
     ]
    }
   ],
   "source": [
    "smoothed = kf.smooth(data,\n",
    "                     initial_value = [1,0],\n",
    "                     initial_covariance = np.eye(2) * 0.5)\n",
    "\n",
    "# second timeseries, third time step, hidden state x\n",
    "print('mean')\n",
    "print(smoothed.states.mean[1,2,:])\n",
    "\n",
    "print('covariance')\n",
    "print(smoothed.states.cov[1,2,:,:])"
   ]
  },
  {
   "cell_type": "code",
   "execution_count": 5,
   "id": "f8d5c850-cc4c-4a13-a39c-3a568e4a50af",
   "metadata": {},
   "outputs": [
    {
     "name": "stdout",
     "output_type": "stream",
     "text": [
      "0.478222 +- 1.65166\n"
     ]
    }
   ],
   "source": [
    "predicted = kf.predict(data[1,:], 123)\n",
    "\n",
    "# predicted observation y, third new time step\n",
    "pred_mean = predicted.observations.mean[2]\n",
    "pred_stdev = np.sqrt(predicted.observations.cov[2])\n",
    "\n",
    "print('%g +- %g' % (pred_mean, pred_stdev))\n"
   ]
  },
  {
   "cell_type": "code",
   "execution_count": null,
   "id": "5407aa6c-b7c4-441d-b2ff-a4db1316d8d6",
   "metadata": {},
   "outputs": [],
   "source": []
  }
 ],
 "metadata": {
  "kernelspec": {
   "display_name": "Python 3",
   "language": "python",
   "name": "python3"
  },
  "language_info": {
   "codemirror_mode": {
    "name": "ipython",
    "version": 3
   },
   "file_extension": ".py",
   "mimetype": "text/x-python",
   "name": "python",
   "nbconvert_exporter": "python",
   "pygments_lexer": "ipython3",
   "version": "3.7.4"
  }
 },
 "nbformat": 4,
 "nbformat_minor": 5
}
