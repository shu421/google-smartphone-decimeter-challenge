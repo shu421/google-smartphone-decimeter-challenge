{
 "cells": [
  {
   "cell_type": "code",
   "execution_count": 1,
   "metadata": {},
   "outputs": [
    {
     "name": "stderr",
     "output_type": "stream",
     "text": [
      "/Users/shugo/Desktop/Competitions/kaggle/outdoor/venv_outdoor/lib/python3.7/site-packages/geopandas/_compat.py:110: UserWarning: The Shapely GEOS version (3.8.0-CAPI-1.13.1 ) is incompatible with the GEOS version PyGEOS was compiled with (3.9.1-CAPI-1.14.2). Conversions between both will be slow.\n",
      "  shapely_geos_version, geos_capi_version_string\n"
     ]
    },
    {
     "name": "stdout",
     "output_type": "stream",
     "text": [
      "INFO: Pandarallel will run on 8 workers.\n",
      "INFO: Pandarallel will use standard multiprocessing data transfer (pipe) to transfer data between the main process and workers.\n"
     ]
    }
   ],
   "source": [
    "import numpy as np\n",
    "import pandas as pd\n",
    "import glob\n",
    "import os\n",
    "import matplotlib.pyplot as plt\n",
    "from tqdm.notebook import tqdm\n",
    "from pathlib import Path\n",
    "import plotly.express as px\n",
    "\n",
    "import gc\n",
    "import optuna\n",
    "\n",
    "from shapely.geometry import Point\n",
    "import osmnx as ox\n",
    "import momepy\n",
    "import geopandas as gpd\n",
    "import folium\n",
    "\n",
    "from pandarallel import pandarallel\n",
    "pandarallel.initialize()"
   ]
  },
  {
   "cell_type": "code",
   "execution_count": 2,
   "metadata": {},
   "outputs": [],
   "source": [
    "def calc_haversine(lat1, lon1, lat2, lon2):\n",
    "    \"\"\"Calculates the great circle distance between two points\n",
    "    on the earth. Inputs are array-like and specified in decimal degrees.\n",
    "    \"\"\"\n",
    "    RADIUS = 6_367_000\n",
    "    lat1, lon1, lat2, lon2 = map(np.radians, [lat1, lon1, lat2, lon2])\n",
    "    dlat = lat2 - lat1\n",
    "    dlon = lon2 - lon1\n",
    "    a = np.sin(dlat/2)**2 + \\\n",
    "        np.cos(lat1) * np.cos(lat2) * np.sin(dlon/2)**2\n",
    "    dist = 2 * RADIUS * np.arcsin(a**0.5)\n",
    "    return dist\n",
    "\n",
    "def percentile50(x):\n",
    "    return np.percentile(x, 50)\n",
    "def percentile95(x):\n",
    "    return np.percentile(x, 95)\n",
    "\n",
    "def get_train_score(df, gt):\n",
    "    gt = gt.rename(columns={'latDeg':'latDeg_gt', 'lngDeg':'lngDeg_gt'})\n",
    "    # df = df.merge(gt, on=['collectionName', 'phoneName', 'millisSinceGpsEpoch'], how='inner')\n",
    "    df = df.merge(gt, on=['phone', 'millisSinceGpsEpoch'], how='inner')\n",
    "    # calc_distance_error\n",
    "    df['err'] = calc_haversine(df['latDeg_gt'], df['lngDeg_gt'], df['latDeg'], df['lngDeg'])\n",
    "    # calc_evaluate_score\n",
    "    # df['phone'] = df['collectionName'] + '_' + df['phoneName']\n",
    "    res = df.groupby('phone')['err'].agg([percentile50, percentile95]) # phoneによってgroupbyし、gtと予測値の差(err)の50%,95%値を求める\n",
    "    res['p50_p90_mean'] = (res['percentile50'] + res['percentile95']) / 2 \n",
    "    score = res['p50_p90_mean'].mean()\n",
    "    return score\n",
    "\n",
    "def get_all_train_score(df):\n",
    "    # calc_distance_error\n",
    "    df['err'] = calc_haversine(df['latDeg_gt'], df['lngDeg_gt'], df['latDeg'], df['lngDeg'])\n",
    "    # calc_evaluate_score\n",
    "    # df['phone'] = df['collectionName'] + '_' + df['phoneName']\n",
    "    res = df.groupby('phone')['err'].agg([percentile50, percentile95]) # phoneによってgroupbyし、gtと予測値の差(err)の50%,95%値を求める\n",
    "    res['p50_p90_mean'] = (res['percentile50'] + res['percentile95']) / 2 \n",
    "    score = res['p50_p90_mean'].mean()\n",
    "    return score"
   ]
  },
  {
   "cell_type": "code",
   "execution_count": 3,
   "metadata": {},
   "outputs": [],
   "source": [
    "def find_closest_point(point, points, max_thr=19, min_thr=16):\n",
    "    \"\"\" Find closest point from a list of points. \"\"\"\n",
    "    df_ = pd.DataFrame({'latDeg':point['latDeg'].repeat(len(points)), \n",
    "                        'lngDeg':point['lngDeg'].repeat(len(points))},\n",
    "                        columns=['latDeg', 'lngDeg'])\n",
    "    # return minimum distance points\n",
    "    distance = calc_haversine(points['latDeg'], points['lngDeg'],\n",
    "                                 df_['latDeg'], df_['lngDeg']).min()\n",
    "    if min_thr <= distance <= max_thr:\n",
    "        return points.loc[calc_haversine(points['latDeg'], points['lngDeg'],\n",
    "                            df_['latDeg'], df_['lngDeg']).argmin()]\n",
    "\n",
    "\n",
    "def apply_grid_point(x, closest_point):\n",
    "    '''\n",
    "    input: \n",
    "        x: train row\n",
    "        closest_point: closest point or None\n",
    "    '''\n",
    "    idx = x.name\n",
    "    closest_point1 = closest_point[closest_point.index==idx]\n",
    "    if closest_point1.isnull().values == True:\n",
    "        pass\n",
    "    else:\n",
    "        x['latDeg'] = closest_point1.values[0]['latDeg']\n",
    "        x['lngDeg'] = closest_point1.values[0]['lngDeg']\n",
    "    return x"
   ]
  },
  {
   "cell_type": "code",
   "execution_count": 4,
   "metadata": {},
   "outputs": [
    {
     "data": {
      "application/vnd.jupyter.widget-view+json": {
       "model_id": "66e1be1bf5504addaed4ae68adaf8be6",
       "version_major": 2,
       "version_minor": 0
      },
      "text/plain": "  0%|          | 0/73 [00:00<?, ?it/s]"
     },
     "metadata": {},
     "output_type": "display_data"
    }
   ],
   "source": [
    "data_dir = Path(\"../input/google-smartphone-decimeter-challenge\")\n",
    "# train_df = pd.read_csv(data_dir / \"baseline_locations_train.csv\")\n",
    "train_df = pd.read_csv('../output/filtered_nb046.csv')\n",
    "train_df['collectionName'] = train_df['phone'].apply(lambda x: x.split('_')[0])\n",
    "train_df['phoneName'] = train_df['phone'].apply(lambda x: x.split('_')[1])\n",
    "\n",
    "# get all ground truth dataframe\n",
    "gt_df = pd.DataFrame()\n",
    "for (collection_name, phone_name), df in tqdm(train_df.groupby([\"collectionName\", \"phoneName\"])):\n",
    "    path = data_dir / f\"train/{collection_name}/{phone_name}/ground_truth.csv\"\n",
    "    df = pd.read_csv(path)  \n",
    "    gt_df = pd.concat([gt_df, df]).reset_index(drop=True)   "
   ]
  },
  {
   "cell_type": "markdown",
   "metadata": {},
   "source": [
    "# preprocessing"
   ]
  },
  {
   "cell_type": "code",
   "execution_count": 6,
   "metadata": {},
   "outputs": [],
   "source": [
    "collection_uniq = train_df['collectionName'].unique()\n",
    "MTV = [i for i in collection_uniq if 'MTV' in i]\n",
    "SF = [i for i in collection_uniq if 'SF' in i]\n",
    "RWC = [i for i in collection_uniq if 'RWC' in i]\n",
    "SVL = [i for i in collection_uniq if 'SVL' in i]\n",
    "SJC = [i for i in collection_uniq if 'SJC' in i]\n",
    "collections = [SJC]"
   ]
  },
  {
   "cell_type": "code",
   "execution_count": 7,
   "metadata": {},
   "outputs": [
    {
     "name": "stderr",
     "output_type": "stream",
     "text": [
      "/Users/shugo/Desktop/Competitions/kaggle/outdoor/venv_outdoor/lib/python3.7/site-packages/momepy/utils.py:418: UserWarning: Approach is not set. Defaulting to 'primal'.\n",
      "  warnings.warn(\"Approach is not set. Defaulting to 'primal'.\")\n",
      "ipykernel_launcher:43: UserWarning: Geometry is in a geographic CRS. Results from 'distance' are likely incorrect. Use 'GeoSeries.to_crs()' to re-project geometries to a projected CRS before this operation.\n",
      "\n",
      "ipykernel_launcher:43: UserWarning: CRS mismatch between the CRS of left geometries and the CRS of right geometries.\n",
      "Use `to_crs()` to reproject one of the input geometries to match the CRS of the other.\n",
      "\n",
      "Left CRS: EPSG:4326\n",
      "Right CRS: None\n",
      "\n"
     ]
    }
   ],
   "source": [
    "target_collection = SJC[1]\n",
    "target_gt_df = gt_df[gt_df[\"collectionName\"]==target_collection].reset_index(drop=True)\n",
    "# for scoring\n",
    "target_gt_df['phone'] = target_gt_df['collectionName'] + '_' + target_gt_df['phoneName']\n",
    "\n",
    "train = train_df[train_df['collectionName']==target_collection]\n",
    "\n",
    "# change pd.DataFrame -> gpd.GeoDataFrame\n",
    "target_gt_df[\"geometry\"] = [Point(p) for p in target_gt_df[[\"lngDeg\", \"latDeg\"]].to_numpy()]\n",
    "target_gt_gdf = gpd.GeoDataFrame(target_gt_df, geometry=target_gt_df[\"geometry\"])\n",
    "\n",
    "# get road data from open street map by osmnx\n",
    "offset = 0.1**5\n",
    "bbox = target_gt_gdf.bounds + [-offset, -offset, offset, offset]\n",
    "east = bbox[\"minx\"].min()\n",
    "west = bbox[\"maxx\"].max()\n",
    "south = bbox[\"miny\"].min()\n",
    "north = bbox[\"maxy\"].max()\n",
    "G = ox.graph.graph_from_bbox(north, south, east, west, network_type='drive')\n",
    "\n",
    "\n",
    "nodes, edges = momepy.nx_to_gdf(G)\n",
    "\n",
    "\n",
    "edges = edges.dropna(subset=[\"geometry\"]).reset_index(drop=True)\n",
    "hits = bbox.apply(lambda row: list(edges.sindex.intersection(row)), axis=1)\n",
    "tmp = pd.DataFrame({\n",
    "    # index of points table\n",
    "    \"pt_idx\": np.repeat(hits.index, hits.apply(len)),\n",
    "    # ordinal position of line - access via iloc later\n",
    "    \"line_i\": np.concatenate(hits.values)\n",
    "})\n",
    "# Join back to the lines on line_i; we use reset_index() to \n",
    "# give us the ordinal position of each line\n",
    "tmp = tmp.join(edges.reset_index(drop=True), on=\"line_i\")\n",
    "# Join back to the original points to get their geometry\n",
    "# rename the point geometry as \"point\"\n",
    "tmp = tmp.join(target_gt_gdf.geometry.rename(\"point\"), on=\"pt_idx\")\n",
    "# Convert back to a GeoDataFrame, so we can do spatial ops\n",
    "tmp = gpd.GeoDataFrame(tmp, geometry=\"geometry\", crs=target_gt_gdf.crs)\n",
    "\n",
    "\n",
    "tmp[\"snap_dist\"] = tmp.geometry.distance(gpd.GeoSeries(tmp.point))\n",
    "\n",
    "# Discard any lines that are greater than tolerance from points\n",
    "tolerance = 0.0005  \n",
    "tmp = tmp.loc[tmp.snap_dist <= tolerance]\n",
    "# Sort on ascending snap distance, so that closest goes to top\n",
    "tmp = tmp.sort_values(by=[\"snap_dist\"])\n",
    "\n",
    "# group by the index of the points and take the first, which is the\n",
    "# closest line \n",
    "closest = tmp.groupby(\"pt_idx\").first()\n",
    "# construct a GeoDataFrame of the closest lines\n",
    "closest = gpd.GeoDataFrame(closest, geometry=\"geometry\")\n",
    "closest = closest.drop_duplicates(\"line_i\").reset_index(drop=True)\n",
    "\n",
    "\n",
    "line_points_list = []\n",
    "split = 50  # param: number of split in each LineString\n",
    "for dist in range(0, split, 1):\n",
    "    dist = dist/split\n",
    "    line_points = closest[\"geometry\"].interpolate(dist, normalized=True)\n",
    "    line_points_list.append(line_points)\n",
    "line_points = pd.concat(line_points_list).reset_index(drop=True)\n",
    "line_points = line_points.reset_index().rename(columns={0:\"geometry\"})\n",
    "line_points[\"lngDeg\"] = line_points[\"geometry\"].x\n",
    "line_points[\"latDeg\"] = line_points[\"geometry\"].y"
   ]
  },
  {
   "cell_type": "code",
   "execution_count": 8,
   "metadata": {},
   "outputs": [],
   "source": [
    "train = train_df.copy()\n",
    "train = train[train['collectionName']==target_collection]\n",
    "train1 = train.copy()\n",
    "# parallel applyをすると出力が変わり、エラーが出る\n",
    "closest_point = train1[['latDeg','lngDeg']].apply(lambda x: find_closest_point(x, line_points[['latDeg', 'lngDeg']], max_thr=19, min_thr=16), axis=1)\n",
    "train1[['latDeg', 'lngDeg']] = train1[['latDeg', 'lngDeg']].parallel_apply(apply_grid_point, closest_point=closest_point, axis=1)"
   ]
  },
  {
   "cell_type": "code",
   "execution_count": 9,
   "metadata": {},
   "outputs": [
    {
     "name": "stdout",
     "output_type": "stream",
     "text": [
      "14.898988862403762\n",
      "14.701296923190238\n"
     ]
    }
   ],
   "source": [
    "print(get_train_score(train_df, target_gt_df))\n",
    "print(get_train_score(train1, target_gt_df))"
   ]
  },
  {
   "cell_type": "code",
   "execution_count": 85,
   "metadata": {},
   "outputs": [
    {
     "name": "stderr",
     "output_type": "stream",
     "text": [
      "/Users/shugo/Desktop/Competitions/kaggle/outdoor/venv_outdoor/lib/python3.7/site-packages/momepy/utils.py:418: UserWarning: Approach is not set. Defaulting to 'primal'.\n",
      "  warnings.warn(\"Approach is not set. Defaulting to 'primal'.\")\n",
      "ipykernel_launcher:49: UserWarning: Geometry is in a geographic CRS. Results from 'distance' are likely incorrect. Use 'GeoSeries.to_crs()' to re-project geometries to a projected CRS before this operation.\n",
      "\n",
      "ipykernel_launcher:49: UserWarning: CRS mismatch between the CRS of left geometries and the CRS of right geometries.\n",
      "Use `to_crs()` to reproject one of the input geometries to match the CRS of the other.\n",
      "\n",
      "Left CRS: EPSG:4326\n",
      "Right CRS: None\n",
      "\n",
      "\u001b[32m[I 2021-07-25 20:28:55,064]\u001b[0m A new study created in memory with name: no-name-399e864c-e596-438c-97a0-8fa09d84fbac\u001b[0m\n"
     ]
    },
    {
     "name": "stdout",
     "output_type": "stream",
     "text": [
      "original score: 15.734804800549322\n"
     ]
    },
    {
     "name": "stderr",
     "output_type": "stream",
     "text": [
      "\u001b[32m[I 2021-07-25 20:30:06,015]\u001b[0m Trial 0 finished with value: 14.252638818159372 and parameters: {'X': 27}. Best is trial 0 with value: 14.252638818159372.\u001b[0m\n",
      "\u001b[32m[I 2021-07-25 20:31:14,500]\u001b[0m Trial 1 finished with value: 15.31097822296365 and parameters: {'X': 37}. Best is trial 0 with value: 14.252638818159372.\u001b[0m\n"
     ]
    },
    {
     "name": "stdout",
     "output_type": "stream",
     "text": [
      "2021-04-22-US-SJC-1 {'X': 27} 14.252638818159372\n"
     ]
    },
    {
     "name": "stderr",
     "output_type": "stream",
     "text": [
      "/Users/shugo/Desktop/Competitions/kaggle/outdoor/venv_outdoor/lib/python3.7/site-packages/momepy/utils.py:418: UserWarning: Approach is not set. Defaulting to 'primal'.\n",
      "  warnings.warn(\"Approach is not set. Defaulting to 'primal'.\")\n",
      "ipykernel_launcher:49: UserWarning: Geometry is in a geographic CRS. Results from 'distance' are likely incorrect. Use 'GeoSeries.to_crs()' to re-project geometries to a projected CRS before this operation.\n",
      "\n",
      "ipykernel_launcher:49: UserWarning: CRS mismatch between the CRS of left geometries and the CRS of right geometries.\n",
      "Use `to_crs()` to reproject one of the input geometries to match the CRS of the other.\n",
      "\n",
      "Left CRS: EPSG:4326\n",
      "Right CRS: None\n",
      "\n",
      "\u001b[32m[I 2021-07-25 20:31:19,764]\u001b[0m A new study created in memory with name: no-name-118798bd-2bc2-4981-b2fd-709f22105ae7\u001b[0m\n"
     ]
    },
    {
     "name": "stdout",
     "output_type": "stream",
     "text": [
      "original score: 14.898988862403762\n"
     ]
    },
    {
     "name": "stderr",
     "output_type": "stream",
     "text": [
      "\u001b[32m[I 2021-07-25 20:32:04,655]\u001b[0m Trial 0 finished with value: 16.33398552397798 and parameters: {'X': 37}. Best is trial 0 with value: 16.33398552397798.\u001b[0m\n",
      "\u001b[32m[I 2021-07-25 20:32:54,064]\u001b[0m Trial 1 finished with value: 16.33398552397798 and parameters: {'X': 26}. Best is trial 0 with value: 16.33398552397798.\u001b[0m\n"
     ]
    },
    {
     "name": "stdout",
     "output_type": "stream",
     "text": [
      "2021-04-28-US-SJC-1 {'X': 37} 16.33398552397798\n"
     ]
    },
    {
     "name": "stderr",
     "output_type": "stream",
     "text": [
      "/Users/shugo/Desktop/Competitions/kaggle/outdoor/venv_outdoor/lib/python3.7/site-packages/momepy/utils.py:418: UserWarning: Approach is not set. Defaulting to 'primal'.\n",
      "  warnings.warn(\"Approach is not set. Defaulting to 'primal'.\")\n",
      "ipykernel_launcher:49: UserWarning: Geometry is in a geographic CRS. Results from 'distance' are likely incorrect. Use 'GeoSeries.to_crs()' to re-project geometries to a projected CRS before this operation.\n",
      "\n",
      "ipykernel_launcher:49: UserWarning: CRS mismatch between the CRS of left geometries and the CRS of right geometries.\n",
      "Use `to_crs()` to reproject one of the input geometries to match the CRS of the other.\n",
      "\n",
      "Left CRS: EPSG:4326\n",
      "Right CRS: None\n",
      "\n",
      "\u001b[32m[I 2021-07-25 20:33:00,104]\u001b[0m A new study created in memory with name: no-name-8a5ca312-d5da-48de-be0b-e4b614622946\u001b[0m\n"
     ]
    },
    {
     "name": "stdout",
     "output_type": "stream",
     "text": [
      "original score: 12.501141483952647\n"
     ]
    },
    {
     "name": "stderr",
     "output_type": "stream",
     "text": [
      "\u001b[32m[I 2021-07-25 20:33:50,407]\u001b[0m Trial 0 finished with value: 14.585359649432977 and parameters: {'X': 33}. Best is trial 0 with value: 14.585359649432977.\u001b[0m\n",
      "\u001b[32m[I 2021-07-25 20:34:37,881]\u001b[0m Trial 1 finished with value: 14.692779746734674 and parameters: {'X': 34}. Best is trial 0 with value: 14.585359649432977.\u001b[0m\n"
     ]
    },
    {
     "name": "stdout",
     "output_type": "stream",
     "text": [
      "2021-04-29-US-SJC-2 {'X': 33} 14.585359649432977\n"
     ]
    }
   ],
   "source": [
    "for c in collection:\n",
    "    target_collection = c\n",
    "    train = train_df.copy()\n",
    "    train = train[train['collectionName']==c]\n",
    "    train1 = train.copy()\n",
    "\n",
    "    target_gt_df = gt_df[gt_df[\"collectionName\"]==target_collection].reset_index(drop=True)\n",
    "    # for scoring\n",
    "    target_gt_df['phone'] = target_gt_df['collectionName'] + '_' + target_gt_df['phoneName']\n",
    "\n",
    "    train = train_df[train_df['collectionName']==target_collection]\n",
    "\n",
    "    # change pd.DataFrame -> gpd.GeoDataFrame\n",
    "    target_gt_df[\"geometry\"] = [Point(p) for p in target_gt_df[[\"lngDeg\", \"latDeg\"]].to_numpy()]\n",
    "    target_gt_gdf = gpd.GeoDataFrame(target_gt_df, geometry=target_gt_df[\"geometry\"])\n",
    "\n",
    "    # get road data from open street map by osmnx\n",
    "    offset = 0.1**5\n",
    "    bbox = target_gt_gdf.bounds + [-offset, -offset, offset, offset]\n",
    "    east = bbox[\"minx\"].min()\n",
    "    west = bbox[\"maxx\"].max()\n",
    "    south = bbox[\"miny\"].min()\n",
    "    north = bbox[\"maxy\"].max()\n",
    "    G = ox.graph.graph_from_bbox(north, south, east, west, network_type='drive')\n",
    "\n",
    "\n",
    "    nodes, edges = momepy.nx_to_gdf(G)\n",
    "\n",
    "\n",
    "    edges = edges.dropna(subset=[\"geometry\"]).reset_index(drop=True)\n",
    "    hits = bbox.apply(lambda row: list(edges.sindex.intersection(row)), axis=1)\n",
    "    tmp = pd.DataFrame({\n",
    "        # index of points table\n",
    "        \"pt_idx\": np.repeat(hits.index, hits.apply(len)),\n",
    "        # ordinal position of line - access via iloc later\n",
    "        \"line_i\": np.concatenate(hits.values)\n",
    "    })\n",
    "    # Join back to the lines on line_i; we use reset_index() to \n",
    "    # give us the ordinal position of each line\n",
    "    tmp = tmp.join(edges.reset_index(drop=True), on=\"line_i\")\n",
    "    # Join back to the original points to get their geometry\n",
    "    # rename the point geometry as \"point\"\n",
    "    tmp = tmp.join(target_gt_gdf.geometry.rename(\"point\"), on=\"pt_idx\")\n",
    "    # Convert back to a GeoDataFrame, so we can do spatial ops\n",
    "    tmp = gpd.GeoDataFrame(tmp, geometry=\"geometry\", crs=target_gt_gdf.crs)\n",
    "\n",
    "\n",
    "    tmp[\"snap_dist\"] = tmp.geometry.distance(gpd.GeoSeries(tmp.point))\n",
    "\n",
    "    # Discard any lines that are greater than tolerance from points\n",
    "    tolerance = 0.0005  \n",
    "    tmp = tmp.loc[tmp.snap_dist <= tolerance]\n",
    "    # Sort on ascending snap distance, so that closest goes to top\n",
    "    tmp = tmp.sort_values(by=[\"snap_dist\"])\n",
    "\n",
    "    # group by the index of the points and take the first, which is the\n",
    "    # closest line \n",
    "    closest = tmp.groupby(\"pt_idx\").first()\n",
    "    # construct a GeoDataFrame of the closest lines\n",
    "    closest = gpd.GeoDataFrame(closest, geometry=\"geometry\")\n",
    "    closest = closest.drop_duplicates(\"line_i\").reset_index(drop=True)\n",
    "\n",
    "\n",
    "    line_points_list = []\n",
    "    split = 50  # param: number of split in each LineString\n",
    "    for dist in range(0, split, 1):\n",
    "        dist = dist/split\n",
    "        line_points = closest[\"geometry\"].interpolate(dist, normalized=True)\n",
    "        line_points_list.append(line_points)\n",
    "    line_points = pd.concat(line_points_list).reset_index(drop=True)\n",
    "    line_points = line_points.reset_index().rename(columns={0:\"geometry\"})\n",
    "    line_points[\"lngDeg\"] = line_points[\"geometry\"].x\n",
    "    line_points[\"latDeg\"] = line_points[\"geometry\"].y\n",
    "\n",
    "\n",
    "    def objective_snap_to_grid(trial):\n",
    "        X = trial.suggest_int('X', 15, 45)\n",
    "        closest_point = train1[['latDeg','lngDeg']].apply(lambda x: find_closest_point(x, line_points[['latDeg', 'lngDeg']], thr=X), axis=1)\n",
    "        train1[['latDeg', 'lngDeg']] = train1[['latDeg', 'lngDeg']].parallel_apply(apply_grid_point, closest_point=closest_point, axis=1)\n",
    "        score = get_train_score(train1, target_gt_df)\n",
    "        return score\n",
    "\n",
    "    print('original score:', get_train_score(train1, target_gt_df))\n",
    "    study = optuna.create_study()\n",
    "    study.optimize(objective_snap_to_grid, n_trials=30)\n",
    "    print(c, study.best_params, study.best_value)\n",
    "\n",
    "    del train\n",
    "    del train1\n",
    "    gc.collect()"
   ]
  },
  {
   "cell_type": "code",
   "execution_count": null,
   "metadata": {},
   "outputs": [],
   "source": []
  }
 ],
 "metadata": {
  "kernelspec": {
   "display_name": "Python 3.7.4  ('venv_outdoor': venv)",
   "metadata": {
    "interpreter": {
     "hash": "bd00b75c79969edcf008edd1fd5973862c0c93beffacd004fb7d75ad6fcb357f"
    }
   },
   "name": "python3"
  },
  "language_info": {
   "codemirror_mode": {
    "name": "ipython",
    "version": 3
   },
   "file_extension": ".py",
   "mimetype": "text/x-python",
   "name": "python",
   "nbconvert_exporter": "python",
   "pygments_lexer": "ipython3",
   "version": "3.7.4"
  },
  "orig_nbformat": 2
 },
 "nbformat": 4,
 "nbformat_minor": 2
}