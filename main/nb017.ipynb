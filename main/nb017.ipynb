{
 "cells": [
  {
   "cell_type": "markdown",
   "id": "bb9e7c28-7f98-4b2f-ad22-f239baaad745",
   "metadata": {},
   "source": [
    "# Position shift"
   ]
  },
  {
   "cell_type": "code",
   "execution_count": 4,
   "id": "7d4573c9-4955-4fdc-a9c6-6d87da215525",
   "metadata": {},
   "outputs": [
    {
     "output_type": "execute_result",
     "data": {
      "text/plain": [
       "count    131342.000000\n",
       "mean         87.028847\n",
       "std          56.999876\n",
       "min          31.160000\n",
       "25%          37.160000\n",
       "50%          63.520000\n",
       "75%         122.330000\n",
       "max         247.850000\n",
       "Name: heightAboveWgs84EllipsoidM, dtype: float64"
      ]
     },
     "metadata": {},
     "execution_count": 4
    }
   ],
   "source": [
    "import numpy as np\n",
    "import pandas as pd\n",
    "import os\n",
    "from pathlib import Path\n",
    "import pyproj\n",
    "from pyproj import Proj, transform # 地理的な位置を示す情報を扱うときに、座標系・測地系変換を行ったり、2点間の距離・方位角を計算したりできる。\n",
    "\n",
    "import optuna\n",
    "\n",
    "def calc_haversine(lat1, lon1, lat2, lon2):\n",
    "    RADIUS = 6_367_000 # 半径\n",
    "    lat1, lon1, lat2, lon2 = map(np.radians, [lat1, lon1, lat2, lon2])\n",
    "    dlat = lat2 - lat1\n",
    "    dlon = lon2 - lon1\n",
    "    a = np.sin(dlat/2)**2 + \\\n",
    "        np.cos(lat1) * np.cos(lat2) * np.sin(dlon/2)**2\n",
    "    dist = 2 * RADIUS * np.arcsin(a**0.5)\n",
    "    return dist # 現在地と真値との距離\n",
    "\n",
    "def compute_dist(fname, fname2 = 'gt.csv'):\n",
    "    oof = pd.read_csv(fname)\n",
    "    gt = pd.read_csv(fname2)\n",
    "    df = oof.merge(gt, on = ['phone', 'millisSinceGpsEpoch'])\n",
    "    dst_oof = calc_haversine(df.latDeg_x, df.lngDeg_x, df.latDeg_y, df.lngDeg_y)\n",
    "    scores = pd.DataFrame({'phone': df.phone, 'dst': dst_oof})\n",
    "    scores_grp = scores.groupby('phone') # phoneごとに距離誤差を算出\n",
    "    d50 = scores_grp.quantile(.50).reset_index()\n",
    "    d50.columns = ['phone','q50']\n",
    "    d95 = scores_grp.quantile(.95).reset_index()\n",
    "    d95.columns = ['phone', 'q95']\n",
    "    return (scores_grp.quantile(.50).mean() + scores_grp.quantile(.95).mean())/2, d50.merge(d95)\n",
    "\n",
    "def WGS84_to_ECEF(lat, lon, alt):\n",
    "    # convert to randians\n",
    "    rad_lat = lat * (np.pi / 180.0)\n",
    "    rad_lon = lon * (np.pi / 180.0)\n",
    "    a = 6378137.0 # 地球の長半径\n",
    "    # f is the flattening factor\n",
    "    finv = 298.257223563\n",
    "    f = 1 / finv\n",
    "    e2 = 1 - (1 - f) * (1 - f)\n",
    "    # N is the radius of curvature in the prime vertical\n",
    "    N = a / np.sqrt(1 - e2 * np.sin(rad_lat) * np.sin(rad_lat))\n",
    "    x = (N + alt) * np.cos(rad_lat) * np.cos(rad_lon)\n",
    "    y = (N + alt) * np.cos(rad_lat) * np.sin(rad_lon)\n",
    "    z = (N * (1 - e2) + alt)        * np.sin(rad_lat)\n",
    "    return x, y, z\n",
    "\n",
    "transformer = pyproj.Transformer.from_crs(\n",
    "    {\"proj\":\"geocent\", \"ellps\":\"WGS84\", \"datum\":\"WGS84\"},\n",
    "    {\"proj\":'latlong', \"ellps\":'WGS84', \"datum\":'WGS84'})\n",
    "\n",
    "\n",
    "\n",
    "def ECEF_to_WGS84(x,y,z):\n",
    "    lon, lat, alt = transformer.transform(x,y,z,radians=False)\n",
    "    return lon, lat, alt\n",
    "\n",
    "datadir = Path('../input/google-smartphone-decimeter-challenge/')\n",
    "testdir = datadir / 'test'\n",
    "traindir = datadir / 'train'\n",
    "\n",
    "sample_sub = pd.read_csv(datadir/'sample_submission.csv')\n",
    "sub_columns = sample_sub.columns\n",
    "\n",
    "# user_ouput = '../ouput/user_output/'\n",
    "baseline_train = pd.read_csv(datadir / 'baseline_locations_train.csv')\n",
    "baseline_train[sub_columns].to_csv('btrain.csv',index = False)\n",
    "baseline_test = pd.read_csv(datadir / 'baseline_locations_test.csv')\n",
    "baseline_test[sub_columns].to_csv('btest.csv',index = False)\n",
    "\n",
    "msge = 'millisSinceGpsEpoch'\n",
    "\n",
    "gt = pd.DataFrame()\n",
    "for d in os.listdir(traindir): # コレクションを一つずつ見る\n",
    "    for p in os.listdir(traindir/d): # phoneを一つずつ見る\n",
    "        gt = gt.append(pd.read_csv(traindir/d/p/'ground_truth.csv'))\n",
    "        \n",
    "gt['phone'] = gt['collectionName'] + '_' + gt['phoneName']\n",
    "gt[sub_columns].to_csv('gt.csv', index = False)\n",
    "gt['heightAboveWgs84EllipsoidM'].describe()"
   ]
  },
  {
   "cell_type": "code",
   "execution_count": null,
   "id": "fe44653c-9424-43ec-bd68-bc60eb76cf05",
   "metadata": {},
   "outputs": [],
   "source": [
    "score, scores = compute_dist('btrain.csv','gt.csv')\n",
    "print(score)\n",
    "scores"
   ]
  },
  {
   "cell_type": "code",
   "execution_count": 11,
   "id": "93cd000b-970d-456c-b838-8217d54c3d51",
   "metadata": {},
   "outputs": [],
   "source": [
    "def position_shift(fname, a):\n",
    "    \n",
    "    d = pd.read_csv(fname)\n",
    "    d['heightAboveWgs84EllipsoidM'] = 63.5\n",
    "    d['x'], d['y'], d['z'] = zip(*d.apply(lambda x: WGS84_to_ECEF(x.latDeg, x.lngDeg, x.heightAboveWgs84EllipsoidM), axis=1))\n",
    "    \n",
    "    # a = -0.2\n",
    "    d.sort_values(['phone', msge], inplace=True)\n",
    "    for fi in ['x','y','z']:\n",
    "        # 1つ下のphoneが同じところで\n",
    "        d[[fi+'p']] = d[fi].shift(1).where(d['phone'].eq(d['phone'].shift(1)))\n",
    "        # diff: 次の地点との差\n",
    "        d[[fi+'diff']] = d[fi] - d[fi+'p']\n",
    "    # dist: 次の地点との距離\n",
    "    d[['dist']] = np.sqrt(d['xdiff']**2 + d['ydiff']**2 + d['zdiff']**2)\n",
    "    for fi in ['x','y','z']:\n",
    "        d[[fi+'new']] = d[fi+'p'] + d[fi+'diff']*(1-a/d['dist'])\n",
    "    lng, lat, alt = ECEF_to_WGS84(d['xnew'].values, d['ynew'].values, d['znew'].values)\n",
    "    \n",
    "    \n",
    "    lng[np.isnan(lng)] = d.loc[np.isnan(lng),'lngDeg']\n",
    "    lat[np.isnan(lat)]  =d.loc[np.isnan(lat),'latDeg']\n",
    "    d['latDeg'] = lat\n",
    "    d['lngDeg'] = lng\n",
    "    \n",
    "    d.sort_values(['phone',msge], inplace=True)\n",
    "    '''\n",
    "    ffname = 'shifted_fname\n",
    "    d[sub_columns].to_csv(ffname, index=False)\n",
    "    return ffname\n",
    "    '''\n",
    "    return d[sub_columns]\n",
    "\n",
    "def objective(trial):\n",
    "    a = trial.suggest_uniform('a', -1, 1)\n",
    "    score, scores = compute_dist(position_shift('btrain.csv', a),'gt.csv')\n",
    "    return score"
   ]
  },
  {
   "cell_type": "code",
   "execution_count": 14,
   "id": "0d04d094-4ca7-4394-9b2a-fe572a0257ce",
   "metadata": {},
   "outputs": [
    {
     "name": "stderr",
     "output_type": "stream",
     "text": [
      "\u001b[32m[I 2021-06-13 16:47:07,314]\u001b[0m A new study created in memory with name: no-name-64a78885-ac22-4346-9d49-8c49c20eb55a\u001b[0m\n",
      "\u001b[32m[I 2021-06-13 16:47:14,240]\u001b[0m Trial 0 finished with value: 5.210776192950242 and parameters: {'a': 0.32732961296509044}. Best is trial 0 with value: 5.210776192950242.\u001b[0m\n",
      "\u001b[32m[I 2021-06-13 16:47:20,832]\u001b[0m Trial 1 finished with value: 5.191607573728321 and parameters: {'a': 0.5121084706173713}. Best is trial 1 with value: 5.191607573728321.\u001b[0m\n",
      "\u001b[32m[I 2021-06-13 16:47:27,506]\u001b[0m Trial 2 finished with value: 5.193063800543382 and parameters: {'a': 0.4797307221793101}. Best is trial 1 with value: 5.191607573728321.\u001b[0m\n",
      "\u001b[32m[I 2021-06-13 16:47:35,535]\u001b[0m Trial 3 finished with value: 5.190931813591363 and parameters: {'a': 0.5678369778818746}. Best is trial 3 with value: 5.190931813591363.\u001b[0m\n",
      "\u001b[32m[I 2021-06-13 16:47:42,850]\u001b[0m Trial 4 finished with value: 5.404028042059111 and parameters: {'a': -0.3283256518512281}. Best is trial 3 with value: 5.190931813591363.\u001b[0m\n",
      "\u001b[32m[I 2021-06-13 16:47:49,478]\u001b[0m Trial 5 finished with value: 5.448784652113682 and parameters: {'a': -0.43180225640756253}. Best is trial 3 with value: 5.190931813591363.\u001b[0m\n",
      "\u001b[32m[I 2021-06-13 16:47:56,294]\u001b[0m Trial 6 finished with value: 5.499948478216376 and parameters: {'a': -0.5402176609770719}. Best is trial 3 with value: 5.190931813591363.\u001b[0m\n",
      "\u001b[32m[I 2021-06-13 16:48:03,040]\u001b[0m Trial 7 finished with value: 5.7114546603711585 and parameters: {'a': -0.9272027175730895}. Best is trial 3 with value: 5.190931813591363.\u001b[0m\n",
      "\u001b[32m[I 2021-06-13 16:48:10,581]\u001b[0m Trial 8 finished with value: 5.198951948441443 and parameters: {'a': 0.8628698238560844}. Best is trial 3 with value: 5.190931813591363.\u001b[0m\n",
      "\u001b[32m[I 2021-06-13 16:48:17,821]\u001b[0m Trial 9 finished with value: 5.19282650052715 and parameters: {'a': 0.4867868203516512}. Best is trial 3 with value: 5.190931813591363.\u001b[0m\n",
      "\u001b[32m[I 2021-06-13 16:48:24,830]\u001b[0m Trial 10 finished with value: 5.2114322459671865 and parameters: {'a': 0.97568566397604}. Best is trial 3 with value: 5.190931813591363.\u001b[0m\n",
      "\u001b[32m[I 2021-06-13 16:48:31,539]\u001b[0m Trial 11 finished with value: 5.246734760640333 and parameters: {'a': 0.14638608306360634}. Best is trial 3 with value: 5.190931813591363.\u001b[0m\n",
      "\u001b[32m[I 2021-06-13 16:48:38,688]\u001b[0m Trial 12 finished with value: 5.189239555576787 and parameters: {'a': 0.7003928811236385}. Best is trial 12 with value: 5.189239555576787.\u001b[0m\n",
      "\u001b[32m[I 2021-06-13 16:48:45,564]\u001b[0m Trial 13 finished with value: 5.21193392322199 and parameters: {'a': 0.9794219085784166}. Best is trial 12 with value: 5.189239555576787.\u001b[0m\n",
      "\u001b[32m[I 2021-06-13 16:48:52,503]\u001b[0m Trial 14 finished with value: 5.196824374970365 and parameters: {'a': 0.8169427723833704}. Best is trial 12 with value: 5.189239555576787.\u001b[0m\n",
      "\u001b[32m[I 2021-06-13 16:48:59,411]\u001b[0m Trial 15 finished with value: 5.187856401387874 and parameters: {'a': 0.6786996255956835}. Best is trial 15 with value: 5.187856401387874.\u001b[0m\n",
      "\u001b[32m[I 2021-06-13 16:49:05,967]\u001b[0m Trial 16 finished with value: 5.246614547932479 and parameters: {'a': 0.14680984089303883}. Best is trial 15 with value: 5.187856401387874.\u001b[0m\n",
      "\u001b[32m[I 2021-06-13 16:49:12,651]\u001b[0m Trial 17 finished with value: 5.190394616500964 and parameters: {'a': 0.7138114999585972}. Best is trial 15 with value: 5.187856401387874.\u001b[0m\n",
      "\u001b[32m[I 2021-06-13 16:49:19,592]\u001b[0m Trial 18 finished with value: 5.3188211490149655 and parameters: {'a': -0.10371949017858562}. Best is trial 15 with value: 5.187856401387874.\u001b[0m\n",
      "\u001b[32m[I 2021-06-13 16:49:26,792]\u001b[0m Trial 19 finished with value: 5.188446447014602 and parameters: {'a': 0.6857451124552831}. Best is trial 15 with value: 5.187856401387874.\u001b[0m\n",
      "\u001b[32m[I 2021-06-13 16:49:33,788]\u001b[0m Trial 20 finished with value: 5.229922233826667 and parameters: {'a': 0.21998769111734084}. Best is trial 15 with value: 5.187856401387874.\u001b[0m\n",
      "\u001b[32m[I 2021-06-13 16:49:40,807]\u001b[0m Trial 21 finished with value: 5.187416642464177 and parameters: {'a': 0.6602905068929037}. Best is trial 21 with value: 5.187416642464177.\u001b[0m\n",
      "\u001b[32m[I 2021-06-13 16:49:47,679]\u001b[0m Trial 22 finished with value: 5.187720517303729 and parameters: {'a': 0.6749744630229617}. Best is trial 21 with value: 5.187416642464177.\u001b[0m\n",
      "\u001b[32m[I 2021-06-13 16:49:54,406]\u001b[0m Trial 23 finished with value: 5.201199217794731 and parameters: {'a': 0.38333191787297854}. Best is trial 21 with value: 5.187416642464177.\u001b[0m\n",
      "\u001b[32m[I 2021-06-13 16:50:01,322]\u001b[0m Trial 24 finished with value: 5.304587019459818 and parameters: {'a': -0.056769202678590425}. Best is trial 21 with value: 5.187416642464177.\u001b[0m\n",
      "\u001b[32m[I 2021-06-13 16:50:08,376]\u001b[0m Trial 25 finished with value: 5.211131609034281 and parameters: {'a': 0.9739914732657285}. Best is trial 21 with value: 5.187416642464177.\u001b[0m\n",
      "\u001b[32m[I 2021-06-13 16:50:15,052]\u001b[0m Trial 26 finished with value: 5.197551773160293 and parameters: {'a': 0.8277755614289106}. Best is trial 21 with value: 5.187416642464177.\u001b[0m\n",
      "\u001b[32m[I 2021-06-13 16:50:21,739]\u001b[0m Trial 27 finished with value: 5.188039684830208 and parameters: {'a': 0.6319250668740619}. Best is trial 21 with value: 5.187416642464177.\u001b[0m\n",
      "\u001b[32m[I 2021-06-13 16:50:28,524]\u001b[0m Trial 28 finished with value: 5.212395650545496 and parameters: {'a': 0.3187568229342013}. Best is trial 21 with value: 5.187416642464177.\u001b[0m\n",
      "\u001b[32m[I 2021-06-13 16:50:35,216]\u001b[0m Trial 29 finished with value: 5.208686323582048 and parameters: {'a': 0.3375208901191509}. Best is trial 21 with value: 5.187416642464177.\u001b[0m\n"
     ]
    }
   ],
   "source": [
    "study = optuna.create_study()\n",
    "study.optimize(objective, n_trials=30)"
   ]
  },
  {
   "cell_type": "markdown",
   "id": "d441b8b6-7fb3-432f-86de-1fad7390d020",
   "metadata": {},
   "source": [
    "{'a': 0.6602905068929037}: lb 5.531"
   ]
  },
  {
   "cell_type": "markdown",
   "id": "45f8e76a-1a11-46c8-935f-e122d16132da",
   "metadata": {},
   "source": [
    "## フィルター済みtrain"
   ]
  },
  {
   "cell_type": "code",
   "execution_count": 6,
   "id": "cd879e08-ebed-4762-b892-b7a1eee8343e",
   "metadata": {},
   "outputs": [],
   "source": [
    "input_file = '../output/filtered_nb016.csv'\n",
    "# filtered = position_shift(input_file, a=study.best_params['a'])\n",
    "filtered = position_shift(input_file, a=0.6602905068929037)\n",
    "filtered.to_csv('../output/filtered_nb017.csv', index=False)"
   ]
  },
  {
   "source": [
    "### nb023, nb016"
   ],
   "cell_type": "markdown",
   "metadata": {}
  },
  {
   "cell_type": "code",
   "execution_count": 7,
   "metadata": {},
   "outputs": [],
   "source": [
    "input_file = '../output/filtered_nb016_2.csv'\n",
    "# filtered = position_shift(input_file, a=study.best_params['a'])\n",
    "filtered = position_shift(input_file, a=0.6602905068929037)\n",
    "filtered.to_csv('../output/filtered_nb017_2.csv', index=False)"
   ]
  },
  {
   "cell_type": "markdown",
   "id": "2ecd5995-8a83-48e1-b394-4f0e8197cc2a",
   "metadata": {},
   "source": [
    "## submission"
   ]
  },
  {
   "cell_type": "markdown",
   "id": "b1474855-e47e-4906-815b-7e4dd3690ccb",
   "metadata": {},
   "source": [
    "1. phone mean predicion\n",
    "2. remove device\n",
    "3. position shift #######"
   ]
  },
  {
   "cell_type": "code",
   "execution_count": 20,
   "id": "2907e9af-82a0-4d79-88b6-8ebaa73bd392",
   "metadata": {},
   "outputs": [],
   "source": [
    "input_file = '../output/sub_nb016.csv'\n",
    "submission = position_shift(input_file, a=study.best_params['a'])\n",
    "submission.to_csv('../output/sub_nb017.csv', index=False)"
   ]
  },
  {
   "cell_type": "markdown",
   "id": "68867854-786c-4ad3-920f-8d480af2572c",
   "metadata": {},
   "source": [
    "1. phone mean predicion\n",
    "2. position shift #######\n",
    "3. remove device"
   ]
  },
  {
   "cell_type": "code",
   "execution_count": 8,
   "id": "4104029a-7dab-43fa-9110-0352e282fc12",
   "metadata": {},
   "outputs": [],
   "source": [
    "input_file = '../output/sub_nb005.csv'\n",
    "# submission = position_shift(input_file, a=study.best_params['a'])\n",
    "submission = position_shift(input_file, a=0.6602905068929037)\n",
    "submission.to_csv('../output/sub_nb017_1.csv', index=False)"
   ]
  },
  {
   "cell_type": "markdown",
   "id": "a34d9b9c-01cd-4405-b37f-0e89e6e44ee9",
   "metadata": {},
   "source": [
    "### 二度目のposition shift"
   ]
  },
  {
   "cell_type": "code",
   "execution_count": 9,
   "id": "becc682e-aadc-4b75-b95d-cb318826333b",
   "metadata": {},
   "outputs": [],
   "source": [
    "input_file = '../output/sub_nb017.csv'\n",
    "# submission = position_shift(input_file, a=study.best_params['a'])\n",
    "submission = position_shift(input_file, a=0.6602905068929037)\n",
    "submission.to_csv('../output/sub_nb017_2.csv', index=False)"
   ]
  },
  {
   "source": [
    "### nb023, nb016,  "
   ],
   "cell_type": "markdown",
   "metadata": {}
  },
  {
   "cell_type": "code",
   "execution_count": 10,
   "metadata": {},
   "outputs": [],
   "source": [
    "input_file = '../output/sub_nb016_2.csv'\n",
    "# submission = position_shift(input_file, a=study.best_params['a'])\n",
    "submission = position_shift(input_file, a=0.6602905068929037)\n",
    "submission.to_csv('../output/sub_nb017_2.csv', index=False)"
   ]
  },
  {
   "source": [
    "nb023_1, nb016_3"
   ],
   "cell_type": "markdown",
   "metadata": {}
  },
  {
   "cell_type": "code",
   "execution_count": 12,
   "metadata": {},
   "outputs": [],
   "source": [
    "input_file = '../output/sub_nb016_3.csv'\n",
    "# submission = position_shift(input_file, a=study.best_params['a'])\n",
    "submission = position_shift(input_file, a=0.6602905068929037)\n",
    "submission.to_csv('../output/sub_nb017_3.csv', index=False)"
   ]
  },
  {
   "cell_type": "code",
   "execution_count": null,
   "metadata": {},
   "outputs": [],
   "source": []
  }
 ],
 "metadata": {
  "kernelspec": {
   "display_name": "Python 3",
   "language": "python",
   "name": "python3"
  },
  "language_info": {
   "codemirror_mode": {
    "name": "ipython",
    "version": 3
   },
   "file_extension": ".py",
   "mimetype": "text/x-python",
   "name": "python",
   "nbconvert_exporter": "python",
   "pygments_lexer": "ipython3",
   "version": "3.7.4"
  }
 },
 "nbformat": 4,
 "nbformat_minor": 5
}