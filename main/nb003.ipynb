{
 "cells": [
  {
   "cell_type": "code",
   "execution_count": 12,
   "id": "fbcf918a-ea92-4da9-9d13-79d669963727",
   "metadata": {},
   "outputs": [],
   "source": [
    "from pathlib import Path\n",
    "import numpy as np\n",
    "import pandas as pd\n",
    "import simdkalman\n",
    "from tqdm.notebook import tqdm\n",
    "import itertools\n",
    "from skopt import gp_minimize # ベイズ最適化\n",
    "from skopt.space import Real, Integer"
   ]
  },
  {
   "cell_type": "code",
   "execution_count": 4,
   "id": "514aed13-8f92-43ef-8f7e-ed9823b6be17",
   "metadata": {},
   "outputs": [],
   "source": [
    "T = 1.0\n",
    "size = 4\n",
    "noise = 1e-5\n",
    "obs_noise = 5e-5\n",
    "\n",
    "def make_shifted_matrix(vec):\n",
    "    matrix = []\n",
    "    size = len(vec)\n",
    "    for i in range(size):\n",
    "        row = [0] * i + vec[:size-i]\n",
    "        matrix.append(row)\n",
    "    return np.array(matrix)\n",
    "\n",
    "def make_state_vector(T, size):\n",
    "    vector = [1, 0]\n",
    "    step = 2\n",
    "    for i in range(size - 2):\n",
    "        if i % 2 == 0:\n",
    "            vector.append(T)\n",
    "            T *= T / step\n",
    "            step += 1\n",
    "        else:\n",
    "            vector.append(0)\n",
    "    return vector\n",
    "\n",
    "def make_noise_vector(noise, size):\n",
    "    noise_vector = []\n",
    "    for i in range(size):\n",
    "        if i > 0 and i % 2 == 0:\n",
    "            noise *= 0.5\n",
    "        noise_vector.append(noise)\n",
    "    return noise_vector\n",
    "\n",
    "def make_kalman_filter(T, size, noise, obs_noise):\n",
    "    vec = make_state_vector(T, size)\n",
    "    state_transition = make_shifted_matrix(vec)\n",
    "    process_noise = np.diag(make_noise_vector(noise, size)) + np.ones(size) * 1e-9\n",
    "    observation_model = np.array([[1] + [0] * (size - 1), [0, 1] + [0] * (size - 2)])\n",
    "    observation_noise = np.diag([obs_noise] * 2) + np.ones(2) * 1e-9\n",
    "    kf = simdkalman.KalmanFilter(\n",
    "            state_transition = state_transition,\n",
    "            process_noise = process_noise,\n",
    "            observation_model = observation_model,\n",
    "            observation_noise = observation_noise)\n",
    "    return kf"
   ]
  },
  {
   "cell_type": "code",
   "execution_count": 5,
   "id": "7f6dfb6e-a016-43de-b3cb-6924d36a08d9",
   "metadata": {},
   "outputs": [],
   "source": [
    "def apply_kf_smoothing(df, kf_):\n",
    "    unique_paths = df[['collectionName', 'phoneName']].drop_duplicates().to_numpy()\n",
    "    for collection, phone in unique_paths:\n",
    "        cond = np.logical_and(df['collectionName'] == collection, df['phoneName'] == phone)\n",
    "        data = df[cond][['latDeg', 'lngDeg']].to_numpy()\n",
    "        data = data.reshape(1, len(data), 2)\n",
    "        smoothed = kf_.smooth(data)\n",
    "        df.loc[cond, 'latDeg'] = smoothed.states.mean[0, :, 0]\n",
    "        df.loc[cond, 'lngDeg'] = smoothed.states.mean[0, :, 1]\n",
    "    return df\n"
   ]
  },
  {
   "cell_type": "markdown",
   "id": "2018ca1a-0b08-4ac4-955c-2b17b25ea363",
   "metadata": {},
   "source": [
    "## Evaluate train error"
   ]
  },
  {
   "cell_type": "code",
   "execution_count": 6,
   "id": "27c08a94-9b70-4909-b9d6-27d586df1eb4",
   "metadata": {},
   "outputs": [],
   "source": [
    "data_path = Path(\"../input/google-smartphone-decimeter-challenge\")\n",
    "\n",
    "truths = (data_path / 'train').rglob('ground_truth.csv')\n",
    "    # returns a generator\n",
    "\n",
    "df_list = []\n",
    "cols = ['collectionName', 'phoneName', 'millisSinceGpsEpoch', 'latDeg', 'lngDeg']\n",
    "\n",
    "def calculate_location(truths, kf):\n",
    "\n",
    "    for t in truths:\n",
    "        df_phone = pd.read_csv(t, usecols=cols)  \n",
    "        df_list.append(df_phone)\n",
    "    df_truth = pd.concat(df_list, ignore_index=True)\n",
    "\n",
    "    df_basepreds_kf = apply_kf_smoothing(pd.read_csv('../input/google-smartphone-decimeter-challenge/baseline_locations_train.csv', usecols=cols), kf_=kf)\n",
    "    df_all = df_truth.merge(df_basepreds_kf, how='inner', on=cols[:3], suffixes=('_truth', '_basepred'))\n",
    "    return df_all"
   ]
  },
  {
   "cell_type": "code",
   "execution_count": 7,
   "id": "f57c3edb-0a4f-4f83-9566-5c0943b47d2c",
   "metadata": {},
   "outputs": [],
   "source": [
    "# simplified haversine distance\n",
    "def calc_haversine(lat1, lon1, lat2, lon2):\n",
    "    \"\"\"Calculates the great circle distance between two points\n",
    "    on the earth. Inputs are array-like and specified in decimal degrees.\n",
    "    \"\"\"\n",
    "    lat1, lon1, lat2, lon2 = map(np.radians, [lat1, lon1, lat2, lon2])\n",
    "    dlat = lat2 - lat1\n",
    "    dlon = lon2 - lon1\n",
    "    a = np.sin(dlat/2.0)**2 + np.cos(lat1) * np.cos(lat2) * np.sin(dlon/2.0)**2\n",
    "\n",
    "    c = 2 * np.arcsin(a**0.5)\n",
    "    dist = 6_367_000 * c\n",
    "    return dist"
   ]
  },
  {
   "cell_type": "code",
   "execution_count": 8,
   "id": "75007721-65e9-4938-8c4a-47c5a7611b66",
   "metadata": {},
   "outputs": [],
   "source": [
    "def get_error(truths, kf):\n",
    "    df_all = calculate_location(truths, kf)\n",
    "    df_all['dist'] = calc_haversine(df_all.latDeg_truth, df_all.lngDeg_truth, \n",
    "        df_all.latDeg_basepred, df_all.lngDeg_basepred)\n",
    "    error = df_all.dist.mean()\n",
    "    return error"
   ]
  },
  {
   "cell_type": "code",
   "execution_count": 9,
   "id": "d2d6038c-4b7b-4010-b084-dff84a8f82b5",
   "metadata": {},
   "outputs": [],
   "source": [
    "def optimize(params):\n",
    "    T, half_size, noise, obs_noise = params\n",
    "    size = half_size * 2\n",
    "    kf = make_kalman_filter(T, size, noise, obs_noise)\n",
    "    error = get_error(truths, kf)\n",
    "    print(f'T = {T}, size = {size}, noise = {noise}, obs_noise = {obs_noise} => error = {error:.3f}m')\n",
    "    return error"
   ]
  },
  {
   "cell_type": "code",
   "execution_count": 13,
   "id": "66560cdb-0957-4a17-a786-43fb0bf181ff",
   "metadata": {},
   "outputs": [
    {
     "name": "stdout",
     "output_type": "stream",
     "text": [
      "T = 0.7015729416639516, size = 6, noise = 3.9828513488513095e-05, obs_noise = 1.0538863070237719e-07 => error = 3.841m\n",
      "T = 0.998647503154681, size = 8, noise = 1.252569998448879e-07, obs_noise = 3.833319019345579e-06 => error = 3.423m\n",
      "T = 1.1818242742143585, size = 2, noise = 1.4739820512870352e-05, obs_noise = 3.911424559781692e-06 => error = 3.570m\n",
      "T = 0.7950804721281395, size = 8, noise = 3.436092711924725e-06, obs_noise = 5.919875164426703e-06 => error = 3.434m\n",
      "T = 0.6699679007012131, size = 6, noise = 1.3483162216824669e-06, obs_noise = 5.056184296806174e-05 => error = 3.652m\n",
      "T = 1.110528031442137, size = 6, noise = 1.4432257912802778e-06, obs_noise = 5.557575276829653e-05 => error = 3.436m\n",
      "T = 0.6972268400593506, size = 6, noise = 6.045384616985793e-05, obs_noise = 3.5443765240449777e-06 => error = 3.754m\n",
      "T = 0.7582747751230163, size = 6, noise = 8.229514836010853e-06, obs_noise = 1.7388000975216883e-05 => error = 3.408m\n",
      "T = 1.0063541342003297, size = 6, noise = 3.99492463404156e-07, obs_noise = 1.8379196499034073e-05 => error = 3.474m\n",
      "T = 1.1944069710995253, size = 4, noise = 8.097912307110503e-06, obs_noise = 1.302904959188953e-07 => error = 3.821m\n"
     ]
    }
   ],
   "source": [
    "space = [Real(0.5, 1.5, name='T'), Integer(1, 4, name='half_size'), Real(1e-7, 1e-4, \"log-uniform\", name='noise'), Real(1e-7, 1e-4, \"log-uniform\", name='obs_noise')]\n",
    "\n",
    "# change \n",
    "result = gp_minimize(optimize, space, n_calls=10)"
   ]
  },
  {
   "cell_type": "code",
   "execution_count": null,
   "id": "fe4639ea-49a6-42f6-918d-98c0e127d4ce",
   "metadata": {},
   "outputs": [],
   "source": []
  }
 ],
 "metadata": {
  "kernelspec": {
   "display_name": "Python 3",
   "language": "python",
   "name": "python3"
  },
  "language_info": {
   "codemirror_mode": {
    "name": "ipython",
    "version": 3
   },
   "file_extension": ".py",
   "mimetype": "text/x-python",
   "name": "python",
   "nbconvert_exporter": "python",
   "pygments_lexer": "ipython3",
   "version": "3.7.4"
  }
 },
 "nbformat": 4,
 "nbformat_minor": 5
}