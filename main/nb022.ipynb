{
 "metadata": {
  "language_info": {
   "codemirror_mode": {
    "name": "ipython",
    "version": 3
   },
   "file_extension": ".py",
   "mimetype": "text/x-python",
   "name": "python",
   "nbconvert_exporter": "python",
   "pygments_lexer": "ipython3",
   "version": "3.7.4"
  },
  "orig_nbformat": 2,
  "kernelspec": {
   "name": "python3",
   "display_name": "Python 3.7.4 64-bit ('venv_outdoor': venv)",
   "metadata": {
    "interpreter": {
     "hash": "bd00b75c79969edcf008edd1fd5973862c0c93beffacd004fb7d75ad6fcb357f"
    }
   }
  }
 },
 "nbformat": 4,
 "nbformat_minor": 2,
 "cells": [
  {
   "cell_type": "code",
   "execution_count": 3,
   "metadata": {},
   "outputs": [],
   "source": [
    "import pandas as pd"
   ]
  },
  {
   "cell_type": "code",
   "execution_count": 11,
   "metadata": {},
   "outputs": [],
   "source": [
    "INPUT = '../input/google-smartphone-decimeter-challenge/'\n",
    "derived = pd.read_csv(INPUT+'train/2020-05-14-US-MTV-1/Pixel4/Pixel4_derived.csv')\n",
    "base_train = pd.read_csv(INPUT+'baseline_locations_train.csv')"
   ]
  },
  {
   "cell_type": "code",
   "execution_count": 19,
   "metadata": {},
   "outputs": [
    {
     "output_type": "execute_result",
     "data": {
      "text/plain": [
       "            collectionName phoneName  millisSinceGpsEpoch  constellationType  \\\n",
       "0      2020-05-14-US-MTV-1    Pixel4        1273529464442                  3   \n",
       "1      2020-05-14-US-MTV-1    Pixel4        1273529464442                  6   \n",
       "2      2020-05-14-US-MTV-1    Pixel4        1273529464442                  1   \n",
       "3      2020-05-14-US-MTV-1    Pixel4        1273529464442                  6   \n",
       "4      2020-05-14-US-MTV-1    Pixel4        1273529464442                  6   \n",
       "...                    ...       ...                  ...                ...   \n",
       "55213  2020-05-14-US-MTV-1    Pixel4        1273531202442                  6   \n",
       "55214  2020-05-14-US-MTV-1    Pixel4        1273531202442                  3   \n",
       "55215  2020-05-14-US-MTV-1    Pixel4        1273531202442                  1   \n",
       "55216  2020-05-14-US-MTV-1    Pixel4        1273531202442                  3   \n",
       "55217  2020-05-14-US-MTV-1    Pixel4        1273531202442                  6   \n",
       "\n",
       "       svid signalType  receivedSvTimeInGpsNanos      xSatPosM      ySatPosM  \\\n",
       "0        24     GLO_G1       1273529463363061857 -2.539901e+07 -6.925122e+05   \n",
       "1        13     GAL_E1       1273529463363970742 -5.199894e+06 -1.741927e+07   \n",
       "2         5     GPS_L1       1273529463365539137 -2.179863e+06 -2.615488e+07   \n",
       "3        15     GAL_E1       1273529463352380595  1.635469e+07 -1.047833e+07   \n",
       "4        21     GAL_E1       1273529463364075083 -1.484042e+07 -2.110960e+07   \n",
       "...     ...        ...                       ...           ...           ...   \n",
       "55213    27    GAL_E5A       1273531202352704374 -3.934095e+06 -2.791400e+07   \n",
       "55214    14     GLO_G1       1273531202364330212 -7.327830e+06  8.664746e+06   \n",
       "55215     6     GPS_L5       1273531202364641426  1.038973e+07 -1.125526e+07   \n",
       "55216     6     GLO_G1       1273531202363964018  1.353109e+07 -5.480456e+06   \n",
       "55217    21    GAL_E5A       1273531202363048546 -1.562350e+07 -2.310609e+07   \n",
       "\n",
       "           zSatPosM  xSatVelMps  ySatVelMps  zSatVelMps  satClkBiasM  \\\n",
       "0     -2.280430e+06    -325.826     156.040    3559.757     -468.084   \n",
       "1      2.336128e+07    2239.305     700.815    1022.014   120171.076   \n",
       "2     -3.437694e+06     325.541    -419.725    3129.012    -3793.067   \n",
       "3      2.234460e+07    2172.409     561.971   -1326.001   259937.286   \n",
       "4      1.449632e+07    -426.094   -1395.675   -2467.793  -179555.991   \n",
       "...             ...         ...         ...         ...          ...   \n",
       "55213 -9.034863e+06     208.768     889.833   -2839.777    65950.179   \n",
       "55214  2.285455e+07   -1772.255   -2575.157     406.802    15352.562   \n",
       "55215  2.175587e+07    2470.149    1194.461    -558.655   -81415.659   \n",
       "55216  2.091994e+07   -1220.817    2590.874    1466.079    52934.747   \n",
       "55217  9.902286e+06    -450.965    -893.588   -2795.253  -179557.244   \n",
       "\n",
       "       satClkDriftMps        rawPrM  rawPrUncM     isrbM  ionoDelayM  \\\n",
       "0               0.001  2.379498e+07     11.992  1134.758      10.866   \n",
       "1               0.000  2.352251e+07      1.799  -222.675       3.946   \n",
       "2              -0.001  2.305231e+07      4.197     0.000       7.554   \n",
       "3              -0.000  2.699715e+07      8.094  -222.675       7.968   \n",
       "4              -0.001  2.349123e+07      2.698  -222.675       3.834   \n",
       "...               ...           ...        ...       ...         ...   \n",
       "55213          -0.002  2.690008e+07      1.799 -2346.170      16.053   \n",
       "55214           0.000  2.341474e+07      3.298  1160.081       8.311   \n",
       "55215          -0.002  2.332144e+07      1.199 -2352.263      11.902   \n",
       "55216          -0.000  2.352452e+07      5.096  1160.081       7.964   \n",
       "55217          -0.001  2.379897e+07      0.600 -2346.170       7.227   \n",
       "\n",
       "       tropoDelayM  \n",
       "0           16.647  \n",
       "1            2.717  \n",
       "2            5.704  \n",
       "3            9.151  \n",
       "4            2.544  \n",
       "...            ...  \n",
       "55213        7.910  \n",
       "55214       11.661  \n",
       "55215        5.768  \n",
       "55216       13.201  \n",
       "55217        2.717  \n",
       "\n",
       "[55218 rows x 20 columns]"
      ],
      "text/html": "<div>\n<style scoped>\n    .dataframe tbody tr th:only-of-type {\n        vertical-align: middle;\n    }\n\n    .dataframe tbody tr th {\n        vertical-align: top;\n    }\n\n    .dataframe thead th {\n        text-align: right;\n    }\n</style>\n<table border=\"1\" class=\"dataframe\">\n  <thead>\n    <tr style=\"text-align: right;\">\n      <th></th>\n      <th>collectionName</th>\n      <th>phoneName</th>\n      <th>millisSinceGpsEpoch</th>\n      <th>constellationType</th>\n      <th>svid</th>\n      <th>signalType</th>\n      <th>receivedSvTimeInGpsNanos</th>\n      <th>xSatPosM</th>\n      <th>ySatPosM</th>\n      <th>zSatPosM</th>\n      <th>xSatVelMps</th>\n      <th>ySatVelMps</th>\n      <th>zSatVelMps</th>\n      <th>satClkBiasM</th>\n      <th>satClkDriftMps</th>\n      <th>rawPrM</th>\n      <th>rawPrUncM</th>\n      <th>isrbM</th>\n      <th>ionoDelayM</th>\n      <th>tropoDelayM</th>\n    </tr>\n  </thead>\n  <tbody>\n    <tr>\n      <th>0</th>\n      <td>2020-05-14-US-MTV-1</td>\n      <td>Pixel4</td>\n      <td>1273529464442</td>\n      <td>3</td>\n      <td>24</td>\n      <td>GLO_G1</td>\n      <td>1273529463363061857</td>\n      <td>-2.539901e+07</td>\n      <td>-6.925122e+05</td>\n      <td>-2.280430e+06</td>\n      <td>-325.826</td>\n      <td>156.040</td>\n      <td>3559.757</td>\n      <td>-468.084</td>\n      <td>0.001</td>\n      <td>2.379498e+07</td>\n      <td>11.992</td>\n      <td>1134.758</td>\n      <td>10.866</td>\n      <td>16.647</td>\n    </tr>\n    <tr>\n      <th>1</th>\n      <td>2020-05-14-US-MTV-1</td>\n      <td>Pixel4</td>\n      <td>1273529464442</td>\n      <td>6</td>\n      <td>13</td>\n      <td>GAL_E1</td>\n      <td>1273529463363970742</td>\n      <td>-5.199894e+06</td>\n      <td>-1.741927e+07</td>\n      <td>2.336128e+07</td>\n      <td>2239.305</td>\n      <td>700.815</td>\n      <td>1022.014</td>\n      <td>120171.076</td>\n      <td>0.000</td>\n      <td>2.352251e+07</td>\n      <td>1.799</td>\n      <td>-222.675</td>\n      <td>3.946</td>\n      <td>2.717</td>\n    </tr>\n    <tr>\n      <th>2</th>\n      <td>2020-05-14-US-MTV-1</td>\n      <td>Pixel4</td>\n      <td>1273529464442</td>\n      <td>1</td>\n      <td>5</td>\n      <td>GPS_L1</td>\n      <td>1273529463365539137</td>\n      <td>-2.179863e+06</td>\n      <td>-2.615488e+07</td>\n      <td>-3.437694e+06</td>\n      <td>325.541</td>\n      <td>-419.725</td>\n      <td>3129.012</td>\n      <td>-3793.067</td>\n      <td>-0.001</td>\n      <td>2.305231e+07</td>\n      <td>4.197</td>\n      <td>0.000</td>\n      <td>7.554</td>\n      <td>5.704</td>\n    </tr>\n    <tr>\n      <th>3</th>\n      <td>2020-05-14-US-MTV-1</td>\n      <td>Pixel4</td>\n      <td>1273529464442</td>\n      <td>6</td>\n      <td>15</td>\n      <td>GAL_E1</td>\n      <td>1273529463352380595</td>\n      <td>1.635469e+07</td>\n      <td>-1.047833e+07</td>\n      <td>2.234460e+07</td>\n      <td>2172.409</td>\n      <td>561.971</td>\n      <td>-1326.001</td>\n      <td>259937.286</td>\n      <td>-0.000</td>\n      <td>2.699715e+07</td>\n      <td>8.094</td>\n      <td>-222.675</td>\n      <td>7.968</td>\n      <td>9.151</td>\n    </tr>\n    <tr>\n      <th>4</th>\n      <td>2020-05-14-US-MTV-1</td>\n      <td>Pixel4</td>\n      <td>1273529464442</td>\n      <td>6</td>\n      <td>21</td>\n      <td>GAL_E1</td>\n      <td>1273529463364075083</td>\n      <td>-1.484042e+07</td>\n      <td>-2.110960e+07</td>\n      <td>1.449632e+07</td>\n      <td>-426.094</td>\n      <td>-1395.675</td>\n      <td>-2467.793</td>\n      <td>-179555.991</td>\n      <td>-0.001</td>\n      <td>2.349123e+07</td>\n      <td>2.698</td>\n      <td>-222.675</td>\n      <td>3.834</td>\n      <td>2.544</td>\n    </tr>\n    <tr>\n      <th>...</th>\n      <td>...</td>\n      <td>...</td>\n      <td>...</td>\n      <td>...</td>\n      <td>...</td>\n      <td>...</td>\n      <td>...</td>\n      <td>...</td>\n      <td>...</td>\n      <td>...</td>\n      <td>...</td>\n      <td>...</td>\n      <td>...</td>\n      <td>...</td>\n      <td>...</td>\n      <td>...</td>\n      <td>...</td>\n      <td>...</td>\n      <td>...</td>\n      <td>...</td>\n    </tr>\n    <tr>\n      <th>55213</th>\n      <td>2020-05-14-US-MTV-1</td>\n      <td>Pixel4</td>\n      <td>1273531202442</td>\n      <td>6</td>\n      <td>27</td>\n      <td>GAL_E5A</td>\n      <td>1273531202352704374</td>\n      <td>-3.934095e+06</td>\n      <td>-2.791400e+07</td>\n      <td>-9.034863e+06</td>\n      <td>208.768</td>\n      <td>889.833</td>\n      <td>-2839.777</td>\n      <td>65950.179</td>\n      <td>-0.002</td>\n      <td>2.690008e+07</td>\n      <td>1.799</td>\n      <td>-2346.170</td>\n      <td>16.053</td>\n      <td>7.910</td>\n    </tr>\n    <tr>\n      <th>55214</th>\n      <td>2020-05-14-US-MTV-1</td>\n      <td>Pixel4</td>\n      <td>1273531202442</td>\n      <td>3</td>\n      <td>14</td>\n      <td>GLO_G1</td>\n      <td>1273531202364330212</td>\n      <td>-7.327830e+06</td>\n      <td>8.664746e+06</td>\n      <td>2.285455e+07</td>\n      <td>-1772.255</td>\n      <td>-2575.157</td>\n      <td>406.802</td>\n      <td>15352.562</td>\n      <td>0.000</td>\n      <td>2.341474e+07</td>\n      <td>3.298</td>\n      <td>1160.081</td>\n      <td>8.311</td>\n      <td>11.661</td>\n    </tr>\n    <tr>\n      <th>55215</th>\n      <td>2020-05-14-US-MTV-1</td>\n      <td>Pixel4</td>\n      <td>1273531202442</td>\n      <td>1</td>\n      <td>6</td>\n      <td>GPS_L5</td>\n      <td>1273531202364641426</td>\n      <td>1.038973e+07</td>\n      <td>-1.125526e+07</td>\n      <td>2.175587e+07</td>\n      <td>2470.149</td>\n      <td>1194.461</td>\n      <td>-558.655</td>\n      <td>-81415.659</td>\n      <td>-0.002</td>\n      <td>2.332144e+07</td>\n      <td>1.199</td>\n      <td>-2352.263</td>\n      <td>11.902</td>\n      <td>5.768</td>\n    </tr>\n    <tr>\n      <th>55216</th>\n      <td>2020-05-14-US-MTV-1</td>\n      <td>Pixel4</td>\n      <td>1273531202442</td>\n      <td>3</td>\n      <td>6</td>\n      <td>GLO_G1</td>\n      <td>1273531202363964018</td>\n      <td>1.353109e+07</td>\n      <td>-5.480456e+06</td>\n      <td>2.091994e+07</td>\n      <td>-1220.817</td>\n      <td>2590.874</td>\n      <td>1466.079</td>\n      <td>52934.747</td>\n      <td>-0.000</td>\n      <td>2.352452e+07</td>\n      <td>5.096</td>\n      <td>1160.081</td>\n      <td>7.964</td>\n      <td>13.201</td>\n    </tr>\n    <tr>\n      <th>55217</th>\n      <td>2020-05-14-US-MTV-1</td>\n      <td>Pixel4</td>\n      <td>1273531202442</td>\n      <td>6</td>\n      <td>21</td>\n      <td>GAL_E5A</td>\n      <td>1273531202363048546</td>\n      <td>-1.562350e+07</td>\n      <td>-2.310609e+07</td>\n      <td>9.902286e+06</td>\n      <td>-450.965</td>\n      <td>-893.588</td>\n      <td>-2795.253</td>\n      <td>-179557.244</td>\n      <td>-0.001</td>\n      <td>2.379897e+07</td>\n      <td>0.600</td>\n      <td>-2346.170</td>\n      <td>7.227</td>\n      <td>2.717</td>\n    </tr>\n  </tbody>\n</table>\n<p>55218 rows × 20 columns</p>\n</div>"
     },
     "metadata": {},
     "execution_count": 19
    }
   ],
   "source": [
    "derived"
   ]
  },
  {
   "cell_type": "code",
   "execution_count": 24,
   "metadata": {},
   "outputs": [
    {
     "output_type": "execute_result",
     "data": {
      "text/plain": [
       "             collectionName        phoneName  millisSinceGpsEpoch     latDeg  \\\n",
       "0       2020-05-14-US-MTV-1           Pixel4        1273529463442  37.423575   \n",
       "1       2020-05-14-US-MTV-1           Pixel4        1273529464442  37.423578   \n",
       "2       2020-05-14-US-MTV-1           Pixel4        1273529465442  37.423573   \n",
       "3       2020-05-14-US-MTV-1           Pixel4        1273529466442  37.423583   \n",
       "4       2020-05-14-US-MTV-1           Pixel4        1273529467442  37.423579   \n",
       "...                     ...              ...                  ...        ...   \n",
       "131337  2021-04-29-US-SJC-2  SamsungS20Ultra        1303760315000  37.334460   \n",
       "131338  2021-04-29-US-SJC-2  SamsungS20Ultra        1303760316000  37.334472   \n",
       "131339  2021-04-29-US-SJC-2  SamsungS20Ultra        1303760317000  37.334491   \n",
       "131340  2021-04-29-US-SJC-2  SamsungS20Ultra        1303760318000  37.334495   \n",
       "131341  2021-04-29-US-SJC-2  SamsungS20Ultra        1303760319000  37.334485   \n",
       "\n",
       "            lngDeg  heightAboveWgs84EllipsoidM  \\\n",
       "0      -122.094091                      -34.06   \n",
       "1      -122.094101                      -33.29   \n",
       "2      -122.094111                      -30.99   \n",
       "3      -122.094121                      -32.83   \n",
       "4      -122.094114                      -34.49   \n",
       "...            ...                         ...   \n",
       "131337 -121.899600                       -8.09   \n",
       "131338 -121.899583                       -7.59   \n",
       "131339 -121.899597                       -8.35   \n",
       "131340 -121.899583                       -8.73   \n",
       "131341 -121.899570                       -7.64   \n",
       "\n",
       "                                      phone  \n",
       "0                2020-05-14-US-MTV-1_Pixel4  \n",
       "1                2020-05-14-US-MTV-1_Pixel4  \n",
       "2                2020-05-14-US-MTV-1_Pixel4  \n",
       "3                2020-05-14-US-MTV-1_Pixel4  \n",
       "4                2020-05-14-US-MTV-1_Pixel4  \n",
       "...                                     ...  \n",
       "131337  2021-04-29-US-SJC-2_SamsungS20Ultra  \n",
       "131338  2021-04-29-US-SJC-2_SamsungS20Ultra  \n",
       "131339  2021-04-29-US-SJC-2_SamsungS20Ultra  \n",
       "131340  2021-04-29-US-SJC-2_SamsungS20Ultra  \n",
       "131341  2021-04-29-US-SJC-2_SamsungS20Ultra  \n",
       "\n",
       "[131342 rows x 7 columns]"
      ],
      "text/html": "<div>\n<style scoped>\n    .dataframe tbody tr th:only-of-type {\n        vertical-align: middle;\n    }\n\n    .dataframe tbody tr th {\n        vertical-align: top;\n    }\n\n    .dataframe thead th {\n        text-align: right;\n    }\n</style>\n<table border=\"1\" class=\"dataframe\">\n  <thead>\n    <tr style=\"text-align: right;\">\n      <th></th>\n      <th>collectionName</th>\n      <th>phoneName</th>\n      <th>millisSinceGpsEpoch</th>\n      <th>latDeg</th>\n      <th>lngDeg</th>\n      <th>heightAboveWgs84EllipsoidM</th>\n      <th>phone</th>\n    </tr>\n  </thead>\n  <tbody>\n    <tr>\n      <th>0</th>\n      <td>2020-05-14-US-MTV-1</td>\n      <td>Pixel4</td>\n      <td>1273529463442</td>\n      <td>37.423575</td>\n      <td>-122.094091</td>\n      <td>-34.06</td>\n      <td>2020-05-14-US-MTV-1_Pixel4</td>\n    </tr>\n    <tr>\n      <th>1</th>\n      <td>2020-05-14-US-MTV-1</td>\n      <td>Pixel4</td>\n      <td>1273529464442</td>\n      <td>37.423578</td>\n      <td>-122.094101</td>\n      <td>-33.29</td>\n      <td>2020-05-14-US-MTV-1_Pixel4</td>\n    </tr>\n    <tr>\n      <th>2</th>\n      <td>2020-05-14-US-MTV-1</td>\n      <td>Pixel4</td>\n      <td>1273529465442</td>\n      <td>37.423573</td>\n      <td>-122.094111</td>\n      <td>-30.99</td>\n      <td>2020-05-14-US-MTV-1_Pixel4</td>\n    </tr>\n    <tr>\n      <th>3</th>\n      <td>2020-05-14-US-MTV-1</td>\n      <td>Pixel4</td>\n      <td>1273529466442</td>\n      <td>37.423583</td>\n      <td>-122.094121</td>\n      <td>-32.83</td>\n      <td>2020-05-14-US-MTV-1_Pixel4</td>\n    </tr>\n    <tr>\n      <th>4</th>\n      <td>2020-05-14-US-MTV-1</td>\n      <td>Pixel4</td>\n      <td>1273529467442</td>\n      <td>37.423579</td>\n      <td>-122.094114</td>\n      <td>-34.49</td>\n      <td>2020-05-14-US-MTV-1_Pixel4</td>\n    </tr>\n    <tr>\n      <th>...</th>\n      <td>...</td>\n      <td>...</td>\n      <td>...</td>\n      <td>...</td>\n      <td>...</td>\n      <td>...</td>\n      <td>...</td>\n    </tr>\n    <tr>\n      <th>131337</th>\n      <td>2021-04-29-US-SJC-2</td>\n      <td>SamsungS20Ultra</td>\n      <td>1303760315000</td>\n      <td>37.334460</td>\n      <td>-121.899600</td>\n      <td>-8.09</td>\n      <td>2021-04-29-US-SJC-2_SamsungS20Ultra</td>\n    </tr>\n    <tr>\n      <th>131338</th>\n      <td>2021-04-29-US-SJC-2</td>\n      <td>SamsungS20Ultra</td>\n      <td>1303760316000</td>\n      <td>37.334472</td>\n      <td>-121.899583</td>\n      <td>-7.59</td>\n      <td>2021-04-29-US-SJC-2_SamsungS20Ultra</td>\n    </tr>\n    <tr>\n      <th>131339</th>\n      <td>2021-04-29-US-SJC-2</td>\n      <td>SamsungS20Ultra</td>\n      <td>1303760317000</td>\n      <td>37.334491</td>\n      <td>-121.899597</td>\n      <td>-8.35</td>\n      <td>2021-04-29-US-SJC-2_SamsungS20Ultra</td>\n    </tr>\n    <tr>\n      <th>131340</th>\n      <td>2021-04-29-US-SJC-2</td>\n      <td>SamsungS20Ultra</td>\n      <td>1303760318000</td>\n      <td>37.334495</td>\n      <td>-121.899583</td>\n      <td>-8.73</td>\n      <td>2021-04-29-US-SJC-2_SamsungS20Ultra</td>\n    </tr>\n    <tr>\n      <th>131341</th>\n      <td>2021-04-29-US-SJC-2</td>\n      <td>SamsungS20Ultra</td>\n      <td>1303760319000</td>\n      <td>37.334485</td>\n      <td>-121.899570</td>\n      <td>-7.64</td>\n      <td>2021-04-29-US-SJC-2_SamsungS20Ultra</td>\n    </tr>\n  </tbody>\n</table>\n<p>131342 rows × 7 columns</p>\n</div>"
     },
     "metadata": {},
     "execution_count": 24
    }
   ],
   "source": [
    "base_train"
   ]
  },
  {
   "cell_type": "code",
   "execution_count": 25,
   "metadata": {},
   "outputs": [],
   "source": [
    "base = base_train[base_train['phone']=='2020-05-14-US-MTV-1_Pixel4']"
   ]
  },
  {
   "cell_type": "code",
   "execution_count": 35,
   "metadata": {},
   "outputs": [
    {
     "output_type": "execute_result",
     "data": {
      "text/plain": [
       "            collectionName phoneName  millisSinceGpsEpoch  constellationType  \\\n",
       "55040  2020-05-14-US-MTV-1    Pixel4        1273531198442                  3   \n",
       "55041  2020-05-14-US-MTV-1    Pixel4        1273531198442                  1   \n",
       "55042  2020-05-14-US-MTV-1    Pixel4        1273531198442                  6   \n",
       "55043  2020-05-14-US-MTV-1    Pixel4        1273531198442                  6   \n",
       "55044  2020-05-14-US-MTV-1    Pixel4        1273531198442                  1   \n",
       "55045  2020-05-14-US-MTV-1    Pixel4        1273531198442                  3   \n",
       "55046  2020-05-14-US-MTV-1    Pixel4        1273531198442                  6   \n",
       "55047  2020-05-14-US-MTV-1    Pixel4        1273531198442                  3   \n",
       "55048  2020-05-14-US-MTV-1    Pixel4        1273531198442                  6   \n",
       "55049  2020-05-14-US-MTV-1    Pixel4        1273531198442                  1   \n",
       "55050  2020-05-14-US-MTV-1    Pixel4        1273531198442                  3   \n",
       "55051  2020-05-14-US-MTV-1    Pixel4        1273531198442                  1   \n",
       "55052  2020-05-14-US-MTV-1    Pixel4        1273531198442                  3   \n",
       "55053  2020-05-14-US-MTV-1    Pixel4        1273531198442                  1   \n",
       "55054  2020-05-14-US-MTV-1    Pixel4        1273531198442                  1   \n",
       "55055  2020-05-14-US-MTV-1    Pixel4        1273531198442                  6   \n",
       "55056  2020-05-14-US-MTV-1    Pixel4        1273531198442                  1   \n",
       "55057  2020-05-14-US-MTV-1    Pixel4        1273531198442                  6   \n",
       "55058  2020-05-14-US-MTV-1    Pixel4        1273531198442                  1   \n",
       "55059  2020-05-14-US-MTV-1    Pixel4        1273531198442                  3   \n",
       "55060  2020-05-14-US-MTV-1    Pixel4        1273531198442                  1   \n",
       "55061  2020-05-14-US-MTV-1    Pixel4        1273531198442                  3   \n",
       "55062  2020-05-14-US-MTV-1    Pixel4        1273531198442                  6   \n",
       "55063  2020-05-14-US-MTV-1    Pixel4        1273531198442                  6   \n",
       "55064  2020-05-14-US-MTV-1    Pixel4        1273531198442                  3   \n",
       "55065  2020-05-14-US-MTV-1    Pixel4        1273531198442                  1   \n",
       "55066  2020-05-14-US-MTV-1    Pixel4        1273531198442                  3   \n",
       "55067  2020-05-14-US-MTV-1    Pixel4        1273531198442                  6   \n",
       "\n",
       "       svid signalType  receivedSvTimeInGpsNanos      xSatPosM      ySatPosM  \\\n",
       "55040    24     GLO_G1       1273531197366265618 -2.521083e+07 -3.972906e+05   \n",
       "55041     5     GPS_L1       1273531197368541658 -1.610844e+06 -2.631285e+07   \n",
       "55042    21     GAL_E1       1273531197363045565 -1.562124e+07 -2.310162e+07   \n",
       "55043    33    GAL_E5A       1273531197350096308 -2.932296e+07 -2.602035e+06   \n",
       "55044    24     GPS_L5       1273531197361619251 -2.053748e+07 -1.494203e+07   \n",
       "55045    22     GLO_G1       1273531197372851960  2.304583e+06 -1.053884e+07   \n",
       "55046    27     GAL_E1       1273531197352706802 -3.935136e+06 -2.791845e+07   \n",
       "55047    11     GLO_G1       1273531197361551233 -6.231945e+06 -2.052187e+07   \n",
       "55048    33     GAL_E1       1273531197350089232 -2.932296e+07 -2.602035e+06   \n",
       "55049    25     GPS_L1       1273531197373490239 -1.466948e+07 -9.050284e+06   \n",
       "55050    13     GLO_G1       1273531197376124258 -1.622241e+07 -8.088270e+06   \n",
       "55051    29     GPS_L1       1273531197367021547 -2.120640e+07  3.712144e+05   \n",
       "55052     7     GLO_G1       1273531197365357983  1.384561e+07 -1.964837e+07   \n",
       "55053     2     GPS_L1       1273531197370609820 -1.592095e+06 -1.663367e+07   \n",
       "55054     6     GPS_L1       1273531197364643681  1.037738e+07 -1.126124e+07   \n",
       "55055    13    GAL_E5A       1273531197362518542 -1.125488e+06 -1.645446e+07   \n",
       "55056    12     GPS_L1       1273531197375374906 -1.046450e+07 -1.906545e+07   \n",
       "55057     1    GAL_E5A       1273531197360004050 -1.809781e+07 -5.065870e+06   \n",
       "55058    25     GPS_L5       1273531197373498070 -1.466948e+07 -9.050284e+06   \n",
       "55059    23     GLO_G1       1273531197374965309 -1.876079e+07 -5.940926e+06   \n",
       "55060    24     GPS_L1       1273531197361611398 -2.053748e+07 -1.494203e+07   \n",
       "55061    12     GLO_G1       1273531197374414374 -1.546457e+07 -2.015910e+07   \n",
       "55062     1     GAL_E1       1273531197359996960 -1.809781e+07 -5.065870e+06   \n",
       "55063    27    GAL_E5A       1273531197352713890 -3.935136e+06 -2.791845e+07   \n",
       "55064    14     GLO_G1       1273531197364317780 -7.318971e+06  8.677623e+06   \n",
       "55065     6     GPS_L5       1273531197364651496  1.037738e+07 -1.126124e+07   \n",
       "55066     6     GLO_G1       1273531197363965471  1.353720e+07 -5.493407e+06   \n",
       "55067    21    GAL_E5A       1273531197363052655 -1.562124e+07 -2.310162e+07   \n",
       "\n",
       "           zSatPosM  xSatVelMps  ySatVelMps  zSatVelMps  satClkBiasM  \\\n",
       "55040  3.900024e+06     541.370     146.212    3525.843     -467.003   \n",
       "55041  2.040297e+06     355.910     237.511    3155.191    -3794.115   \n",
       "55042  9.916260e+06    -451.098    -895.079   -2794.491  -179557.084   \n",
       "55043 -3.023316e+06    -323.471      98.593    3048.802  -140084.932   \n",
       "55044 -8.579494e+06    1089.919     116.129   -2841.124    -3908.626   \n",
       "55045  2.312461e+07    3159.538    -255.685    -419.976     -377.954   \n",
       "55046 -9.020663e+06     207.922     888.582   -2840.471    65950.275   \n",
       "55047 -1.375914e+07     996.663    1606.239   -2849.019    -7071.858   \n",
       "55048 -3.023316e+06    -323.471      98.593    3048.802  -140086.064   \n",
       "55049  2.003916e+07    -122.090   -2588.126   -1217.438     1223.858   \n",
       "55050  1.792581e+07   -1510.883   -1942.732   -2241.724   -11599.509   \n",
       "55051  1.595710e+07    1668.265   -1162.090    2235.627   -31301.403   \n",
       "55052  8.638563e+06    -638.852     997.694    3305.478   -10944.777   \n",
       "55053  2.129801e+07    2408.969     862.531     874.950  -136679.998   \n",
       "55054  2.175866e+07    2470.100    1195.370    -556.353   -81414.653   \n",
       "55055  2.458221e+07    2435.612     400.893     380.798   120171.559   \n",
       "55056  1.511996e+07     131.727   -1954.412   -2321.266    35342.095   \n",
       "55057  2.286576e+07    -835.452   -2138.957   -1134.922  -256793.786   \n",
       "55058  2.003916e+07    -122.090   -2588.126   -1217.438     1222.529   \n",
       "55059  1.621527e+07    2233.126      15.137    2587.972    91588.619   \n",
       "55060 -8.579494e+06    1089.918     116.129   -2841.125    -3907.962   \n",
       "55061  2.409593e+06    -325.096    -171.153   -3551.493    39205.124   \n",
       "55062  2.286576e+07    -835.452   -2138.957   -1134.922  -256794.179   \n",
       "55063 -9.020663e+06     207.922     888.582   -2840.471    65950.191   \n",
       "55064  2.285251e+07   -1771.061   -2575.639     409.544    15352.562   \n",
       "55065  2.175866e+07    2470.100    1195.370    -556.353   -81415.650   \n",
       "55066  2.091260e+07   -1221.441    2589.471    1468.590    52934.747   \n",
       "55067  9.916260e+06    -451.098    -895.079   -2794.491  -179557.241   \n",
       "\n",
       "       satClkDriftMps        rawPrM  rawPrUncM     isrbM  ionoDelayM  \\\n",
       "55040           0.001  2.283452e+07      3.897  1154.285       8.618   \n",
       "55041          -0.001  2.215218e+07      1.799     0.000       5.967   \n",
       "55042          -0.001  2.379987e+07      2.398  -217.129       4.029   \n",
       "55043           0.000  2.768196e+07      0.899 -2346.003      18.449   \n",
       "55044           0.001  2.422747e+07      1.499 -2350.780      16.874   \n",
       "55045          -0.000  2.085998e+07      2.698  1154.285       4.932   \n",
       "55046          -0.002  2.689935e+07      2.398  -217.129       8.946   \n",
       "55047          -0.000  2.424786e+07      8.094  1154.285      12.439   \n",
       "55048           0.000  2.768408e+07      2.698  -217.129      10.288   \n",
       "55049           0.000  2.066863e+07      1.499     0.000       4.109   \n",
       "55050           0.000  1.987897e+07      6.296  1154.285       4.120   \n",
       "55051          -0.003  2.260790e+07      1.799     0.000       6.282   \n",
       "55052           0.000  2.310662e+07      2.998  1154.285       8.198   \n",
       "55053           0.000  2.153216e+07      5.696     0.000       4.126   \n",
       "55054          -0.002  2.332076e+07      2.698     0.000       6.633   \n",
       "55055           0.000  2.395787e+07      0.899 -2346.003       7.579   \n",
       "55056          -0.002  2.010362e+07      3.598     0.000       3.758   \n",
       "55057          -0.002  2.471169e+07      0.600 -2346.003       8.360   \n",
       "55058           0.000  2.066629e+07      0.600 -2350.780       7.369   \n",
       "55059           0.001  2.022642e+07      2.099  1154.285       4.564   \n",
       "55060           0.001  2.422982e+07      7.195     0.000       9.410   \n",
       "55061           0.001  2.039158e+07      3.298  1154.285       4.838   \n",
       "55062          -0.002  2.471382e+07      2.099  -217.129       4.662   \n",
       "55063          -0.002  2.689723e+07      1.499 -2346.003      16.043   \n",
       "55064           0.000  2.341847e+07      2.998  1154.285       8.315   \n",
       "55065          -0.002  2.331842e+07      0.600 -2350.780      11.895   \n",
       "55066          -0.000  2.352409e+07      4.197  1154.285       7.965   \n",
       "55067          -0.001  2.379774e+07      0.600 -2346.003       7.226   \n",
       "\n",
       "       tropoDelayM  \n",
       "55040        8.100  \n",
       "55041        4.207  \n",
       "55042        2.717  \n",
       "55043       11.293  \n",
       "55044        8.443  \n",
       "55045        3.772  \n",
       "55046        7.899  \n",
       "55047       31.635  \n",
       "55048       11.293  \n",
       "55049        2.850  \n",
       "55050        2.946  \n",
       "55051        4.646  \n",
       "55052        9.234  \n",
       "55053        2.904  \n",
       "55054        5.761  \n",
       "55055        2.994  \n",
       "55056        2.514  \n",
       "55057        3.278  \n",
       "55058        2.850  \n",
       "55059        3.285  \n",
       "55060        8.443  \n",
       "55061        3.374  \n",
       "55062        3.278  \n",
       "55063        7.899  \n",
       "55064       11.693  \n",
       "55065        5.761  \n",
       "55066       13.196  \n",
       "55067        2.717  "
      ],
      "text/html": "<div>\n<style scoped>\n    .dataframe tbody tr th:only-of-type {\n        vertical-align: middle;\n    }\n\n    .dataframe tbody tr th {\n        vertical-align: top;\n    }\n\n    .dataframe thead th {\n        text-align: right;\n    }\n</style>\n<table border=\"1\" class=\"dataframe\">\n  <thead>\n    <tr style=\"text-align: right;\">\n      <th></th>\n      <th>collectionName</th>\n      <th>phoneName</th>\n      <th>millisSinceGpsEpoch</th>\n      <th>constellationType</th>\n      <th>svid</th>\n      <th>signalType</th>\n      <th>receivedSvTimeInGpsNanos</th>\n      <th>xSatPosM</th>\n      <th>ySatPosM</th>\n      <th>zSatPosM</th>\n      <th>xSatVelMps</th>\n      <th>ySatVelMps</th>\n      <th>zSatVelMps</th>\n      <th>satClkBiasM</th>\n      <th>satClkDriftMps</th>\n      <th>rawPrM</th>\n      <th>rawPrUncM</th>\n      <th>isrbM</th>\n      <th>ionoDelayM</th>\n      <th>tropoDelayM</th>\n    </tr>\n  </thead>\n  <tbody>\n    <tr>\n      <th>55040</th>\n      <td>2020-05-14-US-MTV-1</td>\n      <td>Pixel4</td>\n      <td>1273531198442</td>\n      <td>3</td>\n      <td>24</td>\n      <td>GLO_G1</td>\n      <td>1273531197366265618</td>\n      <td>-2.521083e+07</td>\n      <td>-3.972906e+05</td>\n      <td>3.900024e+06</td>\n      <td>541.370</td>\n      <td>146.212</td>\n      <td>3525.843</td>\n      <td>-467.003</td>\n      <td>0.001</td>\n      <td>2.283452e+07</td>\n      <td>3.897</td>\n      <td>1154.285</td>\n      <td>8.618</td>\n      <td>8.100</td>\n    </tr>\n    <tr>\n      <th>55041</th>\n      <td>2020-05-14-US-MTV-1</td>\n      <td>Pixel4</td>\n      <td>1273531198442</td>\n      <td>1</td>\n      <td>5</td>\n      <td>GPS_L1</td>\n      <td>1273531197368541658</td>\n      <td>-1.610844e+06</td>\n      <td>-2.631285e+07</td>\n      <td>2.040297e+06</td>\n      <td>355.910</td>\n      <td>237.511</td>\n      <td>3155.191</td>\n      <td>-3794.115</td>\n      <td>-0.001</td>\n      <td>2.215218e+07</td>\n      <td>1.799</td>\n      <td>0.000</td>\n      <td>5.967</td>\n      <td>4.207</td>\n    </tr>\n    <tr>\n      <th>55042</th>\n      <td>2020-05-14-US-MTV-1</td>\n      <td>Pixel4</td>\n      <td>1273531198442</td>\n      <td>6</td>\n      <td>21</td>\n      <td>GAL_E1</td>\n      <td>1273531197363045565</td>\n      <td>-1.562124e+07</td>\n      <td>-2.310162e+07</td>\n      <td>9.916260e+06</td>\n      <td>-451.098</td>\n      <td>-895.079</td>\n      <td>-2794.491</td>\n      <td>-179557.084</td>\n      <td>-0.001</td>\n      <td>2.379987e+07</td>\n      <td>2.398</td>\n      <td>-217.129</td>\n      <td>4.029</td>\n      <td>2.717</td>\n    </tr>\n    <tr>\n      <th>55043</th>\n      <td>2020-05-14-US-MTV-1</td>\n      <td>Pixel4</td>\n      <td>1273531198442</td>\n      <td>6</td>\n      <td>33</td>\n      <td>GAL_E5A</td>\n      <td>1273531197350096308</td>\n      <td>-2.932296e+07</td>\n      <td>-2.602035e+06</td>\n      <td>-3.023316e+06</td>\n      <td>-323.471</td>\n      <td>98.593</td>\n      <td>3048.802</td>\n      <td>-140084.932</td>\n      <td>0.000</td>\n      <td>2.768196e+07</td>\n      <td>0.899</td>\n      <td>-2346.003</td>\n      <td>18.449</td>\n      <td>11.293</td>\n    </tr>\n    <tr>\n      <th>55044</th>\n      <td>2020-05-14-US-MTV-1</td>\n      <td>Pixel4</td>\n      <td>1273531198442</td>\n      <td>1</td>\n      <td>24</td>\n      <td>GPS_L5</td>\n      <td>1273531197361619251</td>\n      <td>-2.053748e+07</td>\n      <td>-1.494203e+07</td>\n      <td>-8.579494e+06</td>\n      <td>1089.919</td>\n      <td>116.129</td>\n      <td>-2841.124</td>\n      <td>-3908.626</td>\n      <td>0.001</td>\n      <td>2.422747e+07</td>\n      <td>1.499</td>\n      <td>-2350.780</td>\n      <td>16.874</td>\n      <td>8.443</td>\n    </tr>\n    <tr>\n      <th>55045</th>\n      <td>2020-05-14-US-MTV-1</td>\n      <td>Pixel4</td>\n      <td>1273531198442</td>\n      <td>3</td>\n      <td>22</td>\n      <td>GLO_G1</td>\n      <td>1273531197372851960</td>\n      <td>2.304583e+06</td>\n      <td>-1.053884e+07</td>\n      <td>2.312461e+07</td>\n      <td>3159.538</td>\n      <td>-255.685</td>\n      <td>-419.976</td>\n      <td>-377.954</td>\n      <td>-0.000</td>\n      <td>2.085998e+07</td>\n      <td>2.698</td>\n      <td>1154.285</td>\n      <td>4.932</td>\n      <td>3.772</td>\n    </tr>\n    <tr>\n      <th>55046</th>\n      <td>2020-05-14-US-MTV-1</td>\n      <td>Pixel4</td>\n      <td>1273531198442</td>\n      <td>6</td>\n      <td>27</td>\n      <td>GAL_E1</td>\n      <td>1273531197352706802</td>\n      <td>-3.935136e+06</td>\n      <td>-2.791845e+07</td>\n      <td>-9.020663e+06</td>\n      <td>207.922</td>\n      <td>888.582</td>\n      <td>-2840.471</td>\n      <td>65950.275</td>\n      <td>-0.002</td>\n      <td>2.689935e+07</td>\n      <td>2.398</td>\n      <td>-217.129</td>\n      <td>8.946</td>\n      <td>7.899</td>\n    </tr>\n    <tr>\n      <th>55047</th>\n      <td>2020-05-14-US-MTV-1</td>\n      <td>Pixel4</td>\n      <td>1273531198442</td>\n      <td>3</td>\n      <td>11</td>\n      <td>GLO_G1</td>\n      <td>1273531197361551233</td>\n      <td>-6.231945e+06</td>\n      <td>-2.052187e+07</td>\n      <td>-1.375914e+07</td>\n      <td>996.663</td>\n      <td>1606.239</td>\n      <td>-2849.019</td>\n      <td>-7071.858</td>\n      <td>-0.000</td>\n      <td>2.424786e+07</td>\n      <td>8.094</td>\n      <td>1154.285</td>\n      <td>12.439</td>\n      <td>31.635</td>\n    </tr>\n    <tr>\n      <th>55048</th>\n      <td>2020-05-14-US-MTV-1</td>\n      <td>Pixel4</td>\n      <td>1273531198442</td>\n      <td>6</td>\n      <td>33</td>\n      <td>GAL_E1</td>\n      <td>1273531197350089232</td>\n      <td>-2.932296e+07</td>\n      <td>-2.602035e+06</td>\n      <td>-3.023316e+06</td>\n      <td>-323.471</td>\n      <td>98.593</td>\n      <td>3048.802</td>\n      <td>-140086.064</td>\n      <td>0.000</td>\n      <td>2.768408e+07</td>\n      <td>2.698</td>\n      <td>-217.129</td>\n      <td>10.288</td>\n      <td>11.293</td>\n    </tr>\n    <tr>\n      <th>55049</th>\n      <td>2020-05-14-US-MTV-1</td>\n      <td>Pixel4</td>\n      <td>1273531198442</td>\n      <td>1</td>\n      <td>25</td>\n      <td>GPS_L1</td>\n      <td>1273531197373490239</td>\n      <td>-1.466948e+07</td>\n      <td>-9.050284e+06</td>\n      <td>2.003916e+07</td>\n      <td>-122.090</td>\n      <td>-2588.126</td>\n      <td>-1217.438</td>\n      <td>1223.858</td>\n      <td>0.000</td>\n      <td>2.066863e+07</td>\n      <td>1.499</td>\n      <td>0.000</td>\n      <td>4.109</td>\n      <td>2.850</td>\n    </tr>\n    <tr>\n      <th>55050</th>\n      <td>2020-05-14-US-MTV-1</td>\n      <td>Pixel4</td>\n      <td>1273531198442</td>\n      <td>3</td>\n      <td>13</td>\n      <td>GLO_G1</td>\n      <td>1273531197376124258</td>\n      <td>-1.622241e+07</td>\n      <td>-8.088270e+06</td>\n      <td>1.792581e+07</td>\n      <td>-1510.883</td>\n      <td>-1942.732</td>\n      <td>-2241.724</td>\n      <td>-11599.509</td>\n      <td>0.000</td>\n      <td>1.987897e+07</td>\n      <td>6.296</td>\n      <td>1154.285</td>\n      <td>4.120</td>\n      <td>2.946</td>\n    </tr>\n    <tr>\n      <th>55051</th>\n      <td>2020-05-14-US-MTV-1</td>\n      <td>Pixel4</td>\n      <td>1273531198442</td>\n      <td>1</td>\n      <td>29</td>\n      <td>GPS_L1</td>\n      <td>1273531197367021547</td>\n      <td>-2.120640e+07</td>\n      <td>3.712144e+05</td>\n      <td>1.595710e+07</td>\n      <td>1668.265</td>\n      <td>-1162.090</td>\n      <td>2235.627</td>\n      <td>-31301.403</td>\n      <td>-0.003</td>\n      <td>2.260790e+07</td>\n      <td>1.799</td>\n      <td>0.000</td>\n      <td>6.282</td>\n      <td>4.646</td>\n    </tr>\n    <tr>\n      <th>55052</th>\n      <td>2020-05-14-US-MTV-1</td>\n      <td>Pixel4</td>\n      <td>1273531198442</td>\n      <td>3</td>\n      <td>7</td>\n      <td>GLO_G1</td>\n      <td>1273531197365357983</td>\n      <td>1.384561e+07</td>\n      <td>-1.964837e+07</td>\n      <td>8.638563e+06</td>\n      <td>-638.852</td>\n      <td>997.694</td>\n      <td>3305.478</td>\n      <td>-10944.777</td>\n      <td>0.000</td>\n      <td>2.310662e+07</td>\n      <td>2.998</td>\n      <td>1154.285</td>\n      <td>8.198</td>\n      <td>9.234</td>\n    </tr>\n    <tr>\n      <th>55053</th>\n      <td>2020-05-14-US-MTV-1</td>\n      <td>Pixel4</td>\n      <td>1273531198442</td>\n      <td>1</td>\n      <td>2</td>\n      <td>GPS_L1</td>\n      <td>1273531197370609820</td>\n      <td>-1.592095e+06</td>\n      <td>-1.663367e+07</td>\n      <td>2.129801e+07</td>\n      <td>2408.969</td>\n      <td>862.531</td>\n      <td>874.950</td>\n      <td>-136679.998</td>\n      <td>0.000</td>\n      <td>2.153216e+07</td>\n      <td>5.696</td>\n      <td>0.000</td>\n      <td>4.126</td>\n      <td>2.904</td>\n    </tr>\n    <tr>\n      <th>55054</th>\n      <td>2020-05-14-US-MTV-1</td>\n      <td>Pixel4</td>\n      <td>1273531198442</td>\n      <td>1</td>\n      <td>6</td>\n      <td>GPS_L1</td>\n      <td>1273531197364643681</td>\n      <td>1.037738e+07</td>\n      <td>-1.126124e+07</td>\n      <td>2.175866e+07</td>\n      <td>2470.100</td>\n      <td>1195.370</td>\n      <td>-556.353</td>\n      <td>-81414.653</td>\n      <td>-0.002</td>\n      <td>2.332076e+07</td>\n      <td>2.698</td>\n      <td>0.000</td>\n      <td>6.633</td>\n      <td>5.761</td>\n    </tr>\n    <tr>\n      <th>55055</th>\n      <td>2020-05-14-US-MTV-1</td>\n      <td>Pixel4</td>\n      <td>1273531198442</td>\n      <td>6</td>\n      <td>13</td>\n      <td>GAL_E5A</td>\n      <td>1273531197362518542</td>\n      <td>-1.125488e+06</td>\n      <td>-1.645446e+07</td>\n      <td>2.458221e+07</td>\n      <td>2435.612</td>\n      <td>400.893</td>\n      <td>380.798</td>\n      <td>120171.559</td>\n      <td>0.000</td>\n      <td>2.395787e+07</td>\n      <td>0.899</td>\n      <td>-2346.003</td>\n      <td>7.579</td>\n      <td>2.994</td>\n    </tr>\n    <tr>\n      <th>55056</th>\n      <td>2020-05-14-US-MTV-1</td>\n      <td>Pixel4</td>\n      <td>1273531198442</td>\n      <td>1</td>\n      <td>12</td>\n      <td>GPS_L1</td>\n      <td>1273531197375374906</td>\n      <td>-1.046450e+07</td>\n      <td>-1.906545e+07</td>\n      <td>1.511996e+07</td>\n      <td>131.727</td>\n      <td>-1954.412</td>\n      <td>-2321.266</td>\n      <td>35342.095</td>\n      <td>-0.002</td>\n      <td>2.010362e+07</td>\n      <td>3.598</td>\n      <td>0.000</td>\n      <td>3.758</td>\n      <td>2.514</td>\n    </tr>\n    <tr>\n      <th>55057</th>\n      <td>2020-05-14-US-MTV-1</td>\n      <td>Pixel4</td>\n      <td>1273531198442</td>\n      <td>6</td>\n      <td>1</td>\n      <td>GAL_E5A</td>\n      <td>1273531197360004050</td>\n      <td>-1.809781e+07</td>\n      <td>-5.065870e+06</td>\n      <td>2.286576e+07</td>\n      <td>-835.452</td>\n      <td>-2138.957</td>\n      <td>-1134.922</td>\n      <td>-256793.786</td>\n      <td>-0.002</td>\n      <td>2.471169e+07</td>\n      <td>0.600</td>\n      <td>-2346.003</td>\n      <td>8.360</td>\n      <td>3.278</td>\n    </tr>\n    <tr>\n      <th>55058</th>\n      <td>2020-05-14-US-MTV-1</td>\n      <td>Pixel4</td>\n      <td>1273531198442</td>\n      <td>1</td>\n      <td>25</td>\n      <td>GPS_L5</td>\n      <td>1273531197373498070</td>\n      <td>-1.466948e+07</td>\n      <td>-9.050284e+06</td>\n      <td>2.003916e+07</td>\n      <td>-122.090</td>\n      <td>-2588.126</td>\n      <td>-1217.438</td>\n      <td>1222.529</td>\n      <td>0.000</td>\n      <td>2.066629e+07</td>\n      <td>0.600</td>\n      <td>-2350.780</td>\n      <td>7.369</td>\n      <td>2.850</td>\n    </tr>\n    <tr>\n      <th>55059</th>\n      <td>2020-05-14-US-MTV-1</td>\n      <td>Pixel4</td>\n      <td>1273531198442</td>\n      <td>3</td>\n      <td>23</td>\n      <td>GLO_G1</td>\n      <td>1273531197374965309</td>\n      <td>-1.876079e+07</td>\n      <td>-5.940926e+06</td>\n      <td>1.621527e+07</td>\n      <td>2233.126</td>\n      <td>15.137</td>\n      <td>2587.972</td>\n      <td>91588.619</td>\n      <td>0.001</td>\n      <td>2.022642e+07</td>\n      <td>2.099</td>\n      <td>1154.285</td>\n      <td>4.564</td>\n      <td>3.285</td>\n    </tr>\n    <tr>\n      <th>55060</th>\n      <td>2020-05-14-US-MTV-1</td>\n      <td>Pixel4</td>\n      <td>1273531198442</td>\n      <td>1</td>\n      <td>24</td>\n      <td>GPS_L1</td>\n      <td>1273531197361611398</td>\n      <td>-2.053748e+07</td>\n      <td>-1.494203e+07</td>\n      <td>-8.579494e+06</td>\n      <td>1089.918</td>\n      <td>116.129</td>\n      <td>-2841.125</td>\n      <td>-3907.962</td>\n      <td>0.001</td>\n      <td>2.422982e+07</td>\n      <td>7.195</td>\n      <td>0.000</td>\n      <td>9.410</td>\n      <td>8.443</td>\n    </tr>\n    <tr>\n      <th>55061</th>\n      <td>2020-05-14-US-MTV-1</td>\n      <td>Pixel4</td>\n      <td>1273531198442</td>\n      <td>3</td>\n      <td>12</td>\n      <td>GLO_G1</td>\n      <td>1273531197374414374</td>\n      <td>-1.546457e+07</td>\n      <td>-2.015910e+07</td>\n      <td>2.409593e+06</td>\n      <td>-325.096</td>\n      <td>-171.153</td>\n      <td>-3551.493</td>\n      <td>39205.124</td>\n      <td>0.001</td>\n      <td>2.039158e+07</td>\n      <td>3.298</td>\n      <td>1154.285</td>\n      <td>4.838</td>\n      <td>3.374</td>\n    </tr>\n    <tr>\n      <th>55062</th>\n      <td>2020-05-14-US-MTV-1</td>\n      <td>Pixel4</td>\n      <td>1273531198442</td>\n      <td>6</td>\n      <td>1</td>\n      <td>GAL_E1</td>\n      <td>1273531197359996960</td>\n      <td>-1.809781e+07</td>\n      <td>-5.065870e+06</td>\n      <td>2.286576e+07</td>\n      <td>-835.452</td>\n      <td>-2138.957</td>\n      <td>-1134.922</td>\n      <td>-256794.179</td>\n      <td>-0.002</td>\n      <td>2.471382e+07</td>\n      <td>2.099</td>\n      <td>-217.129</td>\n      <td>4.662</td>\n      <td>3.278</td>\n    </tr>\n    <tr>\n      <th>55063</th>\n      <td>2020-05-14-US-MTV-1</td>\n      <td>Pixel4</td>\n      <td>1273531198442</td>\n      <td>6</td>\n      <td>27</td>\n      <td>GAL_E5A</td>\n      <td>1273531197352713890</td>\n      <td>-3.935136e+06</td>\n      <td>-2.791845e+07</td>\n      <td>-9.020663e+06</td>\n      <td>207.922</td>\n      <td>888.582</td>\n      <td>-2840.471</td>\n      <td>65950.191</td>\n      <td>-0.002</td>\n      <td>2.689723e+07</td>\n      <td>1.499</td>\n      <td>-2346.003</td>\n      <td>16.043</td>\n      <td>7.899</td>\n    </tr>\n    <tr>\n      <th>55064</th>\n      <td>2020-05-14-US-MTV-1</td>\n      <td>Pixel4</td>\n      <td>1273531198442</td>\n      <td>3</td>\n      <td>14</td>\n      <td>GLO_G1</td>\n      <td>1273531197364317780</td>\n      <td>-7.318971e+06</td>\n      <td>8.677623e+06</td>\n      <td>2.285251e+07</td>\n      <td>-1771.061</td>\n      <td>-2575.639</td>\n      <td>409.544</td>\n      <td>15352.562</td>\n      <td>0.000</td>\n      <td>2.341847e+07</td>\n      <td>2.998</td>\n      <td>1154.285</td>\n      <td>8.315</td>\n      <td>11.693</td>\n    </tr>\n    <tr>\n      <th>55065</th>\n      <td>2020-05-14-US-MTV-1</td>\n      <td>Pixel4</td>\n      <td>1273531198442</td>\n      <td>1</td>\n      <td>6</td>\n      <td>GPS_L5</td>\n      <td>1273531197364651496</td>\n      <td>1.037738e+07</td>\n      <td>-1.126124e+07</td>\n      <td>2.175866e+07</td>\n      <td>2470.100</td>\n      <td>1195.370</td>\n      <td>-556.353</td>\n      <td>-81415.650</td>\n      <td>-0.002</td>\n      <td>2.331842e+07</td>\n      <td>0.600</td>\n      <td>-2350.780</td>\n      <td>11.895</td>\n      <td>5.761</td>\n    </tr>\n    <tr>\n      <th>55066</th>\n      <td>2020-05-14-US-MTV-1</td>\n      <td>Pixel4</td>\n      <td>1273531198442</td>\n      <td>3</td>\n      <td>6</td>\n      <td>GLO_G1</td>\n      <td>1273531197363965471</td>\n      <td>1.353720e+07</td>\n      <td>-5.493407e+06</td>\n      <td>2.091260e+07</td>\n      <td>-1221.441</td>\n      <td>2589.471</td>\n      <td>1468.590</td>\n      <td>52934.747</td>\n      <td>-0.000</td>\n      <td>2.352409e+07</td>\n      <td>4.197</td>\n      <td>1154.285</td>\n      <td>7.965</td>\n      <td>13.196</td>\n    </tr>\n    <tr>\n      <th>55067</th>\n      <td>2020-05-14-US-MTV-1</td>\n      <td>Pixel4</td>\n      <td>1273531198442</td>\n      <td>6</td>\n      <td>21</td>\n      <td>GAL_E5A</td>\n      <td>1273531197363052655</td>\n      <td>-1.562124e+07</td>\n      <td>-2.310162e+07</td>\n      <td>9.916260e+06</td>\n      <td>-451.098</td>\n      <td>-895.079</td>\n      <td>-2794.491</td>\n      <td>-179557.241</td>\n      <td>-0.001</td>\n      <td>2.379774e+07</td>\n      <td>0.600</td>\n      <td>-2346.003</td>\n      <td>7.226</td>\n      <td>2.717</td>\n    </tr>\n  </tbody>\n</table>\n</div>"
     },
     "metadata": {},
     "execution_count": 35
    }
   ],
   "source": [
    "derived[derived['millisSinceGpsEpoch']==1273531198442]"
   ]
  },
  {
   "cell_type": "code",
   "execution_count": 27,
   "metadata": {},
   "outputs": [
    {
     "output_type": "execute_result",
     "data": {
      "text/plain": [
       "0       1273529463442\n",
       "1       1273529464442\n",
       "2       1273529465442\n",
       "3       1273529466442\n",
       "4       1273529467442\n",
       "            ...      \n",
       "1735    1273531198442\n",
       "1736    1273531199442\n",
       "1737    1273531200442\n",
       "1738    1273531201442\n",
       "1739    1273531202442\n",
       "Name: millisSinceGpsEpoch, Length: 1740, dtype: int64"
      ]
     },
     "metadata": {},
     "execution_count": 27
    }
   ],
   "source": [
    "base['millisSinceGpsEpoch']"
   ]
  },
  {
   "cell_type": "code",
   "execution_count": 30,
   "metadata": {},
   "outputs": [
    {
     "output_type": "stream",
     "name": "stderr",
     "text": [
      "ipykernel_launcher:1: DeprecationWarning: elementwise comparison failed; this will raise an error in the future.\n"
     ]
    },
    {
     "output_type": "error",
     "ename": "KeyError",
     "evalue": "False",
     "traceback": [
      "\u001b[0;31m---------------------------------------------------------------------------\u001b[0m",
      "\u001b[0;31mKeyError\u001b[0m                                  Traceback (most recent call last)",
      "\u001b[0;32m~/Desktop/Competitions/kaggle/outdoor/venv_outdoor/lib/python3.7/site-packages/pandas/core/indexes/base.py\u001b[0m in \u001b[0;36mget_loc\u001b[0;34m(self, key, method, tolerance)\u001b[0m\n\u001b[1;32m   3079\u001b[0m             \u001b[0;32mtry\u001b[0m\u001b[0;34m:\u001b[0m\u001b[0;34m\u001b[0m\u001b[0;34m\u001b[0m\u001b[0m\n\u001b[0;32m-> 3080\u001b[0;31m                 \u001b[0;32mreturn\u001b[0m \u001b[0mself\u001b[0m\u001b[0;34m.\u001b[0m\u001b[0m_engine\u001b[0m\u001b[0;34m.\u001b[0m\u001b[0mget_loc\u001b[0m\u001b[0;34m(\u001b[0m\u001b[0mcasted_key\u001b[0m\u001b[0;34m)\u001b[0m\u001b[0;34m\u001b[0m\u001b[0;34m\u001b[0m\u001b[0m\n\u001b[0m\u001b[1;32m   3081\u001b[0m             \u001b[0;32mexcept\u001b[0m \u001b[0mKeyError\u001b[0m \u001b[0;32mas\u001b[0m \u001b[0merr\u001b[0m\u001b[0;34m:\u001b[0m\u001b[0;34m\u001b[0m\u001b[0;34m\u001b[0m\u001b[0m\n",
      "\u001b[0;32mpandas/_libs/index.pyx\u001b[0m in \u001b[0;36mpandas._libs.index.IndexEngine.get_loc\u001b[0;34m()\u001b[0m\n",
      "\u001b[0;32mpandas/_libs/index.pyx\u001b[0m in \u001b[0;36mpandas._libs.index.IndexEngine.get_loc\u001b[0;34m()\u001b[0m\n",
      "\u001b[0;32mpandas/_libs/hashtable_class_helper.pxi\u001b[0m in \u001b[0;36mpandas._libs.hashtable.PyObjectHashTable.get_item\u001b[0;34m()\u001b[0m\n",
      "\u001b[0;32mpandas/_libs/hashtable_class_helper.pxi\u001b[0m in \u001b[0;36mpandas._libs.hashtable.PyObjectHashTable.get_item\u001b[0;34m()\u001b[0m\n",
      "\u001b[0;31mKeyError\u001b[0m: False",
      "\nThe above exception was the direct cause of the following exception:\n",
      "\u001b[0;31mKeyError\u001b[0m                                  Traceback (most recent call last)",
      "\u001b[0;32m<ipython-input-30-d5e72967bf98>\u001b[0m in \u001b[0;36m<module>\u001b[0;34m\u001b[0m\n\u001b[0;32m----> 1\u001b[0;31m \u001b[0mderived\u001b[0m\u001b[0;34m[\u001b[0m\u001b[0mderived\u001b[0m\u001b[0;34m[\u001b[0m\u001b[0;34m'millisSinceGpsEpoch'\u001b[0m\u001b[0;34m]\u001b[0m\u001b[0;34m.\u001b[0m\u001b[0mvalues\u001b[0m\u001b[0;34m==\u001b[0m\u001b[0mbase\u001b[0m\u001b[0;34m[\u001b[0m\u001b[0;34m'millisSinceGpsEpoch'\u001b[0m\u001b[0;34m]\u001b[0m\u001b[0;34m.\u001b[0m\u001b[0mvalues\u001b[0m\u001b[0;34m]\u001b[0m\u001b[0;34m\u001b[0m\u001b[0;34m\u001b[0m\u001b[0m\n\u001b[0m",
      "\u001b[0;32m~/Desktop/Competitions/kaggle/outdoor/venv_outdoor/lib/python3.7/site-packages/pandas/core/frame.py\u001b[0m in \u001b[0;36m__getitem__\u001b[0;34m(self, key)\u001b[0m\n\u001b[1;32m   3022\u001b[0m             \u001b[0;32mif\u001b[0m \u001b[0mself\u001b[0m\u001b[0;34m.\u001b[0m\u001b[0mcolumns\u001b[0m\u001b[0;34m.\u001b[0m\u001b[0mnlevels\u001b[0m \u001b[0;34m>\u001b[0m \u001b[0;36m1\u001b[0m\u001b[0;34m:\u001b[0m\u001b[0;34m\u001b[0m\u001b[0;34m\u001b[0m\u001b[0m\n\u001b[1;32m   3023\u001b[0m                 \u001b[0;32mreturn\u001b[0m \u001b[0mself\u001b[0m\u001b[0;34m.\u001b[0m\u001b[0m_getitem_multilevel\u001b[0m\u001b[0;34m(\u001b[0m\u001b[0mkey\u001b[0m\u001b[0;34m)\u001b[0m\u001b[0;34m\u001b[0m\u001b[0;34m\u001b[0m\u001b[0m\n\u001b[0;32m-> 3024\u001b[0;31m             \u001b[0mindexer\u001b[0m \u001b[0;34m=\u001b[0m \u001b[0mself\u001b[0m\u001b[0;34m.\u001b[0m\u001b[0mcolumns\u001b[0m\u001b[0;34m.\u001b[0m\u001b[0mget_loc\u001b[0m\u001b[0;34m(\u001b[0m\u001b[0mkey\u001b[0m\u001b[0;34m)\u001b[0m\u001b[0;34m\u001b[0m\u001b[0;34m\u001b[0m\u001b[0m\n\u001b[0m\u001b[1;32m   3025\u001b[0m             \u001b[0;32mif\u001b[0m \u001b[0mis_integer\u001b[0m\u001b[0;34m(\u001b[0m\u001b[0mindexer\u001b[0m\u001b[0;34m)\u001b[0m\u001b[0;34m:\u001b[0m\u001b[0;34m\u001b[0m\u001b[0;34m\u001b[0m\u001b[0m\n\u001b[1;32m   3026\u001b[0m                 \u001b[0mindexer\u001b[0m \u001b[0;34m=\u001b[0m \u001b[0;34m[\u001b[0m\u001b[0mindexer\u001b[0m\u001b[0;34m]\u001b[0m\u001b[0;34m\u001b[0m\u001b[0;34m\u001b[0m\u001b[0m\n",
      "\u001b[0;32m~/Desktop/Competitions/kaggle/outdoor/venv_outdoor/lib/python3.7/site-packages/pandas/core/indexes/base.py\u001b[0m in \u001b[0;36mget_loc\u001b[0;34m(self, key, method, tolerance)\u001b[0m\n\u001b[1;32m   3080\u001b[0m                 \u001b[0;32mreturn\u001b[0m \u001b[0mself\u001b[0m\u001b[0;34m.\u001b[0m\u001b[0m_engine\u001b[0m\u001b[0;34m.\u001b[0m\u001b[0mget_loc\u001b[0m\u001b[0;34m(\u001b[0m\u001b[0mcasted_key\u001b[0m\u001b[0;34m)\u001b[0m\u001b[0;34m\u001b[0m\u001b[0;34m\u001b[0m\u001b[0m\n\u001b[1;32m   3081\u001b[0m             \u001b[0;32mexcept\u001b[0m \u001b[0mKeyError\u001b[0m \u001b[0;32mas\u001b[0m \u001b[0merr\u001b[0m\u001b[0;34m:\u001b[0m\u001b[0;34m\u001b[0m\u001b[0;34m\u001b[0m\u001b[0m\n\u001b[0;32m-> 3082\u001b[0;31m                 \u001b[0;32mraise\u001b[0m \u001b[0mKeyError\u001b[0m\u001b[0;34m(\u001b[0m\u001b[0mkey\u001b[0m\u001b[0;34m)\u001b[0m \u001b[0;32mfrom\u001b[0m \u001b[0merr\u001b[0m\u001b[0;34m\u001b[0m\u001b[0;34m\u001b[0m\u001b[0m\n\u001b[0m\u001b[1;32m   3083\u001b[0m \u001b[0;34m\u001b[0m\u001b[0m\n\u001b[1;32m   3084\u001b[0m         \u001b[0;32mif\u001b[0m \u001b[0mtolerance\u001b[0m \u001b[0;32mis\u001b[0m \u001b[0;32mnot\u001b[0m \u001b[0;32mNone\u001b[0m\u001b[0;34m:\u001b[0m\u001b[0;34m\u001b[0m\u001b[0;34m\u001b[0m\u001b[0m\n",
      "\u001b[0;31mKeyError\u001b[0m: False"
     ]
    }
   ],
   "source": [
    "derived[derived['millisSinceGpsEpoch'].values==base['millisSinceGpsEpoch'].values]"
   ]
  },
  {
   "cell_type": "code",
   "execution_count": 36,
   "metadata": {},
   "outputs": [],
   "source": [
    "sub017 = pd.read_csv('../output/sub_nb017.csv')"
   ]
  },
  {
   "cell_type": "code",
   "execution_count": 37,
   "metadata": {},
   "outputs": [
    {
     "output_type": "execute_result",
     "data": {
      "text/plain": [
       "                                     phone  millisSinceGpsEpoch     latDeg  \\\n",
       "0               2020-05-15-US-MTV-1_Pixel4        1273608785432  37.416586   \n",
       "1               2020-05-15-US-MTV-1_Pixel4        1273608786432  37.416594   \n",
       "2               2020-05-15-US-MTV-1_Pixel4        1273608787432  37.416600   \n",
       "3               2020-05-15-US-MTV-1_Pixel4        1273608788432  37.416602   \n",
       "4               2020-05-15-US-MTV-1_Pixel4        1273608789432  37.416601   \n",
       "...                                    ...                  ...        ...   \n",
       "91481  2021-04-29-US-SJC-3_SamsungS20Ultra        1303763185000  37.334542   \n",
       "91482  2021-04-29-US-SJC-3_SamsungS20Ultra        1303763186000  37.334542   \n",
       "91483  2021-04-29-US-SJC-3_SamsungS20Ultra        1303763187000  37.334544   \n",
       "91484  2021-04-29-US-SJC-3_SamsungS20Ultra        1303763188000  37.334547   \n",
       "91485  2021-04-29-US-SJC-3_SamsungS20Ultra        1303763189000  37.334553   \n",
       "\n",
       "           lngDeg  \n",
       "0     -122.082022  \n",
       "1     -122.082037  \n",
       "2     -122.082049  \n",
       "3     -122.082057  \n",
       "4     -122.082061  \n",
       "...           ...  \n",
       "91481 -121.899397  \n",
       "91482 -121.899388  \n",
       "91483 -121.899379  \n",
       "91484 -121.899371  \n",
       "91485 -121.899361  \n",
       "\n",
       "[91486 rows x 4 columns]"
      ],
      "text/html": "<div>\n<style scoped>\n    .dataframe tbody tr th:only-of-type {\n        vertical-align: middle;\n    }\n\n    .dataframe tbody tr th {\n        vertical-align: top;\n    }\n\n    .dataframe thead th {\n        text-align: right;\n    }\n</style>\n<table border=\"1\" class=\"dataframe\">\n  <thead>\n    <tr style=\"text-align: right;\">\n      <th></th>\n      <th>phone</th>\n      <th>millisSinceGpsEpoch</th>\n      <th>latDeg</th>\n      <th>lngDeg</th>\n    </tr>\n  </thead>\n  <tbody>\n    <tr>\n      <th>0</th>\n      <td>2020-05-15-US-MTV-1_Pixel4</td>\n      <td>1273608785432</td>\n      <td>37.416586</td>\n      <td>-122.082022</td>\n    </tr>\n    <tr>\n      <th>1</th>\n      <td>2020-05-15-US-MTV-1_Pixel4</td>\n      <td>1273608786432</td>\n      <td>37.416594</td>\n      <td>-122.082037</td>\n    </tr>\n    <tr>\n      <th>2</th>\n      <td>2020-05-15-US-MTV-1_Pixel4</td>\n      <td>1273608787432</td>\n      <td>37.416600</td>\n      <td>-122.082049</td>\n    </tr>\n    <tr>\n      <th>3</th>\n      <td>2020-05-15-US-MTV-1_Pixel4</td>\n      <td>1273608788432</td>\n      <td>37.416602</td>\n      <td>-122.082057</td>\n    </tr>\n    <tr>\n      <th>4</th>\n      <td>2020-05-15-US-MTV-1_Pixel4</td>\n      <td>1273608789432</td>\n      <td>37.416601</td>\n      <td>-122.082061</td>\n    </tr>\n    <tr>\n      <th>...</th>\n      <td>...</td>\n      <td>...</td>\n      <td>...</td>\n      <td>...</td>\n    </tr>\n    <tr>\n      <th>91481</th>\n      <td>2021-04-29-US-SJC-3_SamsungS20Ultra</td>\n      <td>1303763185000</td>\n      <td>37.334542</td>\n      <td>-121.899397</td>\n    </tr>\n    <tr>\n      <th>91482</th>\n      <td>2021-04-29-US-SJC-3_SamsungS20Ultra</td>\n      <td>1303763186000</td>\n      <td>37.334542</td>\n      <td>-121.899388</td>\n    </tr>\n    <tr>\n      <th>91483</th>\n      <td>2021-04-29-US-SJC-3_SamsungS20Ultra</td>\n      <td>1303763187000</td>\n      <td>37.334544</td>\n      <td>-121.899379</td>\n    </tr>\n    <tr>\n      <th>91484</th>\n      <td>2021-04-29-US-SJC-3_SamsungS20Ultra</td>\n      <td>1303763188000</td>\n      <td>37.334547</td>\n      <td>-121.899371</td>\n    </tr>\n    <tr>\n      <th>91485</th>\n      <td>2021-04-29-US-SJC-3_SamsungS20Ultra</td>\n      <td>1303763189000</td>\n      <td>37.334553</td>\n      <td>-121.899361</td>\n    </tr>\n  </tbody>\n</table>\n<p>91486 rows × 4 columns</p>\n</div>"
     },
     "metadata": {},
     "execution_count": 37
    }
   ],
   "source": [
    "sub017"
   ]
  },
  {
   "cell_type": "code",
   "execution_count": 38,
   "metadata": {},
   "outputs": [],
   "source": [
    "sub005 = pd.read_csv('../output/sub_nb005.csv')"
   ]
  },
  {
   "cell_type": "code",
   "execution_count": 39,
   "metadata": {},
   "outputs": [
    {
     "output_type": "execute_result",
     "data": {
      "text/plain": [
       "                                     phone  millisSinceGpsEpoch     latDeg  \\\n",
       "0               2020-05-15-US-MTV-1_Pixel4        1273608785432  37.416586   \n",
       "1               2020-05-15-US-MTV-1_Pixel4        1273608786432  37.416597   \n",
       "2               2020-05-15-US-MTV-1_Pixel4        1273608787432  37.416602   \n",
       "3               2020-05-15-US-MTV-1_Pixel4        1273608788432  37.416603   \n",
       "4               2020-05-15-US-MTV-1_Pixel4        1273608789432  37.416605   \n",
       "...                                    ...                  ...        ...   \n",
       "91481  2021-04-29-US-SJC-3_SamsungS20Ultra        1303763185000  37.334542   \n",
       "91482  2021-04-29-US-SJC-3_SamsungS20Ultra        1303763186000  37.334544   \n",
       "91483  2021-04-29-US-SJC-3_SamsungS20Ultra        1303763187000  37.334546   \n",
       "91484  2021-04-29-US-SJC-3_SamsungS20Ultra        1303763188000  37.334550   \n",
       "91485  2021-04-29-US-SJC-3_SamsungS20Ultra        1303763189000  37.334557   \n",
       "\n",
       "           lngDeg  \n",
       "0     -122.082022  \n",
       "1     -122.082043  \n",
       "2     -122.082056  \n",
       "3     -122.082064  \n",
       "4     -122.082067  \n",
       "...           ...  \n",
       "91481 -121.899389  \n",
       "91482 -121.899381  \n",
       "91483 -121.899373  \n",
       "91484 -121.899365  \n",
       "91485 -121.899355  \n",
       "\n",
       "[91486 rows x 4 columns]"
      ],
      "text/html": "<div>\n<style scoped>\n    .dataframe tbody tr th:only-of-type {\n        vertical-align: middle;\n    }\n\n    .dataframe tbody tr th {\n        vertical-align: top;\n    }\n\n    .dataframe thead th {\n        text-align: right;\n    }\n</style>\n<table border=\"1\" class=\"dataframe\">\n  <thead>\n    <tr style=\"text-align: right;\">\n      <th></th>\n      <th>phone</th>\n      <th>millisSinceGpsEpoch</th>\n      <th>latDeg</th>\n      <th>lngDeg</th>\n    </tr>\n  </thead>\n  <tbody>\n    <tr>\n      <th>0</th>\n      <td>2020-05-15-US-MTV-1_Pixel4</td>\n      <td>1273608785432</td>\n      <td>37.416586</td>\n      <td>-122.082022</td>\n    </tr>\n    <tr>\n      <th>1</th>\n      <td>2020-05-15-US-MTV-1_Pixel4</td>\n      <td>1273608786432</td>\n      <td>37.416597</td>\n      <td>-122.082043</td>\n    </tr>\n    <tr>\n      <th>2</th>\n      <td>2020-05-15-US-MTV-1_Pixel4</td>\n      <td>1273608787432</td>\n      <td>37.416602</td>\n      <td>-122.082056</td>\n    </tr>\n    <tr>\n      <th>3</th>\n      <td>2020-05-15-US-MTV-1_Pixel4</td>\n      <td>1273608788432</td>\n      <td>37.416603</td>\n      <td>-122.082064</td>\n    </tr>\n    <tr>\n      <th>4</th>\n      <td>2020-05-15-US-MTV-1_Pixel4</td>\n      <td>1273608789432</td>\n      <td>37.416605</td>\n      <td>-122.082067</td>\n    </tr>\n    <tr>\n      <th>...</th>\n      <td>...</td>\n      <td>...</td>\n      <td>...</td>\n      <td>...</td>\n    </tr>\n    <tr>\n      <th>91481</th>\n      <td>2021-04-29-US-SJC-3_SamsungS20Ultra</td>\n      <td>1303763185000</td>\n      <td>37.334542</td>\n      <td>-121.899389</td>\n    </tr>\n    <tr>\n      <th>91482</th>\n      <td>2021-04-29-US-SJC-3_SamsungS20Ultra</td>\n      <td>1303763186000</td>\n      <td>37.334544</td>\n      <td>-121.899381</td>\n    </tr>\n    <tr>\n      <th>91483</th>\n      <td>2021-04-29-US-SJC-3_SamsungS20Ultra</td>\n      <td>1303763187000</td>\n      <td>37.334546</td>\n      <td>-121.899373</td>\n    </tr>\n    <tr>\n      <th>91484</th>\n      <td>2021-04-29-US-SJC-3_SamsungS20Ultra</td>\n      <td>1303763188000</td>\n      <td>37.334550</td>\n      <td>-121.899365</td>\n    </tr>\n    <tr>\n      <th>91485</th>\n      <td>2021-04-29-US-SJC-3_SamsungS20Ultra</td>\n      <td>1303763189000</td>\n      <td>37.334557</td>\n      <td>-121.899355</td>\n    </tr>\n  </tbody>\n</table>\n<p>91486 rows × 4 columns</p>\n</div>"
     },
     "metadata": {},
     "execution_count": 39
    }
   ],
   "source": [
    "sub005"
   ]
  },
  {
   "cell_type": "code",
   "execution_count": 40,
   "metadata": {},
   "outputs": [],
   "source": [
    "base_test = pd.read_csv(INPUT+'baseline_locations_test.csv')"
   ]
  },
  {
   "cell_type": "code",
   "execution_count": 41,
   "metadata": {},
   "outputs": [
    {
     "output_type": "execute_result",
     "data": {
      "text/plain": [
       "            collectionName        phoneName  millisSinceGpsEpoch     latDeg  \\\n",
       "0      2020-05-15-US-MTV-1           Pixel4        1273608785432  37.416628   \n",
       "1      2020-05-15-US-MTV-1           Pixel4        1273608786432  37.416646   \n",
       "2      2020-05-15-US-MTV-1           Pixel4        1273608787432  37.416652   \n",
       "3      2020-05-15-US-MTV-1           Pixel4        1273608788432  37.416607   \n",
       "4      2020-05-15-US-MTV-1           Pixel4        1273608789432  37.416609   \n",
       "...                    ...              ...                  ...        ...   \n",
       "91481  2021-04-29-US-SJC-3  SamsungS20Ultra        1303763185000  37.334539   \n",
       "91482  2021-04-29-US-SJC-3  SamsungS20Ultra        1303763186000  37.334545   \n",
       "91483  2021-04-29-US-SJC-3  SamsungS20Ultra        1303763187000  37.334551   \n",
       "91484  2021-04-29-US-SJC-3  SamsungS20Ultra        1303763188000  37.334540   \n",
       "91485  2021-04-29-US-SJC-3  SamsungS20Ultra        1303763189000  37.334562   \n",
       "\n",
       "           lngDeg  heightAboveWgs84EllipsoidM  \\\n",
       "0     -122.082053                      -30.69   \n",
       "1     -122.082040                      -31.76   \n",
       "2     -122.082039                      -31.65   \n",
       "3     -122.082063                      -31.52   \n",
       "4     -122.082073                      -28.95   \n",
       "...           ...                         ...   \n",
       "91481 -121.899383                       -8.39   \n",
       "91482 -121.899380                       -7.36   \n",
       "91483 -121.899371                       -4.08   \n",
       "91484 -121.899371                       -5.70   \n",
       "91485 -121.899354                       -0.90   \n",
       "\n",
       "                                     phone  \n",
       "0               2020-05-15-US-MTV-1_Pixel4  \n",
       "1               2020-05-15-US-MTV-1_Pixel4  \n",
       "2               2020-05-15-US-MTV-1_Pixel4  \n",
       "3               2020-05-15-US-MTV-1_Pixel4  \n",
       "4               2020-05-15-US-MTV-1_Pixel4  \n",
       "...                                    ...  \n",
       "91481  2021-04-29-US-SJC-3_SamsungS20Ultra  \n",
       "91482  2021-04-29-US-SJC-3_SamsungS20Ultra  \n",
       "91483  2021-04-29-US-SJC-3_SamsungS20Ultra  \n",
       "91484  2021-04-29-US-SJC-3_SamsungS20Ultra  \n",
       "91485  2021-04-29-US-SJC-3_SamsungS20Ultra  \n",
       "\n",
       "[91486 rows x 7 columns]"
      ],
      "text/html": "<div>\n<style scoped>\n    .dataframe tbody tr th:only-of-type {\n        vertical-align: middle;\n    }\n\n    .dataframe tbody tr th {\n        vertical-align: top;\n    }\n\n    .dataframe thead th {\n        text-align: right;\n    }\n</style>\n<table border=\"1\" class=\"dataframe\">\n  <thead>\n    <tr style=\"text-align: right;\">\n      <th></th>\n      <th>collectionName</th>\n      <th>phoneName</th>\n      <th>millisSinceGpsEpoch</th>\n      <th>latDeg</th>\n      <th>lngDeg</th>\n      <th>heightAboveWgs84EllipsoidM</th>\n      <th>phone</th>\n    </tr>\n  </thead>\n  <tbody>\n    <tr>\n      <th>0</th>\n      <td>2020-05-15-US-MTV-1</td>\n      <td>Pixel4</td>\n      <td>1273608785432</td>\n      <td>37.416628</td>\n      <td>-122.082053</td>\n      <td>-30.69</td>\n      <td>2020-05-15-US-MTV-1_Pixel4</td>\n    </tr>\n    <tr>\n      <th>1</th>\n      <td>2020-05-15-US-MTV-1</td>\n      <td>Pixel4</td>\n      <td>1273608786432</td>\n      <td>37.416646</td>\n      <td>-122.082040</td>\n      <td>-31.76</td>\n      <td>2020-05-15-US-MTV-1_Pixel4</td>\n    </tr>\n    <tr>\n      <th>2</th>\n      <td>2020-05-15-US-MTV-1</td>\n      <td>Pixel4</td>\n      <td>1273608787432</td>\n      <td>37.416652</td>\n      <td>-122.082039</td>\n      <td>-31.65</td>\n      <td>2020-05-15-US-MTV-1_Pixel4</td>\n    </tr>\n    <tr>\n      <th>3</th>\n      <td>2020-05-15-US-MTV-1</td>\n      <td>Pixel4</td>\n      <td>1273608788432</td>\n      <td>37.416607</td>\n      <td>-122.082063</td>\n      <td>-31.52</td>\n      <td>2020-05-15-US-MTV-1_Pixel4</td>\n    </tr>\n    <tr>\n      <th>4</th>\n      <td>2020-05-15-US-MTV-1</td>\n      <td>Pixel4</td>\n      <td>1273608789432</td>\n      <td>37.416609</td>\n      <td>-122.082073</td>\n      <td>-28.95</td>\n      <td>2020-05-15-US-MTV-1_Pixel4</td>\n    </tr>\n    <tr>\n      <th>...</th>\n      <td>...</td>\n      <td>...</td>\n      <td>...</td>\n      <td>...</td>\n      <td>...</td>\n      <td>...</td>\n      <td>...</td>\n    </tr>\n    <tr>\n      <th>91481</th>\n      <td>2021-04-29-US-SJC-3</td>\n      <td>SamsungS20Ultra</td>\n      <td>1303763185000</td>\n      <td>37.334539</td>\n      <td>-121.899383</td>\n      <td>-8.39</td>\n      <td>2021-04-29-US-SJC-3_SamsungS20Ultra</td>\n    </tr>\n    <tr>\n      <th>91482</th>\n      <td>2021-04-29-US-SJC-3</td>\n      <td>SamsungS20Ultra</td>\n      <td>1303763186000</td>\n      <td>37.334545</td>\n      <td>-121.899380</td>\n      <td>-7.36</td>\n      <td>2021-04-29-US-SJC-3_SamsungS20Ultra</td>\n    </tr>\n    <tr>\n      <th>91483</th>\n      <td>2021-04-29-US-SJC-3</td>\n      <td>SamsungS20Ultra</td>\n      <td>1303763187000</td>\n      <td>37.334551</td>\n      <td>-121.899371</td>\n      <td>-4.08</td>\n      <td>2021-04-29-US-SJC-3_SamsungS20Ultra</td>\n    </tr>\n    <tr>\n      <th>91484</th>\n      <td>2021-04-29-US-SJC-3</td>\n      <td>SamsungS20Ultra</td>\n      <td>1303763188000</td>\n      <td>37.334540</td>\n      <td>-121.899371</td>\n      <td>-5.70</td>\n      <td>2021-04-29-US-SJC-3_SamsungS20Ultra</td>\n    </tr>\n    <tr>\n      <th>91485</th>\n      <td>2021-04-29-US-SJC-3</td>\n      <td>SamsungS20Ultra</td>\n      <td>1303763189000</td>\n      <td>37.334562</td>\n      <td>-121.899354</td>\n      <td>-0.90</td>\n      <td>2021-04-29-US-SJC-3_SamsungS20Ultra</td>\n    </tr>\n  </tbody>\n</table>\n<p>91486 rows × 7 columns</p>\n</div>"
     },
     "metadata": {},
     "execution_count": 41
    }
   ],
   "source": [
    "base_test"
   ]
  },
  {
   "cell_type": "code",
   "execution_count": 43,
   "metadata": {},
   "outputs": [],
   "source": [
    "test_derived = pd.read_csv(INPUT+'test/2020-05-15-US-MTV-1/Pixel4/Pixel4_derived.csv')"
   ]
  },
  {
   "cell_type": "code",
   "execution_count": 44,
   "metadata": {},
   "outputs": [
    {
     "output_type": "execute_result",
     "data": {
      "text/plain": [
       "            collectionName phoneName  millisSinceGpsEpoch  constellationType  \\\n",
       "0      2020-05-15-US-MTV-1    Pixel4        1273608786431                  1   \n",
       "1      2020-05-15-US-MTV-1    Pixel4        1273608786431                  6   \n",
       "2      2020-05-15-US-MTV-1    Pixel4        1273608786431                  1   \n",
       "3      2020-05-15-US-MTV-1    Pixel4        1273608786431                  1   \n",
       "4      2020-05-15-US-MTV-1    Pixel4        1273608786431                  6   \n",
       "...                    ...       ...                  ...                ...   \n",
       "57725  2020-05-15-US-MTV-1    Pixel4        1273612275632                  3   \n",
       "57726  2020-05-15-US-MTV-1    Pixel4        1273612275632                  3   \n",
       "57727  2020-05-15-US-MTV-1    Pixel4        1273612275632                  6   \n",
       "57728  2020-05-15-US-MTV-1    Pixel4        1273612275632                  6   \n",
       "57729  2020-05-15-US-MTV-1    Pixel4        1273612275632                  6   \n",
       "\n",
       "       svid signalType  receivedSvTimeInGpsNanos      xSatPosM      ySatPosM  \\\n",
       "0         2     GPS_L1       1273608785359142537 -1.355808e+07 -2.285482e+07   \n",
       "1        11     GAL_E1       1273608785345898271  1.275171e+07 -1.023081e+07   \n",
       "2         6     GPS_L1       1273608785362136210 -5.156902e+06 -2.381480e+07   \n",
       "3        12     GPS_L1       1273608785356867050 -1.745219e+07  1.887561e+06   \n",
       "4         2    GAL_E5A       1273608785354070569 -8.979749e+06 -1.914611e+07   \n",
       "...     ...        ...                       ...           ...           ...   \n",
       "57725    13     GLO_G1       1273612275568180115 -1.219834e+07 -1.338065e+07   \n",
       "57726    14     GLO_G1       1273612275557382661 -9.952700e+06  5.477318e+06   \n",
       "57727    30     GAL_E1       1273612275555754963 -1.589697e+07 -7.064249e+06   \n",
       "57728    36     GAL_E1       1273612275552308959  6.525533e+05 -1.761160e+07   \n",
       "57729     2     GAL_E1       1273612275554057088 -8.354157e+06 -2.513847e+07   \n",
       "\n",
       "           zSatPosM  xSatVelMps  ySatVelMps  zSatVelMps  satClkBiasM  \\\n",
       "0      1.544018e+06     299.739     -52.442    3161.066  -136834.371   \n",
       "1      2.466967e+07    1759.975    1745.212    -184.065   855531.658   \n",
       "2      1.056469e+07     820.205    1068.285    2827.140   -81575.023   \n",
       "3      1.964540e+07    1365.684   -2152.439    1418.596    35245.362   \n",
       "4      2.071128e+07     494.969   -2020.888   -1652.319    40044.541   \n",
       "...             ...         ...         ...         ...          ...   \n",
       "57725  1.794654e+07    -705.894   -2360.645   -2237.702   -11610.677   \n",
       "57726  2.284841e+07    -718.551   -3041.501     414.853    15362.334   \n",
       "57727  2.393849e+07      22.881   -2404.899    -693.358  1170586.979   \n",
       "57728  2.378304e+07    2044.321    1235.423     859.698   167805.129   \n",
       "57729  1.321391e+07     -80.935   -1328.447   -2576.657    40046.743   \n",
       "\n",
       "       satClkDriftMps        rawPrM  rawPrUncM     isrbM  ionoDelayM  \\\n",
       "0              -0.002  2.176422e+07      4.197     0.000       4.792   \n",
       "1               0.068  2.573475e+07     10.493  -214.130       6.801   \n",
       "2              -0.002  2.086674e+07      3.897     0.000       3.945   \n",
       "3              -0.002  2.244640e+07      6.296     0.000       5.739   \n",
       "4               0.001  2.328476e+07      1.799 -2344.573       6.341   \n",
       "...               ...           ...        ...       ...         ...   \n",
       "57725           0.000  1.927615e+07      4.197  1153.070       3.620   \n",
       "57726          -0.000  2.251315e+07      4.797  1153.070       6.953   \n",
       "57727          -0.009  2.300112e+07      5.096  -222.012       4.288   \n",
       "57728          -0.002  2.403420e+07      2.099  -222.012       4.311   \n",
       "57729           0.001  2.351013e+07      2.099  -222.012       3.901   \n",
       "\n",
       "       tropoDelayM  \n",
       "0            3.446  \n",
       "1            6.527  \n",
       "2            2.845  \n",
       "3            4.806  \n",
       "4            2.547  \n",
       "...            ...  \n",
       "57725        2.577  \n",
       "57726        6.868  \n",
       "57727        3.066  \n",
       "57728        3.081  \n",
       "57729        2.673  \n",
       "\n",
       "[57730 rows x 20 columns]"
      ],
      "text/html": "<div>\n<style scoped>\n    .dataframe tbody tr th:only-of-type {\n        vertical-align: middle;\n    }\n\n    .dataframe tbody tr th {\n        vertical-align: top;\n    }\n\n    .dataframe thead th {\n        text-align: right;\n    }\n</style>\n<table border=\"1\" class=\"dataframe\">\n  <thead>\n    <tr style=\"text-align: right;\">\n      <th></th>\n      <th>collectionName</th>\n      <th>phoneName</th>\n      <th>millisSinceGpsEpoch</th>\n      <th>constellationType</th>\n      <th>svid</th>\n      <th>signalType</th>\n      <th>receivedSvTimeInGpsNanos</th>\n      <th>xSatPosM</th>\n      <th>ySatPosM</th>\n      <th>zSatPosM</th>\n      <th>xSatVelMps</th>\n      <th>ySatVelMps</th>\n      <th>zSatVelMps</th>\n      <th>satClkBiasM</th>\n      <th>satClkDriftMps</th>\n      <th>rawPrM</th>\n      <th>rawPrUncM</th>\n      <th>isrbM</th>\n      <th>ionoDelayM</th>\n      <th>tropoDelayM</th>\n    </tr>\n  </thead>\n  <tbody>\n    <tr>\n      <th>0</th>\n      <td>2020-05-15-US-MTV-1</td>\n      <td>Pixel4</td>\n      <td>1273608786431</td>\n      <td>1</td>\n      <td>2</td>\n      <td>GPS_L1</td>\n      <td>1273608785359142537</td>\n      <td>-1.355808e+07</td>\n      <td>-2.285482e+07</td>\n      <td>1.544018e+06</td>\n      <td>299.739</td>\n      <td>-52.442</td>\n      <td>3161.066</td>\n      <td>-136834.371</td>\n      <td>-0.002</td>\n      <td>2.176422e+07</td>\n      <td>4.197</td>\n      <td>0.000</td>\n      <td>4.792</td>\n      <td>3.446</td>\n    </tr>\n    <tr>\n      <th>1</th>\n      <td>2020-05-15-US-MTV-1</td>\n      <td>Pixel4</td>\n      <td>1273608786431</td>\n      <td>6</td>\n      <td>11</td>\n      <td>GAL_E1</td>\n      <td>1273608785345898271</td>\n      <td>1.275171e+07</td>\n      <td>-1.023081e+07</td>\n      <td>2.466967e+07</td>\n      <td>1759.975</td>\n      <td>1745.212</td>\n      <td>-184.065</td>\n      <td>855531.658</td>\n      <td>0.068</td>\n      <td>2.573475e+07</td>\n      <td>10.493</td>\n      <td>-214.130</td>\n      <td>6.801</td>\n      <td>6.527</td>\n    </tr>\n    <tr>\n      <th>2</th>\n      <td>2020-05-15-US-MTV-1</td>\n      <td>Pixel4</td>\n      <td>1273608786431</td>\n      <td>1</td>\n      <td>6</td>\n      <td>GPS_L1</td>\n      <td>1273608785362136210</td>\n      <td>-5.156902e+06</td>\n      <td>-2.381480e+07</td>\n      <td>1.056469e+07</td>\n      <td>820.205</td>\n      <td>1068.285</td>\n      <td>2827.140</td>\n      <td>-81575.023</td>\n      <td>-0.002</td>\n      <td>2.086674e+07</td>\n      <td>3.897</td>\n      <td>0.000</td>\n      <td>3.945</td>\n      <td>2.845</td>\n    </tr>\n    <tr>\n      <th>3</th>\n      <td>2020-05-15-US-MTV-1</td>\n      <td>Pixel4</td>\n      <td>1273608786431</td>\n      <td>1</td>\n      <td>12</td>\n      <td>GPS_L1</td>\n      <td>1273608785356867050</td>\n      <td>-1.745219e+07</td>\n      <td>1.887561e+06</td>\n      <td>1.964540e+07</td>\n      <td>1365.684</td>\n      <td>-2152.439</td>\n      <td>1418.596</td>\n      <td>35245.362</td>\n      <td>-0.002</td>\n      <td>2.244640e+07</td>\n      <td>6.296</td>\n      <td>0.000</td>\n      <td>5.739</td>\n      <td>4.806</td>\n    </tr>\n    <tr>\n      <th>4</th>\n      <td>2020-05-15-US-MTV-1</td>\n      <td>Pixel4</td>\n      <td>1273608786431</td>\n      <td>6</td>\n      <td>2</td>\n      <td>GAL_E5A</td>\n      <td>1273608785354070569</td>\n      <td>-8.979749e+06</td>\n      <td>-1.914611e+07</td>\n      <td>2.071128e+07</td>\n      <td>494.969</td>\n      <td>-2020.888</td>\n      <td>-1652.319</td>\n      <td>40044.541</td>\n      <td>0.001</td>\n      <td>2.328476e+07</td>\n      <td>1.799</td>\n      <td>-2344.573</td>\n      <td>6.341</td>\n      <td>2.547</td>\n    </tr>\n    <tr>\n      <th>...</th>\n      <td>...</td>\n      <td>...</td>\n      <td>...</td>\n      <td>...</td>\n      <td>...</td>\n      <td>...</td>\n      <td>...</td>\n      <td>...</td>\n      <td>...</td>\n      <td>...</td>\n      <td>...</td>\n      <td>...</td>\n      <td>...</td>\n      <td>...</td>\n      <td>...</td>\n      <td>...</td>\n      <td>...</td>\n      <td>...</td>\n      <td>...</td>\n      <td>...</td>\n    </tr>\n    <tr>\n      <th>57725</th>\n      <td>2020-05-15-US-MTV-1</td>\n      <td>Pixel4</td>\n      <td>1273612275632</td>\n      <td>3</td>\n      <td>13</td>\n      <td>GLO_G1</td>\n      <td>1273612275568180115</td>\n      <td>-1.219834e+07</td>\n      <td>-1.338065e+07</td>\n      <td>1.794654e+07</td>\n      <td>-705.894</td>\n      <td>-2360.645</td>\n      <td>-2237.702</td>\n      <td>-11610.677</td>\n      <td>0.000</td>\n      <td>1.927615e+07</td>\n      <td>4.197</td>\n      <td>1153.070</td>\n      <td>3.620</td>\n      <td>2.577</td>\n    </tr>\n    <tr>\n      <th>57726</th>\n      <td>2020-05-15-US-MTV-1</td>\n      <td>Pixel4</td>\n      <td>1273612275632</td>\n      <td>3</td>\n      <td>14</td>\n      <td>GLO_G1</td>\n      <td>1273612275557382661</td>\n      <td>-9.952700e+06</td>\n      <td>5.477318e+06</td>\n      <td>2.284841e+07</td>\n      <td>-718.551</td>\n      <td>-3041.501</td>\n      <td>414.853</td>\n      <td>15362.334</td>\n      <td>-0.000</td>\n      <td>2.251315e+07</td>\n      <td>4.797</td>\n      <td>1153.070</td>\n      <td>6.953</td>\n      <td>6.868</td>\n    </tr>\n    <tr>\n      <th>57727</th>\n      <td>2020-05-15-US-MTV-1</td>\n      <td>Pixel4</td>\n      <td>1273612275632</td>\n      <td>6</td>\n      <td>30</td>\n      <td>GAL_E1</td>\n      <td>1273612275555754963</td>\n      <td>-1.589697e+07</td>\n      <td>-7.064249e+06</td>\n      <td>2.393849e+07</td>\n      <td>22.881</td>\n      <td>-2404.899</td>\n      <td>-693.358</td>\n      <td>1170586.979</td>\n      <td>-0.009</td>\n      <td>2.300112e+07</td>\n      <td>5.096</td>\n      <td>-222.012</td>\n      <td>4.288</td>\n      <td>3.066</td>\n    </tr>\n    <tr>\n      <th>57728</th>\n      <td>2020-05-15-US-MTV-1</td>\n      <td>Pixel4</td>\n      <td>1273612275632</td>\n      <td>6</td>\n      <td>36</td>\n      <td>GAL_E1</td>\n      <td>1273612275552308959</td>\n      <td>6.525533e+05</td>\n      <td>-1.761160e+07</td>\n      <td>2.378304e+07</td>\n      <td>2044.321</td>\n      <td>1235.423</td>\n      <td>859.698</td>\n      <td>167805.129</td>\n      <td>-0.002</td>\n      <td>2.403420e+07</td>\n      <td>2.099</td>\n      <td>-222.012</td>\n      <td>4.311</td>\n      <td>3.081</td>\n    </tr>\n    <tr>\n      <th>57729</th>\n      <td>2020-05-15-US-MTV-1</td>\n      <td>Pixel4</td>\n      <td>1273612275632</td>\n      <td>6</td>\n      <td>2</td>\n      <td>GAL_E1</td>\n      <td>1273612275554057088</td>\n      <td>-8.354157e+06</td>\n      <td>-2.513847e+07</td>\n      <td>1.321391e+07</td>\n      <td>-80.935</td>\n      <td>-1328.447</td>\n      <td>-2576.657</td>\n      <td>40046.743</td>\n      <td>0.001</td>\n      <td>2.351013e+07</td>\n      <td>2.099</td>\n      <td>-222.012</td>\n      <td>3.901</td>\n      <td>2.673</td>\n    </tr>\n  </tbody>\n</table>\n<p>57730 rows × 20 columns</p>\n</div>"
     },
     "metadata": {},
     "execution_count": 44
    }
   ],
   "source": [
    "test_derived"
   ]
  },
  {
   "cell_type": "code",
   "execution_count": null,
   "metadata": {},
   "outputs": [],
   "source": []
  }
 ]
}