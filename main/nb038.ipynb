{
 "metadata": {
  "language_info": {
   "codemirror_mode": {
    "name": "ipython",
    "version": 3
   },
   "file_extension": ".py",
   "mimetype": "text/x-python",
   "name": "python",
   "nbconvert_exporter": "python",
   "pygments_lexer": "ipython3",
   "version": "3.7.4"
  },
  "orig_nbformat": 2,
  "kernelspec": {
   "name": "python3",
   "display_name": "Python 3.7.4 64-bit ('venv_outdoor': venv)",
   "metadata": {
    "interpreter": {
     "hash": "bd00b75c79969edcf008edd1fd5973862c0c93beffacd004fb7d75ad6fcb357f"
    }
   }
  }
 },
 "nbformat": 4,
 "nbformat_minor": 2,
 "cells": [
  {
   "cell_type": "code",
   "execution_count": 1,
   "metadata": {},
   "outputs": [],
   "source": [
    "import pandas as pd\n",
    "import pathlib\n",
    "from tqdm.notebook import tqdm\n",
    "import numpy as np\n",
    "import matplotlib.pyplot as plt"
   ]
  },
  {
   "cell_type": "code",
   "execution_count": 2,
   "metadata": {},
   "outputs": [],
   "source": [
    "df_train = pd.read_csv(\"../input/google-smartphone-decimeter-challenge/baseline_locations_train.csv\")\n",
    "df_test = pd.read_csv(\"../input/google-smartphone-decimeter-challenge/baseline_locations_test.csv\")"
   ]
  },
  {
   "cell_type": "code",
   "execution_count": 3,
   "metadata": {},
   "outputs": [],
   "source": [
    "train_collectionName = df_train[\"collectionName\"].unique()"
   ]
  },
  {
   "cell_type": "code",
   "execution_count": 4,
   "metadata": {},
   "outputs": [],
   "source": [
    "df_train_highway = df_train[df_train['collectionName'].isin([train_collectionName[0],\n",
    "                                                           train_collectionName[1],\n",
    "                                                           train_collectionName[2],\n",
    "                                                           train_collectionName[3],\n",
    "                                                           train_collectionName[4],\n",
    "                                                           train_collectionName[5],\n",
    "                                                           train_collectionName[6],\n",
    "                                                           train_collectionName[7],\n",
    "                                                           train_collectionName[8],\n",
    "                                                           train_collectionName[9],\n",
    "                                                           train_collectionName[10],\n",
    "                                                           train_collectionName[11],\n",
    "                                                           train_collectionName[12],\n",
    "                                                           train_collectionName[13],\n",
    "                                                           train_collectionName[14],\n",
    "                                                           train_collectionName[15],\n",
    "                                                           train_collectionName[16],\n",
    "                                                           train_collectionName[17],\n",
    "                                                           train_collectionName[18],\n",
    "                                                           train_collectionName[19],\n",
    "                                                           train_collectionName[20]])]"
   ]
  },
  {
   "cell_type": "code",
   "execution_count": 5,
   "metadata": {},
   "outputs": [],
   "source": [
    "df_train_tree = df_train[df_train['collectionName'].isin([train_collectionName[21],\n",
    "                                                          train_collectionName[22],\n",
    "                                                          train_collectionName[24],\n",
    "                                                          train_collectionName[25],\n",
    "                                                          train_collectionName[27]])]"
   ]
  },
  {
   "cell_type": "code",
   "execution_count": 6,
   "metadata": {},
   "outputs": [],
   "source": [
    "df_train_downtown = df_train[df_train['collectionName'].isin([train_collectionName[23],\n",
    "                                                              train_collectionName[26],\n",
    "                                                              train_collectionName[28]])]"
   ]
  },
  {
   "cell_type": "code",
   "execution_count": 7,
   "metadata": {},
   "outputs": [
    {
     "output_type": "stream",
     "name": "stdout",
     "text": [
      "ground_truth.csv count :  73\n"
     ]
    },
    {
     "output_type": "display_data",
     "data": {
      "text/plain": "  0%|          | 0/73 [00:00<?, ?it/s]",
      "application/vnd.jupyter.widget-view+json": {
       "version_major": 2,
       "version_minor": 0,
       "model_id": "9a4fb8ac4dd04af48f348e0e1dab32db"
      }
     },
     "metadata": {}
    }
   ],
   "source": [
    "# ground_truth\n",
    "p = pathlib.Path(\"../input/google-smartphone-decimeter-challenge\")\n",
    "gt_files = list(p.glob('train/*/*/ground_truth.csv'))\n",
    "print('ground_truth.csv count : ', len(gt_files))\n",
    "\n",
    "gts = []\n",
    "for gt_file in tqdm(gt_files):\n",
    "    gts.append(pd.read_csv(gt_file))\n",
    "ground_truth = pd.concat(gts)"
   ]
  },
  {
   "cell_type": "code",
   "execution_count": 8,
   "metadata": {},
   "outputs": [],
   "source": [
    "def calc_haversine(lat1, lon1, lat2, lon2):\n",
    "    \"\"\"Calculates the great circle distance between two points\n",
    "    on the earth. Inputs are array-like and specified in decimal degrees.\n",
    "    \"\"\"\n",
    "    RADIUS = 6_367_000\n",
    "    lat1, lon1, lat2, lon2 = map(np.radians, [lat1, lon1, lat2, lon2])\n",
    "    dlat = lat2 - lat1\n",
    "    dlon = lon2 - lon1\n",
    "    a = np.sin(dlat/2)**2 + \\\n",
    "        np.cos(lat1) * np.cos(lat2) * np.sin(dlon/2)**2\n",
    "    dist = 2 * RADIUS * np.arcsin(a**0.5)\n",
    "    return dist"
   ]
  },
  {
   "cell_type": "code",
   "execution_count": 9,
   "metadata": {},
   "outputs": [],
   "source": [
    "def percentile50(x):\n",
    "    return np.percentile(x, 50)\n",
    "def percentile95(x):\n",
    "    return np.percentile(x, 95)\n"
   ]
  },
  {
   "cell_type": "code",
   "execution_count": 10,
   "metadata": {},
   "outputs": [],
   "source": [
    "def get_train_score(df, gt):\n",
    "    gt = gt.rename(columns={'latDeg':'latDeg_gt', 'lngDeg':'lngDeg_gt'})\n",
    "    df = df.merge(gt, on=['collectionName', 'phoneName', 'millisSinceGpsEpoch'], how='inner')\n",
    "    # calc_distance_error\n",
    "    df['err'] = calc_haversine(df['latDeg_gt'], df['lngDeg_gt'], df['latDeg'], df['lngDeg'])\n",
    "    # calc_evaluate_score\n",
    "    df['phone'] = df['collectionName'] + '_' + df['phoneName']\n",
    "    res = df.groupby('phone')['err'].agg([percentile50, percentile95])\n",
    "    res['p50_p90_mean'] = (res['percentile50'] + res['percentile95']) / 2 \n",
    "    score = res['p50_p90_mean'].mean()\n",
    "    return score,df"
   ]
  },
  {
   "cell_type": "code",
   "execution_count": 11,
   "metadata": {},
   "outputs": [
    {
     "output_type": "stream",
     "name": "stdout",
     "text": [
      "highway : 3.452807389502441\ntree :  6.173261717576203\ndowntown :  19.432900281799608\n"
     ]
    }
   ],
   "source": [
    "score_highway,df_highway = get_train_score(df_train_highway, ground_truth)\n",
    "score_tree,df_tree = get_train_score(df_train_tree, ground_truth)\n",
    "score_downtown,df_downtown = get_train_score(df_train_downtown, ground_truth)\n",
    "print(\"highway :\" , score_highway )\n",
    "print('tree : ' ,score_tree)\n",
    "print('downtown : ' , score_downtown)"
   ]
  },
  {
   "cell_type": "code",
   "execution_count": 13,
   "metadata": {},
   "outputs": [
    {
     "output_type": "execute_result",
     "data": {
      "text/plain": [
       "array(['2020-05-14-US-MTV-1', '2020-05-14-US-MTV-2',\n",
       "       '2020-05-21-US-MTV-1', '2020-05-21-US-MTV-2',\n",
       "       '2020-05-29-US-MTV-1', '2020-05-29-US-MTV-2',\n",
       "       '2020-06-04-US-MTV-1', '2020-06-05-US-MTV-1',\n",
       "       '2020-06-05-US-MTV-2', '2020-06-11-US-MTV-1',\n",
       "       '2020-07-08-US-MTV-1', '2020-07-17-US-MTV-1',\n",
       "       '2020-07-17-US-MTV-2', '2020-08-03-US-MTV-1',\n",
       "       '2020-08-06-US-MTV-2', '2020-09-04-US-SF-1', '2020-09-04-US-SF-2',\n",
       "       '2021-01-04-US-RWC-1', '2021-01-04-US-RWC-2',\n",
       "       '2021-01-05-US-SVL-1', '2021-01-05-US-SVL-2'], dtype=object)"
      ]
     },
     "metadata": {},
     "execution_count": 13
    }
   ],
   "source": [
    "df_train_highway['collectionName'].unique()"
   ]
  },
  {
   "cell_type": "code",
   "execution_count": 14,
   "metadata": {},
   "outputs": [
    {
     "output_type": "execute_result",
     "data": {
      "text/plain": [
       "array(['2021-04-22-US-SJC-1', '2021-04-28-US-SJC-1',\n",
       "       '2021-04-29-US-SJC-2'], dtype=object)"
      ]
     },
     "metadata": {},
     "execution_count": 14
    }
   ],
   "source": [
    "df_train_downtown['collectionName'].unique()"
   ]
  },
  {
   "cell_type": "code",
   "execution_count": 15,
   "metadata": {},
   "outputs": [
    {
     "output_type": "execute_result",
     "data": {
      "text/plain": [
       "array(['2021-03-10-US-SVL-1', '2021-04-15-US-MTV-1',\n",
       "       '2021-04-26-US-SVL-1', '2021-04-28-US-MTV-1',\n",
       "       '2021-04-29-US-MTV-1'], dtype=object)"
      ]
     },
     "metadata": {},
     "execution_count": 15
    }
   ],
   "source": [
    "df_train_tree['collectionName'].unique()"
   ]
  },
  {
   "cell_type": "code",
   "execution_count": 17,
   "metadata": {},
   "outputs": [
    {
     "output_type": "execute_result",
     "data": {
      "text/plain": [
       "             collectionName        phoneName  millisSinceGpsEpoch     latDeg  \\\n",
       "0       2020-05-14-US-MTV-1           Pixel4        1273529463442  37.423575   \n",
       "1       2020-05-14-US-MTV-1           Pixel4        1273529464442  37.423578   \n",
       "2       2020-05-14-US-MTV-1           Pixel4        1273529465442  37.423573   \n",
       "3       2020-05-14-US-MTV-1           Pixel4        1273529466442  37.423583   \n",
       "4       2020-05-14-US-MTV-1           Pixel4        1273529467442  37.423579   \n",
       "...                     ...              ...                  ...        ...   \n",
       "131337  2021-04-29-US-SJC-2  SamsungS20Ultra        1303760315000  37.334460   \n",
       "131338  2021-04-29-US-SJC-2  SamsungS20Ultra        1303760316000  37.334472   \n",
       "131339  2021-04-29-US-SJC-2  SamsungS20Ultra        1303760317000  37.334491   \n",
       "131340  2021-04-29-US-SJC-2  SamsungS20Ultra        1303760318000  37.334495   \n",
       "131341  2021-04-29-US-SJC-2  SamsungS20Ultra        1303760319000  37.334485   \n",
       "\n",
       "            lngDeg  heightAboveWgs84EllipsoidM  \\\n",
       "0      -122.094091                      -34.06   \n",
       "1      -122.094101                      -33.29   \n",
       "2      -122.094111                      -30.99   \n",
       "3      -122.094121                      -32.83   \n",
       "4      -122.094114                      -34.49   \n",
       "...            ...                         ...   \n",
       "131337 -121.899600                       -8.09   \n",
       "131338 -121.899583                       -7.59   \n",
       "131339 -121.899597                       -8.35   \n",
       "131340 -121.899583                       -8.73   \n",
       "131341 -121.899570                       -7.64   \n",
       "\n",
       "                                      phone  \n",
       "0                2020-05-14-US-MTV-1_Pixel4  \n",
       "1                2020-05-14-US-MTV-1_Pixel4  \n",
       "2                2020-05-14-US-MTV-1_Pixel4  \n",
       "3                2020-05-14-US-MTV-1_Pixel4  \n",
       "4                2020-05-14-US-MTV-1_Pixel4  \n",
       "...                                     ...  \n",
       "131337  2021-04-29-US-SJC-2_SamsungS20Ultra  \n",
       "131338  2021-04-29-US-SJC-2_SamsungS20Ultra  \n",
       "131339  2021-04-29-US-SJC-2_SamsungS20Ultra  \n",
       "131340  2021-04-29-US-SJC-2_SamsungS20Ultra  \n",
       "131341  2021-04-29-US-SJC-2_SamsungS20Ultra  \n",
       "\n",
       "[131342 rows x 7 columns]"
      ],
      "text/html": "<div>\n<style scoped>\n    .dataframe tbody tr th:only-of-type {\n        vertical-align: middle;\n    }\n\n    .dataframe tbody tr th {\n        vertical-align: top;\n    }\n\n    .dataframe thead th {\n        text-align: right;\n    }\n</style>\n<table border=\"1\" class=\"dataframe\">\n  <thead>\n    <tr style=\"text-align: right;\">\n      <th></th>\n      <th>collectionName</th>\n      <th>phoneName</th>\n      <th>millisSinceGpsEpoch</th>\n      <th>latDeg</th>\n      <th>lngDeg</th>\n      <th>heightAboveWgs84EllipsoidM</th>\n      <th>phone</th>\n    </tr>\n  </thead>\n  <tbody>\n    <tr>\n      <th>0</th>\n      <td>2020-05-14-US-MTV-1</td>\n      <td>Pixel4</td>\n      <td>1273529463442</td>\n      <td>37.423575</td>\n      <td>-122.094091</td>\n      <td>-34.06</td>\n      <td>2020-05-14-US-MTV-1_Pixel4</td>\n    </tr>\n    <tr>\n      <th>1</th>\n      <td>2020-05-14-US-MTV-1</td>\n      <td>Pixel4</td>\n      <td>1273529464442</td>\n      <td>37.423578</td>\n      <td>-122.094101</td>\n      <td>-33.29</td>\n      <td>2020-05-14-US-MTV-1_Pixel4</td>\n    </tr>\n    <tr>\n      <th>2</th>\n      <td>2020-05-14-US-MTV-1</td>\n      <td>Pixel4</td>\n      <td>1273529465442</td>\n      <td>37.423573</td>\n      <td>-122.094111</td>\n      <td>-30.99</td>\n      <td>2020-05-14-US-MTV-1_Pixel4</td>\n    </tr>\n    <tr>\n      <th>3</th>\n      <td>2020-05-14-US-MTV-1</td>\n      <td>Pixel4</td>\n      <td>1273529466442</td>\n      <td>37.423583</td>\n      <td>-122.094121</td>\n      <td>-32.83</td>\n      <td>2020-05-14-US-MTV-1_Pixel4</td>\n    </tr>\n    <tr>\n      <th>4</th>\n      <td>2020-05-14-US-MTV-1</td>\n      <td>Pixel4</td>\n      <td>1273529467442</td>\n      <td>37.423579</td>\n      <td>-122.094114</td>\n      <td>-34.49</td>\n      <td>2020-05-14-US-MTV-1_Pixel4</td>\n    </tr>\n    <tr>\n      <th>...</th>\n      <td>...</td>\n      <td>...</td>\n      <td>...</td>\n      <td>...</td>\n      <td>...</td>\n      <td>...</td>\n      <td>...</td>\n    </tr>\n    <tr>\n      <th>131337</th>\n      <td>2021-04-29-US-SJC-2</td>\n      <td>SamsungS20Ultra</td>\n      <td>1303760315000</td>\n      <td>37.334460</td>\n      <td>-121.899600</td>\n      <td>-8.09</td>\n      <td>2021-04-29-US-SJC-2_SamsungS20Ultra</td>\n    </tr>\n    <tr>\n      <th>131338</th>\n      <td>2021-04-29-US-SJC-2</td>\n      <td>SamsungS20Ultra</td>\n      <td>1303760316000</td>\n      <td>37.334472</td>\n      <td>-121.899583</td>\n      <td>-7.59</td>\n      <td>2021-04-29-US-SJC-2_SamsungS20Ultra</td>\n    </tr>\n    <tr>\n      <th>131339</th>\n      <td>2021-04-29-US-SJC-2</td>\n      <td>SamsungS20Ultra</td>\n      <td>1303760317000</td>\n      <td>37.334491</td>\n      <td>-121.899597</td>\n      <td>-8.35</td>\n      <td>2021-04-29-US-SJC-2_SamsungS20Ultra</td>\n    </tr>\n    <tr>\n      <th>131340</th>\n      <td>2021-04-29-US-SJC-2</td>\n      <td>SamsungS20Ultra</td>\n      <td>1303760318000</td>\n      <td>37.334495</td>\n      <td>-121.899583</td>\n      <td>-8.73</td>\n      <td>2021-04-29-US-SJC-2_SamsungS20Ultra</td>\n    </tr>\n    <tr>\n      <th>131341</th>\n      <td>2021-04-29-US-SJC-2</td>\n      <td>SamsungS20Ultra</td>\n      <td>1303760319000</td>\n      <td>37.334485</td>\n      <td>-121.899570</td>\n      <td>-7.64</td>\n      <td>2021-04-29-US-SJC-2_SamsungS20Ultra</td>\n    </tr>\n  </tbody>\n</table>\n<p>131342 rows × 7 columns</p>\n</div>"
     },
     "metadata": {},
     "execution_count": 17
    }
   ],
   "source": [
    "df_train"
   ]
  },
  {
   "cell_type": "code",
   "execution_count": null,
   "metadata": {},
   "outputs": [],
   "source": []
  }
 ]
}