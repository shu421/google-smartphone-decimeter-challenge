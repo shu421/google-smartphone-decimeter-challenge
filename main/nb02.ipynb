{
 "cells": [
  {
   "cell_type": "code",
   "execution_count": 16,
   "id": "6ef64131-ee1f-477c-ac0a-21bcfa7ae5bf",
   "metadata": {},
   "outputs": [],
   "source": [
    "from pathlib import Path\n",
    "import numpy as np\n",
    "import pandas as pd\n",
    "import simdkalman\n",
    "from tqdm.notebook import tqdm"
   ]
  },
  {
   "cell_type": "code",
   "execution_count": 17,
   "id": "cc43d603-0d5f-4c3f-afb4-c15c641a8ba4",
   "metadata": {},
   "outputs": [],
   "source": [
    "T = 1.0\n",
    "# 下の行列どこから出てきた？\n",
    "# 状態遷移マトリックス\n",
    "state_transition = np.array([[1, 0, T, 0, 0.5 * T ** 2, 0], [0, 1, 0, T, 0, 0.5 * T ** 2], [0, 0, 1, 0, T, 0],\n",
    "                             [0, 0, 0, 1, 0, T], [0, 0, 0, 0, 1, 0], [0, 0, 0, 0, 0, 1]])\n",
    "# 対角両列\n",
    "process_noise = np.diag([1e-5, 1e-5, 5e-6, 5e-6, 1e-6, 1e-6]) + np.ones((6, 6)) * 1e-9\n",
    "observation_model = np.array([[1, 0, 0, 0, 0, 0], [0, 1, 0, 0, 0, 0]])\n",
    "observation_noise = np.diag([5e-5, 5e-5]) + np.ones((2, 2)) * 1e-9\n",
    "\n",
    "kf = simdkalman.KalmanFilter(\n",
    "        state_transition = state_transition,\n",
    "        process_noise = process_noise,\n",
    "        observation_model = observation_model,\n",
    "        observation_noise = observation_noise)"
   ]
  },
  {
   "cell_type": "code",
   "execution_count": 18,
   "id": "f7e6c2c3-aeb8-41ab-bbff-805508006dd1",
   "metadata": {},
   "outputs": [],
   "source": [
    "def apply_kf_smoothing(df, kf_=kf):\n",
    "    unique_paths = df[['collectionName', 'phoneName']].drop_duplicates().to_numpy()\n",
    "    for collection, phone in tqdm(unique_paths):\n",
    "        cond = np.logical_and(df['collectionName'] == collection, df['phoneName'] == phone)\n",
    "        data = df[cond][['latDeg', 'lngDeg']].to_numpy()\n",
    "        data = data.reshape(1, len(data), 2)\n",
    "        smoothed = kf_.smooth(data)\n",
    "        df.loc[cond, 'latDeg'] = smoothed.states.mean[0, :, 0]\n",
    "        df.loc[cond, 'lngDeg'] = smoothed.states.mean[0, :, 1]\n",
    "    return df"
   ]
  },
  {
   "cell_type": "code",
   "execution_count": 25,
   "id": "fcc9cf97-df8f-48d9-b799-8e9ef4ed4ea2",
   "metadata": {},
   "outputs": [
    {
     "data": {
      "application/vnd.jupyter.widget-view+json": {
       "model_id": "83db274ffa11438db066a4c42064ac58",
       "version_major": 2,
       "version_minor": 0
      },
      "text/plain": [
       "  0%|          | 0/73 [00:00<?, ?it/s]"
      ]
     },
     "metadata": {},
     "output_type": "display_data"
    }
   ],
   "source": [
    "cols = ['collectionName', 'phoneName', 'millisSinceGpsEpoch', 'latDeg', 'lngDeg']\n",
    "df1 = pd.read_csv('../input/google-smartphone-decimeter-challenge/baseline_locations_train.csv', usecols=cols)\n",
    "\n",
    "unique_paths = df1[['collectionName', 'phoneName']].drop_duplicates().to_numpy()\n",
    "for collection, phone in tqdm(unique_paths):\n",
    "    cond = np.logical_and(df1['collectionName'] == collection, df1['phoneName'] == phone)\n",
    "    data = df1[cond][['latDeg', 'lngDeg']].to_numpy()\n",
    "    data = data.reshape(1, len(data), 2)\n",
    "    #smoothed = kf_.smooth(data)\n",
    "    #df1.loc[cond, 'latDeg'] = smoothed.states.mean[0, :, 0]\n",
    "    #df1.loc[cond, 'lngDeg'] = smoothed.states.mean[0, :, 1]"
   ]
  },
  {
   "cell_type": "code",
   "execution_count": 27,
   "id": "6b4c957e-410b-4ae5-b19e-bf53e8a8793a",
   "metadata": {},
   "outputs": [
    {
     "data": {
      "text/plain": [
       "0         False\n",
       "1         False\n",
       "2         False\n",
       "3         False\n",
       "4         False\n",
       "          ...  \n",
       "131337     True\n",
       "131338     True\n",
       "131339     True\n",
       "131340     True\n",
       "131341     True\n",
       "Length: 131342, dtype: bool"
      ]
     },
     "execution_count": 27,
     "metadata": {},
     "output_type": "execute_result"
    }
   ],
   "source": [
    "cond"
   ]
  },
  {
   "cell_type": "code",
   "execution_count": 19,
   "id": "7b1d1341-bcdb-40bc-8e5b-0d4cef8dd525",
   "metadata": {},
   "outputs": [
    {
     "data": {
      "application/vnd.jupyter.widget-view+json": {
       "model_id": "985af3bb414b49c08684a48746dc65d3",
       "version_major": 2,
       "version_minor": 0
      },
      "text/plain": [
       "  0%|          | 0/73 [00:00<?, ?it/s]"
      ]
     },
     "metadata": {},
     "output_type": "display_data"
    },
    {
     "data": {
      "application/vnd.jupyter.widget-view+json": {
       "model_id": "e229a0fcbb8342b7a9a4e6e227c806d7",
       "version_major": 2,
       "version_minor": 0
      },
      "text/plain": [
       "  0%|          | 0/73 [00:00<?, ?it/s]"
      ]
     },
     "metadata": {},
     "output_type": "display_data"
    }
   ],
   "source": [
    "data_path = Path(\"../input/google-smartphone-decimeter-challenge\")\n",
    "\n",
    "# ファイルを順に開いていく\n",
    "truths = (data_path / 'train').rglob('ground_truth.csv')\n",
    "    # returns a generator\n",
    "\n",
    "df_list = []\n",
    "cols = ['collectionName', 'phoneName', 'millisSinceGpsEpoch', 'latDeg', 'lngDeg']\n",
    "\n",
    "for t in tqdm(truths, total=73):\n",
    "    df_phone = pd.read_csv(t, usecols=cols)  \n",
    "    df_list.append(df_phone)\n",
    "df_truth = pd.concat(df_list, ignore_index=True)\n",
    "\n",
    "df_basepreds_kf = apply_kf_smoothing(pd.read_csv('../input/google-smartphone-decimeter-challenge/baseline_locations_train.csv', usecols=cols))\n",
    "df_all = df_truth.merge(df_basepreds_kf, how='inner', on=cols[:3], suffixes=('_truth', '_basepred'))"
   ]
  },
  {
   "cell_type": "code",
   "execution_count": 20,
   "id": "e6a61ac2-2a6e-496c-92fe-06472f6e2ff8",
   "metadata": {
    "tags": []
   },
   "outputs": [],
   "source": [
    "# simplified haversine distance\n",
    "def calc_haversine(lat1, lon1, lat2, lon2):\n",
    "    \"\"\"Calculates the great circle distance between two points\n",
    "    on the earth. Inputs are array-like and specified in decimal degrees.\n",
    "    \"\"\"\n",
    "    lat1, lon1, lat2, lon2 = map(np.radians, [lat1, lon1, lat2, lon2])\n",
    "    dlat = lat2 - lat1\n",
    "    dlon = lon2 - lon1\n",
    "    a = np.sin(dlat/2.0)**2 + np.cos(lat1) * np.cos(lat2) * np.sin(dlon/2.0)**2\n",
    "\n",
    "    c = 2 * np.arcsin(a**0.5)\n",
    "    dist = 6_367_000 * c\n",
    "    return dist"
   ]
  },
  {
   "cell_type": "code",
   "execution_count": 21,
   "id": "6bd1cc97-92fa-43f4-a6e8-021c5a4a7d86",
   "metadata": {
    "tags": []
   },
   "outputs": [
    {
     "name": "stdout",
     "output_type": "stream",
     "text": [
      "mean error on train dataset: 3.391m - slightly better than the baseline, but still a lot of improvements are needed\n"
     ]
    }
   ],
   "source": [
    "df_all['dist'] = calc_haversine(df_all.latDeg_truth, df_all.lngDeg_truth, \n",
    "    df_all.latDeg_basepred, df_all.lngDeg_basepred)\n",
    "\n",
    "print(f'mean error on train dataset: {df_all.dist.mean():.3f}m - slightly better than the baseline, but still a lot of improvements are needed')"
   ]
  },
  {
   "cell_type": "code",
   "execution_count": 9,
   "id": "74d3ae81-6d97-4ca2-8be6-53a57dc98982",
   "metadata": {},
   "outputs": [
    {
     "data": {
      "application/vnd.jupyter.widget-view+json": {
       "model_id": "b16f52f3da9341bdb44a793cb3cbcc27",
       "version_major": 2,
       "version_minor": 0
      },
      "text/plain": [
       "  0%|          | 0/48 [00:00<?, ?it/s]"
      ]
     },
     "metadata": {},
     "output_type": "display_data"
    }
   ],
   "source": [
    "test_base = pd.read_csv(\n",
    "    '../input/google-smartphone-decimeter-challenge/baseline_locations_test.csv')\n",
    "\n",
    "sub = pd.read_csv('../input/google-smartphone-decimeter-challenge/sample_submission.csv')\n",
    "\n",
    "kf_smoothed_baseline = apply_kf_smoothing(test_base)\n",
    "sub = sub.assign(\n",
    "    latDeg = kf_smoothed_baseline.latDeg,\n",
    "    lngDeg = kf_smoothed_baseline.lngDeg\n",
    ")\n",
    "sub.to_csv('../output/submission01.csv', index=False)"
   ]
  }
 ],
 "metadata": {
  "kernelspec": {
   "display_name": "Python 3",
   "language": "python",
   "name": "python3"
  },
  "language_info": {
   "codemirror_mode": {
    "name": "ipython",
    "version": 3
   },
   "file_extension": ".py",
   "mimetype": "text/x-python",
   "name": "python",
   "nbconvert_exporter": "python",
   "pygments_lexer": "ipython3",
   "version": "3.7.4"
  }
 },
 "nbformat": 4,
 "nbformat_minor": 5
}
