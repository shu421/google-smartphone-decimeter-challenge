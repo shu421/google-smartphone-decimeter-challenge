{
 "cells": [
  {
   "cell_type": "markdown",
   "id": "2afd5673-af4d-4e78-9f8e-37b1887afb74",
   "metadata": {},
   "source": [
    "# remove device"
   ]
  },
  {
   "cell_type": "code",
   "execution_count": 1,
   "id": "90880d85-5f18-451d-88c1-55c4f2794c8d",
   "metadata": {},
   "outputs": [],
   "source": [
    "import pandas as pd\n",
    "import numpy as np\n",
    "\n",
    "def get_removedevice(input_df: pd.DataFrame, device: str) -> pd.DataFrame:\n",
    "    input_df['index'] = input_df.index \n",
    "    input_df = input_df.sort_values('millisSinceGpsEpoch')\n",
    "    input_df.index = input_df['millisSinceGpsEpoch'].values # illisSinceGpsEpochをindexにする\n",
    "\n",
    "    output_df = pd.DataFrame() \n",
    "    for _, subdf in input_df.groupby('collectionName'):\n",
    "\n",
    "        phones = subdf['phoneName'].unique()\n",
    "\n",
    "        # 1つのコレクションにphoneが1種類であるか、対象のデバイスがコレクションに含まれていない時\n",
    "        if (len(phones) == 1) or (not device in phones):\n",
    "            output_df = pd.concat([output_df, subdf])\n",
    "            continue\n",
    "\n",
    "        origin_df = subdf.copy()\n",
    "        \n",
    "        # 対象のデバイスの位置を削除\n",
    "        _index = subdf['phoneName']==device\n",
    "        subdf.loc[_index, 'latDeg'] = np.nan\n",
    "        subdf.loc[_index, 'lngDeg'] = np.nan\n",
    "        \n",
    "        # Nanの周りに値が存在していれば、そのNanを補間\n",
    "        # indexを基準として、線形的に補間していく\n",
    "        subdf = subdf.interpolate(method='index', limit_area='inside')\n",
    "        \n",
    "        # 値が存在しないところは、元の値を使う\n",
    "        _index = subdf['latDeg'].isnull()\n",
    "        subdf.loc[_index, 'latDeg'] = origin_df.loc[_index, 'latDeg'].values\n",
    "        subdf.loc[_index, 'lngDeg'] = origin_df.loc[_index, 'lngDeg'].values\n",
    "\n",
    "        output_df = pd.concat([output_df, subdf])\n",
    "\n",
    "    output_df.index = output_df['index'].values\n",
    "    output_df = output_df.sort_index()\n",
    "\n",
    "    del output_df['index']\n",
    "    \n",
    "    return output_df"
   ]
  },
  {
   "cell_type": "markdown",
   "id": "4beef763-9163-4257-8153-a024f8460867",
   "metadata": {},
   "source": [
    "## フィルター済みtrainファイル"
   ]
  },
  {
   "source": [
    "### nb005"
   ],
   "cell_type": "markdown",
   "metadata": {}
  },
  {
   "cell_type": "code",
   "execution_count": 3,
   "id": "8b91643d-475d-4ffd-975e-6c6820931c11",
   "metadata": {},
   "outputs": [],
   "source": [
    "filtered = pd.read_csv('../output/filtered_nb005.csv')\n",
    "filtered['collectionName'] =filtered['phone'].map(lambda x: x.split('_')[0])\n",
    "filtered['phoneName'] = filtered['phone'].map(lambda x: x.split('_')[1])\n",
    "filtered = get_removedevice(filtered, 'SamsungS20Ultra')\n",
    "\n",
    "filtered = filtered.drop(columns=['collectionName', 'phoneName'], axis=1)\n",
    "filtered.to_csv('../output/filtered_nb016.csv', index=False)"
   ]
  },
  {
   "source": [
    "### nb023"
   ],
   "cell_type": "markdown",
   "metadata": {}
  },
  {
   "cell_type": "code",
   "execution_count": 4,
   "metadata": {},
   "outputs": [],
   "source": [
    "filtered = pd.read_csv('../output/filtered_nb023.csv')\n",
    "filtered['collectionName'] =filtered['phone'].map(lambda x: x.split('_')[0])\n",
    "filtered['phoneName'] = filtered['phone'].map(lambda x: x.split('_')[1])\n",
    "filtered = get_removedevice(filtered, 'SamsungS20Ultra')\n",
    "\n",
    "filtered = filtered.drop(columns=['collectionName', 'phoneName'], axis=1)\n",
    "filtered.to_csv('../output/filtered_nb016_2.csv', index=False)"
   ]
  },
  {
   "source": [
    "### nb023_1"
   ],
   "cell_type": "markdown",
   "metadata": {}
  },
  {
   "cell_type": "code",
   "execution_count": 8,
   "metadata": {},
   "outputs": [],
   "source": [
    "filtered = pd.read_csv('../output/filtered_nb023_1.csv')\n",
    "filtered['collectionName'] =filtered['phone'].map(lambda x: x.split('_')[0])\n",
    "filtered['phoneName'] = filtered['phone'].map(lambda x: x.split('_')[1])\n",
    "filtered = get_removedevice(filtered, 'SamsungS20Ultra')\n",
    "\n",
    "filtered = filtered.drop(columns=['collectionName', 'phoneName'], axis=1)\n",
    "filtered.to_csv('../output/filtered_nb016_3.csv', index=False)"
   ]
  },
  {
   "cell_type": "markdown",
   "id": "8a318f49-3c01-4a71-acea-728e01953b44",
   "metadata": {},
   "source": [
    "## submission"
   ]
  },
  {
   "cell_type": "markdown",
   "id": "e356b35d-7934-47f2-9949-68d51c4c0c62",
   "metadata": {},
   "source": [
    "1. phone mean predicion\n",
    "2. remove device #######\n",
    "3. position shift"
   ]
  },
  {
   "cell_type": "code",
   "execution_count": null,
   "id": "567f0911-4c7d-4308-882e-43835952bb01",
   "metadata": {},
   "outputs": [],
   "source": [
    "submission = pd.read_csv('../output/sub_nb005.csv')\n",
    "submission['collectionName'] = submission['phone'].map(lambda x: x.split('_')[0])\n",
    "submission['phoneName'] = submission['phone'].map(lambda x: x.split('_')[1])\n",
    "submission = get_removedevice(submission, 'SamsungS20Ultra')\n",
    "\n",
    "submission = submission.drop(columns=['collectionName', 'phoneName'], axis=1)\n",
    "submission.to_csv('../output/sub_nb016.csv', index=False)"
   ]
  },
  {
   "cell_type": "markdown",
   "id": "7e2a4b16-9255-4a57-ac2e-38de05bb9ca6",
   "metadata": {},
   "source": [
    "1. phone mean predicion\n",
    "2. position shift\n",
    "3. remove device #######"
   ]
  },
  {
   "cell_type": "code",
   "execution_count": 5,
   "id": "b786b270-b706-4425-a1fc-6f12f5de22aa",
   "metadata": {},
   "outputs": [],
   "source": [
    "submission = pd.read_csv('../output/sub_nb017_1.csv')\n",
    "submission['collectionName'] = submission['phone'].map(lambda x: x.split('_')[0])\n",
    "submission['phoneName'] = submission['phone'].map(lambda x: x.split('_')[1])\n",
    "submission = get_removedevice(submission, 'SamsungS20Ultra')\n",
    "\n",
    "submission = submission.drop(columns=['collectionName', 'phoneName'], axis=1)\n",
    "submission.to_csv('../output/sub_nb016_1.csv', index=False)"
   ]
  },
  {
   "source": [
    "### nb023, nb016"
   ],
   "cell_type": "markdown",
   "metadata": {}
  },
  {
   "cell_type": "code",
   "execution_count": 6,
   "metadata": {},
   "outputs": [],
   "source": [
    "submission = pd.read_csv('../output/sub_nb023.csv')\n",
    "submission['collectionName'] = submission['phone'].map(lambda x: x.split('_')[0])\n",
    "submission['phoneName'] = submission['phone'].map(lambda x: x.split('_')[1])\n",
    "submission = get_removedevice(submission, 'SamsungS20Ultra')\n",
    "\n",
    "submission = submission.drop(columns=['collectionName', 'phoneName'], axis=1)\n",
    "submission.to_csv('../output/sub_nb016_2.csv', index=False)"
   ]
  },
  {
   "source": [
    "### nb023_1, nb016"
   ],
   "cell_type": "markdown",
   "metadata": {}
  },
  {
   "cell_type": "code",
   "execution_count": 2,
   "metadata": {},
   "outputs": [],
   "source": [
    "submission = pd.read_csv('../output/sub_nb023_1.csv')\n",
    "submission['collectionName'] = submission['phone'].map(lambda x: x.split('_')[0])\n",
    "submission['phoneName'] = submission['phone'].map(lambda x: x.split('_')[1])\n",
    "submission = get_removedevice(submission, 'SamsungS20Ultra')\n",
    "\n",
    "submission = submission.drop(columns=['collectionName', 'phoneName'], axis=1)\n",
    "submission.to_csv('../output/sub_nb016_3.csv', index=False)"
   ]
  },
  {
   "cell_type": "code",
   "execution_count": null,
   "metadata": {},
   "outputs": [],
   "source": []
  }
 ],
 "metadata": {
  "kernelspec": {
   "display_name": "Python 3",
   "language": "python",
   "name": "python3"
  },
  "language_info": {
   "codemirror_mode": {
    "name": "ipython",
    "version": 3
   },
   "file_extension": ".py",
   "mimetype": "text/x-python",
   "name": "python",
   "nbconvert_exporter": "python",
   "pygments_lexer": "ipython3",
   "version": "3.7.4"
  }
 },
 "nbformat": 4,
 "nbformat_minor": 5
}