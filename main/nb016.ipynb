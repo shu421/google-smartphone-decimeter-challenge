{
 "cells": [
  {
   "cell_type": "code",
   "execution_count": 4,
   "id": "90880d85-5f18-451d-88c1-55c4f2794c8d",
   "metadata": {},
   "outputs": [],
   "source": [
    "import pandas as pd\n",
    "import numpy as np\n",
    "\n",
    "def get_removedevice(input_df: pd.DataFrame, device: str) -> pd.DataFrame:\n",
    "    input_df['index'] = input_df.index \n",
    "    input_df = input_df.sort_values('millisSinceGpsEpoch')\n",
    "    input_df.index = input_df['millisSinceGpsEpoch'].values # illisSinceGpsEpochをindexにする\n",
    "\n",
    "    output_df = pd.DataFrame() \n",
    "    for _, subdf in input_df.groupby('collectionName'):\n",
    "\n",
    "        phones = subdf['phoneName'].unique()\n",
    "\n",
    "        # 1つのコレクションにphoneが1種類であるか、対象のデバイスがコレクションに含まれていない時\n",
    "        if (len(phones) == 1) or (not device in phones):\n",
    "            output_df = pd.concat([output_df, subdf])\n",
    "            continue\n",
    "\n",
    "        origin_df = subdf.copy()\n",
    "        \n",
    "        # 対象のデバイスの位置を削除\n",
    "        _index = subdf['phoneName']==device\n",
    "        subdf.loc[_index, 'latDeg'] = np.nan\n",
    "        subdf.loc[_index, 'lngDeg'] = np.nan\n",
    "        \n",
    "        # Nanの周りに値が存在していれば、そのNanを補間\n",
    "        # indexを基準として、線形的に補間していく\n",
    "        subdf = subdf.interpolate(method='index', limit_area='inside')\n",
    "        \n",
    "        # 値が存在しないところは、元の値を使う\n",
    "        _index = subdf['latDeg'].isnull()\n",
    "        subdf.loc[_index, 'latDeg'] = origin_df.loc[_index, 'latDeg'].values\n",
    "        subdf.loc[_index, 'lngDeg'] = origin_df.loc[_index, 'lngDeg'].values\n",
    "\n",
    "        output_df = pd.concat([output_df, subdf])\n",
    "\n",
    "    output_df.index = output_df['index'].values\n",
    "    output_df = output_df.sort_index()\n",
    "\n",
    "    del output_df['index']\n",
    "    \n",
    "    return output_df\n",
    "\n",
    "submission = pd.read_csv('../output/sub_nb005.csv')\n",
    "submission['collectionName'] = submission['phone'].map(lambda x: x.split('_')[0])\n",
    "submission['phoneName'] = submission['phone'].map(lambda x: x.split('_')[1])\n",
    "submission = get_removedevice(submission, 'SamsungS20Ultra')\n",
    "\n",
    "submission = submission.drop(columns=['collectionName', 'phoneName'], axis=1)\n",
    "submission.to_csv('../output/sub_nb016.csv.csv', index=False)"
   ]
  }
 ],
 "metadata": {
  "kernelspec": {
   "display_name": "Python 3",
   "language": "python",
   "name": "python3"
  },
  "language_info": {
   "codemirror_mode": {
    "name": "ipython",
    "version": 3
   },
   "file_extension": ".py",
   "mimetype": "text/x-python",
   "name": "python",
   "nbconvert_exporter": "python",
   "pygments_lexer": "ipython3",
   "version": "3.7.4"
  }
 },
 "nbformat": 4,
 "nbformat_minor": 5
}
