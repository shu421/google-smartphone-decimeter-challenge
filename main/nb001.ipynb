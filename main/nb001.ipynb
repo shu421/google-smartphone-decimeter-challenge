{
 "cells": [
  {
   "cell_type": "code",
   "execution_count": 8,
   "id": "5706b4f5-db9b-43b3-a2e1-0ee2de672220",
   "metadata": {},
   "outputs": [],
   "source": [
    "import matplotlib.pyplot as plt\n",
    "import numpy as np \n",
    "import pandas as pd\n",
    "\n",
    "import seaborn as sns\n",
    "\n",
    "%matplotlib inline\n",
    "INPUT = '../input/google-smartphone-decimeter-challenge/'\n",
    "OUTPUT_PATH = '../output/'"
   ]
  },
  {
   "cell_type": "code",
   "execution_count": 9,
   "id": "5e36167d-8a82-46a4-9455-dbfcb94d67cf",
   "metadata": {},
   "outputs": [],
   "source": [
    "sub = pd.read_csv(INPUT + 'sample_submission.csv')\n",
    "test_base = pd.read_csv(INPUT + 'baseline_locations_test.csv')"
   ]
  },
  {
   "cell_type": "code",
   "execution_count": 13,
   "id": "c33a6401-f269-4dfb-8d53-2c8be0a37cea",
   "metadata": {},
   "outputs": [],
   "source": [
    "sub.assign(\n",
    "    latDeg = test_base.latDeg,\n",
    "    lngDeg = test_base.lngDeg\n",
    ").to_csv(\n",
    "    OUTPUT_PATH + 'submission.csv', index=False\n",
    ")"
   ]
  },
  {
   "cell_type": "code",
   "execution_count": null,
   "id": "780d0f55-dd48-47e3-95ba-7863609c335a",
   "metadata": {},
   "outputs": [],
   "source": []
  }
 ],
 "metadata": {
  "kernelspec": {
   "display_name": "Python 3",
   "language": "python",
   "name": "python3"
  },
  "language_info": {
   "codemirror_mode": {
    "name": "ipython",
    "version": 3
   },
   "file_extension": ".py",
   "mimetype": "text/x-python",
   "name": "python",
   "nbconvert_exporter": "python",
   "pygments_lexer": "ipython3",
   "version": "3.7.4"
  }
 },
 "nbformat": 4,
 "nbformat_minor": 5
}
