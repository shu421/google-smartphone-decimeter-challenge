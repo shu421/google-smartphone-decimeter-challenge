{
 "cells": [
  {
   "cell_type": "code",
   "execution_count": 3,
   "metadata": {},
   "outputs": [
    {
     "name": "stderr",
     "output_type": "stream",
     "text": [
      "/Users/shugo/Desktop/Competitions/kaggle/outdoor/venv_outdoor/lib/python3.7/site-packages/geopandas/_compat.py:110: UserWarning: The Shapely GEOS version (3.8.0-CAPI-1.13.1 ) is incompatible with the GEOS version PyGEOS was compiled with (3.9.1-CAPI-1.14.2). Conversions between both will be slow.\n",
      "  shapely_geos_version, geos_capi_version_string\n"
     ]
    },
    {
     "name": "stdout",
     "output_type": "stream",
     "text": [
      "INFO: Pandarallel will run on 8 workers.\n",
      "INFO: Pandarallel will use standard multiprocessing data transfer (pipe) to transfer data between the main process and workers.\n"
     ]
    }
   ],
   "source": [
    "import numpy as np\n",
    "import pandas as pd\n",
    "import glob\n",
    "import os\n",
    "import matplotlib.pyplot as plt\n",
    "from tqdm.notebook import tqdm\n",
    "from pathlib import Path\n",
    "import plotly.express as px\n",
    "\n",
    "from shapely.geometry import Point\n",
    "import osmnx as ox\n",
    "import momepy\n",
    "import geopandas as gpd\n",
    "import folium\n",
    "\n",
    "from pandarallel import pandarallel\n",
    "pandarallel.initialize()"
   ]
  },
  {
   "cell_type": "code",
   "execution_count": 4,
   "metadata": {},
   "outputs": [],
   "source": [
    "def calc_haversine(lat1, lon1, lat2, lon2):\n",
    "    \"\"\"Calculates the great circle distance between two points\n",
    "    on the earth. Inputs are array-like and specified in decimal degrees.\n",
    "    \"\"\"\n",
    "    RADIUS = 6_367_000\n",
    "    lat1, lon1, lat2, lon2 = map(np.radians, [lat1, lon1, lat2, lon2])\n",
    "    dlat = lat2 - lat1\n",
    "    dlon = lon2 - lon1\n",
    "    a = np.sin(dlat/2)**2 + \\\n",
    "        np.cos(lat1) * np.cos(lat2) * np.sin(dlon/2)**2\n",
    "    dist = 2 * RADIUS * np.arcsin(a**0.5)\n",
    "    return dist\n",
    "\n",
    "def visualize_trafic(df, center={\"lat\":37.6458, \"lon\":-122.4056}, zoom=9):\n",
    "    fig = px.scatter_mapbox(df,\n",
    "                            # Here, plotly gets, (x,y) coordinates\n",
    "                            lat=\"latDeg\",\n",
    "                            lon=\"lngDeg\",\n",
    "                            \n",
    "                            #Here, plotly detects color of series\n",
    "                            color=\"phone\",\n",
    "                            \n",
    "                            labels=\"phone\",\n",
    "                            zoom=zoom,\n",
    "                            center=center,\n",
    "                            height=600,\n",
    "                            width=800)\n",
    "    fig.update_layout(mapbox_style='stamen-terrain')\n",
    "    fig.update_layout(margin={\"r\": 0, \"t\": 0, \"l\": 0, \"b\": 0})\n",
    "    fig.update_layout(title_text=\"GPS trafic\")\n",
    "    fig.show()\n",
    "\n",
    "    \n",
    "def visualize_collection(df, collection):\n",
    "    target_df = df[df['collectionName']==collection].copy()\n",
    "    lat_center = target_df['latDeg'].mean()\n",
    "    lng_center = target_df['lngDeg'].mean()\n",
    "    center = {\"lat\":lat_center, \"lon\":lng_center}\n",
    "    \n",
    "    visualize_trafic(target_df, center)\n",
    "\n",
    "def percentile50(x):\n",
    "    return np.percentile(x, 50)\n",
    "def percentile95(x):\n",
    "    return np.percentile(x, 95)\n",
    "\n",
    "def get_train_score(df, gt):\n",
    "    gt = gt.rename(columns={'latDeg':'latDeg_gt', 'lngDeg':'lngDeg_gt'})\n",
    "    # df = df.merge(gt, on=['collectionName', 'phoneName', 'millisSinceGpsEpoch'], how='inner')\n",
    "    df = df.merge(gt, on=['phone', 'millisSinceGpsEpoch'], how='inner')\n",
    "    # calc_distance_error\n",
    "    df['err'] = calc_haversine(df['latDeg_gt'], df['lngDeg_gt'], df['latDeg'], df['lngDeg'])\n",
    "    # calc_evaluate_score\n",
    "    # df['phone'] = df['collectionName'] + '_' + df['phoneName']\n",
    "    res = df.groupby('phone')['err'].agg([percentile50, percentile95]) # phoneによってgroupbyし、gtと予測値の差(err)の50%,95%値を求める\n",
    "    res['p50_p90_mean'] = (res['percentile50'] + res['percentile95']) / 2 \n",
    "    score = res['p50_p90_mean'].mean()\n",
    "    return score\n",
    "\n",
    "def get_all_train_score(df):\n",
    "    # calc_distance_error\n",
    "    df['err'] = calc_haversine(df['latDeg_gt'], df['lngDeg_gt'], df['latDeg'], df['lngDeg'])\n",
    "    # calc_evaluate_score\n",
    "    # df['phone'] = df['collectionName'] + '_' + df['phoneName']\n",
    "    res = df.groupby('phone')['err'].agg([percentile50, percentile95]) # phoneによってgroupbyし、gtと予測値の差(err)の50%,95%値を求める\n",
    "    res['p50_p90_mean'] = (res['percentile50'] + res['percentile95']) / 2 \n",
    "    score = res['p50_p90_mean'].mean()\n",
    "    return score"
   ]
  },
  {
   "cell_type": "code",
   "execution_count": 19,
   "metadata": {},
   "outputs": [
    {
     "data": {
      "application/vnd.jupyter.widget-view+json": {
       "model_id": "cbfd9f25f40c4102a9c0456e51c984e2",
       "version_major": 2,
       "version_minor": 0
      },
      "text/plain": "  0%|          | 0/73 [00:00<?, ?it/s]"
     },
     "metadata": {},
     "output_type": "display_data"
    }
   ],
   "source": [
    "data_dir = Path(\"../input/google-smartphone-decimeter-challenge\")\n",
    "# train_df = pd.read_csv(data_dir / \"baseline_locations_train.csv\")\n",
    "train_df = pd.read_csv('../output/filtered_nb046.csv')\n",
    "train_df['collectionName'] = train_df['phone'].apply(lambda x: x.split('_')[0])\n",
    "train_df['phoneName'] = train_df['phone'].apply(lambda x: x.split('_')[1])\n",
    "\n",
    "# get all ground truth dataframe\n",
    "ground_truth = pd.DataFrame()\n",
    "for (collection_name, phone_name), df in tqdm(train_df.groupby([\"collectionName\", \"phoneName\"])):\n",
    "    path = data_dir / f\"train/{collection_name}/{phone_name}/ground_truth.csv\"\n",
    "    df = pd.read_csv(path)  \n",
    "    ground_truth = pd.concat([ground_truth, df]).reset_index(drop=True)   \n",
    "\n",
    "ground_truth['phone'] = ground_truth['collectionName'] + '_' + ground_truth['phoneName']\n",
    "\n",
    "collection_uniq = train_df['collectionName'].unique()\n",
    "SJC = [i for i in collection_uniq if 'SJC' in i]\n",
    "MTV = [i for i in collection_uniq if 'MTV' in i]\n",
    "SVL = [i for i in collection_uniq if 'SVL' in i]\n",
    "SF = [i for i in collection_uniq if 'SF' in i]\n",
    "RWC = [i for i in collection_uniq if 'RWC' in i]\n",
    "\n",
    "\n",
    "target_collection = RWC[1]\n",
    "target_train = train_df[train_df[\"collectionName\"]==target_collection]\n",
    "target_gt = ground_truth[ground_truth[\"collectionName\"]==target_collection]"
   ]
  },
  {
   "cell_type": "code",
   "execution_count": 20,
   "metadata": {},
   "outputs": [],
   "source": [
    "# create grid point\n",
    "line_points = target_gt[['latDeg','lngDeg']].copy()\n",
    "\n",
    "switches = line_points.ne(line_points.shift(-1))\n",
    "idx = switches[switches].index\n",
    "\n",
    "num_interpolate = 5\n",
    "for i in range(num_interpolate):\n",
    "    df_new = pd.DataFrame(index=idx + 0.5)\n",
    "    line_points= pd.concat([line_points, df_new]).sort_index()\n",
    "line_points = line_points.reset_index(drop=True)\n",
    "line_points = line_points.interpolate(method='linear')"
   ]
  },
  {
   "cell_type": "code",
   "execution_count": 21,
   "metadata": {},
   "outputs": [],
   "source": [
    "def find_closest_point(point, points, max_thr=19, min_thr=16):\n",
    "    \"\"\" Find closest point from a list of points. \"\"\"\n",
    "    df_ = pd.DataFrame({'latDeg':point['latDeg'].repeat(len(points)), \n",
    "                        'lngDeg':point['lngDeg'].repeat(len(points))},\n",
    "                        columns=['latDeg', 'lngDeg'])\n",
    "    # return minimum distance points\n",
    "    distance = calc_haversine(points['latDeg'], points['lngDeg'],\n",
    "                                 df_['latDeg'], df_['lngDeg']).min()\n",
    "    if min_thr <= distance <= max_thr:\n",
    "        return list(points.loc[calc_haversine(points['latDeg'], points['lngDeg'],\n",
    "                            df_['latDeg'], df_['lngDeg']).argmin()])\n",
    "\n",
    "def apply_grid_point(x, closest_point):\n",
    "    '''\n",
    "    input: \n",
    "        x: train row\n",
    "        closest_point: closest point or None\n",
    "    '''\n",
    "    idx = x.name\n",
    "    closest_point1 = closest_point[closest_point.index==idx]\n",
    "    if closest_point1.isnull().values == True:\n",
    "        pass\n",
    "    else:\n",
    "        x['latDeg'] = closest_point1.values[0][0]\n",
    "        x['lngDeg'] = closest_point1.values[0][1]\n",
    "    return x"
   ]
  },
  {
   "cell_type": "code",
   "execution_count": 22,
   "metadata": {},
   "outputs": [],
   "source": [
    "train_tmp = target_train.copy()\n",
    "closest_point = train_tmp[['latDeg','lngDeg']].parallel_apply(lambda x: find_closest_point(x, line_points[['latDeg', 'lngDeg']], max_thr=50, min_thr=0), axis=1)\n",
    "train_tmp[['latDeg', 'lngDeg']] = train_tmp[['latDeg', 'lngDeg']].parallel_apply(apply_grid_point, closest_point=closest_point, axis=1)"
   ]
  },
  {
   "cell_type": "code",
   "execution_count": 23,
   "metadata": {},
   "outputs": [
    {
     "name": "stdout",
     "output_type": "stream",
     "text": [
      "before snap to grid: 2.034397909893134\n",
      "afeter snap to grid: 1.5025287114699282\n"
     ]
    }
   ],
   "source": [
    "print('before snap to grid:', get_train_score(target_train, ground_truth))\n",
    "print('afeter snap to grid:', get_train_score(train_tmp, ground_truth))"
   ]
  },
  {
   "cell_type": "code",
   "execution_count": null,
   "metadata": {},
   "outputs": [],
   "source": []
  }
 ],
 "metadata": {
  "kernelspec": {
   "display_name": "Python 3.7.4  ('venv_outdoor': venv)",
   "metadata": {
    "interpreter": {
     "hash": "bd00b75c79969edcf008edd1fd5973862c0c93beffacd004fb7d75ad6fcb357f"
    }
   },
   "name": "python3"
  },
  "language_info": {
   "codemirror_mode": {
    "name": "ipython",
    "version": 3
   },
   "file_extension": ".py",
   "mimetype": "text/x-python",
   "name": "python",
   "nbconvert_exporter": "python",
   "pygments_lexer": "ipython3",
   "version": "3.7.4"
  },
  "orig_nbformat": 2
 },
 "nbformat": 4,
 "nbformat_minor": 2
}