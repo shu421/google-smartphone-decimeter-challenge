{
 "cells": [
  {
   "cell_type": "code",
   "execution_count": 1,
   "id": "8b4d85b9-0ed3-4b9d-accf-d85aa86fa56e",
   "metadata": {},
   "outputs": [],
   "source": [
    "# import library\n",
    "import os\n",
    "import pandas as pd\n",
    "pd.options.display.max_columns = 100\n",
    "import numpy as np\n",
    "import matplotlib.pyplot as plt\n",
    "from matplotlib_venn import venn2, venn2_circles\n",
    "import seaborn as sns\n",
    "from tqdm.notebook import tqdm\n",
    "import pathlib\n",
    "import plotly\n",
    "import plotly.express as px"
   ]
  },
  {
   "cell_type": "code",
   "execution_count": 2,
   "id": "3d78e635-9634-4df5-bc62-a1edb39eaa8d",
   "metadata": {},
   "outputs": [],
   "source": [
    "def calc_haversine(lat1, lon1, lat2, lon2):\n",
    "    \"\"\"Calculates the great circle distance between two points\n",
    "    on the earth. Inputs are array-like and specified in decimal degrees.\n",
    "    \"\"\"\n",
    "    RADIUS = 6_367_000\n",
    "    lat1, lon1, lat2, lon2 = map(np.radians, [lat1, lon1, lat2, lon2])\n",
    "    dlat = lat2 - lat1\n",
    "    dlon = lon2 - lon1\n",
    "    a = np.sin(dlat/2)**2 + \\\n",
    "        np.cos(lat1) * np.cos(lat2) * np.sin(dlon/2)**2\n",
    "    dist = 2 * RADIUS * np.arcsin(a**0.5)\n",
    "    return dist"
   ]
  },
  {
   "cell_type": "code",
   "execution_count": 3,
   "id": "63758c4b-494d-407d-a795-0023a00a85d8",
   "metadata": {},
   "outputs": [],
   "source": [
    "def visualize_trafic(df, center, zoom=9):\n",
    "    fig = px.scatter_mapbox(df,\n",
    "                            # Here, plotly gets, (x,y) coordinates\n",
    "                            lat=\"latDeg\",\n",
    "                            lon=\"lngDeg\",\n",
    "                            \n",
    "                            #Here, plotly detects color of series\n",
    "                            color=\"phoneName\",\n",
    "                            labels=\"phoneName\",\n",
    "                            \n",
    "                            zoom=zoom,\n",
    "                            center=center,\n",
    "                            height=600,\n",
    "                            width=800)\n",
    "    fig.update_layout(mapbox_style='stamen-terrain')\n",
    "    fig.update_layout(margin={\"r\": 0, \"t\": 0, \"l\": 0, \"b\": 0})\n",
    "    fig.update_layout(title_text=\"GPS trafic\")\n",
    "    fig.show()\n",
    "    \n",
    "def visualize_collection(df, collection):\n",
    "    target_df = df[df['collectionName']==collection].copy()\n",
    "    lat_center = target_df['latDeg'].mean()\n",
    "    lng_center = target_df['lngDeg'].mean()\n",
    "    center = {\"lat\":lat_center, \"lon\":lng_center}\n",
    "    \n",
    "    visualize_trafic(target_df, center)"
   ]
  },
  {
   "cell_type": "code",
   "execution_count": 4,
   "id": "a1a4ca5d-59f5-4f52-bab7-607d08751a72",
   "metadata": {},
   "outputs": [],
   "source": [
    "def add_distance_diff(df):\n",
    "    # shift(1): 上のやつが1個下に下がる → 前のデータ\n",
    "    # shift(-1): 下のやつが1個上に上がる → 次のデータ\n",
    "    df['latDeg_prev'] = df['latDeg'].shift(1)\n",
    "    df['latDeg_next'] = df['latDeg'].shift(-1)\n",
    "    df['lngDeg_prev'] = df['lngDeg'].shift(1)\n",
    "    df['lngDeg_next'] = df['lngDeg'].shift(-1)\n",
    "    df['phone_prev'] = df['phone'].shift(1)\n",
    "    df['phone_next'] = df['phone'].shift(-1)\n",
    "    \n",
    "    df['latDeg_gt_prev'] = df['latDeg_gt'].shift(1)\n",
    "    df['latDeg_gt_next'] = df['latDeg_gt'].shift(-1)\n",
    "    df['lngDeg_gt_prev'] = df['lngDeg_gt'].shift(1)\n",
    "    df['lngDeg_gt_next'] = df['lngDeg_gt'].shift(-1)\n",
    "    \n",
    "    df['latDeg_prev_diff'] = df['latDeg'] - df['latDeg_prev']\n",
    "    df['latDeg_next_diff'] = df['latDeg_next'] - df['latDeg']\n",
    "    df['latDeg_gt_prev_diff'] = df['latDeg_gt'] - df['latDeg_gt_prev']\n",
    "    df['latDeg_gt_next_diff'] = df['latDeg_gt_next'] - df['latDeg_gt']\n",
    "    \n",
    "    df['lngDeg_prev_diff'] = df['lngDeg'] - df['lngDeg_prev']\n",
    "    df['lngDeg_next_diff'] = df['lngDeg_next'] - df['lngDeg']\n",
    "    df['lngDeg_gt_prev_diff'] = df['lngDeg_gt'] - df['lngDeg_gt_prev']\n",
    "    df['lngDeg_gt_next_diff'] = df['lngDeg_gt_next'] - df['lngDeg_gt']\n",
    "    \n",
    "    df['dist_prev'] = calc_haversine(df['latDeg'], df['lngDeg'], df['latDeg_prev'], df['lngDeg_prev'])\n",
    "    df['dist_next'] = calc_haversine(df['latDeg'], df['lngDeg'], df['latDeg_next'], df['lngDeg_next'])\n",
    "    \n",
    "    df['dist_gt_prev'] = calc_haversine(df['latDeg_gt'], df['lngDeg_gt'], df['latDeg_gt_prev'], df['lngDeg_gt_prev'])\n",
    "    df['dist_gt_next'] = calc_haversine(df['latDeg_gt'], df['lngDeg_gt'], df['latDeg_gt_next'], df['lngDeg_gt_next'])\n",
    "    \n",
    "    df.loc[df['phone']!=df['phone_prev'], ['latDeg_prev', 'lngDeg_prev', 'dist_prev', \n",
    "                                           'latDeg_gt_prev', 'lngDeg_gt_prev', 'dist_gt_prev',\n",
    "                                          'latDeg_prev_diff', 'latDeg_gt_prev_diff',\n",
    "                                          'lngDeg_prev_diff', 'lngDeg_gt_prev_diff']] = np.nan\n",
    "    \n",
    "    df.loc[df['phone']!=df['phone_next'], ['latDeg_next', 'lngDeg_next', 'dist_next', \n",
    "                                           'latDeg_gt_next', 'lngDeg_gt_next', 'dist_gt_next',\n",
    "                                          'latDeg_next_diff', 'latDeg_gt_next_diff',\n",
    "                                          'lngDeg_next_diff', 'lngDeg_gt_next_diff']] = np.nan\n",
    "    \n",
    "    return df"
   ]
  },
  {
   "cell_type": "code",
   "execution_count": 5,
   "id": "530eb86f-80ea-4813-a553-042c6b231681",
   "metadata": {},
   "outputs": [],
   "source": [
    "INPUT = '../input/google-smartphone-decimeter-challenge'\n",
    "\n",
    "# filtered_train = pd.read_csv(INPUT + '/' + 'baseline_locations_filtered_train.csv')\n",
    "filtered_train = pd.read_csv('../output/filtered_nb017.csv')\n",
    "test = pd.read_csv(INPUT + '/' + 'baseline_locations_test.csv')\n",
    "sample_sub = pd.read_csv(INPUT + '/' + 'sample_submission.csv')\n",
    "\n",
    "# ground truth\n",
    "p = pathlib.Path(INPUT)\n",
    "gt_files = list(p.glob('train/*/*/ground_truth.csv'))\n",
    "\n",
    "gts = []\n",
    "for gt_file in gt_files:\n",
    "    gts.append(pd.read_csv(gt_file))\n",
    "ground_truth = pd.concat(gts)"
   ]
  },
  {
   "cell_type": "markdown",
   "id": "3fba3655-a6fd-4402-9dab-33e4b0e6763c",
   "metadata": {},
   "source": [
    "## EDA"
   ]
  },
  {
   "cell_type": "code",
   "execution_count": 6,
   "id": "60288efa-a558-4b38-9a3d-ac2dda877939",
   "metadata": {},
   "outputs": [],
   "source": [
    "# sub形式にしたfiltered_train済みbaselineを、gtとmergeできる形にする\n",
    "filtered_train['collectionName'] = filtered_train['phone'].apply(lambda x: x.split('_')[0])\n",
    "filtered_train['phoneName'] = filtered_train['phone'].apply(lambda x: x.split('_')[1])"
   ]
  },
  {
   "cell_type": "markdown",
   "id": "aba11cf1-e644-4448-a798-4d65cec325be",
   "metadata": {},
   "source": [
    "## visualize traffic"
   ]
  },
  {
   "cell_type": "markdown",
   "id": "69645bd1-36e7-4225-b68f-5da751b911f4",
   "metadata": {},
   "source": [
    "## graph"
   ]
  },
  {
   "cell_type": "code",
   "execution_count": 7,
   "id": "92f22b90-eb5a-49d7-a8c4-3f409caab581",
   "metadata": {},
   "outputs": [],
   "source": [
    "ground_truth = ground_truth.rename(columns={'latDeg':'latDeg_gt', 'lngDeg':'lngDeg_gt',\n",
    "                                           'heightAboveWgs84EllipsoidM':'heightAboveWgs84EllipsoidM_gt'})\n",
    "filtered_train = filtered_train.merge(ground_truth, on=['collectionName', 'phoneName', 'millisSinceGpsEpoch'], how='inner')\n",
    "filtered_train['dist_err'] = calc_haversine(filtered_train['latDeg_gt'], filtered_train['lngDeg_gt'], filtered_train['latDeg'], filtered_train['lngDeg'])\n",
    "filtered_train = add_distance_diff(filtered_train)"
   ]
  },
  {
   "cell_type": "markdown",
   "id": "9225d0fb-8e4a-40db-beac-923b0f8e93fc",
   "metadata": {},
   "source": [
    "### visualize_err_move_dist\n",
    "- baselineとgtとの誤差\n",
    "- baselineの移動距離、gtの移動距離とスピードのグラフ"
   ]
  },
  {
   "cell_type": "code",
   "execution_count": 22,
   "id": "75852732-9cc1-416a-a1be-42bdc614a6cb",
   "metadata": {},
   "outputs": [],
   "source": [
    "def visualize_err_move_dist(df, phone, reject_outlier=True):\n",
    "    df = df[df['phone']==phone]\n",
    "    if reject_outlier:\n",
    "        th = (df['dist_err'].std()*3) + df['dist_err'].mean() # 99.7%信頼区間\n",
    "        print('outlier')\n",
    "        display(df[df['dist_err']>th].describe()) # gtとの距離\n",
    "        print()\n",
    "        print('rejected')\n",
    "        display(df[df['dist_err']<th].describe()) # gtとの距離"
   ]
  },
  {
   "cell_type": "code",
   "execution_count": 25,
   "id": "414678f8-bf94-48e3-81a5-5f6fcfedbea5",
   "metadata": {},
   "outputs": [
    {
     "output_type": "stream",
     "name": "stdout",
     "text": [
      "outlier\n"
     ]
    },
    {
     "output_type": "display_data",
     "data": {
      "text/plain": "       millisSinceGpsEpoch     latDeg      lngDeg  latDeg_gt   lngDeg_gt  \\\ncount         2.000000e+01  20.000000   20.000000  20.000000   20.000000   \nmean          1.273530e+12  37.546134 -122.264418  37.546143 -122.264417   \nstd           7.540362e+05   0.103561    0.146733   0.103578    0.146729   \nmin           1.273529e+12  37.423563 -122.405673  37.423575 -122.405610   \n25%           1.273530e+12  37.457620 -122.405628  37.457589 -122.405610   \n50%           1.273531e+12  37.557563 -122.280685  37.557588 -122.280721   \n75%           1.273531e+12  37.645797 -122.139722  37.645823 -122.139723   \nmax           1.273531e+12  37.645836 -122.090273  37.645823 -122.090305   \n\n       heightAboveWgs84EllipsoidM_gt  timeSinceFirstFixSeconds        hDop  \\\ncount                      20.000000                  20.00000   20.000000   \nmean                       34.868500                1573.35000   15.759500   \nstd                         2.134085                 754.03622   65.553531   \nmin                        33.250000                 554.45000    0.000000   \n25%                        33.590000                 953.95000    0.000000   \n50%                        33.590000                1668.95000    1.900000   \n75%                        35.107500                2294.70000    1.900000   \nmax                        38.500000                2299.45000  294.240000   \n\n       vDop   speedMps  courseDegree   dist_err  latDeg_prev  latDeg_next  \\\ncount  20.0  20.000000     20.000000  20.000000    19.000000    19.000000   \nmean    0.0   6.369500    191.787500   6.233414    37.552553    37.540921   \nstd     0.0  11.100579     78.115663   2.218424     0.102215     0.103608   \nmin     0.0   0.000000     12.800000   3.686671    37.423872    37.423569   \n25%     0.0   0.000000    161.700000   4.570030    37.468789    37.446449   \n50%     0.0   0.000000    161.700000   5.549890    37.645742    37.469505   \n75%     0.0   6.862500    199.862500   8.267928    37.645807    37.645780   \nmax     0.0  25.230000    311.400000   9.985367    37.645836    37.645836   \n\n       lngDeg_prev  lngDeg_next  latDeg_gt_prev  latDeg_gt_next  \\\ncount    19.000000    19.000000       19.000000       19.000000   \nmean   -122.273328  -122.257045       37.552559       37.540931   \nstd       0.145073     0.146790        0.102235        0.103626   \nmin    -122.405673  -122.405673       37.423907       37.423575   \n25%    -122.405635  -122.405604       37.468748       37.446429   \n50%    -122.405522  -122.156069       37.645823       37.469488   \n75%    -122.154814  -122.124644       37.645823       37.645823   \nmax    -122.090279  -122.090273       37.645823       37.645823   \n\n       lngDeg_gt_prev  lngDeg_gt_next  latDeg_prev_diff  latDeg_next_diff  \\\ncount       19.000000       19.000000         19.000000         19.000000   \nmean      -122.273320     -122.257045          0.000033          0.000032   \nstd          0.145068        0.146789          0.000066          0.000062   \nmin       -122.405610     -122.405610         -0.000033         -0.000033   \n25%       -122.405610     -122.405610         -0.000010         -0.000007   \n50%       -122.405610     -122.156063          0.000002          0.000005   \n75%       -122.154806     -122.124639          0.000075          0.000075   \nmax       -122.090307     -122.090300          0.000159          0.000159   \n\n       latDeg_gt_prev_diff  latDeg_gt_next_diff  lngDeg_prev_diff  \\\ncount         1.900000e+01         1.900000e+01         19.000000   \nmean          3.444678e-05         3.428412e-05         -0.000054   \nstd           6.143159e-05         6.165781e-05          0.000110   \nmin          -8.969700e-06        -1.281480e-05         -0.000253   \n25%          -8.000001e-10        -3.700002e-09         -0.000120   \n50%           0.000000e+00         0.000000e+00          0.000002   \n75%           6.703835e-05         6.703835e-05          0.000013   \nmax           1.347548e-04         1.352247e-04          0.000033   \n\n       lngDeg_next_diff  lngDeg_gt_prev_diff  lngDeg_gt_next_diff  dist_prev  \\\ncount         19.000000         1.900000e+01         1.900000e+01  19.000000   \nmean          -0.000054        -5.956948e-05        -5.966519e-05   8.519316   \nstd            0.000108         1.034467e-04         1.036853e-04  10.457543   \nmin           -0.000253        -2.290331e-04        -2.302842e-04   0.169354   \n25%           -0.000114        -1.136961e-04        -1.137003e-04   1.549212   \n50%            0.000001         0.000000e+00         0.000000e+00   3.559674   \n75%            0.000011         8.000001e-10         8.000001e-10  13.225291   \nmax            0.000033         4.471100e-06         5.064600e-06  27.955980   \n\n       dist_next  dist_gt_prev  dist_gt_next  \ncount  19.000000     19.000000     19.000000  \nmean    8.175576      6.703841      6.737627  \nstd    10.224045     11.269950     11.278669  \nmin     0.169354      0.000000      0.000000  \n25%     1.458752      0.000035      0.000035  \n50%     3.559674      0.000113      0.001088  \n75%    13.225291     13.045597     13.255859  \nmax    27.955980     25.133007     25.265060  ",
      "text/html": "<div>\n<style scoped>\n    .dataframe tbody tr th:only-of-type {\n        vertical-align: middle;\n    }\n\n    .dataframe tbody tr th {\n        vertical-align: top;\n    }\n\n    .dataframe thead th {\n        text-align: right;\n    }\n</style>\n<table border=\"1\" class=\"dataframe\">\n  <thead>\n    <tr style=\"text-align: right;\">\n      <th></th>\n      <th>millisSinceGpsEpoch</th>\n      <th>latDeg</th>\n      <th>lngDeg</th>\n      <th>latDeg_gt</th>\n      <th>lngDeg_gt</th>\n      <th>heightAboveWgs84EllipsoidM_gt</th>\n      <th>timeSinceFirstFixSeconds</th>\n      <th>hDop</th>\n      <th>vDop</th>\n      <th>speedMps</th>\n      <th>courseDegree</th>\n      <th>dist_err</th>\n      <th>latDeg_prev</th>\n      <th>latDeg_next</th>\n      <th>lngDeg_prev</th>\n      <th>lngDeg_next</th>\n      <th>latDeg_gt_prev</th>\n      <th>latDeg_gt_next</th>\n      <th>lngDeg_gt_prev</th>\n      <th>lngDeg_gt_next</th>\n      <th>latDeg_prev_diff</th>\n      <th>latDeg_next_diff</th>\n      <th>latDeg_gt_prev_diff</th>\n      <th>latDeg_gt_next_diff</th>\n      <th>lngDeg_prev_diff</th>\n      <th>lngDeg_next_diff</th>\n      <th>lngDeg_gt_prev_diff</th>\n      <th>lngDeg_gt_next_diff</th>\n      <th>dist_prev</th>\n      <th>dist_next</th>\n      <th>dist_gt_prev</th>\n      <th>dist_gt_next</th>\n    </tr>\n  </thead>\n  <tbody>\n    <tr>\n      <th>count</th>\n      <td>2.000000e+01</td>\n      <td>20.000000</td>\n      <td>20.000000</td>\n      <td>20.000000</td>\n      <td>20.000000</td>\n      <td>20.000000</td>\n      <td>20.00000</td>\n      <td>20.000000</td>\n      <td>20.0</td>\n      <td>20.000000</td>\n      <td>20.000000</td>\n      <td>20.000000</td>\n      <td>19.000000</td>\n      <td>19.000000</td>\n      <td>19.000000</td>\n      <td>19.000000</td>\n      <td>19.000000</td>\n      <td>19.000000</td>\n      <td>19.000000</td>\n      <td>19.000000</td>\n      <td>19.000000</td>\n      <td>19.000000</td>\n      <td>1.900000e+01</td>\n      <td>1.900000e+01</td>\n      <td>19.000000</td>\n      <td>19.000000</td>\n      <td>1.900000e+01</td>\n      <td>1.900000e+01</td>\n      <td>19.000000</td>\n      <td>19.000000</td>\n      <td>19.000000</td>\n      <td>19.000000</td>\n    </tr>\n    <tr>\n      <th>mean</th>\n      <td>1.273530e+12</td>\n      <td>37.546134</td>\n      <td>-122.264418</td>\n      <td>37.546143</td>\n      <td>-122.264417</td>\n      <td>34.868500</td>\n      <td>1573.35000</td>\n      <td>15.759500</td>\n      <td>0.0</td>\n      <td>6.369500</td>\n      <td>191.787500</td>\n      <td>6.233414</td>\n      <td>37.552553</td>\n      <td>37.540921</td>\n      <td>-122.273328</td>\n      <td>-122.257045</td>\n      <td>37.552559</td>\n      <td>37.540931</td>\n      <td>-122.273320</td>\n      <td>-122.257045</td>\n      <td>0.000033</td>\n      <td>0.000032</td>\n      <td>3.444678e-05</td>\n      <td>3.428412e-05</td>\n      <td>-0.000054</td>\n      <td>-0.000054</td>\n      <td>-5.956948e-05</td>\n      <td>-5.966519e-05</td>\n      <td>8.519316</td>\n      <td>8.175576</td>\n      <td>6.703841</td>\n      <td>6.737627</td>\n    </tr>\n    <tr>\n      <th>std</th>\n      <td>7.540362e+05</td>\n      <td>0.103561</td>\n      <td>0.146733</td>\n      <td>0.103578</td>\n      <td>0.146729</td>\n      <td>2.134085</td>\n      <td>754.03622</td>\n      <td>65.553531</td>\n      <td>0.0</td>\n      <td>11.100579</td>\n      <td>78.115663</td>\n      <td>2.218424</td>\n      <td>0.102215</td>\n      <td>0.103608</td>\n      <td>0.145073</td>\n      <td>0.146790</td>\n      <td>0.102235</td>\n      <td>0.103626</td>\n      <td>0.145068</td>\n      <td>0.146789</td>\n      <td>0.000066</td>\n      <td>0.000062</td>\n      <td>6.143159e-05</td>\n      <td>6.165781e-05</td>\n      <td>0.000110</td>\n      <td>0.000108</td>\n      <td>1.034467e-04</td>\n      <td>1.036853e-04</td>\n      <td>10.457543</td>\n      <td>10.224045</td>\n      <td>11.269950</td>\n      <td>11.278669</td>\n    </tr>\n    <tr>\n      <th>min</th>\n      <td>1.273529e+12</td>\n      <td>37.423563</td>\n      <td>-122.405673</td>\n      <td>37.423575</td>\n      <td>-122.405610</td>\n      <td>33.250000</td>\n      <td>554.45000</td>\n      <td>0.000000</td>\n      <td>0.0</td>\n      <td>0.000000</td>\n      <td>12.800000</td>\n      <td>3.686671</td>\n      <td>37.423872</td>\n      <td>37.423569</td>\n      <td>-122.405673</td>\n      <td>-122.405673</td>\n      <td>37.423907</td>\n      <td>37.423575</td>\n      <td>-122.405610</td>\n      <td>-122.405610</td>\n      <td>-0.000033</td>\n      <td>-0.000033</td>\n      <td>-8.969700e-06</td>\n      <td>-1.281480e-05</td>\n      <td>-0.000253</td>\n      <td>-0.000253</td>\n      <td>-2.290331e-04</td>\n      <td>-2.302842e-04</td>\n      <td>0.169354</td>\n      <td>0.169354</td>\n      <td>0.000000</td>\n      <td>0.000000</td>\n    </tr>\n    <tr>\n      <th>25%</th>\n      <td>1.273530e+12</td>\n      <td>37.457620</td>\n      <td>-122.405628</td>\n      <td>37.457589</td>\n      <td>-122.405610</td>\n      <td>33.590000</td>\n      <td>953.95000</td>\n      <td>0.000000</td>\n      <td>0.0</td>\n      <td>0.000000</td>\n      <td>161.700000</td>\n      <td>4.570030</td>\n      <td>37.468789</td>\n      <td>37.446449</td>\n      <td>-122.405635</td>\n      <td>-122.405604</td>\n      <td>37.468748</td>\n      <td>37.446429</td>\n      <td>-122.405610</td>\n      <td>-122.405610</td>\n      <td>-0.000010</td>\n      <td>-0.000007</td>\n      <td>-8.000001e-10</td>\n      <td>-3.700002e-09</td>\n      <td>-0.000120</td>\n      <td>-0.000114</td>\n      <td>-1.136961e-04</td>\n      <td>-1.137003e-04</td>\n      <td>1.549212</td>\n      <td>1.458752</td>\n      <td>0.000035</td>\n      <td>0.000035</td>\n    </tr>\n    <tr>\n      <th>50%</th>\n      <td>1.273531e+12</td>\n      <td>37.557563</td>\n      <td>-122.280685</td>\n      <td>37.557588</td>\n      <td>-122.280721</td>\n      <td>33.590000</td>\n      <td>1668.95000</td>\n      <td>1.900000</td>\n      <td>0.0</td>\n      <td>0.000000</td>\n      <td>161.700000</td>\n      <td>5.549890</td>\n      <td>37.645742</td>\n      <td>37.469505</td>\n      <td>-122.405522</td>\n      <td>-122.156069</td>\n      <td>37.645823</td>\n      <td>37.469488</td>\n      <td>-122.405610</td>\n      <td>-122.156063</td>\n      <td>0.000002</td>\n      <td>0.000005</td>\n      <td>0.000000e+00</td>\n      <td>0.000000e+00</td>\n      <td>0.000002</td>\n      <td>0.000001</td>\n      <td>0.000000e+00</td>\n      <td>0.000000e+00</td>\n      <td>3.559674</td>\n      <td>3.559674</td>\n      <td>0.000113</td>\n      <td>0.001088</td>\n    </tr>\n    <tr>\n      <th>75%</th>\n      <td>1.273531e+12</td>\n      <td>37.645797</td>\n      <td>-122.139722</td>\n      <td>37.645823</td>\n      <td>-122.139723</td>\n      <td>35.107500</td>\n      <td>2294.70000</td>\n      <td>1.900000</td>\n      <td>0.0</td>\n      <td>6.862500</td>\n      <td>199.862500</td>\n      <td>8.267928</td>\n      <td>37.645807</td>\n      <td>37.645780</td>\n      <td>-122.154814</td>\n      <td>-122.124644</td>\n      <td>37.645823</td>\n      <td>37.645823</td>\n      <td>-122.154806</td>\n      <td>-122.124639</td>\n      <td>0.000075</td>\n      <td>0.000075</td>\n      <td>6.703835e-05</td>\n      <td>6.703835e-05</td>\n      <td>0.000013</td>\n      <td>0.000011</td>\n      <td>8.000001e-10</td>\n      <td>8.000001e-10</td>\n      <td>13.225291</td>\n      <td>13.225291</td>\n      <td>13.045597</td>\n      <td>13.255859</td>\n    </tr>\n    <tr>\n      <th>max</th>\n      <td>1.273531e+12</td>\n      <td>37.645836</td>\n      <td>-122.090273</td>\n      <td>37.645823</td>\n      <td>-122.090305</td>\n      <td>38.500000</td>\n      <td>2299.45000</td>\n      <td>294.240000</td>\n      <td>0.0</td>\n      <td>25.230000</td>\n      <td>311.400000</td>\n      <td>9.985367</td>\n      <td>37.645836</td>\n      <td>37.645836</td>\n      <td>-122.090279</td>\n      <td>-122.090273</td>\n      <td>37.645823</td>\n      <td>37.645823</td>\n      <td>-122.090307</td>\n      <td>-122.090300</td>\n      <td>0.000159</td>\n      <td>0.000159</td>\n      <td>1.347548e-04</td>\n      <td>1.352247e-04</td>\n      <td>0.000033</td>\n      <td>0.000033</td>\n      <td>4.471100e-06</td>\n      <td>5.064600e-06</td>\n      <td>27.955980</td>\n      <td>27.955980</td>\n      <td>25.133007</td>\n      <td>25.265060</td>\n    </tr>\n  </tbody>\n</table>\n</div>"
     },
     "metadata": {}
    },
    {
     "output_type": "stream",
     "name": "stdout",
     "text": [
      "\nrejected\n"
     ]
    },
    {
     "output_type": "display_data",
     "data": {
      "text/plain": "       millisSinceGpsEpoch       latDeg       lngDeg    latDeg_gt  \\\ncount         1.726000e+03  1726.000000  1726.000000  1726.000000   \nmean          1.273530e+12    37.523542  -122.248636    37.523535   \nstd           5.006213e+05     0.070650     0.107059     0.070650   \nmin           1.273529e+12    37.422305  -122.406101    37.422293   \n25%           1.273530e+12    37.462660  -122.342377    37.462653   \n50%           1.273530e+12    37.513179  -122.255112    37.513164   \n75%           1.273531e+12    37.587048  -122.144359    37.587041   \nmax           1.273531e+12    37.646597  -122.090281    37.646596   \n\n         lngDeg_gt  heightAboveWgs84EllipsoidM_gt  timeSinceFirstFixSeconds  \\\ncount  1726.000000                    1726.000000               1726.000000   \nmean   -122.248640                      34.897503               1425.253592   \nstd       0.107057                       1.485504                500.621332   \nmin    -122.406101                      31.360000                555.450000   \n25%    -122.342375                      34.040000                990.700000   \n50%    -122.255113                      34.530000               1426.950000   \n75%    -122.144369                      35.040000               1858.200000   \nmax    -122.090296                      41.560000               2289.450000   \n\n              hDop    vDop     speedMps  courseDegree     dist_err  \\\ncount  1726.000000  1726.0  1726.000000   1726.000000  1726.000000   \nmean      5.944988     0.0    23.187323    283.707561     1.126192   \nstd      40.085385     0.0     8.010981     86.248645     0.553140   \nmin       0.000000     0.0     0.000000      0.500000     0.039272   \n25%       1.000000     0.0    22.307500    293.812500     0.751448   \n50%       1.300000     0.0    26.490000    314.200000     1.037354   \n75%       1.800000     0.0    27.717500    324.250000     1.472565   \nmax     655.300000     0.0    29.940000    359.950000     3.535595   \n\n       latDeg_prev  latDeg_next  lngDeg_prev  lngDeg_next  latDeg_gt_prev  \\\ncount  1726.000000  1726.000000  1726.000000  1726.000000     1726.000000   \nmean     37.523413    37.523670  -122.248456  -122.248816       37.523407   \nstd       0.070629     0.070671     0.107056     0.107061        0.070629   \nmin      37.422305    37.422305  -122.406101  -122.406101       37.422293   \n25%      37.462546    37.462773  -122.342074  -122.342680       37.462539   \n50%      37.512997    37.513362  -122.254905  -122.255319       37.512982   \n75%      37.587040    37.587056  -122.144165  -122.144552       37.587033   \nmax      37.646597    37.646597  -122.090273  -122.090287       37.646596   \n\n       latDeg_gt_next  lngDeg_gt_prev  lngDeg_gt_next  latDeg_prev_diff  \\\ncount     1726.000000     1726.000000     1726.000000       1726.000000   \nmean        37.523664     -122.248460     -122.248820          0.000128   \nstd          0.070671        0.107054        0.107059          0.000077   \nmin         37.422293     -122.406101     -122.406101         -0.000094   \n25%         37.462768     -122.342071     -122.342680          0.000081   \n50%         37.513348     -122.254905     -122.255320          0.000155   \n75%         37.587049     -122.144174     -122.144563          0.000185   \nmax         37.646596     -122.090296     -122.090296          0.000258   \n\n       latDeg_next_diff  latDeg_gt_prev_diff  latDeg_gt_next_diff  \\\ncount       1726.000000          1726.000000          1726.000000   \nmean           0.000128             0.000128             0.000128   \nstd            0.000077             0.000077             0.000077   \nmin           -0.000094            -0.000102            -0.000102   \n25%            0.000081             0.000080             0.000080   \n50%            0.000155             0.000155             0.000155   \n75%            0.000185             0.000186             0.000186   \nmax            0.000258             0.000256             0.000256   \n\n       lngDeg_prev_diff  lngDeg_next_diff  lngDeg_gt_prev_diff  \\\ncount       1726.000000       1726.000000          1726.000000   \nmean          -0.000180         -0.000180            -0.000180   \nstd            0.000096          0.000097             0.000097   \nmin           -0.000327         -0.000327            -0.000327   \n25%           -0.000245         -0.000245            -0.000245   \n50%           -0.000199         -0.000199            -0.000199   \n75%           -0.000163         -0.000163            -0.000164   \nmax            0.000170          0.000170             0.000169   \n\n       lngDeg_gt_next_diff    dist_prev    dist_next  dist_gt_prev  \\\ncount          1726.000000  1726.000000  1726.000000   1726.000000   \nmean             -0.000180    23.189637    23.193421     23.164075   \nstd               0.000097     7.916794     7.912876      7.998949   \nmin              -0.000327     0.113654     0.113654      0.000000   \n25%              -0.000245    22.278204    22.278204     22.296471   \n50%              -0.000199    26.452430    26.455418     26.452583   \n75%              -0.000164    27.655902    27.655902     27.670267   \nmax               0.000169    30.156018    30.156018     29.911546   \n\n       dist_gt_next  \ncount   1726.000000  \nmean      23.163703  \nstd        7.999586  \nmin        0.000000  \n25%       22.296471  \n50%       26.452583  \n75%       27.670267  \nmax       29.911546  ",
      "text/html": "<div>\n<style scoped>\n    .dataframe tbody tr th:only-of-type {\n        vertical-align: middle;\n    }\n\n    .dataframe tbody tr th {\n        vertical-align: top;\n    }\n\n    .dataframe thead th {\n        text-align: right;\n    }\n</style>\n<table border=\"1\" class=\"dataframe\">\n  <thead>\n    <tr style=\"text-align: right;\">\n      <th></th>\n      <th>millisSinceGpsEpoch</th>\n      <th>latDeg</th>\n      <th>lngDeg</th>\n      <th>latDeg_gt</th>\n      <th>lngDeg_gt</th>\n      <th>heightAboveWgs84EllipsoidM_gt</th>\n      <th>timeSinceFirstFixSeconds</th>\n      <th>hDop</th>\n      <th>vDop</th>\n      <th>speedMps</th>\n      <th>courseDegree</th>\n      <th>dist_err</th>\n      <th>latDeg_prev</th>\n      <th>latDeg_next</th>\n      <th>lngDeg_prev</th>\n      <th>lngDeg_next</th>\n      <th>latDeg_gt_prev</th>\n      <th>latDeg_gt_next</th>\n      <th>lngDeg_gt_prev</th>\n      <th>lngDeg_gt_next</th>\n      <th>latDeg_prev_diff</th>\n      <th>latDeg_next_diff</th>\n      <th>latDeg_gt_prev_diff</th>\n      <th>latDeg_gt_next_diff</th>\n      <th>lngDeg_prev_diff</th>\n      <th>lngDeg_next_diff</th>\n      <th>lngDeg_gt_prev_diff</th>\n      <th>lngDeg_gt_next_diff</th>\n      <th>dist_prev</th>\n      <th>dist_next</th>\n      <th>dist_gt_prev</th>\n      <th>dist_gt_next</th>\n    </tr>\n  </thead>\n  <tbody>\n    <tr>\n      <th>count</th>\n      <td>1.726000e+03</td>\n      <td>1726.000000</td>\n      <td>1726.000000</td>\n      <td>1726.000000</td>\n      <td>1726.000000</td>\n      <td>1726.000000</td>\n      <td>1726.000000</td>\n      <td>1726.000000</td>\n      <td>1726.0</td>\n      <td>1726.000000</td>\n      <td>1726.000000</td>\n      <td>1726.000000</td>\n      <td>1726.000000</td>\n      <td>1726.000000</td>\n      <td>1726.000000</td>\n      <td>1726.000000</td>\n      <td>1726.000000</td>\n      <td>1726.000000</td>\n      <td>1726.000000</td>\n      <td>1726.000000</td>\n      <td>1726.000000</td>\n      <td>1726.000000</td>\n      <td>1726.000000</td>\n      <td>1726.000000</td>\n      <td>1726.000000</td>\n      <td>1726.000000</td>\n      <td>1726.000000</td>\n      <td>1726.000000</td>\n      <td>1726.000000</td>\n      <td>1726.000000</td>\n      <td>1726.000000</td>\n      <td>1726.000000</td>\n    </tr>\n    <tr>\n      <th>mean</th>\n      <td>1.273530e+12</td>\n      <td>37.523542</td>\n      <td>-122.248636</td>\n      <td>37.523535</td>\n      <td>-122.248640</td>\n      <td>34.897503</td>\n      <td>1425.253592</td>\n      <td>5.944988</td>\n      <td>0.0</td>\n      <td>23.187323</td>\n      <td>283.707561</td>\n      <td>1.126192</td>\n      <td>37.523413</td>\n      <td>37.523670</td>\n      <td>-122.248456</td>\n      <td>-122.248816</td>\n      <td>37.523407</td>\n      <td>37.523664</td>\n      <td>-122.248460</td>\n      <td>-122.248820</td>\n      <td>0.000128</td>\n      <td>0.000128</td>\n      <td>0.000128</td>\n      <td>0.000128</td>\n      <td>-0.000180</td>\n      <td>-0.000180</td>\n      <td>-0.000180</td>\n      <td>-0.000180</td>\n      <td>23.189637</td>\n      <td>23.193421</td>\n      <td>23.164075</td>\n      <td>23.163703</td>\n    </tr>\n    <tr>\n      <th>std</th>\n      <td>5.006213e+05</td>\n      <td>0.070650</td>\n      <td>0.107059</td>\n      <td>0.070650</td>\n      <td>0.107057</td>\n      <td>1.485504</td>\n      <td>500.621332</td>\n      <td>40.085385</td>\n      <td>0.0</td>\n      <td>8.010981</td>\n      <td>86.248645</td>\n      <td>0.553140</td>\n      <td>0.070629</td>\n      <td>0.070671</td>\n      <td>0.107056</td>\n      <td>0.107061</td>\n      <td>0.070629</td>\n      <td>0.070671</td>\n      <td>0.107054</td>\n      <td>0.107059</td>\n      <td>0.000077</td>\n      <td>0.000077</td>\n      <td>0.000077</td>\n      <td>0.000077</td>\n      <td>0.000096</td>\n      <td>0.000097</td>\n      <td>0.000097</td>\n      <td>0.000097</td>\n      <td>7.916794</td>\n      <td>7.912876</td>\n      <td>7.998949</td>\n      <td>7.999586</td>\n    </tr>\n    <tr>\n      <th>min</th>\n      <td>1.273529e+12</td>\n      <td>37.422305</td>\n      <td>-122.406101</td>\n      <td>37.422293</td>\n      <td>-122.406101</td>\n      <td>31.360000</td>\n      <td>555.450000</td>\n      <td>0.000000</td>\n      <td>0.0</td>\n      <td>0.000000</td>\n      <td>0.500000</td>\n      <td>0.039272</td>\n      <td>37.422305</td>\n      <td>37.422305</td>\n      <td>-122.406101</td>\n      <td>-122.406101</td>\n      <td>37.422293</td>\n      <td>37.422293</td>\n      <td>-122.406101</td>\n      <td>-122.406101</td>\n      <td>-0.000094</td>\n      <td>-0.000094</td>\n      <td>-0.000102</td>\n      <td>-0.000102</td>\n      <td>-0.000327</td>\n      <td>-0.000327</td>\n      <td>-0.000327</td>\n      <td>-0.000327</td>\n      <td>0.113654</td>\n      <td>0.113654</td>\n      <td>0.000000</td>\n      <td>0.000000</td>\n    </tr>\n    <tr>\n      <th>25%</th>\n      <td>1.273530e+12</td>\n      <td>37.462660</td>\n      <td>-122.342377</td>\n      <td>37.462653</td>\n      <td>-122.342375</td>\n      <td>34.040000</td>\n      <td>990.700000</td>\n      <td>1.000000</td>\n      <td>0.0</td>\n      <td>22.307500</td>\n      <td>293.812500</td>\n      <td>0.751448</td>\n      <td>37.462546</td>\n      <td>37.462773</td>\n      <td>-122.342074</td>\n      <td>-122.342680</td>\n      <td>37.462539</td>\n      <td>37.462768</td>\n      <td>-122.342071</td>\n      <td>-122.342680</td>\n      <td>0.000081</td>\n      <td>0.000081</td>\n      <td>0.000080</td>\n      <td>0.000080</td>\n      <td>-0.000245</td>\n      <td>-0.000245</td>\n      <td>-0.000245</td>\n      <td>-0.000245</td>\n      <td>22.278204</td>\n      <td>22.278204</td>\n      <td>22.296471</td>\n      <td>22.296471</td>\n    </tr>\n    <tr>\n      <th>50%</th>\n      <td>1.273530e+12</td>\n      <td>37.513179</td>\n      <td>-122.255112</td>\n      <td>37.513164</td>\n      <td>-122.255113</td>\n      <td>34.530000</td>\n      <td>1426.950000</td>\n      <td>1.300000</td>\n      <td>0.0</td>\n      <td>26.490000</td>\n      <td>314.200000</td>\n      <td>1.037354</td>\n      <td>37.512997</td>\n      <td>37.513362</td>\n      <td>-122.254905</td>\n      <td>-122.255319</td>\n      <td>37.512982</td>\n      <td>37.513348</td>\n      <td>-122.254905</td>\n      <td>-122.255320</td>\n      <td>0.000155</td>\n      <td>0.000155</td>\n      <td>0.000155</td>\n      <td>0.000155</td>\n      <td>-0.000199</td>\n      <td>-0.000199</td>\n      <td>-0.000199</td>\n      <td>-0.000199</td>\n      <td>26.452430</td>\n      <td>26.455418</td>\n      <td>26.452583</td>\n      <td>26.452583</td>\n    </tr>\n    <tr>\n      <th>75%</th>\n      <td>1.273531e+12</td>\n      <td>37.587048</td>\n      <td>-122.144359</td>\n      <td>37.587041</td>\n      <td>-122.144369</td>\n      <td>35.040000</td>\n      <td>1858.200000</td>\n      <td>1.800000</td>\n      <td>0.0</td>\n      <td>27.717500</td>\n      <td>324.250000</td>\n      <td>1.472565</td>\n      <td>37.587040</td>\n      <td>37.587056</td>\n      <td>-122.144165</td>\n      <td>-122.144552</td>\n      <td>37.587033</td>\n      <td>37.587049</td>\n      <td>-122.144174</td>\n      <td>-122.144563</td>\n      <td>0.000185</td>\n      <td>0.000185</td>\n      <td>0.000186</td>\n      <td>0.000186</td>\n      <td>-0.000163</td>\n      <td>-0.000163</td>\n      <td>-0.000164</td>\n      <td>-0.000164</td>\n      <td>27.655902</td>\n      <td>27.655902</td>\n      <td>27.670267</td>\n      <td>27.670267</td>\n    </tr>\n    <tr>\n      <th>max</th>\n      <td>1.273531e+12</td>\n      <td>37.646597</td>\n      <td>-122.090281</td>\n      <td>37.646596</td>\n      <td>-122.090296</td>\n      <td>41.560000</td>\n      <td>2289.450000</td>\n      <td>655.300000</td>\n      <td>0.0</td>\n      <td>29.940000</td>\n      <td>359.950000</td>\n      <td>3.535595</td>\n      <td>37.646597</td>\n      <td>37.646597</td>\n      <td>-122.090273</td>\n      <td>-122.090287</td>\n      <td>37.646596</td>\n      <td>37.646596</td>\n      <td>-122.090296</td>\n      <td>-122.090296</td>\n      <td>0.000258</td>\n      <td>0.000258</td>\n      <td>0.000256</td>\n      <td>0.000256</td>\n      <td>0.000170</td>\n      <td>0.000170</td>\n      <td>0.000169</td>\n      <td>0.000169</td>\n      <td>30.156018</td>\n      <td>30.156018</td>\n      <td>29.911546</td>\n      <td>29.911546</td>\n    </tr>\n  </tbody>\n</table>\n</div>"
     },
     "metadata": {}
    }
   ],
   "source": [
    "visualize_err_move_dist(filtered_train, '2020-05-14-US-MTV-1_Pixel4XLModded', reject_outlier=True)"
   ]
  },
  {
   "cell_type": "code",
   "execution_count": 26,
   "id": "4001e6e8-49bb-4a81-98d9-5935306da898",
   "metadata": {},
   "outputs": [
    {
     "output_type": "execute_result",
     "data": {
      "text/plain": [
       "                                      phone  millisSinceGpsEpoch     latDeg  \\\n",
       "0                2020-05-14-US-MTV-1_Pixel4        1273529463442  37.423549   \n",
       "1                2020-05-14-US-MTV-1_Pixel4        1273529464442  37.423563   \n",
       "2                2020-05-14-US-MTV-1_Pixel4        1273529465442  37.423571   \n",
       "3                2020-05-14-US-MTV-1_Pixel4        1273529466442  37.423576   \n",
       "4                2020-05-14-US-MTV-1_Pixel4        1273529467442  37.423577   \n",
       "...                                     ...                  ...        ...   \n",
       "131337  2021-04-29-US-SJC-2_SamsungS20Ultra        1303760315000  37.334462   \n",
       "131338  2021-04-29-US-SJC-2_SamsungS20Ultra        1303760316000  37.334468   \n",
       "131339  2021-04-29-US-SJC-2_SamsungS20Ultra        1303760317000  37.334475   \n",
       "131340  2021-04-29-US-SJC-2_SamsungS20Ultra        1303760318000  37.334483   \n",
       "131341  2021-04-29-US-SJC-2_SamsungS20Ultra        1303760319000  37.334489   \n",
       "\n",
       "            lngDeg       collectionName        phoneName  latDeg_gt  \\\n",
       "0      -122.094006  2020-05-14-US-MTV-1           Pixel4  37.423576   \n",
       "1      -122.094056  2020-05-14-US-MTV-1           Pixel4  37.423576   \n",
       "2      -122.094090  2020-05-14-US-MTV-1           Pixel4  37.423576   \n",
       "3      -122.094109  2020-05-14-US-MTV-1           Pixel4  37.423576   \n",
       "4      -122.094116  2020-05-14-US-MTV-1           Pixel4  37.423576   \n",
       "...            ...                  ...              ...        ...   \n",
       "131337 -121.899602  2021-04-29-US-SJC-2  SamsungS20Ultra  37.334475   \n",
       "131338 -121.899596  2021-04-29-US-SJC-2  SamsungS20Ultra  37.334475   \n",
       "131339 -121.899591  2021-04-29-US-SJC-2  SamsungS20Ultra  37.334475   \n",
       "131340 -121.899587  2021-04-29-US-SJC-2  SamsungS20Ultra  37.334475   \n",
       "131341 -121.899580  2021-04-29-US-SJC-2  SamsungS20Ultra  37.334475   \n",
       "\n",
       "         lngDeg_gt  heightAboveWgs84EllipsoidM_gt  timeSinceFirstFixSeconds  \\\n",
       "0      -122.094132                          33.21                    551.44   \n",
       "1      -122.094132                          33.21                    552.44   \n",
       "2      -122.094132                          33.21                    553.44   \n",
       "3      -122.094132                          33.20                    554.44   \n",
       "4      -122.094132                          33.20                    555.44   \n",
       "...            ...                            ...                       ...   \n",
       "131337 -121.899613                          56.62                   2632.00   \n",
       "131338 -121.899613                          56.62                   2633.00   \n",
       "131339 -121.899613                          56.62                   2634.00   \n",
       "131340 -121.899613                          56.63                   2635.00   \n",
       "131341 -121.899613                          56.64                   2636.00   \n",
       "\n",
       "        hDop  vDop  speedMps  courseDegree   dist_err  latDeg_prev  \\\n",
       "0        1.1   0.0       0.0          12.7  11.478435          NaN   \n",
       "1        1.1   0.0       0.0          12.7   6.889903    37.423549   \n",
       "2        1.1   0.0       0.0          12.7   3.713227    37.423563   \n",
       "3        1.1   0.0       0.0          12.7   2.036209    37.423571   \n",
       "4        1.1   0.0       0.0          12.7   1.429706    37.423576   \n",
       "...      ...   ...       ...           ...        ...          ...   \n",
       "131337   1.1   0.0       0.0          60.0   1.724668    37.334468   \n",
       "131338   1.1   0.0       0.0          60.0   1.764401    37.334462   \n",
       "131339   0.9   0.0       0.0          60.0   2.000396    37.334468   \n",
       "131340   1.0   0.0       0.0          60.0   2.540668    37.334475   \n",
       "131341   1.1   0.0       0.0          60.0   3.376678    37.334483   \n",
       "\n",
       "        latDeg_next  lngDeg_prev  lngDeg_next  \\\n",
       "0         37.423563          NaN  -122.094056   \n",
       "1         37.423571  -122.094006  -122.094090   \n",
       "2         37.423576  -122.094056  -122.094109   \n",
       "3         37.423577  -122.094090  -122.094116   \n",
       "4         37.423573  -122.094109  -122.094123   \n",
       "...             ...          ...          ...   \n",
       "131337    37.334468  -121.899606  -121.899596   \n",
       "131338    37.334475  -121.899602  -121.899591   \n",
       "131339    37.334483  -121.899596  -121.899587   \n",
       "131340    37.334489  -121.899591  -121.899580   \n",
       "131341          NaN  -121.899587          NaN   \n",
       "\n",
       "                                 phone_prev  \\\n",
       "0                                       NaN   \n",
       "1                2020-05-14-US-MTV-1_Pixel4   \n",
       "2                2020-05-14-US-MTV-1_Pixel4   \n",
       "3                2020-05-14-US-MTV-1_Pixel4   \n",
       "4                2020-05-14-US-MTV-1_Pixel4   \n",
       "...                                     ...   \n",
       "131337  2021-04-29-US-SJC-2_SamsungS20Ultra   \n",
       "131338  2021-04-29-US-SJC-2_SamsungS20Ultra   \n",
       "131339  2021-04-29-US-SJC-2_SamsungS20Ultra   \n",
       "131340  2021-04-29-US-SJC-2_SamsungS20Ultra   \n",
       "131341  2021-04-29-US-SJC-2_SamsungS20Ultra   \n",
       "\n",
       "                                 phone_next  latDeg_gt_prev  latDeg_gt_next  \\\n",
       "0                2020-05-14-US-MTV-1_Pixel4             NaN       37.423576   \n",
       "1                2020-05-14-US-MTV-1_Pixel4       37.423576       37.423576   \n",
       "2                2020-05-14-US-MTV-1_Pixel4       37.423576       37.423576   \n",
       "3                2020-05-14-US-MTV-1_Pixel4       37.423576       37.423576   \n",
       "4                2020-05-14-US-MTV-1_Pixel4       37.423576       37.423576   \n",
       "...                                     ...             ...             ...   \n",
       "131337  2021-04-29-US-SJC-2_SamsungS20Ultra       37.334475       37.334475   \n",
       "131338  2021-04-29-US-SJC-2_SamsungS20Ultra       37.334475       37.334475   \n",
       "131339  2021-04-29-US-SJC-2_SamsungS20Ultra       37.334475       37.334475   \n",
       "131340  2021-04-29-US-SJC-2_SamsungS20Ultra       37.334475       37.334475   \n",
       "131341                                  NaN       37.334475             NaN   \n",
       "\n",
       "        lngDeg_gt_prev  lngDeg_gt_next  latDeg_prev_diff  latDeg_next_diff  \\\n",
       "0                  NaN     -122.094132               NaN      1.313517e-05   \n",
       "1          -122.094132     -122.094132      1.313517e-05      8.610714e-06   \n",
       "2          -122.094132     -122.094132      8.610714e-06      4.774443e-06   \n",
       "3          -122.094132     -122.094132      4.774443e-06      6.321866e-07   \n",
       "4          -122.094132     -122.094132      6.321866e-07     -3.707087e-06   \n",
       "...                ...             ...               ...               ...   \n",
       "131337     -121.899613     -121.899613     -5.467225e-06      5.484582e-06   \n",
       "131338     -121.899613     -121.899613      5.484582e-06      7.761514e-06   \n",
       "131339     -121.899613     -121.899613      7.761514e-06      7.499000e-06   \n",
       "131340     -121.899613     -121.899613      7.499000e-06      6.076747e-06   \n",
       "131341     -121.899613             NaN      6.076747e-06               NaN   \n",
       "\n",
       "        latDeg_gt_prev_diff  latDeg_gt_next_diff  lngDeg_prev_diff  \\\n",
       "0                       NaN         2.999982e-10               NaN   \n",
       "1              2.999982e-10         1.040000e-08         -0.000049   \n",
       "2              1.040000e-08         1.140000e-08         -0.000035   \n",
       "3              1.140000e-08         9.900006e-09         -0.000019   \n",
       "4              9.900006e-09         1.350000e-08         -0.000007   \n",
       "...                     ...                  ...               ...   \n",
       "131337         5.000004e-09         4.999997e-09          0.000004   \n",
       "131338         4.999997e-09         1.700002e-09          0.000007   \n",
       "131339         1.700002e-09        -4.330000e-08          0.000005   \n",
       "131340        -4.330000e-08        -3.170000e-08          0.000004   \n",
       "131341        -3.170000e-08                  NaN          0.000007   \n",
       "\n",
       "        lngDeg_next_diff  lngDeg_gt_prev_diff  lngDeg_gt_next_diff  dist_prev  \\\n",
       "0              -0.000049                  NaN        -1.700002e-09        NaN   \n",
       "1              -0.000035        -1.700002e-09         3.400004e-09   4.603970   \n",
       "2              -0.000019         3.400004e-09         1.600000e-09   3.198768   \n",
       "3              -0.000007         1.600000e-09        -1.600000e-09   1.722592   \n",
       "4              -0.000008        -1.600000e-09        -3.400004e-09   0.612324   \n",
       "...                  ...                  ...                  ...        ...   \n",
       "131337          0.000007         0.000000e+00         0.000000e+00   0.682730   \n",
       "131338          0.000005         0.000000e+00        -1.600000e-09   0.844598   \n",
       "131339          0.000004        -1.600000e-09         3.300002e-09   0.964051   \n",
       "131340          0.000007         3.300002e-09         0.000000e+00   0.915546   \n",
       "131341               NaN         0.000000e+00                  NaN   0.909987   \n",
       "\n",
       "        dist_next  dist_gt_prev  dist_gt_next  \n",
       "0        4.603970           NaN      0.000154  \n",
       "1        3.198768      0.000154      0.001194  \n",
       "2        1.722592      0.001194      0.001275  \n",
       "3        0.612324      0.001275      0.001109  \n",
       "4        0.782343      0.001109      0.001530  \n",
       "...           ...           ...           ...  \n",
       "131337   0.844598      0.000556      0.000556  \n",
       "131338   0.964051      0.000556      0.000236  \n",
       "131339   0.915546      0.000236      0.004821  \n",
       "131340   0.909987      0.004821      0.003523  \n",
       "131341        NaN      0.003523           NaN  \n",
       "\n",
       "[131342 rows x 37 columns]"
      ],
      "text/html": "<div>\n<style scoped>\n    .dataframe tbody tr th:only-of-type {\n        vertical-align: middle;\n    }\n\n    .dataframe tbody tr th {\n        vertical-align: top;\n    }\n\n    .dataframe thead th {\n        text-align: right;\n    }\n</style>\n<table border=\"1\" class=\"dataframe\">\n  <thead>\n    <tr style=\"text-align: right;\">\n      <th></th>\n      <th>phone</th>\n      <th>millisSinceGpsEpoch</th>\n      <th>latDeg</th>\n      <th>lngDeg</th>\n      <th>collectionName</th>\n      <th>phoneName</th>\n      <th>latDeg_gt</th>\n      <th>lngDeg_gt</th>\n      <th>heightAboveWgs84EllipsoidM_gt</th>\n      <th>timeSinceFirstFixSeconds</th>\n      <th>hDop</th>\n      <th>vDop</th>\n      <th>speedMps</th>\n      <th>courseDegree</th>\n      <th>dist_err</th>\n      <th>latDeg_prev</th>\n      <th>latDeg_next</th>\n      <th>lngDeg_prev</th>\n      <th>lngDeg_next</th>\n      <th>phone_prev</th>\n      <th>phone_next</th>\n      <th>latDeg_gt_prev</th>\n      <th>latDeg_gt_next</th>\n      <th>lngDeg_gt_prev</th>\n      <th>lngDeg_gt_next</th>\n      <th>latDeg_prev_diff</th>\n      <th>latDeg_next_diff</th>\n      <th>latDeg_gt_prev_diff</th>\n      <th>latDeg_gt_next_diff</th>\n      <th>lngDeg_prev_diff</th>\n      <th>lngDeg_next_diff</th>\n      <th>lngDeg_gt_prev_diff</th>\n      <th>lngDeg_gt_next_diff</th>\n      <th>dist_prev</th>\n      <th>dist_next</th>\n      <th>dist_gt_prev</th>\n      <th>dist_gt_next</th>\n    </tr>\n  </thead>\n  <tbody>\n    <tr>\n      <th>0</th>\n      <td>2020-05-14-US-MTV-1_Pixel4</td>\n      <td>1273529463442</td>\n      <td>37.423549</td>\n      <td>-122.094006</td>\n      <td>2020-05-14-US-MTV-1</td>\n      <td>Pixel4</td>\n      <td>37.423576</td>\n      <td>-122.094132</td>\n      <td>33.21</td>\n      <td>551.44</td>\n      <td>1.1</td>\n      <td>0.0</td>\n      <td>0.0</td>\n      <td>12.7</td>\n      <td>11.478435</td>\n      <td>NaN</td>\n      <td>37.423563</td>\n      <td>NaN</td>\n      <td>-122.094056</td>\n      <td>NaN</td>\n      <td>2020-05-14-US-MTV-1_Pixel4</td>\n      <td>NaN</td>\n      <td>37.423576</td>\n      <td>NaN</td>\n      <td>-122.094132</td>\n      <td>NaN</td>\n      <td>1.313517e-05</td>\n      <td>NaN</td>\n      <td>2.999982e-10</td>\n      <td>NaN</td>\n      <td>-0.000049</td>\n      <td>NaN</td>\n      <td>-1.700002e-09</td>\n      <td>NaN</td>\n      <td>4.603970</td>\n      <td>NaN</td>\n      <td>0.000154</td>\n    </tr>\n    <tr>\n      <th>1</th>\n      <td>2020-05-14-US-MTV-1_Pixel4</td>\n      <td>1273529464442</td>\n      <td>37.423563</td>\n      <td>-122.094056</td>\n      <td>2020-05-14-US-MTV-1</td>\n      <td>Pixel4</td>\n      <td>37.423576</td>\n      <td>-122.094132</td>\n      <td>33.21</td>\n      <td>552.44</td>\n      <td>1.1</td>\n      <td>0.0</td>\n      <td>0.0</td>\n      <td>12.7</td>\n      <td>6.889903</td>\n      <td>37.423549</td>\n      <td>37.423571</td>\n      <td>-122.094006</td>\n      <td>-122.094090</td>\n      <td>2020-05-14-US-MTV-1_Pixel4</td>\n      <td>2020-05-14-US-MTV-1_Pixel4</td>\n      <td>37.423576</td>\n      <td>37.423576</td>\n      <td>-122.094132</td>\n      <td>-122.094132</td>\n      <td>1.313517e-05</td>\n      <td>8.610714e-06</td>\n      <td>2.999982e-10</td>\n      <td>1.040000e-08</td>\n      <td>-0.000049</td>\n      <td>-0.000035</td>\n      <td>-1.700002e-09</td>\n      <td>3.400004e-09</td>\n      <td>4.603970</td>\n      <td>3.198768</td>\n      <td>0.000154</td>\n      <td>0.001194</td>\n    </tr>\n    <tr>\n      <th>2</th>\n      <td>2020-05-14-US-MTV-1_Pixel4</td>\n      <td>1273529465442</td>\n      <td>37.423571</td>\n      <td>-122.094090</td>\n      <td>2020-05-14-US-MTV-1</td>\n      <td>Pixel4</td>\n      <td>37.423576</td>\n      <td>-122.094132</td>\n      <td>33.21</td>\n      <td>553.44</td>\n      <td>1.1</td>\n      <td>0.0</td>\n      <td>0.0</td>\n      <td>12.7</td>\n      <td>3.713227</td>\n      <td>37.423563</td>\n      <td>37.423576</td>\n      <td>-122.094056</td>\n      <td>-122.094109</td>\n      <td>2020-05-14-US-MTV-1_Pixel4</td>\n      <td>2020-05-14-US-MTV-1_Pixel4</td>\n      <td>37.423576</td>\n      <td>37.423576</td>\n      <td>-122.094132</td>\n      <td>-122.094132</td>\n      <td>8.610714e-06</td>\n      <td>4.774443e-06</td>\n      <td>1.040000e-08</td>\n      <td>1.140000e-08</td>\n      <td>-0.000035</td>\n      <td>-0.000019</td>\n      <td>3.400004e-09</td>\n      <td>1.600000e-09</td>\n      <td>3.198768</td>\n      <td>1.722592</td>\n      <td>0.001194</td>\n      <td>0.001275</td>\n    </tr>\n    <tr>\n      <th>3</th>\n      <td>2020-05-14-US-MTV-1_Pixel4</td>\n      <td>1273529466442</td>\n      <td>37.423576</td>\n      <td>-122.094109</td>\n      <td>2020-05-14-US-MTV-1</td>\n      <td>Pixel4</td>\n      <td>37.423576</td>\n      <td>-122.094132</td>\n      <td>33.20</td>\n      <td>554.44</td>\n      <td>1.1</td>\n      <td>0.0</td>\n      <td>0.0</td>\n      <td>12.7</td>\n      <td>2.036209</td>\n      <td>37.423571</td>\n      <td>37.423577</td>\n      <td>-122.094090</td>\n      <td>-122.094116</td>\n      <td>2020-05-14-US-MTV-1_Pixel4</td>\n      <td>2020-05-14-US-MTV-1_Pixel4</td>\n      <td>37.423576</td>\n      <td>37.423576</td>\n      <td>-122.094132</td>\n      <td>-122.094132</td>\n      <td>4.774443e-06</td>\n      <td>6.321866e-07</td>\n      <td>1.140000e-08</td>\n      <td>9.900006e-09</td>\n      <td>-0.000019</td>\n      <td>-0.000007</td>\n      <td>1.600000e-09</td>\n      <td>-1.600000e-09</td>\n      <td>1.722592</td>\n      <td>0.612324</td>\n      <td>0.001275</td>\n      <td>0.001109</td>\n    </tr>\n    <tr>\n      <th>4</th>\n      <td>2020-05-14-US-MTV-1_Pixel4</td>\n      <td>1273529467442</td>\n      <td>37.423577</td>\n      <td>-122.094116</td>\n      <td>2020-05-14-US-MTV-1</td>\n      <td>Pixel4</td>\n      <td>37.423576</td>\n      <td>-122.094132</td>\n      <td>33.20</td>\n      <td>555.44</td>\n      <td>1.1</td>\n      <td>0.0</td>\n      <td>0.0</td>\n      <td>12.7</td>\n      <td>1.429706</td>\n      <td>37.423576</td>\n      <td>37.423573</td>\n      <td>-122.094109</td>\n      <td>-122.094123</td>\n      <td>2020-05-14-US-MTV-1_Pixel4</td>\n      <td>2020-05-14-US-MTV-1_Pixel4</td>\n      <td>37.423576</td>\n      <td>37.423576</td>\n      <td>-122.094132</td>\n      <td>-122.094132</td>\n      <td>6.321866e-07</td>\n      <td>-3.707087e-06</td>\n      <td>9.900006e-09</td>\n      <td>1.350000e-08</td>\n      <td>-0.000007</td>\n      <td>-0.000008</td>\n      <td>-1.600000e-09</td>\n      <td>-3.400004e-09</td>\n      <td>0.612324</td>\n      <td>0.782343</td>\n      <td>0.001109</td>\n      <td>0.001530</td>\n    </tr>\n    <tr>\n      <th>...</th>\n      <td>...</td>\n      <td>...</td>\n      <td>...</td>\n      <td>...</td>\n      <td>...</td>\n      <td>...</td>\n      <td>...</td>\n      <td>...</td>\n      <td>...</td>\n      <td>...</td>\n      <td>...</td>\n      <td>...</td>\n      <td>...</td>\n      <td>...</td>\n      <td>...</td>\n      <td>...</td>\n      <td>...</td>\n      <td>...</td>\n      <td>...</td>\n      <td>...</td>\n      <td>...</td>\n      <td>...</td>\n      <td>...</td>\n      <td>...</td>\n      <td>...</td>\n      <td>...</td>\n      <td>...</td>\n      <td>...</td>\n      <td>...</td>\n      <td>...</td>\n      <td>...</td>\n      <td>...</td>\n      <td>...</td>\n      <td>...</td>\n      <td>...</td>\n      <td>...</td>\n      <td>...</td>\n    </tr>\n    <tr>\n      <th>131337</th>\n      <td>2021-04-29-US-SJC-2_SamsungS20Ultra</td>\n      <td>1303760315000</td>\n      <td>37.334462</td>\n      <td>-121.899602</td>\n      <td>2021-04-29-US-SJC-2</td>\n      <td>SamsungS20Ultra</td>\n      <td>37.334475</td>\n      <td>-121.899613</td>\n      <td>56.62</td>\n      <td>2632.00</td>\n      <td>1.1</td>\n      <td>0.0</td>\n      <td>0.0</td>\n      <td>60.0</td>\n      <td>1.724668</td>\n      <td>37.334468</td>\n      <td>37.334468</td>\n      <td>-121.899606</td>\n      <td>-121.899596</td>\n      <td>2021-04-29-US-SJC-2_SamsungS20Ultra</td>\n      <td>2021-04-29-US-SJC-2_SamsungS20Ultra</td>\n      <td>37.334475</td>\n      <td>37.334475</td>\n      <td>-121.899613</td>\n      <td>-121.899613</td>\n      <td>-5.467225e-06</td>\n      <td>5.484582e-06</td>\n      <td>5.000004e-09</td>\n      <td>4.999997e-09</td>\n      <td>0.000004</td>\n      <td>0.000007</td>\n      <td>0.000000e+00</td>\n      <td>0.000000e+00</td>\n      <td>0.682730</td>\n      <td>0.844598</td>\n      <td>0.000556</td>\n      <td>0.000556</td>\n    </tr>\n    <tr>\n      <th>131338</th>\n      <td>2021-04-29-US-SJC-2_SamsungS20Ultra</td>\n      <td>1303760316000</td>\n      <td>37.334468</td>\n      <td>-121.899596</td>\n      <td>2021-04-29-US-SJC-2</td>\n      <td>SamsungS20Ultra</td>\n      <td>37.334475</td>\n      <td>-121.899613</td>\n      <td>56.62</td>\n      <td>2633.00</td>\n      <td>1.1</td>\n      <td>0.0</td>\n      <td>0.0</td>\n      <td>60.0</td>\n      <td>1.764401</td>\n      <td>37.334462</td>\n      <td>37.334475</td>\n      <td>-121.899602</td>\n      <td>-121.899591</td>\n      <td>2021-04-29-US-SJC-2_SamsungS20Ultra</td>\n      <td>2021-04-29-US-SJC-2_SamsungS20Ultra</td>\n      <td>37.334475</td>\n      <td>37.334475</td>\n      <td>-121.899613</td>\n      <td>-121.899613</td>\n      <td>5.484582e-06</td>\n      <td>7.761514e-06</td>\n      <td>4.999997e-09</td>\n      <td>1.700002e-09</td>\n      <td>0.000007</td>\n      <td>0.000005</td>\n      <td>0.000000e+00</td>\n      <td>-1.600000e-09</td>\n      <td>0.844598</td>\n      <td>0.964051</td>\n      <td>0.000556</td>\n      <td>0.000236</td>\n    </tr>\n    <tr>\n      <th>131339</th>\n      <td>2021-04-29-US-SJC-2_SamsungS20Ultra</td>\n      <td>1303760317000</td>\n      <td>37.334475</td>\n      <td>-121.899591</td>\n      <td>2021-04-29-US-SJC-2</td>\n      <td>SamsungS20Ultra</td>\n      <td>37.334475</td>\n      <td>-121.899613</td>\n      <td>56.62</td>\n      <td>2634.00</td>\n      <td>0.9</td>\n      <td>0.0</td>\n      <td>0.0</td>\n      <td>60.0</td>\n      <td>2.000396</td>\n      <td>37.334468</td>\n      <td>37.334483</td>\n      <td>-121.899596</td>\n      <td>-121.899587</td>\n      <td>2021-04-29-US-SJC-2_SamsungS20Ultra</td>\n      <td>2021-04-29-US-SJC-2_SamsungS20Ultra</td>\n      <td>37.334475</td>\n      <td>37.334475</td>\n      <td>-121.899613</td>\n      <td>-121.899613</td>\n      <td>7.761514e-06</td>\n      <td>7.499000e-06</td>\n      <td>1.700002e-09</td>\n      <td>-4.330000e-08</td>\n      <td>0.000005</td>\n      <td>0.000004</td>\n      <td>-1.600000e-09</td>\n      <td>3.300002e-09</td>\n      <td>0.964051</td>\n      <td>0.915546</td>\n      <td>0.000236</td>\n      <td>0.004821</td>\n    </tr>\n    <tr>\n      <th>131340</th>\n      <td>2021-04-29-US-SJC-2_SamsungS20Ultra</td>\n      <td>1303760318000</td>\n      <td>37.334483</td>\n      <td>-121.899587</td>\n      <td>2021-04-29-US-SJC-2</td>\n      <td>SamsungS20Ultra</td>\n      <td>37.334475</td>\n      <td>-121.899613</td>\n      <td>56.63</td>\n      <td>2635.00</td>\n      <td>1.0</td>\n      <td>0.0</td>\n      <td>0.0</td>\n      <td>60.0</td>\n      <td>2.540668</td>\n      <td>37.334475</td>\n      <td>37.334489</td>\n      <td>-121.899591</td>\n      <td>-121.899580</td>\n      <td>2021-04-29-US-SJC-2_SamsungS20Ultra</td>\n      <td>2021-04-29-US-SJC-2_SamsungS20Ultra</td>\n      <td>37.334475</td>\n      <td>37.334475</td>\n      <td>-121.899613</td>\n      <td>-121.899613</td>\n      <td>7.499000e-06</td>\n      <td>6.076747e-06</td>\n      <td>-4.330000e-08</td>\n      <td>-3.170000e-08</td>\n      <td>0.000004</td>\n      <td>0.000007</td>\n      <td>3.300002e-09</td>\n      <td>0.000000e+00</td>\n      <td>0.915546</td>\n      <td>0.909987</td>\n      <td>0.004821</td>\n      <td>0.003523</td>\n    </tr>\n    <tr>\n      <th>131341</th>\n      <td>2021-04-29-US-SJC-2_SamsungS20Ultra</td>\n      <td>1303760319000</td>\n      <td>37.334489</td>\n      <td>-121.899580</td>\n      <td>2021-04-29-US-SJC-2</td>\n      <td>SamsungS20Ultra</td>\n      <td>37.334475</td>\n      <td>-121.899613</td>\n      <td>56.64</td>\n      <td>2636.00</td>\n      <td>1.1</td>\n      <td>0.0</td>\n      <td>0.0</td>\n      <td>60.0</td>\n      <td>3.376678</td>\n      <td>37.334483</td>\n      <td>NaN</td>\n      <td>-121.899587</td>\n      <td>NaN</td>\n      <td>2021-04-29-US-SJC-2_SamsungS20Ultra</td>\n      <td>NaN</td>\n      <td>37.334475</td>\n      <td>NaN</td>\n      <td>-121.899613</td>\n      <td>NaN</td>\n      <td>6.076747e-06</td>\n      <td>NaN</td>\n      <td>-3.170000e-08</td>\n      <td>NaN</td>\n      <td>0.000007</td>\n      <td>NaN</td>\n      <td>0.000000e+00</td>\n      <td>NaN</td>\n      <td>0.909987</td>\n      <td>NaN</td>\n      <td>0.003523</td>\n      <td>NaN</td>\n    </tr>\n  </tbody>\n</table>\n<p>131342 rows × 37 columns</p>\n</div>"
     },
     "metadata": {},
     "execution_count": 26
    }
   ],
   "source": [
    "filtered_train"
   ]
  },
  {
   "cell_type": "code",
   "execution_count": null,
   "metadata": {},
   "outputs": [],
   "source": []
  }
 ],
 "metadata": {
  "kernelspec": {
   "display_name": "Python 3",
   "language": "python",
   "name": "python3"
  },
  "language_info": {
   "codemirror_mode": {
    "name": "ipython",
    "version": 3
   },
   "file_extension": ".py",
   "mimetype": "text/x-python",
   "name": "python",
   "nbconvert_exporter": "python",
   "pygments_lexer": "ipython3",
   "version": "3.7.4"
  }
 },
 "nbformat": 4,
 "nbformat_minor": 5
}