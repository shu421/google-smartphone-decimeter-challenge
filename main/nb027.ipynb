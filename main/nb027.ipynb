{
 "cells": [
  {
   "source": [
    "# LightGBMで外れ値を検出"
   ],
   "cell_type": "markdown",
   "metadata": {}
  },
  {
   "cell_type": "code",
   "execution_count": 38,
   "id": "8b4d85b9-0ed3-4b9d-accf-d85aa86fa56e",
   "metadata": {},
   "outputs": [],
   "source": [
    "# import library\n",
    "import os\n",
    "import pandas as pd\n",
    "import numpy as np\n",
    "import matplotlib.pyplot as plt\n",
    "from matplotlib_venn import venn2, venn2_circles\n",
    "import seaborn as sns\n",
    "from tqdm.notebook import tqdm\n",
    "import pathlib\n",
    "import plotly\n",
    "import plotly.express as px\n",
    "\n",
    "import lightgbm as lgb\n",
    "from sklearn.model_selection import StratifiedKFold\n",
    "from sklearn.metrics import accuracy_score\n",
    "\n",
    "pd.options.display.max_columns = 100\n",
    "pd.options.display.max_rows = 20"
   ]
  },
  {
   "cell_type": "code",
   "execution_count": 39,
   "id": "3d78e635-9634-4df5-bc62-a1edb39eaa8d",
   "metadata": {},
   "outputs": [],
   "source": [
    "def calc_haversine(lat1, lon1, lat2, lon2):\n",
    "    \"\"\"Calculates the great circle distance between two points\n",
    "    on the earth. Inputs are array-like and specified in decimal degrees.\n",
    "    \"\"\"\n",
    "    RADIUS = 6_367_000\n",
    "    lat1, lon1, lat2, lon2 = map(np.radians, [lat1, lon1, lat2, lon2])\n",
    "    dlat = lat2 - lat1\n",
    "    dlon = lon2 - lon1\n",
    "    a = np.sin(dlat/2)**2 + \\\n",
    "        np.cos(lat1) * np.cos(lat2) * np.sin(dlon/2)**2\n",
    "    dist = 2 * RADIUS * np.arcsin(a**0.5)\n",
    "    return dist"
   ]
  },
  {
   "cell_type": "code",
   "execution_count": 40,
   "id": "63758c4b-494d-407d-a795-0023a00a85d8",
   "metadata": {},
   "outputs": [],
   "source": [
    "def visualize_trafic(df, center, zoom=9):\n",
    "    fig = px.scatter_mapbox(df,\n",
    "                            # Here, plotly gets, (x,y) coordinates\n",
    "                            lat=\"latDeg\",\n",
    "                            lon=\"lngDeg\",\n",
    "                            \n",
    "                            #Here, plotly detects color of series\n",
    "                            color=\"phoneName\",\n",
    "                            labels=\"phoneName\",\n",
    "                            \n",
    "                            zoom=zoom,\n",
    "                            center=center,\n",
    "                            height=600,\n",
    "                            width=800)\n",
    "    fig.update_layout(mapbox_style='stamen-terrain')\n",
    "    fig.update_layout(margin={\"r\": 0, \"t\": 0, \"l\": 0, \"b\": 0})\n",
    "    fig.update_layout(title_text=\"GPS trafic\")\n",
    "    fig.show()\n",
    "    \n",
    "def visualize_collection(df, collection):\n",
    "    target_df = df[df['collectionName']==collection].copy()\n",
    "    lat_center = target_df['latDeg'].mean()\n",
    "    lng_center = target_df['lngDeg'].mean()\n",
    "    center = {\"lat\":lat_center, \"lon\":lng_center}\n",
    "    \n",
    "    visualize_trafic(target_df, center)"
   ]
  },
  {
   "cell_type": "code",
   "execution_count": 41,
   "id": "a1a4ca5d-59f5-4f52-bab7-607d08751a72",
   "metadata": {},
   "outputs": [],
   "source": [
    "def add_distance_diff(df, is_train=True):\n",
    "    # shift(1): 上のやつが1個下に下がる → 前のデータ\n",
    "    # shift(-1): 下のやつが1個上に上がる → 次のデータ\n",
    "    df['latDeg_prev'] = df['latDeg'].shift(1)\n",
    "    df['latDeg_next'] = df['latDeg'].shift(-1)\n",
    "    df['lngDeg_prev'] = df['lngDeg'].shift(1)\n",
    "    df['lngDeg_next'] = df['lngDeg'].shift(-1)\n",
    "    df['phone_prev'] = df['phone'].shift(1)\n",
    "    df['phone_next'] = df['phone'].shift(-1)\n",
    "\n",
    "    df['latDeg_prev_diff'] = df['latDeg'] - df['latDeg_prev']\n",
    "    df['latDeg_next_diff'] = df['latDeg_next'] - df['latDeg']\n",
    "\n",
    "    df['lngDeg_prev_diff'] = df['lngDeg'] - df['lngDeg_prev']\n",
    "    df['lngDeg_next_diff'] = df['lngDeg_next'] - df['lngDeg']\n",
    "\n",
    "    df['dist_prev'] = calc_haversine(df['latDeg'], df['lngDeg'], df['latDeg_prev'], df['lngDeg_prev'])\n",
    "    df['dist_next'] = calc_haversine(df['latDeg'], df['lngDeg'], df['latDeg_next'], df['lngDeg_next'])\n",
    "    \n",
    "    if is_train == True:\n",
    "        df['latDeg_gt_prev'] = df['latDeg_gt'].shift(1)\n",
    "        df['latDeg_gt_next'] = df['latDeg_gt'].shift(-1)\n",
    "        df['lngDeg_gt_prev'] = df['lngDeg_gt'].shift(1)\n",
    "        df['lngDeg_gt_next'] = df['lngDeg_gt'].shift(-1)\n",
    "        df['latDeg_gt_prev_diff'] = df['latDeg_gt'] - df['latDeg_gt_prev']\n",
    "        df['latDeg_gt_next_diff'] = df['latDeg_gt_next'] - df['latDeg_gt']\n",
    "        df['lngDeg_gt_prev_diff'] = df['lngDeg_gt'] - df['lngDeg_gt_prev']\n",
    "        df['lngDeg_gt_next_diff'] = df['lngDeg_gt_next'] - df['lngDeg_gt']\n",
    "        df['dist_gt_prev'] = calc_haversine(df['latDeg_gt'], df['lngDeg_gt'], df['latDeg_gt_prev'], df['lngDeg_gt_prev'])\n",
    "        df['dist_gt_next'] = calc_haversine(df['latDeg_gt'], df['lngDeg_gt'], df['latDeg_gt_next'], df['lngDeg_gt_next'])\n",
    "        df.loc[df['phone']!=df['phone_prev'], ['latDeg_prev', 'lngDeg_prev', 'dist_prev', \n",
    "                                            'latDeg_gt_prev', 'lngDeg_gt_prev', 'dist_gt_prev',\n",
    "                                            'latDeg_prev_diff', 'latDeg_gt_prev_diff',\n",
    "                                            'lngDeg_prev_diff', 'lngDeg_gt_prev_diff']] = np.nan\n",
    "        \n",
    "        df.loc[df['phone']!=df['phone_next'], ['latDeg_next', 'lngDeg_next', 'dist_next', \n",
    "                                            'latDeg_gt_next', 'lngDeg_gt_next', 'dist_gt_next',\n",
    "                                            'latDeg_next_diff', 'latDeg_gt_next_diff',\n",
    "                                            'lngDeg_next_diff', 'lngDeg_gt_next_diff']] = np.nan\n",
    "    \n",
    "\n",
    "    \n",
    "    else:\n",
    "        df.loc[df['phone']!=df['phone_prev'], ['latDeg_prev', 'lngDeg_prev', 'dist_prev', \n",
    "                                            'latDeg_prev_diff', 'lngDeg_prev_diff']] = np.nan\n",
    "        \n",
    "        df.loc[df['phone']!=df['phone_next'], ['latDeg_next', 'lngDeg_next', 'dist_next', \n",
    "                                            'latDeg_next_diff', 'lngDeg_next_diff']] = np.nan\n",
    "    \n",
    "    return df"
   ]
  },
  {
   "cell_type": "code",
   "execution_count": 42,
   "id": "530eb86f-80ea-4813-a553-042c6b231681",
   "metadata": {},
   "outputs": [],
   "source": [
    "INPUT = '../input/google-smartphone-decimeter-challenge'\n",
    "\n",
    "# filtered_train = pd.read_csv(INPUT + '/' + 'baseline_locations_filtered_train.csv')\n",
    "filtered_train = pd.read_csv('../output/filtered_nb025.csv')\n",
    "filtered_test = pd.read_csv('../output/sub_nb024.csv')\n",
    "base_train = pd.read_csv(INPUT + '/' + 'baseline_locations_train.csv')    \n",
    "base_test = pd.read_csv(INPUT + '/' + 'baseline_locations_test.csv')\n",
    "sample_sub = pd.read_csv(INPUT + '/' + 'sample_submission.csv')\n",
    "\n",
    "# ground truth\n",
    "p = pathlib.Path(INPUT)\n",
    "gt_files = list(p.glob('train/*/*/ground_truth.csv'))\n",
    "\n",
    "gts = []\n",
    "for gt_file in gt_files:\n",
    "    gts.append(pd.read_csv(gt_file))\n",
    "ground_truth = pd.concat(gts)"
   ]
  },
  {
   "cell_type": "markdown",
   "id": "69645bd1-36e7-4225-b68f-5da751b911f4",
   "metadata": {},
   "source": [
    "# Preprocessing"
   ]
  },
  {
   "cell_type": "code",
   "execution_count": 43,
   "id": "92f22b90-eb5a-49d7-a8c4-3f409caab581",
   "metadata": {},
   "outputs": [],
   "source": [
    "ground_truth = ground_truth.rename(columns={'latDeg':'latDeg_gt', 'lngDeg':'lngDeg_gt',\n",
    "                                           'heightAboveWgs84EllipsoidM':'heightAboveWgs84EllipsoidM_gt'})\n",
    "                                           \n",
    "# sub形式にしたfiltered_train済みbaselineを、gtとmergeできる形にする\n",
    "filtered_train['collectionName'] = filtered_train['phone'].apply(lambda x: x.split('_')[0])\n",
    "filtered_train['phoneName'] = filtered_train['phone'].apply(lambda x: x.split('_')[1])\n",
    "\n",
    "filtered_train = filtered_train.merge(ground_truth, on=['collectionName', 'phoneName', 'millisSinceGpsEpoch'], how='inner')\n",
    "filtered_train['dist_err'] = calc_haversine(filtered_train['latDeg_gt'], filtered_train['lngDeg_gt'], filtered_train['latDeg'], filtered_train['lngDeg'])\n",
    "filtered_train = add_distance_diff(filtered_train)"
   ]
  },
  {
   "cell_type": "code",
   "execution_count": 44,
   "metadata": {},
   "outputs": [],
   "source": [
    "train = filtered_train\n",
    "train = train.drop(['phone', 'phone_prev', 'phone_next','collectionName'], axis=1)\n",
    "train = train.drop(['latDeg_gt_prev','latDeg_gt_next', \n",
    "                    'lngDeg_gt_prev', 'lngDeg_gt_next',\n",
    "                    'latDeg_gt_prev_diff', 'latDeg_gt_next_diff', \n",
    "                    'lngDeg_gt_prev_diff','lngDeg_gt_next_diff', \n",
    "                    'dist_gt_prev', 'dist_gt_next','phoneName', 'latDeg_gt', 'lngDeg_gt', 'heightAboveWgs84EllipsoidM_gt',\n",
    "       'timeSinceFirstFixSeconds', 'hDop', 'vDop', 'speedMps', 'courseDegree',], axis=1)\n",
    "\n",
    "# InterQuantile Range\n",
    "IQR = filtered_train['dist_err'].quantile(0.75)-filtered_train['dist_err'].quantile(0.25)\n",
    "# threshold\n",
    "thr = filtered_train['dist_err'].quantile(0.75) + 1.5*IQR\n",
    "train['target'] = 0\n",
    "train.loc[train['dist_err'] > thr, 'target'] = 1\n",
    "train = train.drop('dist_err', axis=1)\n",
    "target = train.pop('target')"
   ]
  },
  {
   "cell_type": "code",
   "execution_count": 45,
   "metadata": {},
   "outputs": [],
   "source": [
    "test = add_distance_diff(filtered_test, is_train=False)\n",
    "test = test.drop(['phone', 'phone_prev', 'phone_next'], axis=1)"
   ]
  },
  {
   "cell_type": "code",
   "execution_count": 63,
   "metadata": {},
   "outputs": [
    {
     "output_type": "stream",
     "name": "stdout",
     "text": [
      "Index(['latDeg_prev_diff', 'latDeg_next_diff', 'lngDeg_prev_diff',\n       'lngDeg_next_diff', 'dist_prev', 'dist_next'],\n      dtype='object')\nIndex(['latDeg_prev_diff', 'latDeg_next_diff', 'lngDeg_prev_diff',\n       'lngDeg_next_diff', 'dist_prev', 'dist_next'],\n      dtype='object')\n0         1\n1         1\n2         0\n3         0\n4         0\n         ..\n131337    0\n131338    0\n131339    0\n131340    0\n131341    0\nName: target, Length: 131342, dtype: int64\n"
     ]
    }
   ],
   "source": [
    "train = train.drop([\n",
    "                      'millisSinceGpsEpoch',\n",
    "                      'latDeg',\n",
    "                      'lngDeg',\n",
    "                      'latDeg_prev',\n",
    "                      'latDeg_next',\n",
    "                      'lngDeg_prev',\n",
    "                      'lngDeg_next',\n",
    "                      ], axis=1)\n",
    "test = test.drop([\n",
    "                      'millisSinceGpsEpoch',\n",
    "                      'latDeg',\n",
    "                      'lngDeg',\n",
    "                      'latDeg_prev',\n",
    "                      'latDeg_next',\n",
    "                      'lngDeg_prev',\n",
    "                      'lngDeg_next',\n",
    "                      ], axis=1)                 \n",
    "print(train.columns)\n",
    "print(test.columns)"
   ]
  },
  {
   "source": [
    "# LightGBM"
   ],
   "cell_type": "markdown",
   "metadata": {}
  },
  {
   "cell_type": "code",
   "execution_count": 64,
   "metadata": {
    "tags": []
   },
   "outputs": [
    {
     "output_type": "stream",
     "name": "stdout",
     "text": [
      "0 --------------------------------------------------\n",
      "[LightGBM] [Info] Number of positive: 9876, number of negative: 95197\n",
      "[LightGBM] [Warning] Auto-choosing col-wise multi-threading, the overhead of testing was 0.001497 seconds.\n",
      "You can set `force_col_wise=true` to remove the overhead.\n",
      "[LightGBM] [Info] Total Bins 1530\n",
      "[LightGBM] [Info] Number of data points in the train set: 105073, number of used features: 6\n",
      "[LightGBM] [Info] [binary:BoostFromScore]: pavg=0.093992 -> initscore=-2.265841\n",
      "[LightGBM] [Info] Start training from score -2.265841\n",
      "Training until validation scores don't improve for 100 rounds\n",
      "Early stopping, best iteration is:\n",
      "[404]\ttraining's binary_logloss: 0.16678\tvalid_1's binary_logloss: 0.206961\n",
      "f1 score: 0.2522\n",
      "1 --------------------------------------------------\n",
      "[LightGBM] [Info] Number of positive: 9876, number of negative: 95197\n",
      "[LightGBM] [Warning] Auto-choosing col-wise multi-threading, the overhead of testing was 0.003927 seconds.\n",
      "You can set `force_col_wise=true` to remove the overhead.\n",
      "[LightGBM] [Info] Total Bins 1530\n",
      "[LightGBM] [Info] Number of data points in the train set: 105073, number of used features: 6\n",
      "[LightGBM] [Info] [binary:BoostFromScore]: pavg=0.093992 -> initscore=-2.265841\n",
      "[LightGBM] [Info] Start training from score -2.265841\n",
      "Training until validation scores don't improve for 100 rounds\n",
      "Early stopping, best iteration is:\n",
      "[354]\ttraining's binary_logloss: 0.169927\tvalid_1's binary_logloss: 0.206899\n",
      "f1 score: 0.2298\n",
      "2 --------------------------------------------------\n",
      "[LightGBM] [Info] Number of positive: 9876, number of negative: 95198\n",
      "[LightGBM] [Warning] Auto-choosing col-wise multi-threading, the overhead of testing was 0.001561 seconds.\n",
      "You can set `force_col_wise=true` to remove the overhead.\n",
      "[LightGBM] [Info] Total Bins 1530\n",
      "[LightGBM] [Info] Number of data points in the train set: 105074, number of used features: 6\n",
      "[LightGBM] [Info] [binary:BoostFromScore]: pavg=0.093991 -> initscore=-2.265851\n",
      "[LightGBM] [Info] Start training from score -2.265851\n",
      "Training until validation scores don't improve for 100 rounds\n",
      "Early stopping, best iteration is:\n",
      "[401]\ttraining's binary_logloss: 0.165818\tvalid_1's binary_logloss: 0.208211\n",
      "f1 score: 0.2264\n",
      "3 --------------------------------------------------\n",
      "[LightGBM] [Info] Number of positive: 9876, number of negative: 95198\n",
      "[LightGBM] [Warning] Auto-choosing col-wise multi-threading, the overhead of testing was 0.001702 seconds.\n",
      "You can set `force_col_wise=true` to remove the overhead.\n",
      "[LightGBM] [Info] Total Bins 1530\n",
      "[LightGBM] [Info] Number of data points in the train set: 105074, number of used features: 6\n",
      "[LightGBM] [Info] [binary:BoostFromScore]: pavg=0.093991 -> initscore=-2.265851\n",
      "[LightGBM] [Info] Start training from score -2.265851\n",
      "Training until validation scores don't improve for 100 rounds\n",
      "Early stopping, best iteration is:\n",
      "[501]\ttraining's binary_logloss: 0.158736\tvalid_1's binary_logloss: 0.211201\n",
      "f1 score: 0.2510\n",
      "4 --------------------------------------------------\n",
      "[LightGBM] [Info] Number of positive: 9876, number of negative: 95198\n",
      "[LightGBM] [Warning] Auto-choosing col-wise multi-threading, the overhead of testing was 0.002348 seconds.\n",
      "You can set `force_col_wise=true` to remove the overhead.\n",
      "[LightGBM] [Info] Total Bins 1530\n",
      "[LightGBM] [Info] Number of data points in the train set: 105074, number of used features: 6\n",
      "[LightGBM] [Info] [binary:BoostFromScore]: pavg=0.093991 -> initscore=-2.265851\n",
      "[LightGBM] [Info] Start training from score -2.265851\n",
      "Training until validation scores don't improve for 100 rounds\n",
      "Early stopping, best iteration is:\n",
      "[435]\ttraining's binary_logloss: 0.163657\tvalid_1's binary_logloss: 0.208981\n",
      "f1 score: 0.2467\n"
     ]
    }
   ],
   "source": [
    "import lightgbm as lgb\n",
    "from sklearn.metrics import f1_score\n",
    "skf = StratifiedKFold(n_splits=5, shuffle=True, random_state=71)\n",
    "for i, (trn_idx, val_idx) in enumerate(skf.split(train, target)):\n",
    "    print(i, '-'*50)\n",
    "    trn_x = train.iloc[trn_idx]\n",
    "    val_x = train.iloc[val_idx]\n",
    "    trn_y = target.iloc[trn_idx]\n",
    "    val_y = target.iloc[val_idx]\n",
    "\n",
    "    lgb_train = lgb.Dataset(trn_x, trn_y)\n",
    "    lgb_eval = lgb.Dataset(val_x, val_y)\n",
    "\n",
    "    params = {'objective':'binary'}\n",
    "\n",
    "    model = lgb.train(params, lgb_train, num_boost_round=9999,\n",
    "    early_stopping_rounds=100, valid_sets=[lgb_train, lgb_eval], verbose_eval=-1)\n",
    "\n",
    "    val_pred = model.predict(val_x)\n",
    "    score = f1_score(val_y, np.round(val_pred))\n",
    "    print(f'f1 score: {score:.4f}')\n",
    "    \n",
    "pred = model.predict(test)"
   ]
  },
  {
   "cell_type": "code",
   "execution_count": 13,
   "metadata": {},
   "outputs": [
    {
     "output_type": "execute_result",
     "data": {
      "text/plain": [
       "<AxesSubplot:xlabel='importance'>"
      ]
     },
     "metadata": {},
     "execution_count": 13
    },
    {
     "output_type": "display_data",
     "data": {
      "text/plain": "<Figure size 432x288 with 1 Axes>",
      "image/svg+xml": "<?xml version=\"1.0\" encoding=\"utf-8\" standalone=\"no\"?>\n<!DOCTYPE svg PUBLIC \"-//W3C//DTD SVG 1.1//EN\"\n  \"http://www.w3.org/Graphics/SVG/1.1/DTD/svg11.dtd\">\n<svg height=\"262.19625pt\" version=\"1.1\" viewBox=\"0 0 460.79476 262.19625\" width=\"460.79476pt\" xmlns=\"http://www.w3.org/2000/svg\" xmlns:xlink=\"http://www.w3.org/1999/xlink\">\n <metadata>\n  <rdf:RDF xmlns:cc=\"http://creativecommons.org/ns#\" xmlns:dc=\"http://purl.org/dc/elements/1.1/\" xmlns:rdf=\"http://www.w3.org/1999/02/22-rdf-syntax-ns#\">\n   <cc:Work>\n    <dc:type rdf:resource=\"http://purl.org/dc/dcmitype/StillImage\"/>\n    <dc:date>2021-07-04T22:02:56.225359</dc:date>\n    <dc:format>image/svg+xml</dc:format>\n    <dc:creator>\n     <cc:Agent>\n      <dc:title>Matplotlib v3.4.2, https://matplotlib.org/</dc:title>\n     </cc:Agent>\n    </dc:creator>\n   </cc:Work>\n  </rdf:RDF>\n </metadata>\n <defs>\n  <style type=\"text/css\">*{stroke-linecap:butt;stroke-linejoin:round;}</style>\n </defs>\n <g id=\"figure_1\">\n  <g id=\"patch_1\">\n   <path d=\"M 0 262.19625 \nL 460.79476 262.19625 \nL 460.79476 0 \nL 0 0 \nz\n\" style=\"fill:none;\"/>\n  </g>\n  <g id=\"axes_1\">\n   <g id=\"patch_2\">\n    <path d=\"M 117.30625 224.64 \nL 452.10625 224.64 \nL 452.10625 7.2 \nL 117.30625 7.2 \nz\n\" style=\"fill:#ffffff;\"/>\n   </g>\n   <g id=\"matplotlib.axis_1\">\n    <g id=\"xtick_1\">\n     <g id=\"line2d_1\">\n      <defs>\n       <path d=\"M 0 0 \nL 0 3.5 \n\" id=\"m2cfc33dbc1\" style=\"stroke:#000000;stroke-width:0.8;\"/>\n      </defs>\n      <g>\n       <use style=\"stroke:#000000;stroke-width:0.8;\" x=\"129.483781\" xlink:href=\"#m2cfc33dbc1\" y=\"224.64\"/>\n      </g>\n     </g>\n     <g id=\"text_1\">\n      <!-- 10000 -->\n      <g transform=\"translate(113.577531 239.238438)scale(0.1 -0.1)\">\n       <defs>\n        <path d=\"M 794 531 \nL 1825 531 \nL 1825 4091 \nL 703 3866 \nL 703 4441 \nL 1819 4666 \nL 2450 4666 \nL 2450 531 \nL 3481 531 \nL 3481 0 \nL 794 0 \nL 794 531 \nz\n\" id=\"DejaVuSans-31\" transform=\"scale(0.015625)\"/>\n        <path d=\"M 2034 4250 \nQ 1547 4250 1301 3770 \nQ 1056 3291 1056 2328 \nQ 1056 1369 1301 889 \nQ 1547 409 2034 409 \nQ 2525 409 2770 889 \nQ 3016 1369 3016 2328 \nQ 3016 3291 2770 3770 \nQ 2525 4250 2034 4250 \nz\nM 2034 4750 \nQ 2819 4750 3233 4129 \nQ 3647 3509 3647 2328 \nQ 3647 1150 3233 529 \nQ 2819 -91 2034 -91 \nQ 1250 -91 836 529 \nQ 422 1150 422 2328 \nQ 422 3509 836 4129 \nQ 1250 4750 2034 4750 \nz\n\" id=\"DejaVuSans-30\" transform=\"scale(0.015625)\"/>\n       </defs>\n       <use xlink:href=\"#DejaVuSans-31\"/>\n       <use x=\"63.623047\" xlink:href=\"#DejaVuSans-30\"/>\n       <use x=\"127.246094\" xlink:href=\"#DejaVuSans-30\"/>\n       <use x=\"190.869141\" xlink:href=\"#DejaVuSans-30\"/>\n       <use x=\"254.492188\" xlink:href=\"#DejaVuSans-30\"/>\n      </g>\n     </g>\n    </g>\n    <g id=\"xtick_2\">\n     <g id=\"line2d_2\">\n      <g>\n       <use style=\"stroke:#000000;stroke-width:0.8;\" x=\"173.513028\" xlink:href=\"#m2cfc33dbc1\" y=\"224.64\"/>\n      </g>\n     </g>\n     <g id=\"text_2\">\n      <!-- 20000 -->\n      <g transform=\"translate(157.606778 239.238438)scale(0.1 -0.1)\">\n       <defs>\n        <path d=\"M 1228 531 \nL 3431 531 \nL 3431 0 \nL 469 0 \nL 469 531 \nQ 828 903 1448 1529 \nQ 2069 2156 2228 2338 \nQ 2531 2678 2651 2914 \nQ 2772 3150 2772 3378 \nQ 2772 3750 2511 3984 \nQ 2250 4219 1831 4219 \nQ 1534 4219 1204 4116 \nQ 875 4013 500 3803 \nL 500 4441 \nQ 881 4594 1212 4672 \nQ 1544 4750 1819 4750 \nQ 2544 4750 2975 4387 \nQ 3406 4025 3406 3419 \nQ 3406 3131 3298 2873 \nQ 3191 2616 2906 2266 \nQ 2828 2175 2409 1742 \nQ 1991 1309 1228 531 \nz\n\" id=\"DejaVuSans-32\" transform=\"scale(0.015625)\"/>\n       </defs>\n       <use xlink:href=\"#DejaVuSans-32\"/>\n       <use x=\"63.623047\" xlink:href=\"#DejaVuSans-30\"/>\n       <use x=\"127.246094\" xlink:href=\"#DejaVuSans-30\"/>\n       <use x=\"190.869141\" xlink:href=\"#DejaVuSans-30\"/>\n       <use x=\"254.492188\" xlink:href=\"#DejaVuSans-30\"/>\n      </g>\n     </g>\n    </g>\n    <g id=\"xtick_3\">\n     <g id=\"line2d_3\">\n      <g>\n       <use style=\"stroke:#000000;stroke-width:0.8;\" x=\"217.542275\" xlink:href=\"#m2cfc33dbc1\" y=\"224.64\"/>\n      </g>\n     </g>\n     <g id=\"text_3\">\n      <!-- 30000 -->\n      <g transform=\"translate(201.636025 239.238438)scale(0.1 -0.1)\">\n       <defs>\n        <path d=\"M 2597 2516 \nQ 3050 2419 3304 2112 \nQ 3559 1806 3559 1356 \nQ 3559 666 3084 287 \nQ 2609 -91 1734 -91 \nQ 1441 -91 1130 -33 \nQ 819 25 488 141 \nL 488 750 \nQ 750 597 1062 519 \nQ 1375 441 1716 441 \nQ 2309 441 2620 675 \nQ 2931 909 2931 1356 \nQ 2931 1769 2642 2001 \nQ 2353 2234 1838 2234 \nL 1294 2234 \nL 1294 2753 \nL 1863 2753 \nQ 2328 2753 2575 2939 \nQ 2822 3125 2822 3475 \nQ 2822 3834 2567 4026 \nQ 2313 4219 1838 4219 \nQ 1578 4219 1281 4162 \nQ 984 4106 628 3988 \nL 628 4550 \nQ 988 4650 1302 4700 \nQ 1616 4750 1894 4750 \nQ 2613 4750 3031 4423 \nQ 3450 4097 3450 3541 \nQ 3450 3153 3228 2886 \nQ 3006 2619 2597 2516 \nz\n\" id=\"DejaVuSans-33\" transform=\"scale(0.015625)\"/>\n       </defs>\n       <use xlink:href=\"#DejaVuSans-33\"/>\n       <use x=\"63.623047\" xlink:href=\"#DejaVuSans-30\"/>\n       <use x=\"127.246094\" xlink:href=\"#DejaVuSans-30\"/>\n       <use x=\"190.869141\" xlink:href=\"#DejaVuSans-30\"/>\n       <use x=\"254.492188\" xlink:href=\"#DejaVuSans-30\"/>\n      </g>\n     </g>\n    </g>\n    <g id=\"xtick_4\">\n     <g id=\"line2d_4\">\n      <g>\n       <use style=\"stroke:#000000;stroke-width:0.8;\" x=\"261.571522\" xlink:href=\"#m2cfc33dbc1\" y=\"224.64\"/>\n      </g>\n     </g>\n     <g id=\"text_4\">\n      <!-- 40000 -->\n      <g transform=\"translate(245.665272 239.238438)scale(0.1 -0.1)\">\n       <defs>\n        <path d=\"M 2419 4116 \nL 825 1625 \nL 2419 1625 \nL 2419 4116 \nz\nM 2253 4666 \nL 3047 4666 \nL 3047 1625 \nL 3713 1625 \nL 3713 1100 \nL 3047 1100 \nL 3047 0 \nL 2419 0 \nL 2419 1100 \nL 313 1100 \nL 313 1709 \nL 2253 4666 \nz\n\" id=\"DejaVuSans-34\" transform=\"scale(0.015625)\"/>\n       </defs>\n       <use xlink:href=\"#DejaVuSans-34\"/>\n       <use x=\"63.623047\" xlink:href=\"#DejaVuSans-30\"/>\n       <use x=\"127.246094\" xlink:href=\"#DejaVuSans-30\"/>\n       <use x=\"190.869141\" xlink:href=\"#DejaVuSans-30\"/>\n       <use x=\"254.492188\" xlink:href=\"#DejaVuSans-30\"/>\n      </g>\n     </g>\n    </g>\n    <g id=\"xtick_5\">\n     <g id=\"line2d_5\">\n      <g>\n       <use style=\"stroke:#000000;stroke-width:0.8;\" x=\"305.600769\" xlink:href=\"#m2cfc33dbc1\" y=\"224.64\"/>\n      </g>\n     </g>\n     <g id=\"text_5\">\n      <!-- 50000 -->\n      <g transform=\"translate(289.694519 239.238438)scale(0.1 -0.1)\">\n       <defs>\n        <path d=\"M 691 4666 \nL 3169 4666 \nL 3169 4134 \nL 1269 4134 \nL 1269 2991 \nQ 1406 3038 1543 3061 \nQ 1681 3084 1819 3084 \nQ 2600 3084 3056 2656 \nQ 3513 2228 3513 1497 \nQ 3513 744 3044 326 \nQ 2575 -91 1722 -91 \nQ 1428 -91 1123 -41 \nQ 819 9 494 109 \nL 494 744 \nQ 775 591 1075 516 \nQ 1375 441 1709 441 \nQ 2250 441 2565 725 \nQ 2881 1009 2881 1497 \nQ 2881 1984 2565 2268 \nQ 2250 2553 1709 2553 \nQ 1456 2553 1204 2497 \nQ 953 2441 691 2322 \nL 691 4666 \nz\n\" id=\"DejaVuSans-35\" transform=\"scale(0.015625)\"/>\n       </defs>\n       <use xlink:href=\"#DejaVuSans-35\"/>\n       <use x=\"63.623047\" xlink:href=\"#DejaVuSans-30\"/>\n       <use x=\"127.246094\" xlink:href=\"#DejaVuSans-30\"/>\n       <use x=\"190.869141\" xlink:href=\"#DejaVuSans-30\"/>\n       <use x=\"254.492188\" xlink:href=\"#DejaVuSans-30\"/>\n      </g>\n     </g>\n    </g>\n    <g id=\"xtick_6\">\n     <g id=\"line2d_6\">\n      <g>\n       <use style=\"stroke:#000000;stroke-width:0.8;\" x=\"349.630016\" xlink:href=\"#m2cfc33dbc1\" y=\"224.64\"/>\n      </g>\n     </g>\n     <g id=\"text_6\">\n      <!-- 60000 -->\n      <g transform=\"translate(333.723766 239.238438)scale(0.1 -0.1)\">\n       <defs>\n        <path d=\"M 2113 2584 \nQ 1688 2584 1439 2293 \nQ 1191 2003 1191 1497 \nQ 1191 994 1439 701 \nQ 1688 409 2113 409 \nQ 2538 409 2786 701 \nQ 3034 994 3034 1497 \nQ 3034 2003 2786 2293 \nQ 2538 2584 2113 2584 \nz\nM 3366 4563 \nL 3366 3988 \nQ 3128 4100 2886 4159 \nQ 2644 4219 2406 4219 \nQ 1781 4219 1451 3797 \nQ 1122 3375 1075 2522 \nQ 1259 2794 1537 2939 \nQ 1816 3084 2150 3084 \nQ 2853 3084 3261 2657 \nQ 3669 2231 3669 1497 \nQ 3669 778 3244 343 \nQ 2819 -91 2113 -91 \nQ 1303 -91 875 529 \nQ 447 1150 447 2328 \nQ 447 3434 972 4092 \nQ 1497 4750 2381 4750 \nQ 2619 4750 2861 4703 \nQ 3103 4656 3366 4563 \nz\n\" id=\"DejaVuSans-36\" transform=\"scale(0.015625)\"/>\n       </defs>\n       <use xlink:href=\"#DejaVuSans-36\"/>\n       <use x=\"63.623047\" xlink:href=\"#DejaVuSans-30\"/>\n       <use x=\"127.246094\" xlink:href=\"#DejaVuSans-30\"/>\n       <use x=\"190.869141\" xlink:href=\"#DejaVuSans-30\"/>\n       <use x=\"254.492188\" xlink:href=\"#DejaVuSans-30\"/>\n      </g>\n     </g>\n    </g>\n    <g id=\"xtick_7\">\n     <g id=\"line2d_7\">\n      <g>\n       <use style=\"stroke:#000000;stroke-width:0.8;\" x=\"393.659263\" xlink:href=\"#m2cfc33dbc1\" y=\"224.64\"/>\n      </g>\n     </g>\n     <g id=\"text_7\">\n      <!-- 70000 -->\n      <g transform=\"translate(377.753013 239.238438)scale(0.1 -0.1)\">\n       <defs>\n        <path d=\"M 525 4666 \nL 3525 4666 \nL 3525 4397 \nL 1831 0 \nL 1172 0 \nL 2766 4134 \nL 525 4134 \nL 525 4666 \nz\n\" id=\"DejaVuSans-37\" transform=\"scale(0.015625)\"/>\n       </defs>\n       <use xlink:href=\"#DejaVuSans-37\"/>\n       <use x=\"63.623047\" xlink:href=\"#DejaVuSans-30\"/>\n       <use x=\"127.246094\" xlink:href=\"#DejaVuSans-30\"/>\n       <use x=\"190.869141\" xlink:href=\"#DejaVuSans-30\"/>\n       <use x=\"254.492188\" xlink:href=\"#DejaVuSans-30\"/>\n      </g>\n     </g>\n    </g>\n    <g id=\"xtick_8\">\n     <g id=\"line2d_8\">\n      <g>\n       <use style=\"stroke:#000000;stroke-width:0.8;\" x=\"437.68851\" xlink:href=\"#m2cfc33dbc1\" y=\"224.64\"/>\n      </g>\n     </g>\n     <g id=\"text_8\">\n      <!-- 80000 -->\n      <g transform=\"translate(421.78226 239.238438)scale(0.1 -0.1)\">\n       <defs>\n        <path d=\"M 2034 2216 \nQ 1584 2216 1326 1975 \nQ 1069 1734 1069 1313 \nQ 1069 891 1326 650 \nQ 1584 409 2034 409 \nQ 2484 409 2743 651 \nQ 3003 894 3003 1313 \nQ 3003 1734 2745 1975 \nQ 2488 2216 2034 2216 \nz\nM 1403 2484 \nQ 997 2584 770 2862 \nQ 544 3141 544 3541 \nQ 544 4100 942 4425 \nQ 1341 4750 2034 4750 \nQ 2731 4750 3128 4425 \nQ 3525 4100 3525 3541 \nQ 3525 3141 3298 2862 \nQ 3072 2584 2669 2484 \nQ 3125 2378 3379 2068 \nQ 3634 1759 3634 1313 \nQ 3634 634 3220 271 \nQ 2806 -91 2034 -91 \nQ 1263 -91 848 271 \nQ 434 634 434 1313 \nQ 434 1759 690 2068 \nQ 947 2378 1403 2484 \nz\nM 1172 3481 \nQ 1172 3119 1398 2916 \nQ 1625 2713 2034 2713 \nQ 2441 2713 2670 2916 \nQ 2900 3119 2900 3481 \nQ 2900 3844 2670 4047 \nQ 2441 4250 2034 4250 \nQ 1625 4250 1398 4047 \nQ 1172 3844 1172 3481 \nz\n\" id=\"DejaVuSans-38\" transform=\"scale(0.015625)\"/>\n       </defs>\n       <use xlink:href=\"#DejaVuSans-38\"/>\n       <use x=\"63.623047\" xlink:href=\"#DejaVuSans-30\"/>\n       <use x=\"127.246094\" xlink:href=\"#DejaVuSans-30\"/>\n       <use x=\"190.869141\" xlink:href=\"#DejaVuSans-30\"/>\n       <use x=\"254.492188\" xlink:href=\"#DejaVuSans-30\"/>\n      </g>\n     </g>\n    </g>\n    <g id=\"text_9\">\n     <!-- importance -->\n     <g transform=\"translate(256.139062 252.916563)scale(0.1 -0.1)\">\n      <defs>\n       <path d=\"M 603 3500 \nL 1178 3500 \nL 1178 0 \nL 603 0 \nL 603 3500 \nz\nM 603 4863 \nL 1178 4863 \nL 1178 4134 \nL 603 4134 \nL 603 4863 \nz\n\" id=\"DejaVuSans-69\" transform=\"scale(0.015625)\"/>\n       <path d=\"M 3328 2828 \nQ 3544 3216 3844 3400 \nQ 4144 3584 4550 3584 \nQ 5097 3584 5394 3201 \nQ 5691 2819 5691 2113 \nL 5691 0 \nL 5113 0 \nL 5113 2094 \nQ 5113 2597 4934 2840 \nQ 4756 3084 4391 3084 \nQ 3944 3084 3684 2787 \nQ 3425 2491 3425 1978 \nL 3425 0 \nL 2847 0 \nL 2847 2094 \nQ 2847 2600 2669 2842 \nQ 2491 3084 2119 3084 \nQ 1678 3084 1418 2786 \nQ 1159 2488 1159 1978 \nL 1159 0 \nL 581 0 \nL 581 3500 \nL 1159 3500 \nL 1159 2956 \nQ 1356 3278 1631 3431 \nQ 1906 3584 2284 3584 \nQ 2666 3584 2933 3390 \nQ 3200 3197 3328 2828 \nz\n\" id=\"DejaVuSans-6d\" transform=\"scale(0.015625)\"/>\n       <path d=\"M 1159 525 \nL 1159 -1331 \nL 581 -1331 \nL 581 3500 \nL 1159 3500 \nL 1159 2969 \nQ 1341 3281 1617 3432 \nQ 1894 3584 2278 3584 \nQ 2916 3584 3314 3078 \nQ 3713 2572 3713 1747 \nQ 3713 922 3314 415 \nQ 2916 -91 2278 -91 \nQ 1894 -91 1617 61 \nQ 1341 213 1159 525 \nz\nM 3116 1747 \nQ 3116 2381 2855 2742 \nQ 2594 3103 2138 3103 \nQ 1681 3103 1420 2742 \nQ 1159 2381 1159 1747 \nQ 1159 1113 1420 752 \nQ 1681 391 2138 391 \nQ 2594 391 2855 752 \nQ 3116 1113 3116 1747 \nz\n\" id=\"DejaVuSans-70\" transform=\"scale(0.015625)\"/>\n       <path d=\"M 1959 3097 \nQ 1497 3097 1228 2736 \nQ 959 2375 959 1747 \nQ 959 1119 1226 758 \nQ 1494 397 1959 397 \nQ 2419 397 2687 759 \nQ 2956 1122 2956 1747 \nQ 2956 2369 2687 2733 \nQ 2419 3097 1959 3097 \nz\nM 1959 3584 \nQ 2709 3584 3137 3096 \nQ 3566 2609 3566 1747 \nQ 3566 888 3137 398 \nQ 2709 -91 1959 -91 \nQ 1206 -91 779 398 \nQ 353 888 353 1747 \nQ 353 2609 779 3096 \nQ 1206 3584 1959 3584 \nz\n\" id=\"DejaVuSans-6f\" transform=\"scale(0.015625)\"/>\n       <path d=\"M 2631 2963 \nQ 2534 3019 2420 3045 \nQ 2306 3072 2169 3072 \nQ 1681 3072 1420 2755 \nQ 1159 2438 1159 1844 \nL 1159 0 \nL 581 0 \nL 581 3500 \nL 1159 3500 \nL 1159 2956 \nQ 1341 3275 1631 3429 \nQ 1922 3584 2338 3584 \nQ 2397 3584 2469 3576 \nQ 2541 3569 2628 3553 \nL 2631 2963 \nz\n\" id=\"DejaVuSans-72\" transform=\"scale(0.015625)\"/>\n       <path d=\"M 1172 4494 \nL 1172 3500 \nL 2356 3500 \nL 2356 3053 \nL 1172 3053 \nL 1172 1153 \nQ 1172 725 1289 603 \nQ 1406 481 1766 481 \nL 2356 481 \nL 2356 0 \nL 1766 0 \nQ 1100 0 847 248 \nQ 594 497 594 1153 \nL 594 3053 \nL 172 3053 \nL 172 3500 \nL 594 3500 \nL 594 4494 \nL 1172 4494 \nz\n\" id=\"DejaVuSans-74\" transform=\"scale(0.015625)\"/>\n       <path d=\"M 2194 1759 \nQ 1497 1759 1228 1600 \nQ 959 1441 959 1056 \nQ 959 750 1161 570 \nQ 1363 391 1709 391 \nQ 2188 391 2477 730 \nQ 2766 1069 2766 1631 \nL 2766 1759 \nL 2194 1759 \nz\nM 3341 1997 \nL 3341 0 \nL 2766 0 \nL 2766 531 \nQ 2569 213 2275 61 \nQ 1981 -91 1556 -91 \nQ 1019 -91 701 211 \nQ 384 513 384 1019 \nQ 384 1609 779 1909 \nQ 1175 2209 1959 2209 \nL 2766 2209 \nL 2766 2266 \nQ 2766 2663 2505 2880 \nQ 2244 3097 1772 3097 \nQ 1472 3097 1187 3025 \nQ 903 2953 641 2809 \nL 641 3341 \nQ 956 3463 1253 3523 \nQ 1550 3584 1831 3584 \nQ 2591 3584 2966 3190 \nQ 3341 2797 3341 1997 \nz\n\" id=\"DejaVuSans-61\" transform=\"scale(0.015625)\"/>\n       <path d=\"M 3513 2113 \nL 3513 0 \nL 2938 0 \nL 2938 2094 \nQ 2938 2591 2744 2837 \nQ 2550 3084 2163 3084 \nQ 1697 3084 1428 2787 \nQ 1159 2491 1159 1978 \nL 1159 0 \nL 581 0 \nL 581 3500 \nL 1159 3500 \nL 1159 2956 \nQ 1366 3272 1645 3428 \nQ 1925 3584 2291 3584 \nQ 2894 3584 3203 3211 \nQ 3513 2838 3513 2113 \nz\n\" id=\"DejaVuSans-6e\" transform=\"scale(0.015625)\"/>\n       <path d=\"M 3122 3366 \nL 3122 2828 \nQ 2878 2963 2633 3030 \nQ 2388 3097 2138 3097 \nQ 1578 3097 1268 2742 \nQ 959 2388 959 1747 \nQ 959 1106 1268 751 \nQ 1578 397 2138 397 \nQ 2388 397 2633 464 \nQ 2878 531 3122 666 \nL 3122 134 \nQ 2881 22 2623 -34 \nQ 2366 -91 2075 -91 \nQ 1284 -91 818 406 \nQ 353 903 353 1747 \nQ 353 2603 823 3093 \nQ 1294 3584 2113 3584 \nQ 2378 3584 2631 3529 \nQ 2884 3475 3122 3366 \nz\n\" id=\"DejaVuSans-63\" transform=\"scale(0.015625)\"/>\n       <path d=\"M 3597 1894 \nL 3597 1613 \nL 953 1613 \nQ 991 1019 1311 708 \nQ 1631 397 2203 397 \nQ 2534 397 2845 478 \nQ 3156 559 3463 722 \nL 3463 178 \nQ 3153 47 2828 -22 \nQ 2503 -91 2169 -91 \nQ 1331 -91 842 396 \nQ 353 884 353 1716 \nQ 353 2575 817 3079 \nQ 1281 3584 2069 3584 \nQ 2775 3584 3186 3129 \nQ 3597 2675 3597 1894 \nz\nM 3022 2063 \nQ 3016 2534 2758 2815 \nQ 2500 3097 2075 3097 \nQ 1594 3097 1305 2825 \nQ 1016 2553 972 2059 \nL 3022 2063 \nz\n\" id=\"DejaVuSans-65\" transform=\"scale(0.015625)\"/>\n      </defs>\n      <use xlink:href=\"#DejaVuSans-69\"/>\n      <use x=\"27.783203\" xlink:href=\"#DejaVuSans-6d\"/>\n      <use x=\"125.195312\" xlink:href=\"#DejaVuSans-70\"/>\n      <use x=\"188.671875\" xlink:href=\"#DejaVuSans-6f\"/>\n      <use x=\"249.853516\" xlink:href=\"#DejaVuSans-72\"/>\n      <use x=\"290.966797\" xlink:href=\"#DejaVuSans-74\"/>\n      <use x=\"330.175781\" xlink:href=\"#DejaVuSans-61\"/>\n      <use x=\"391.455078\" xlink:href=\"#DejaVuSans-6e\"/>\n      <use x=\"454.833984\" xlink:href=\"#DejaVuSans-63\"/>\n      <use x=\"509.814453\" xlink:href=\"#DejaVuSans-65\"/>\n     </g>\n    </g>\n   </g>\n   <g id=\"matplotlib.axis_2\">\n    <g id=\"ytick_1\">\n     <g id=\"line2d_9\">\n      <defs>\n       <path d=\"M 0 0 \nL -3.5 0 \n\" id=\"me99630e63f\" style=\"stroke:#000000;stroke-width:0.8;\"/>\n      </defs>\n      <g>\n       <use style=\"stroke:#000000;stroke-width:0.8;\" x=\"117.30625\" xlink:href=\"#me99630e63f\" y=\"15.563077\"/>\n      </g>\n     </g>\n     <g id=\"text_10\">\n      <!-- millisSinceGpsEpoch -->\n      <g transform=\"translate(7.2 19.362296)scale(0.1 -0.1)\">\n       <defs>\n        <path d=\"M 603 4863 \nL 1178 4863 \nL 1178 0 \nL 603 0 \nL 603 4863 \nz\n\" id=\"DejaVuSans-6c\" transform=\"scale(0.015625)\"/>\n        <path d=\"M 2834 3397 \nL 2834 2853 \nQ 2591 2978 2328 3040 \nQ 2066 3103 1784 3103 \nQ 1356 3103 1142 2972 \nQ 928 2841 928 2578 \nQ 928 2378 1081 2264 \nQ 1234 2150 1697 2047 \nL 1894 2003 \nQ 2506 1872 2764 1633 \nQ 3022 1394 3022 966 \nQ 3022 478 2636 193 \nQ 2250 -91 1575 -91 \nQ 1294 -91 989 -36 \nQ 684 19 347 128 \nL 347 722 \nQ 666 556 975 473 \nQ 1284 391 1588 391 \nQ 1994 391 2212 530 \nQ 2431 669 2431 922 \nQ 2431 1156 2273 1281 \nQ 2116 1406 1581 1522 \nL 1381 1569 \nQ 847 1681 609 1914 \nQ 372 2147 372 2553 \nQ 372 3047 722 3315 \nQ 1072 3584 1716 3584 \nQ 2034 3584 2315 3537 \nQ 2597 3491 2834 3397 \nz\n\" id=\"DejaVuSans-73\" transform=\"scale(0.015625)\"/>\n        <path d=\"M 3425 4513 \nL 3425 3897 \nQ 3066 4069 2747 4153 \nQ 2428 4238 2131 4238 \nQ 1616 4238 1336 4038 \nQ 1056 3838 1056 3469 \nQ 1056 3159 1242 3001 \nQ 1428 2844 1947 2747 \nL 2328 2669 \nQ 3034 2534 3370 2195 \nQ 3706 1856 3706 1288 \nQ 3706 609 3251 259 \nQ 2797 -91 1919 -91 \nQ 1588 -91 1214 -16 \nQ 841 59 441 206 \nL 441 856 \nQ 825 641 1194 531 \nQ 1563 422 1919 422 \nQ 2459 422 2753 634 \nQ 3047 847 3047 1241 \nQ 3047 1584 2836 1778 \nQ 2625 1972 2144 2069 \nL 1759 2144 \nQ 1053 2284 737 2584 \nQ 422 2884 422 3419 \nQ 422 4038 858 4394 \nQ 1294 4750 2059 4750 \nQ 2388 4750 2728 4690 \nQ 3069 4631 3425 4513 \nz\n\" id=\"DejaVuSans-53\" transform=\"scale(0.015625)\"/>\n        <path d=\"M 3809 666 \nL 3809 1919 \nL 2778 1919 \nL 2778 2438 \nL 4434 2438 \nL 4434 434 \nQ 4069 175 3628 42 \nQ 3188 -91 2688 -91 \nQ 1594 -91 976 548 \nQ 359 1188 359 2328 \nQ 359 3472 976 4111 \nQ 1594 4750 2688 4750 \nQ 3144 4750 3555 4637 \nQ 3966 4525 4313 4306 \nL 4313 3634 \nQ 3963 3931 3569 4081 \nQ 3175 4231 2741 4231 \nQ 1884 4231 1454 3753 \nQ 1025 3275 1025 2328 \nQ 1025 1384 1454 906 \nQ 1884 428 2741 428 \nQ 3075 428 3337 486 \nQ 3600 544 3809 666 \nz\n\" id=\"DejaVuSans-47\" transform=\"scale(0.015625)\"/>\n        <path d=\"M 628 4666 \nL 3578 4666 \nL 3578 4134 \nL 1259 4134 \nL 1259 2753 \nL 3481 2753 \nL 3481 2222 \nL 1259 2222 \nL 1259 531 \nL 3634 531 \nL 3634 0 \nL 628 0 \nL 628 4666 \nz\n\" id=\"DejaVuSans-45\" transform=\"scale(0.015625)\"/>\n        <path d=\"M 3513 2113 \nL 3513 0 \nL 2938 0 \nL 2938 2094 \nQ 2938 2591 2744 2837 \nQ 2550 3084 2163 3084 \nQ 1697 3084 1428 2787 \nQ 1159 2491 1159 1978 \nL 1159 0 \nL 581 0 \nL 581 4863 \nL 1159 4863 \nL 1159 2956 \nQ 1366 3272 1645 3428 \nQ 1925 3584 2291 3584 \nQ 2894 3584 3203 3211 \nQ 3513 2838 3513 2113 \nz\n\" id=\"DejaVuSans-68\" transform=\"scale(0.015625)\"/>\n       </defs>\n       <use xlink:href=\"#DejaVuSans-6d\"/>\n       <use x=\"97.412109\" xlink:href=\"#DejaVuSans-69\"/>\n       <use x=\"125.195312\" xlink:href=\"#DejaVuSans-6c\"/>\n       <use x=\"152.978516\" xlink:href=\"#DejaVuSans-6c\"/>\n       <use x=\"180.761719\" xlink:href=\"#DejaVuSans-69\"/>\n       <use x=\"208.544922\" xlink:href=\"#DejaVuSans-73\"/>\n       <use x=\"260.644531\" xlink:href=\"#DejaVuSans-53\"/>\n       <use x=\"324.121094\" xlink:href=\"#DejaVuSans-69\"/>\n       <use x=\"351.904297\" xlink:href=\"#DejaVuSans-6e\"/>\n       <use x=\"415.283203\" xlink:href=\"#DejaVuSans-63\"/>\n       <use x=\"470.263672\" xlink:href=\"#DejaVuSans-65\"/>\n       <use x=\"531.787109\" xlink:href=\"#DejaVuSans-47\"/>\n       <use x=\"609.277344\" xlink:href=\"#DejaVuSans-70\"/>\n       <use x=\"672.753906\" xlink:href=\"#DejaVuSans-73\"/>\n       <use x=\"724.853516\" xlink:href=\"#DejaVuSans-45\"/>\n       <use x=\"788.037109\" xlink:href=\"#DejaVuSans-70\"/>\n       <use x=\"851.513672\" xlink:href=\"#DejaVuSans-6f\"/>\n       <use x=\"912.695312\" xlink:href=\"#DejaVuSans-63\"/>\n       <use x=\"967.675781\" xlink:href=\"#DejaVuSans-68\"/>\n      </g>\n     </g>\n    </g>\n    <g id=\"ytick_2\">\n     <g id=\"line2d_10\">\n      <g>\n       <use style=\"stroke:#000000;stroke-width:0.8;\" x=\"117.30625\" xlink:href=\"#me99630e63f\" y=\"32.289231\"/>\n      </g>\n     </g>\n     <g id=\"text_11\">\n      <!-- lngDeg_prev -->\n      <g transform=\"translate(47.334375 36.08845)scale(0.1 -0.1)\">\n       <defs>\n        <path d=\"M 2906 1791 \nQ 2906 2416 2648 2759 \nQ 2391 3103 1925 3103 \nQ 1463 3103 1205 2759 \nQ 947 2416 947 1791 \nQ 947 1169 1205 825 \nQ 1463 481 1925 481 \nQ 2391 481 2648 825 \nQ 2906 1169 2906 1791 \nz\nM 3481 434 \nQ 3481 -459 3084 -895 \nQ 2688 -1331 1869 -1331 \nQ 1566 -1331 1297 -1286 \nQ 1028 -1241 775 -1147 \nL 775 -588 \nQ 1028 -725 1275 -790 \nQ 1522 -856 1778 -856 \nQ 2344 -856 2625 -561 \nQ 2906 -266 2906 331 \nL 2906 616 \nQ 2728 306 2450 153 \nQ 2172 0 1784 0 \nQ 1141 0 747 490 \nQ 353 981 353 1791 \nQ 353 2603 747 3093 \nQ 1141 3584 1784 3584 \nQ 2172 3584 2450 3431 \nQ 2728 3278 2906 2969 \nL 2906 3500 \nL 3481 3500 \nL 3481 434 \nz\n\" id=\"DejaVuSans-67\" transform=\"scale(0.015625)\"/>\n        <path d=\"M 1259 4147 \nL 1259 519 \nL 2022 519 \nQ 2988 519 3436 956 \nQ 3884 1394 3884 2338 \nQ 3884 3275 3436 3711 \nQ 2988 4147 2022 4147 \nL 1259 4147 \nz\nM 628 4666 \nL 1925 4666 \nQ 3281 4666 3915 4102 \nQ 4550 3538 4550 2338 \nQ 4550 1131 3912 565 \nQ 3275 0 1925 0 \nL 628 0 \nL 628 4666 \nz\n\" id=\"DejaVuSans-44\" transform=\"scale(0.015625)\"/>\n        <path d=\"M 3263 -1063 \nL 3263 -1509 \nL -63 -1509 \nL -63 -1063 \nL 3263 -1063 \nz\n\" id=\"DejaVuSans-5f\" transform=\"scale(0.015625)\"/>\n        <path d=\"M 191 3500 \nL 800 3500 \nL 1894 563 \nL 2988 3500 \nL 3597 3500 \nL 2284 0 \nL 1503 0 \nL 191 3500 \nz\n\" id=\"DejaVuSans-76\" transform=\"scale(0.015625)\"/>\n       </defs>\n       <use xlink:href=\"#DejaVuSans-6c\"/>\n       <use x=\"27.783203\" xlink:href=\"#DejaVuSans-6e\"/>\n       <use x=\"91.162109\" xlink:href=\"#DejaVuSans-67\"/>\n       <use x=\"154.638672\" xlink:href=\"#DejaVuSans-44\"/>\n       <use x=\"231.640625\" xlink:href=\"#DejaVuSans-65\"/>\n       <use x=\"293.164062\" xlink:href=\"#DejaVuSans-67\"/>\n       <use x=\"356.640625\" xlink:href=\"#DejaVuSans-5f\"/>\n       <use x=\"406.640625\" xlink:href=\"#DejaVuSans-70\"/>\n       <use x=\"470.117188\" xlink:href=\"#DejaVuSans-72\"/>\n       <use x=\"508.980469\" xlink:href=\"#DejaVuSans-65\"/>\n       <use x=\"570.503906\" xlink:href=\"#DejaVuSans-76\"/>\n      </g>\n     </g>\n    </g>\n    <g id=\"ytick_3\">\n     <g id=\"line2d_11\">\n      <g>\n       <use style=\"stroke:#000000;stroke-width:0.8;\" x=\"117.30625\" xlink:href=\"#me99630e63f\" y=\"49.015385\"/>\n      </g>\n     </g>\n     <g id=\"text_12\">\n      <!-- dist_next -->\n      <g transform=\"translate(64.895313 52.814603)scale(0.1 -0.1)\">\n       <defs>\n        <path d=\"M 2906 2969 \nL 2906 4863 \nL 3481 4863 \nL 3481 0 \nL 2906 0 \nL 2906 525 \nQ 2725 213 2448 61 \nQ 2172 -91 1784 -91 \nQ 1150 -91 751 415 \nQ 353 922 353 1747 \nQ 353 2572 751 3078 \nQ 1150 3584 1784 3584 \nQ 2172 3584 2448 3432 \nQ 2725 3281 2906 2969 \nz\nM 947 1747 \nQ 947 1113 1208 752 \nQ 1469 391 1925 391 \nQ 2381 391 2643 752 \nQ 2906 1113 2906 1747 \nQ 2906 2381 2643 2742 \nQ 2381 3103 1925 3103 \nQ 1469 3103 1208 2742 \nQ 947 2381 947 1747 \nz\n\" id=\"DejaVuSans-64\" transform=\"scale(0.015625)\"/>\n        <path d=\"M 3513 3500 \nL 2247 1797 \nL 3578 0 \nL 2900 0 \nL 1881 1375 \nL 863 0 \nL 184 0 \nL 1544 1831 \nL 300 3500 \nL 978 3500 \nL 1906 2253 \nL 2834 3500 \nL 3513 3500 \nz\n\" id=\"DejaVuSans-78\" transform=\"scale(0.015625)\"/>\n       </defs>\n       <use xlink:href=\"#DejaVuSans-64\"/>\n       <use x=\"63.476562\" xlink:href=\"#DejaVuSans-69\"/>\n       <use x=\"91.259766\" xlink:href=\"#DejaVuSans-73\"/>\n       <use x=\"143.359375\" xlink:href=\"#DejaVuSans-74\"/>\n       <use x=\"182.568359\" xlink:href=\"#DejaVuSans-5f\"/>\n       <use x=\"232.568359\" xlink:href=\"#DejaVuSans-6e\"/>\n       <use x=\"295.947266\" xlink:href=\"#DejaVuSans-65\"/>\n       <use x=\"355.720703\" xlink:href=\"#DejaVuSans-78\"/>\n       <use x=\"414.900391\" xlink:href=\"#DejaVuSans-74\"/>\n      </g>\n     </g>\n    </g>\n    <g id=\"ytick_4\">\n     <g id=\"line2d_12\">\n      <g>\n       <use style=\"stroke:#000000;stroke-width:0.8;\" x=\"117.30625\" xlink:href=\"#me99630e63f\" y=\"65.741538\"/>\n      </g>\n     </g>\n     <g id=\"text_13\">\n      <!-- dist_prev -->\n      <g transform=\"translate(64.74375 69.540757)scale(0.1 -0.1)\">\n       <use xlink:href=\"#DejaVuSans-64\"/>\n       <use x=\"63.476562\" xlink:href=\"#DejaVuSans-69\"/>\n       <use x=\"91.259766\" xlink:href=\"#DejaVuSans-73\"/>\n       <use x=\"143.359375\" xlink:href=\"#DejaVuSans-74\"/>\n       <use x=\"182.568359\" xlink:href=\"#DejaVuSans-5f\"/>\n       <use x=\"232.568359\" xlink:href=\"#DejaVuSans-70\"/>\n       <use x=\"296.044922\" xlink:href=\"#DejaVuSans-72\"/>\n       <use x=\"334.908203\" xlink:href=\"#DejaVuSans-65\"/>\n       <use x=\"396.431641\" xlink:href=\"#DejaVuSans-76\"/>\n      </g>\n     </g>\n    </g>\n    <g id=\"ytick_5\">\n     <g id=\"line2d_13\">\n      <g>\n       <use style=\"stroke:#000000;stroke-width:0.8;\" x=\"117.30625\" xlink:href=\"#me99630e63f\" y=\"82.467692\"/>\n      </g>\n     </g>\n     <g id=\"text_14\">\n      <!-- lngDeg_next_diff -->\n      <g transform=\"translate(26.31875 86.266911)scale(0.1 -0.1)\">\n       <defs>\n        <path d=\"M 2375 4863 \nL 2375 4384 \nL 1825 4384 \nQ 1516 4384 1395 4259 \nQ 1275 4134 1275 3809 \nL 1275 3500 \nL 2222 3500 \nL 2222 3053 \nL 1275 3053 \nL 1275 0 \nL 697 0 \nL 697 3053 \nL 147 3053 \nL 147 3500 \nL 697 3500 \nL 697 3744 \nQ 697 4328 969 4595 \nQ 1241 4863 1831 4863 \nL 2375 4863 \nz\n\" id=\"DejaVuSans-66\" transform=\"scale(0.015625)\"/>\n       </defs>\n       <use xlink:href=\"#DejaVuSans-6c\"/>\n       <use x=\"27.783203\" xlink:href=\"#DejaVuSans-6e\"/>\n       <use x=\"91.162109\" xlink:href=\"#DejaVuSans-67\"/>\n       <use x=\"154.638672\" xlink:href=\"#DejaVuSans-44\"/>\n       <use x=\"231.640625\" xlink:href=\"#DejaVuSans-65\"/>\n       <use x=\"293.164062\" xlink:href=\"#DejaVuSans-67\"/>\n       <use x=\"356.640625\" xlink:href=\"#DejaVuSans-5f\"/>\n       <use x=\"406.640625\" xlink:href=\"#DejaVuSans-6e\"/>\n       <use x=\"470.019531\" xlink:href=\"#DejaVuSans-65\"/>\n       <use x=\"529.792969\" xlink:href=\"#DejaVuSans-78\"/>\n       <use x=\"588.972656\" xlink:href=\"#DejaVuSans-74\"/>\n       <use x=\"628.181641\" xlink:href=\"#DejaVuSans-5f\"/>\n       <use x=\"678.181641\" xlink:href=\"#DejaVuSans-64\"/>\n       <use x=\"741.658203\" xlink:href=\"#DejaVuSans-69\"/>\n       <use x=\"769.441406\" xlink:href=\"#DejaVuSans-66\"/>\n       <use x=\"804.646484\" xlink:href=\"#DejaVuSans-66\"/>\n      </g>\n     </g>\n    </g>\n    <g id=\"ytick_6\">\n     <g id=\"line2d_14\">\n      <g>\n       <use style=\"stroke:#000000;stroke-width:0.8;\" x=\"117.30625\" xlink:href=\"#me99630e63f\" y=\"99.193846\"/>\n      </g>\n     </g>\n     <g id=\"text_15\">\n      <!-- latDeg_next_diff -->\n      <g transform=\"translate(28.95625 102.993065)scale(0.1 -0.1)\">\n       <use xlink:href=\"#DejaVuSans-6c\"/>\n       <use x=\"27.783203\" xlink:href=\"#DejaVuSans-61\"/>\n       <use x=\"89.0625\" xlink:href=\"#DejaVuSans-74\"/>\n       <use x=\"128.271484\" xlink:href=\"#DejaVuSans-44\"/>\n       <use x=\"205.273438\" xlink:href=\"#DejaVuSans-65\"/>\n       <use x=\"266.796875\" xlink:href=\"#DejaVuSans-67\"/>\n       <use x=\"330.273438\" xlink:href=\"#DejaVuSans-5f\"/>\n       <use x=\"380.273438\" xlink:href=\"#DejaVuSans-6e\"/>\n       <use x=\"443.652344\" xlink:href=\"#DejaVuSans-65\"/>\n       <use x=\"503.425781\" xlink:href=\"#DejaVuSans-78\"/>\n       <use x=\"562.605469\" xlink:href=\"#DejaVuSans-74\"/>\n       <use x=\"601.814453\" xlink:href=\"#DejaVuSans-5f\"/>\n       <use x=\"651.814453\" xlink:href=\"#DejaVuSans-64\"/>\n       <use x=\"715.291016\" xlink:href=\"#DejaVuSans-69\"/>\n       <use x=\"743.074219\" xlink:href=\"#DejaVuSans-66\"/>\n       <use x=\"778.279297\" xlink:href=\"#DejaVuSans-66\"/>\n      </g>\n     </g>\n    </g>\n    <g id=\"ytick_7\">\n     <g id=\"line2d_15\">\n      <g>\n       <use style=\"stroke:#000000;stroke-width:0.8;\" x=\"117.30625\" xlink:href=\"#me99630e63f\" y=\"115.92\"/>\n      </g>\n     </g>\n     <g id=\"text_16\">\n      <!-- lngDeg_prev_diff -->\n      <g transform=\"translate(26.167187 119.719219)scale(0.1 -0.1)\">\n       <use xlink:href=\"#DejaVuSans-6c\"/>\n       <use x=\"27.783203\" xlink:href=\"#DejaVuSans-6e\"/>\n       <use x=\"91.162109\" xlink:href=\"#DejaVuSans-67\"/>\n       <use x=\"154.638672\" xlink:href=\"#DejaVuSans-44\"/>\n       <use x=\"231.640625\" xlink:href=\"#DejaVuSans-65\"/>\n       <use x=\"293.164062\" xlink:href=\"#DejaVuSans-67\"/>\n       <use x=\"356.640625\" xlink:href=\"#DejaVuSans-5f\"/>\n       <use x=\"406.640625\" xlink:href=\"#DejaVuSans-70\"/>\n       <use x=\"470.117188\" xlink:href=\"#DejaVuSans-72\"/>\n       <use x=\"508.980469\" xlink:href=\"#DejaVuSans-65\"/>\n       <use x=\"570.503906\" xlink:href=\"#DejaVuSans-76\"/>\n       <use x=\"629.683594\" xlink:href=\"#DejaVuSans-5f\"/>\n       <use x=\"679.683594\" xlink:href=\"#DejaVuSans-64\"/>\n       <use x=\"743.160156\" xlink:href=\"#DejaVuSans-69\"/>\n       <use x=\"770.943359\" xlink:href=\"#DejaVuSans-66\"/>\n       <use x=\"806.148438\" xlink:href=\"#DejaVuSans-66\"/>\n      </g>\n     </g>\n    </g>\n    <g id=\"ytick_8\">\n     <g id=\"line2d_16\">\n      <g>\n       <use style=\"stroke:#000000;stroke-width:0.8;\" x=\"117.30625\" xlink:href=\"#me99630e63f\" y=\"132.646154\"/>\n      </g>\n     </g>\n     <g id=\"text_17\">\n      <!-- latDeg_prev_diff -->\n      <g transform=\"translate(28.804688 136.445373)scale(0.1 -0.1)\">\n       <use xlink:href=\"#DejaVuSans-6c\"/>\n       <use x=\"27.783203\" xlink:href=\"#DejaVuSans-61\"/>\n       <use x=\"89.0625\" xlink:href=\"#DejaVuSans-74\"/>\n       <use x=\"128.271484\" xlink:href=\"#DejaVuSans-44\"/>\n       <use x=\"205.273438\" xlink:href=\"#DejaVuSans-65\"/>\n       <use x=\"266.796875\" xlink:href=\"#DejaVuSans-67\"/>\n       <use x=\"330.273438\" xlink:href=\"#DejaVuSans-5f\"/>\n       <use x=\"380.273438\" xlink:href=\"#DejaVuSans-70\"/>\n       <use x=\"443.75\" xlink:href=\"#DejaVuSans-72\"/>\n       <use x=\"482.613281\" xlink:href=\"#DejaVuSans-65\"/>\n       <use x=\"544.136719\" xlink:href=\"#DejaVuSans-76\"/>\n       <use x=\"603.316406\" xlink:href=\"#DejaVuSans-5f\"/>\n       <use x=\"653.316406\" xlink:href=\"#DejaVuSans-64\"/>\n       <use x=\"716.792969\" xlink:href=\"#DejaVuSans-69\"/>\n       <use x=\"744.576172\" xlink:href=\"#DejaVuSans-66\"/>\n       <use x=\"779.78125\" xlink:href=\"#DejaVuSans-66\"/>\n      </g>\n     </g>\n    </g>\n    <g id=\"ytick_9\">\n     <g id=\"line2d_17\">\n      <g>\n       <use style=\"stroke:#000000;stroke-width:0.8;\" x=\"117.30625\" xlink:href=\"#me99630e63f\" y=\"149.372308\"/>\n      </g>\n     </g>\n     <g id=\"text_18\">\n      <!-- latDeg -->\n      <g transform=\"translate(77.278125 153.171526)scale(0.1 -0.1)\">\n       <use xlink:href=\"#DejaVuSans-6c\"/>\n       <use x=\"27.783203\" xlink:href=\"#DejaVuSans-61\"/>\n       <use x=\"89.0625\" xlink:href=\"#DejaVuSans-74\"/>\n       <use x=\"128.271484\" xlink:href=\"#DejaVuSans-44\"/>\n       <use x=\"205.273438\" xlink:href=\"#DejaVuSans-65\"/>\n       <use x=\"266.796875\" xlink:href=\"#DejaVuSans-67\"/>\n      </g>\n     </g>\n    </g>\n    <g id=\"ytick_10\">\n     <g id=\"line2d_18\">\n      <g>\n       <use style=\"stroke:#000000;stroke-width:0.8;\" x=\"117.30625\" xlink:href=\"#me99630e63f\" y=\"166.098462\"/>\n      </g>\n     </g>\n     <g id=\"text_19\">\n      <!-- latDeg_prev -->\n      <g transform=\"translate(49.971875 169.89768)scale(0.1 -0.1)\">\n       <use xlink:href=\"#DejaVuSans-6c\"/>\n       <use x=\"27.783203\" xlink:href=\"#DejaVuSans-61\"/>\n       <use x=\"89.0625\" xlink:href=\"#DejaVuSans-74\"/>\n       <use x=\"128.271484\" xlink:href=\"#DejaVuSans-44\"/>\n       <use x=\"205.273438\" xlink:href=\"#DejaVuSans-65\"/>\n       <use x=\"266.796875\" xlink:href=\"#DejaVuSans-67\"/>\n       <use x=\"330.273438\" xlink:href=\"#DejaVuSans-5f\"/>\n       <use x=\"380.273438\" xlink:href=\"#DejaVuSans-70\"/>\n       <use x=\"443.75\" xlink:href=\"#DejaVuSans-72\"/>\n       <use x=\"482.613281\" xlink:href=\"#DejaVuSans-65\"/>\n       <use x=\"544.136719\" xlink:href=\"#DejaVuSans-76\"/>\n      </g>\n     </g>\n    </g>\n    <g id=\"ytick_11\">\n     <g id=\"line2d_19\">\n      <g>\n       <use style=\"stroke:#000000;stroke-width:0.8;\" x=\"117.30625\" xlink:href=\"#me99630e63f\" y=\"182.824615\"/>\n      </g>\n     </g>\n     <g id=\"text_20\">\n      <!-- lngDeg_next -->\n      <g transform=\"translate(47.485938 186.623834)scale(0.1 -0.1)\">\n       <use xlink:href=\"#DejaVuSans-6c\"/>\n       <use x=\"27.783203\" xlink:href=\"#DejaVuSans-6e\"/>\n       <use x=\"91.162109\" xlink:href=\"#DejaVuSans-67\"/>\n       <use x=\"154.638672\" xlink:href=\"#DejaVuSans-44\"/>\n       <use x=\"231.640625\" xlink:href=\"#DejaVuSans-65\"/>\n       <use x=\"293.164062\" xlink:href=\"#DejaVuSans-67\"/>\n       <use x=\"356.640625\" xlink:href=\"#DejaVuSans-5f\"/>\n       <use x=\"406.640625\" xlink:href=\"#DejaVuSans-6e\"/>\n       <use x=\"470.019531\" xlink:href=\"#DejaVuSans-65\"/>\n       <use x=\"529.792969\" xlink:href=\"#DejaVuSans-78\"/>\n       <use x=\"588.972656\" xlink:href=\"#DejaVuSans-74\"/>\n      </g>\n     </g>\n    </g>\n    <g id=\"ytick_12\">\n     <g id=\"line2d_20\">\n      <g>\n       <use style=\"stroke:#000000;stroke-width:0.8;\" x=\"117.30625\" xlink:href=\"#me99630e63f\" y=\"199.550769\"/>\n      </g>\n     </g>\n     <g id=\"text_21\">\n      <!-- latDeg_next -->\n      <g transform=\"translate(50.123438 203.349988)scale(0.1 -0.1)\">\n       <use xlink:href=\"#DejaVuSans-6c\"/>\n       <use x=\"27.783203\" xlink:href=\"#DejaVuSans-61\"/>\n       <use x=\"89.0625\" xlink:href=\"#DejaVuSans-74\"/>\n       <use x=\"128.271484\" xlink:href=\"#DejaVuSans-44\"/>\n       <use x=\"205.273438\" xlink:href=\"#DejaVuSans-65\"/>\n       <use x=\"266.796875\" xlink:href=\"#DejaVuSans-67\"/>\n       <use x=\"330.273438\" xlink:href=\"#DejaVuSans-5f\"/>\n       <use x=\"380.273438\" xlink:href=\"#DejaVuSans-6e\"/>\n       <use x=\"443.652344\" xlink:href=\"#DejaVuSans-65\"/>\n       <use x=\"503.425781\" xlink:href=\"#DejaVuSans-78\"/>\n       <use x=\"562.605469\" xlink:href=\"#DejaVuSans-74\"/>\n      </g>\n     </g>\n    </g>\n    <g id=\"ytick_13\">\n     <g id=\"line2d_21\">\n      <g>\n       <use style=\"stroke:#000000;stroke-width:0.8;\" x=\"117.30625\" xlink:href=\"#me99630e63f\" y=\"216.276923\"/>\n      </g>\n     </g>\n     <g id=\"text_22\">\n      <!-- lngDeg -->\n      <g transform=\"translate(74.640625 220.076142)scale(0.1 -0.1)\">\n       <use xlink:href=\"#DejaVuSans-6c\"/>\n       <use x=\"27.783203\" xlink:href=\"#DejaVuSans-6e\"/>\n       <use x=\"91.162109\" xlink:href=\"#DejaVuSans-67\"/>\n       <use x=\"154.638672\" xlink:href=\"#DejaVuSans-44\"/>\n       <use x=\"231.640625\" xlink:href=\"#DejaVuSans-65\"/>\n       <use x=\"293.164062\" xlink:href=\"#DejaVuSans-67\"/>\n      </g>\n     </g>\n    </g>\n   </g>\n   <g id=\"line2d_22\">\n    <path clip-path=\"url(#pcad58e5bae)\" d=\"M 436.888068 8.872615 \nL 436.888068 22.253538 \n\" style=\"fill:none;stroke:#454545;stroke-linecap:square;stroke-width:1.5;\"/>\n   </g>\n   <g id=\"line2d_23\">\n    <path clip-path=\"url(#pcad58e5bae)\" d=\"M 397.166399 25.598769 \nL 397.166399 38.979692 \n\" style=\"fill:none;stroke:#454545;stroke-linecap:square;stroke-width:1.5;\"/>\n   </g>\n   <g id=\"line2d_24\">\n    <path clip-path=\"url(#pcad58e5bae)\" d=\"M 253.848441 42.324923 \nL 253.848441 55.705846 \n\" style=\"fill:none;stroke:#454545;stroke-linecap:square;stroke-width:1.5;\"/>\n   </g>\n   <g id=\"line2d_25\">\n    <path clip-path=\"url(#pcad58e5bae)\" d=\"M 183.567735 59.051077 \nL 183.567735 72.432 \n\" style=\"fill:none;stroke:#454545;stroke-linecap:square;stroke-width:1.5;\"/>\n   </g>\n   <g id=\"line2d_26\">\n    <path clip-path=\"url(#pcad58e5bae)\" d=\"M 142.808335 75.777231 \nL 142.808335 89.158154 \n\" style=\"fill:none;stroke:#454545;stroke-linecap:square;stroke-width:1.5;\"/>\n   </g>\n   <g id=\"line2d_27\">\n    <path clip-path=\"url(#pcad58e5bae)\" d=\"M 142.254373 92.503385 \nL 142.254373 105.884308 \n\" style=\"fill:none;stroke:#454545;stroke-linecap:square;stroke-width:1.5;\"/>\n   </g>\n   <g id=\"line2d_28\">\n    <path clip-path=\"url(#pcad58e5bae)\" d=\"M 141.458625 109.229538 \nL 141.458625 122.610462 \n\" style=\"fill:none;stroke:#454545;stroke-linecap:square;stroke-width:1.5;\"/>\n   </g>\n   <g id=\"line2d_29\">\n    <path clip-path=\"url(#pcad58e5bae)\" d=\"M 140.380964 125.955692 \nL 140.380964 139.336615 \n\" style=\"fill:none;stroke:#454545;stroke-linecap:square;stroke-width:1.5;\"/>\n   </g>\n   <g id=\"line2d_30\">\n    <path clip-path=\"url(#pcad58e5bae)\" d=\"M 140.016516 142.681846 \nL 140.016516 156.062769 \n\" style=\"fill:none;stroke:#454545;stroke-linecap:square;stroke-width:1.5;\"/>\n   </g>\n   <g id=\"line2d_31\">\n    <path clip-path=\"url(#pcad58e5bae)\" d=\"M 133.988496 159.408 \nL 133.988496 172.788923 \n\" style=\"fill:none;stroke:#454545;stroke-linecap:square;stroke-width:1.5;\"/>\n   </g>\n   <g id=\"line2d_32\">\n    <path clip-path=\"url(#pcad58e5bae)\" d=\"M 133.417069 176.134154 \nL 133.417069 189.515077 \n\" style=\"fill:none;stroke:#454545;stroke-linecap:square;stroke-width:1.5;\"/>\n   </g>\n   <g id=\"line2d_33\">\n    <path clip-path=\"url(#pcad58e5bae)\" d=\"M 133.186328 192.860308 \nL 133.186328 206.241231 \n\" style=\"fill:none;stroke:#454545;stroke-linecap:square;stroke-width:1.5;\"/>\n   </g>\n   <g id=\"line2d_34\">\n    <path clip-path=\"url(#pcad58e5bae)\" d=\"M 132.524432 209.586462 \nL 132.524432 222.967385 \n\" style=\"fill:none;stroke:#454545;stroke-linecap:square;stroke-width:1.5;\"/>\n   </g>\n   <g id=\"patch_3\">\n    <path d=\"M 117.30625 224.64 \nL 117.30625 7.2 \n\" style=\"fill:none;stroke:#000000;stroke-linecap:square;stroke-linejoin:miter;stroke-width:0.8;\"/>\n   </g>\n   <g id=\"patch_4\">\n    <path d=\"M 452.10625 224.64 \nL 452.10625 7.2 \n\" style=\"fill:none;stroke:#000000;stroke-linecap:square;stroke-linejoin:miter;stroke-width:0.8;\"/>\n   </g>\n   <g id=\"patch_5\">\n    <path d=\"M 117.30625 224.64 \nL 452.10625 224.64 \n\" style=\"fill:none;stroke:#000000;stroke-linecap:square;stroke-linejoin:miter;stroke-width:0.8;\"/>\n   </g>\n   <g id=\"patch_6\">\n    <path d=\"M 117.30625 7.2 \nL 452.10625 7.2 \n\" style=\"fill:none;stroke:#000000;stroke-linecap:square;stroke-linejoin:miter;stroke-width:0.8;\"/>\n   </g>\n  </g>\n </g>\n <defs>\n  <clipPath id=\"pcad58e5bae\">\n   <rect height=\"217.44\" width=\"334.8\" x=\"117.30625\" y=\"7.2\"/>\n  </clipPath>\n </defs>\n</svg>\n",
      "image/png": "[encoded data removed]"
     },
     "metadata": {
      "needs_background": "light"
     }
    }
   ],
   "source": [
    "# feature importanceを表示\n",
    "importance = pd.DataFrame(model.feature_importance(importance_type='gain'), index=train.columns, columns=['importance'])\n",
    "importance = importance.sort_values('importance', ascending=False)\n",
    "# display(importance)\n",
    "sns.boxenplot(data=importance, x='importance', y=importance.index)"
   ]
  },
  {
   "source": [
    "# Adversal Validation"
   ],
   "cell_type": "markdown",
   "metadata": {}
  },
  {
   "cell_type": "code",
   "execution_count": 60,
   "metadata": {},
   "outputs": [
    {
     "output_type": "stream",
     "name": "stdout",
     "text": [
      "Fold 0 --------------------------------------------------\n",
      "[LightGBM] [Info] Number of positive: 105073, number of negative: 73189\n",
      "[LightGBM] [Warning] Auto-choosing row-wise multi-threading, the overhead of testing was 0.000776 seconds.\n",
      "You can set `force_row_wise=true` to remove the overhead.\n",
      "And if memory is not enough, you can set `force_col_wise=true`.\n",
      "[LightGBM] [Info] Total Bins 1530\n",
      "[LightGBM] [Info] Number of data points in the train set: 178262, number of used features: 6\n",
      "[LightGBM] [Info] [binary:BoostFromScore]: pavg=0.589430 -> initscore=0.361610\n",
      "[LightGBM] [Info] Start training from score 0.361610\n",
      "Training until validation scores don't improve for 100 rounds\n",
      "Early stopping, best iteration is:\n",
      "[3403]\ttraining's binary_logloss: 0.419215\tvalid_1's binary_logloss: 0.55202\n",
      "auc: 0.6780\n",
      "Fold 1 --------------------------------------------------\n",
      "[LightGBM] [Info] Number of positive: 105073, number of negative: 73189\n",
      "[LightGBM] [Warning] Auto-choosing col-wise multi-threading, the overhead of testing was 0.004314 seconds.\n",
      "You can set `force_col_wise=true` to remove the overhead.\n",
      "[LightGBM] [Info] Total Bins 1530\n",
      "[LightGBM] [Info] Number of data points in the train set: 178262, number of used features: 6\n",
      "[LightGBM] [Info] [binary:BoostFromScore]: pavg=0.589430 -> initscore=0.361610\n",
      "[LightGBM] [Info] Start training from score 0.361610\n",
      "Training until validation scores don't improve for 100 rounds\n",
      "Early stopping, best iteration is:\n",
      "[3271]\ttraining's binary_logloss: 0.424301\tvalid_1's binary_logloss: 0.550718\n",
      "auc: 0.6802\n",
      "Fold 2 --------------------------------------------------\n",
      "[LightGBM] [Info] Number of positive: 105074, number of negative: 73188\n",
      "[LightGBM] [Warning] Auto-choosing row-wise multi-threading, the overhead of testing was 0.000794 seconds.\n",
      "You can set `force_row_wise=true` to remove the overhead.\n",
      "And if memory is not enough, you can set `force_col_wise=true`.\n",
      "[LightGBM] [Info] Total Bins 1530\n",
      "[LightGBM] [Info] Number of data points in the train set: 178262, number of used features: 6\n",
      "[LightGBM] [Info] [binary:BoostFromScore]: pavg=0.589436 -> initscore=0.361633\n",
      "[LightGBM] [Info] Start training from score 0.361633\n",
      "Training until validation scores don't improve for 100 rounds\n",
      "Early stopping, best iteration is:\n",
      "[3148]\ttraining's binary_logloss: 0.429215\tvalid_1's binary_logloss: 0.551619\n",
      "auc: 0.6770\n",
      "Fold 3 --------------------------------------------------\n",
      "[LightGBM] [Info] Number of positive: 105074, number of negative: 73189\n",
      "[LightGBM] [Warning] Auto-choosing row-wise multi-threading, the overhead of testing was 0.000873 seconds.\n",
      "You can set `force_row_wise=true` to remove the overhead.\n",
      "And if memory is not enough, you can set `force_col_wise=true`.\n",
      "[LightGBM] [Info] Total Bins 1530\n",
      "[LightGBM] [Info] Number of data points in the train set: 178263, number of used features: 6\n",
      "[LightGBM] [Info] [binary:BoostFromScore]: pavg=0.589432 -> initscore=0.361620\n",
      "[LightGBM] [Info] Start training from score 0.361620\n",
      "Training until validation scores don't improve for 100 rounds\n",
      "Early stopping, best iteration is:\n",
      "[4482]\ttraining's binary_logloss: 0.391039\tvalid_1's binary_logloss: 0.546485\n",
      "auc: 0.6871\n",
      "Fold 4 --------------------------------------------------\n",
      "[LightGBM] [Info] Number of positive: 105074, number of negative: 73189\n",
      "[LightGBM] [Warning] Auto-choosing row-wise multi-threading, the overhead of testing was 0.000756 seconds.\n",
      "You can set `force_row_wise=true` to remove the overhead.\n",
      "And if memory is not enough, you can set `force_col_wise=true`.\n",
      "[LightGBM] [Info] Total Bins 1530\n",
      "[LightGBM] [Info] Number of data points in the train set: 178263, number of used features: 6\n",
      "[LightGBM] [Info] [binary:BoostFromScore]: pavg=0.589432 -> initscore=0.361620\n",
      "[LightGBM] [Info] Start training from score 0.361620\n",
      "Training until validation scores don't improve for 100 rounds\n",
      "Early stopping, best iteration is:\n",
      "[3353]\ttraining's binary_logloss: 0.422449\tvalid_1's binary_logloss: 0.548182\n",
      "auc: 0.6798\n"
     ]
    }
   ],
   "source": [
    "from sklearn.metrics import roc_auc_score\n",
    "train_ad = train.copy()\n",
    "test_ad = test.copy()\n",
    "train_ad['is_train'] = 1\n",
    "test_ad['is_train'] = 0\n",
    "all_df = pd.concat([train_ad, test_ad], axis=0)\n",
    "all_df = all_df.fillna(-9999)\n",
    "all_df = all_df.reset_index(drop=True)\n",
    "target_ad = all_df['is_train'].astype(int)\n",
    "all_df = all_df.drop(columns=['is_train'])\n",
    "all_df = all_df.drop([\n",
    "                      'millisSinceGpsEpoch',\n",
    "                      'latDeg',\n",
    "                      'lngDeg',\n",
    "                      'latDeg_prev',\n",
    "                      'latDeg_next',\n",
    "                      'lngDeg_prev',\n",
    "                      'lngDeg_next',\n",
    "#                        'dist_prev',\n",
    "#                        'dist_next'\n",
    "                        ], axis=1)\n",
    "\n",
    "skf = StratifiedKFold(n_splits=5, shuffle=True, random_state=71)\n",
    "for i, (trn_idx, val_idx) in enumerate(skf.split(all_df, target_ad)):\n",
    "    print(f'Fold {i}', '-'*50)\n",
    "    trn_x = all_df.iloc[trn_idx]\n",
    "    val_x = all_df.iloc[val_idx]\n",
    "    trn_y = target_ad.iloc[trn_idx]\n",
    "    val_y = target_ad.iloc[val_idx]\n",
    "\n",
    "    lgb_train = lgb.Dataset(trn_x, trn_y)\n",
    "    lgb_eval = lgb.Dataset(val_x, val_y)\n",
    "\n",
    "    params = {'objective':'binary'}\n",
    "\n",
    "    model_ad = lgb.train(params, lgb_train, num_boost_round=9999,\n",
    "    early_stopping_rounds=100, valid_sets=[lgb_train, lgb_eval], verbose_eval=-1)\n",
    "    val_pred_ad = model_ad.predict(val_x)\n",
    "    score = roc_auc_score(val_y, np.round(val_pred_ad))\n",
    "    print(f'auc: {score:.4f}')"
   ]
  },
  {
   "cell_type": "code",
   "execution_count": 62,
   "metadata": {},
   "outputs": [
    {
     "output_type": "execute_result",
     "data": {
      "text/plain": [
       "<AxesSubplot:xlabel='importance'>"
      ]
     },
     "metadata": {},
     "execution_count": 62
    },
    {
     "output_type": "display_data",
     "data": {
      "text/plain": "<Figure size 432x288 with 1 Axes>",
      "image/svg+xml": "<?xml version=\"1.0\" encoding=\"utf-8\" standalone=\"no\"?>\n<!DOCTYPE svg PUBLIC \"-//W3C//DTD SVG 1.1//EN\"\n  \"http://www.w3.org/Graphics/SVG/1.1/DTD/svg11.dtd\">\n<svg height=\"262.19625pt\" version=\"1.1\" viewBox=\"0 0 440.339062 262.19625\" width=\"440.339062pt\" xmlns=\"http://www.w3.org/2000/svg\" xmlns:xlink=\"http://www.w3.org/1999/xlink\">\n <metadata>\n  <rdf:RDF xmlns:cc=\"http://creativecommons.org/ns#\" xmlns:dc=\"http://purl.org/dc/elements/1.1/\" xmlns:rdf=\"http://www.w3.org/1999/02/22-rdf-syntax-ns#\">\n   <cc:Work>\n    <dc:type rdf:resource=\"http://purl.org/dc/dcmitype/StillImage\"/>\n    <dc:date>2021-07-05T15:47:21.511557</dc:date>\n    <dc:format>image/svg+xml</dc:format>\n    <dc:creator>\n     <cc:Agent>\n      <dc:title>Matplotlib v3.4.2, https://matplotlib.org/</dc:title>\n     </cc:Agent>\n    </dc:creator>\n   </cc:Work>\n  </rdf:RDF>\n </metadata>\n <defs>\n  <style type=\"text/css\">*{stroke-linecap:butt;stroke-linejoin:round;}</style>\n </defs>\n <g id=\"figure_1\">\n  <g id=\"patch_1\">\n   <path d=\"M 0 262.19625 \nL 440.339063 262.19625 \nL 440.339063 0 \nL 0 0 \nz\n\" style=\"fill:none;\"/>\n  </g>\n  <g id=\"axes_1\">\n   <g id=\"patch_2\">\n    <path d=\"M 98.339063 224.64 \nL 433.139063 224.64 \nL 433.139063 7.2 \nL 98.339063 7.2 \nz\n\" style=\"fill:#ffffff;\"/>\n   </g>\n   <g id=\"matplotlib.axis_1\">\n    <g id=\"xtick_1\">\n     <g id=\"line2d_1\">\n      <defs>\n       <path d=\"M 0 0 \nL 0 3.5 \n\" id=\"maf4a0c9416\" style=\"stroke:#000000;stroke-width:0.8;\"/>\n      </defs>\n      <g>\n       <use style=\"stroke:#000000;stroke-width:0.8;\" x=\"98.66519\" xlink:href=\"#maf4a0c9416\" y=\"224.64\"/>\n      </g>\n     </g>\n     <g id=\"text_1\">\n      <!-- 65000 -->\n      <g transform=\"translate(82.75894 239.238437)scale(0.1 -0.1)\">\n       <defs>\n        <path d=\"M 2113 2584 \nQ 1688 2584 1439 2293 \nQ 1191 2003 1191 1497 \nQ 1191 994 1439 701 \nQ 1688 409 2113 409 \nQ 2538 409 2786 701 \nQ 3034 994 3034 1497 \nQ 3034 2003 2786 2293 \nQ 2538 2584 2113 2584 \nz\nM 3366 4563 \nL 3366 3988 \nQ 3128 4100 2886 4159 \nQ 2644 4219 2406 4219 \nQ 1781 4219 1451 3797 \nQ 1122 3375 1075 2522 \nQ 1259 2794 1537 2939 \nQ 1816 3084 2150 3084 \nQ 2853 3084 3261 2657 \nQ 3669 2231 3669 1497 \nQ 3669 778 3244 343 \nQ 2819 -91 2113 -91 \nQ 1303 -91 875 529 \nQ 447 1150 447 2328 \nQ 447 3434 972 4092 \nQ 1497 4750 2381 4750 \nQ 2619 4750 2861 4703 \nQ 3103 4656 3366 4563 \nz\n\" id=\"DejaVuSans-36\" transform=\"scale(0.015625)\"/>\n        <path d=\"M 691 4666 \nL 3169 4666 \nL 3169 4134 \nL 1269 4134 \nL 1269 2991 \nQ 1406 3038 1543 3061 \nQ 1681 3084 1819 3084 \nQ 2600 3084 3056 2656 \nQ 3513 2228 3513 1497 \nQ 3513 744 3044 326 \nQ 2575 -91 1722 -91 \nQ 1428 -91 1123 -41 \nQ 819 9 494 109 \nL 494 744 \nQ 775 591 1075 516 \nQ 1375 441 1709 441 \nQ 2250 441 2565 725 \nQ 2881 1009 2881 1497 \nQ 2881 1984 2565 2268 \nQ 2250 2553 1709 2553 \nQ 1456 2553 1204 2497 \nQ 953 2441 691 2322 \nL 691 4666 \nz\n\" id=\"DejaVuSans-35\" transform=\"scale(0.015625)\"/>\n        <path d=\"M 2034 4250 \nQ 1547 4250 1301 3770 \nQ 1056 3291 1056 2328 \nQ 1056 1369 1301 889 \nQ 1547 409 2034 409 \nQ 2525 409 2770 889 \nQ 3016 1369 3016 2328 \nQ 3016 3291 2770 3770 \nQ 2525 4250 2034 4250 \nz\nM 2034 4750 \nQ 2819 4750 3233 4129 \nQ 3647 3509 3647 2328 \nQ 3647 1150 3233 529 \nQ 2819 -91 2034 -91 \nQ 1250 -91 836 529 \nQ 422 1150 422 2328 \nQ 422 3509 836 4129 \nQ 1250 4750 2034 4750 \nz\n\" id=\"DejaVuSans-30\" transform=\"scale(0.015625)\"/>\n       </defs>\n       <use xlink:href=\"#DejaVuSans-36\"/>\n       <use x=\"63.623047\" xlink:href=\"#DejaVuSans-35\"/>\n       <use x=\"127.246094\" xlink:href=\"#DejaVuSans-30\"/>\n       <use x=\"190.869141\" xlink:href=\"#DejaVuSans-30\"/>\n       <use x=\"254.492188\" xlink:href=\"#DejaVuSans-30\"/>\n      </g>\n     </g>\n    </g>\n    <g id=\"xtick_2\">\n     <g id=\"line2d_2\">\n      <g>\n       <use style=\"stroke:#000000;stroke-width:0.8;\" x=\"149.594418\" xlink:href=\"#maf4a0c9416\" y=\"224.64\"/>\n      </g>\n     </g>\n     <g id=\"text_2\">\n      <!-- 70000 -->\n      <g transform=\"translate(133.688168 239.238437)scale(0.1 -0.1)\">\n       <defs>\n        <path d=\"M 525 4666 \nL 3525 4666 \nL 3525 4397 \nL 1831 0 \nL 1172 0 \nL 2766 4134 \nL 525 4134 \nL 525 4666 \nz\n\" id=\"DejaVuSans-37\" transform=\"scale(0.015625)\"/>\n       </defs>\n       <use xlink:href=\"#DejaVuSans-37\"/>\n       <use x=\"63.623047\" xlink:href=\"#DejaVuSans-30\"/>\n       <use x=\"127.246094\" xlink:href=\"#DejaVuSans-30\"/>\n       <use x=\"190.869141\" xlink:href=\"#DejaVuSans-30\"/>\n       <use x=\"254.492188\" xlink:href=\"#DejaVuSans-30\"/>\n      </g>\n     </g>\n    </g>\n    <g id=\"xtick_3\">\n     <g id=\"line2d_3\">\n      <g>\n       <use style=\"stroke:#000000;stroke-width:0.8;\" x=\"200.523646\" xlink:href=\"#maf4a0c9416\" y=\"224.64\"/>\n      </g>\n     </g>\n     <g id=\"text_3\">\n      <!-- 75000 -->\n      <g transform=\"translate(184.617396 239.238437)scale(0.1 -0.1)\">\n       <use xlink:href=\"#DejaVuSans-37\"/>\n       <use x=\"63.623047\" xlink:href=\"#DejaVuSans-35\"/>\n       <use x=\"127.246094\" xlink:href=\"#DejaVuSans-30\"/>\n       <use x=\"190.869141\" xlink:href=\"#DejaVuSans-30\"/>\n       <use x=\"254.492188\" xlink:href=\"#DejaVuSans-30\"/>\n      </g>\n     </g>\n    </g>\n    <g id=\"xtick_4\">\n     <g id=\"line2d_4\">\n      <g>\n       <use style=\"stroke:#000000;stroke-width:0.8;\" x=\"251.452873\" xlink:href=\"#maf4a0c9416\" y=\"224.64\"/>\n      </g>\n     </g>\n     <g id=\"text_4\">\n      <!-- 80000 -->\n      <g transform=\"translate(235.546623 239.238437)scale(0.1 -0.1)\">\n       <defs>\n        <path d=\"M 2034 2216 \nQ 1584 2216 1326 1975 \nQ 1069 1734 1069 1313 \nQ 1069 891 1326 650 \nQ 1584 409 2034 409 \nQ 2484 409 2743 651 \nQ 3003 894 3003 1313 \nQ 3003 1734 2745 1975 \nQ 2488 2216 2034 2216 \nz\nM 1403 2484 \nQ 997 2584 770 2862 \nQ 544 3141 544 3541 \nQ 544 4100 942 4425 \nQ 1341 4750 2034 4750 \nQ 2731 4750 3128 4425 \nQ 3525 4100 3525 3541 \nQ 3525 3141 3298 2862 \nQ 3072 2584 2669 2484 \nQ 3125 2378 3379 2068 \nQ 3634 1759 3634 1313 \nQ 3634 634 3220 271 \nQ 2806 -91 2034 -91 \nQ 1263 -91 848 271 \nQ 434 634 434 1313 \nQ 434 1759 690 2068 \nQ 947 2378 1403 2484 \nz\nM 1172 3481 \nQ 1172 3119 1398 2916 \nQ 1625 2713 2034 2713 \nQ 2441 2713 2670 2916 \nQ 2900 3119 2900 3481 \nQ 2900 3844 2670 4047 \nQ 2441 4250 2034 4250 \nQ 1625 4250 1398 4047 \nQ 1172 3844 1172 3481 \nz\n\" id=\"DejaVuSans-38\" transform=\"scale(0.015625)\"/>\n       </defs>\n       <use xlink:href=\"#DejaVuSans-38\"/>\n       <use x=\"63.623047\" xlink:href=\"#DejaVuSans-30\"/>\n       <use x=\"127.246094\" xlink:href=\"#DejaVuSans-30\"/>\n       <use x=\"190.869141\" xlink:href=\"#DejaVuSans-30\"/>\n       <use x=\"254.492188\" xlink:href=\"#DejaVuSans-30\"/>\n      </g>\n     </g>\n    </g>\n    <g id=\"xtick_5\">\n     <g id=\"line2d_5\">\n      <g>\n       <use style=\"stroke:#000000;stroke-width:0.8;\" x=\"302.382101\" xlink:href=\"#maf4a0c9416\" y=\"224.64\"/>\n      </g>\n     </g>\n     <g id=\"text_5\">\n      <!-- 85000 -->\n      <g transform=\"translate(286.475851 239.238437)scale(0.1 -0.1)\">\n       <use xlink:href=\"#DejaVuSans-38\"/>\n       <use x=\"63.623047\" xlink:href=\"#DejaVuSans-35\"/>\n       <use x=\"127.246094\" xlink:href=\"#DejaVuSans-30\"/>\n       <use x=\"190.869141\" xlink:href=\"#DejaVuSans-30\"/>\n       <use x=\"254.492188\" xlink:href=\"#DejaVuSans-30\"/>\n      </g>\n     </g>\n    </g>\n    <g id=\"xtick_6\">\n     <g id=\"line2d_6\">\n      <g>\n       <use style=\"stroke:#000000;stroke-width:0.8;\" x=\"353.311329\" xlink:href=\"#maf4a0c9416\" y=\"224.64\"/>\n      </g>\n     </g>\n     <g id=\"text_6\">\n      <!-- 90000 -->\n      <g transform=\"translate(337.405079 239.238437)scale(0.1 -0.1)\">\n       <defs>\n        <path d=\"M 703 97 \nL 703 672 \nQ 941 559 1184 500 \nQ 1428 441 1663 441 \nQ 2288 441 2617 861 \nQ 2947 1281 2994 2138 \nQ 2813 1869 2534 1725 \nQ 2256 1581 1919 1581 \nQ 1219 1581 811 2004 \nQ 403 2428 403 3163 \nQ 403 3881 828 4315 \nQ 1253 4750 1959 4750 \nQ 2769 4750 3195 4129 \nQ 3622 3509 3622 2328 \nQ 3622 1225 3098 567 \nQ 2575 -91 1691 -91 \nQ 1453 -91 1209 -44 \nQ 966 3 703 97 \nz\nM 1959 2075 \nQ 2384 2075 2632 2365 \nQ 2881 2656 2881 3163 \nQ 2881 3666 2632 3958 \nQ 2384 4250 1959 4250 \nQ 1534 4250 1286 3958 \nQ 1038 3666 1038 3163 \nQ 1038 2656 1286 2365 \nQ 1534 2075 1959 2075 \nz\n\" id=\"DejaVuSans-39\" transform=\"scale(0.015625)\"/>\n       </defs>\n       <use xlink:href=\"#DejaVuSans-39\"/>\n       <use x=\"63.623047\" xlink:href=\"#DejaVuSans-30\"/>\n       <use x=\"127.246094\" xlink:href=\"#DejaVuSans-30\"/>\n       <use x=\"190.869141\" xlink:href=\"#DejaVuSans-30\"/>\n       <use x=\"254.492188\" xlink:href=\"#DejaVuSans-30\"/>\n      </g>\n     </g>\n    </g>\n    <g id=\"xtick_7\">\n     <g id=\"line2d_7\">\n      <g>\n       <use style=\"stroke:#000000;stroke-width:0.8;\" x=\"404.240557\" xlink:href=\"#maf4a0c9416\" y=\"224.64\"/>\n      </g>\n     </g>\n     <g id=\"text_7\">\n      <!-- 95000 -->\n      <g transform=\"translate(388.334307 239.238437)scale(0.1 -0.1)\">\n       <use xlink:href=\"#DejaVuSans-39\"/>\n       <use x=\"63.623047\" xlink:href=\"#DejaVuSans-35\"/>\n       <use x=\"127.246094\" xlink:href=\"#DejaVuSans-30\"/>\n       <use x=\"190.869141\" xlink:href=\"#DejaVuSans-30\"/>\n       <use x=\"254.492188\" xlink:href=\"#DejaVuSans-30\"/>\n      </g>\n     </g>\n    </g>\n    <g id=\"text_8\">\n     <!-- importance -->\n     <g transform=\"translate(237.171875 252.916562)scale(0.1 -0.1)\">\n      <defs>\n       <path d=\"M 603 3500 \nL 1178 3500 \nL 1178 0 \nL 603 0 \nL 603 3500 \nz\nM 603 4863 \nL 1178 4863 \nL 1178 4134 \nL 603 4134 \nL 603 4863 \nz\n\" id=\"DejaVuSans-69\" transform=\"scale(0.015625)\"/>\n       <path d=\"M 3328 2828 \nQ 3544 3216 3844 3400 \nQ 4144 3584 4550 3584 \nQ 5097 3584 5394 3201 \nQ 5691 2819 5691 2113 \nL 5691 0 \nL 5113 0 \nL 5113 2094 \nQ 5113 2597 4934 2840 \nQ 4756 3084 4391 3084 \nQ 3944 3084 3684 2787 \nQ 3425 2491 3425 1978 \nL 3425 0 \nL 2847 0 \nL 2847 2094 \nQ 2847 2600 2669 2842 \nQ 2491 3084 2119 3084 \nQ 1678 3084 1418 2786 \nQ 1159 2488 1159 1978 \nL 1159 0 \nL 581 0 \nL 581 3500 \nL 1159 3500 \nL 1159 2956 \nQ 1356 3278 1631 3431 \nQ 1906 3584 2284 3584 \nQ 2666 3584 2933 3390 \nQ 3200 3197 3328 2828 \nz\n\" id=\"DejaVuSans-6d\" transform=\"scale(0.015625)\"/>\n       <path d=\"M 1159 525 \nL 1159 -1331 \nL 581 -1331 \nL 581 3500 \nL 1159 3500 \nL 1159 2969 \nQ 1341 3281 1617 3432 \nQ 1894 3584 2278 3584 \nQ 2916 3584 3314 3078 \nQ 3713 2572 3713 1747 \nQ 3713 922 3314 415 \nQ 2916 -91 2278 -91 \nQ 1894 -91 1617 61 \nQ 1341 213 1159 525 \nz\nM 3116 1747 \nQ 3116 2381 2855 2742 \nQ 2594 3103 2138 3103 \nQ 1681 3103 1420 2742 \nQ 1159 2381 1159 1747 \nQ 1159 1113 1420 752 \nQ 1681 391 2138 391 \nQ 2594 391 2855 752 \nQ 3116 1113 3116 1747 \nz\n\" id=\"DejaVuSans-70\" transform=\"scale(0.015625)\"/>\n       <path d=\"M 1959 3097 \nQ 1497 3097 1228 2736 \nQ 959 2375 959 1747 \nQ 959 1119 1226 758 \nQ 1494 397 1959 397 \nQ 2419 397 2687 759 \nQ 2956 1122 2956 1747 \nQ 2956 2369 2687 2733 \nQ 2419 3097 1959 3097 \nz\nM 1959 3584 \nQ 2709 3584 3137 3096 \nQ 3566 2609 3566 1747 \nQ 3566 888 3137 398 \nQ 2709 -91 1959 -91 \nQ 1206 -91 779 398 \nQ 353 888 353 1747 \nQ 353 2609 779 3096 \nQ 1206 3584 1959 3584 \nz\n\" id=\"DejaVuSans-6f\" transform=\"scale(0.015625)\"/>\n       <path d=\"M 2631 2963 \nQ 2534 3019 2420 3045 \nQ 2306 3072 2169 3072 \nQ 1681 3072 1420 2755 \nQ 1159 2438 1159 1844 \nL 1159 0 \nL 581 0 \nL 581 3500 \nL 1159 3500 \nL 1159 2956 \nQ 1341 3275 1631 3429 \nQ 1922 3584 2338 3584 \nQ 2397 3584 2469 3576 \nQ 2541 3569 2628 3553 \nL 2631 2963 \nz\n\" id=\"DejaVuSans-72\" transform=\"scale(0.015625)\"/>\n       <path d=\"M 1172 4494 \nL 1172 3500 \nL 2356 3500 \nL 2356 3053 \nL 1172 3053 \nL 1172 1153 \nQ 1172 725 1289 603 \nQ 1406 481 1766 481 \nL 2356 481 \nL 2356 0 \nL 1766 0 \nQ 1100 0 847 248 \nQ 594 497 594 1153 \nL 594 3053 \nL 172 3053 \nL 172 3500 \nL 594 3500 \nL 594 4494 \nL 1172 4494 \nz\n\" id=\"DejaVuSans-74\" transform=\"scale(0.015625)\"/>\n       <path d=\"M 2194 1759 \nQ 1497 1759 1228 1600 \nQ 959 1441 959 1056 \nQ 959 750 1161 570 \nQ 1363 391 1709 391 \nQ 2188 391 2477 730 \nQ 2766 1069 2766 1631 \nL 2766 1759 \nL 2194 1759 \nz\nM 3341 1997 \nL 3341 0 \nL 2766 0 \nL 2766 531 \nQ 2569 213 2275 61 \nQ 1981 -91 1556 -91 \nQ 1019 -91 701 211 \nQ 384 513 384 1019 \nQ 384 1609 779 1909 \nQ 1175 2209 1959 2209 \nL 2766 2209 \nL 2766 2266 \nQ 2766 2663 2505 2880 \nQ 2244 3097 1772 3097 \nQ 1472 3097 1187 3025 \nQ 903 2953 641 2809 \nL 641 3341 \nQ 956 3463 1253 3523 \nQ 1550 3584 1831 3584 \nQ 2591 3584 2966 3190 \nQ 3341 2797 3341 1997 \nz\n\" id=\"DejaVuSans-61\" transform=\"scale(0.015625)\"/>\n       <path d=\"M 3513 2113 \nL 3513 0 \nL 2938 0 \nL 2938 2094 \nQ 2938 2591 2744 2837 \nQ 2550 3084 2163 3084 \nQ 1697 3084 1428 2787 \nQ 1159 2491 1159 1978 \nL 1159 0 \nL 581 0 \nL 581 3500 \nL 1159 3500 \nL 1159 2956 \nQ 1366 3272 1645 3428 \nQ 1925 3584 2291 3584 \nQ 2894 3584 3203 3211 \nQ 3513 2838 3513 2113 \nz\n\" id=\"DejaVuSans-6e\" transform=\"scale(0.015625)\"/>\n       <path d=\"M 3122 3366 \nL 3122 2828 \nQ 2878 2963 2633 3030 \nQ 2388 3097 2138 3097 \nQ 1578 3097 1268 2742 \nQ 959 2388 959 1747 \nQ 959 1106 1268 751 \nQ 1578 397 2138 397 \nQ 2388 397 2633 464 \nQ 2878 531 3122 666 \nL 3122 134 \nQ 2881 22 2623 -34 \nQ 2366 -91 2075 -91 \nQ 1284 -91 818 406 \nQ 353 903 353 1747 \nQ 353 2603 823 3093 \nQ 1294 3584 2113 3584 \nQ 2378 3584 2631 3529 \nQ 2884 3475 3122 3366 \nz\n\" id=\"DejaVuSans-63\" transform=\"scale(0.015625)\"/>\n       <path d=\"M 3597 1894 \nL 3597 1613 \nL 953 1613 \nQ 991 1019 1311 708 \nQ 1631 397 2203 397 \nQ 2534 397 2845 478 \nQ 3156 559 3463 722 \nL 3463 178 \nQ 3153 47 2828 -22 \nQ 2503 -91 2169 -91 \nQ 1331 -91 842 396 \nQ 353 884 353 1716 \nQ 353 2575 817 3079 \nQ 1281 3584 2069 3584 \nQ 2775 3584 3186 3129 \nQ 3597 2675 3597 1894 \nz\nM 3022 2063 \nQ 3016 2534 2758 2815 \nQ 2500 3097 2075 3097 \nQ 1594 3097 1305 2825 \nQ 1016 2553 972 2059 \nL 3022 2063 \nz\n\" id=\"DejaVuSans-65\" transform=\"scale(0.015625)\"/>\n      </defs>\n      <use xlink:href=\"#DejaVuSans-69\"/>\n      <use x=\"27.783203\" xlink:href=\"#DejaVuSans-6d\"/>\n      <use x=\"125.195312\" xlink:href=\"#DejaVuSans-70\"/>\n      <use x=\"188.671875\" xlink:href=\"#DejaVuSans-6f\"/>\n      <use x=\"249.853516\" xlink:href=\"#DejaVuSans-72\"/>\n      <use x=\"290.966797\" xlink:href=\"#DejaVuSans-74\"/>\n      <use x=\"330.175781\" xlink:href=\"#DejaVuSans-61\"/>\n      <use x=\"391.455078\" xlink:href=\"#DejaVuSans-6e\"/>\n      <use x=\"454.833984\" xlink:href=\"#DejaVuSans-63\"/>\n      <use x=\"509.814453\" xlink:href=\"#DejaVuSans-65\"/>\n     </g>\n    </g>\n   </g>\n   <g id=\"matplotlib.axis_2\">\n    <g id=\"ytick_1\">\n     <g id=\"line2d_8\">\n      <defs>\n       <path d=\"M 0 0 \nL -3.5 0 \n\" id=\"mcd0868728e\" style=\"stroke:#000000;stroke-width:0.8;\"/>\n      </defs>\n      <g>\n       <use style=\"stroke:#000000;stroke-width:0.8;\" x=\"98.339063\" xlink:href=\"#mcd0868728e\" y=\"25.32\"/>\n      </g>\n     </g>\n     <g id=\"text_9\">\n      <!-- latDeg_next_diff -->\n      <g transform=\"translate(9.989063 29.119219)scale(0.1 -0.1)\">\n       <defs>\n        <path d=\"M 603 4863 \nL 1178 4863 \nL 1178 0 \nL 603 0 \nL 603 4863 \nz\n\" id=\"DejaVuSans-6c\" transform=\"scale(0.015625)\"/>\n        <path d=\"M 1259 4147 \nL 1259 519 \nL 2022 519 \nQ 2988 519 3436 956 \nQ 3884 1394 3884 2338 \nQ 3884 3275 3436 3711 \nQ 2988 4147 2022 4147 \nL 1259 4147 \nz\nM 628 4666 \nL 1925 4666 \nQ 3281 4666 3915 4102 \nQ 4550 3538 4550 2338 \nQ 4550 1131 3912 565 \nQ 3275 0 1925 0 \nL 628 0 \nL 628 4666 \nz\n\" id=\"DejaVuSans-44\" transform=\"scale(0.015625)\"/>\n        <path d=\"M 2906 1791 \nQ 2906 2416 2648 2759 \nQ 2391 3103 1925 3103 \nQ 1463 3103 1205 2759 \nQ 947 2416 947 1791 \nQ 947 1169 1205 825 \nQ 1463 481 1925 481 \nQ 2391 481 2648 825 \nQ 2906 1169 2906 1791 \nz\nM 3481 434 \nQ 3481 -459 3084 -895 \nQ 2688 -1331 1869 -1331 \nQ 1566 -1331 1297 -1286 \nQ 1028 -1241 775 -1147 \nL 775 -588 \nQ 1028 -725 1275 -790 \nQ 1522 -856 1778 -856 \nQ 2344 -856 2625 -561 \nQ 2906 -266 2906 331 \nL 2906 616 \nQ 2728 306 2450 153 \nQ 2172 0 1784 0 \nQ 1141 0 747 490 \nQ 353 981 353 1791 \nQ 353 2603 747 3093 \nQ 1141 3584 1784 3584 \nQ 2172 3584 2450 3431 \nQ 2728 3278 2906 2969 \nL 2906 3500 \nL 3481 3500 \nL 3481 434 \nz\n\" id=\"DejaVuSans-67\" transform=\"scale(0.015625)\"/>\n        <path d=\"M 3263 -1063 \nL 3263 -1509 \nL -63 -1509 \nL -63 -1063 \nL 3263 -1063 \nz\n\" id=\"DejaVuSans-5f\" transform=\"scale(0.015625)\"/>\n        <path d=\"M 3513 3500 \nL 2247 1797 \nL 3578 0 \nL 2900 0 \nL 1881 1375 \nL 863 0 \nL 184 0 \nL 1544 1831 \nL 300 3500 \nL 978 3500 \nL 1906 2253 \nL 2834 3500 \nL 3513 3500 \nz\n\" id=\"DejaVuSans-78\" transform=\"scale(0.015625)\"/>\n        <path d=\"M 2906 2969 \nL 2906 4863 \nL 3481 4863 \nL 3481 0 \nL 2906 0 \nL 2906 525 \nQ 2725 213 2448 61 \nQ 2172 -91 1784 -91 \nQ 1150 -91 751 415 \nQ 353 922 353 1747 \nQ 353 2572 751 3078 \nQ 1150 3584 1784 3584 \nQ 2172 3584 2448 3432 \nQ 2725 3281 2906 2969 \nz\nM 947 1747 \nQ 947 1113 1208 752 \nQ 1469 391 1925 391 \nQ 2381 391 2643 752 \nQ 2906 1113 2906 1747 \nQ 2906 2381 2643 2742 \nQ 2381 3103 1925 3103 \nQ 1469 3103 1208 2742 \nQ 947 2381 947 1747 \nz\n\" id=\"DejaVuSans-64\" transform=\"scale(0.015625)\"/>\n        <path d=\"M 2375 4863 \nL 2375 4384 \nL 1825 4384 \nQ 1516 4384 1395 4259 \nQ 1275 4134 1275 3809 \nL 1275 3500 \nL 2222 3500 \nL 2222 3053 \nL 1275 3053 \nL 1275 0 \nL 697 0 \nL 697 3053 \nL 147 3053 \nL 147 3500 \nL 697 3500 \nL 697 3744 \nQ 697 4328 969 4595 \nQ 1241 4863 1831 4863 \nL 2375 4863 \nz\n\" id=\"DejaVuSans-66\" transform=\"scale(0.015625)\"/>\n       </defs>\n       <use xlink:href=\"#DejaVuSans-6c\"/>\n       <use x=\"27.783203\" xlink:href=\"#DejaVuSans-61\"/>\n       <use x=\"89.0625\" xlink:href=\"#DejaVuSans-74\"/>\n       <use x=\"128.271484\" xlink:href=\"#DejaVuSans-44\"/>\n       <use x=\"205.273438\" xlink:href=\"#DejaVuSans-65\"/>\n       <use x=\"266.796875\" xlink:href=\"#DejaVuSans-67\"/>\n       <use x=\"330.273438\" xlink:href=\"#DejaVuSans-5f\"/>\n       <use x=\"380.273438\" xlink:href=\"#DejaVuSans-6e\"/>\n       <use x=\"443.652344\" xlink:href=\"#DejaVuSans-65\"/>\n       <use x=\"503.425781\" xlink:href=\"#DejaVuSans-78\"/>\n       <use x=\"562.605469\" xlink:href=\"#DejaVuSans-74\"/>\n       <use x=\"601.814453\" xlink:href=\"#DejaVuSans-5f\"/>\n       <use x=\"651.814453\" xlink:href=\"#DejaVuSans-64\"/>\n       <use x=\"715.291016\" xlink:href=\"#DejaVuSans-69\"/>\n       <use x=\"743.074219\" xlink:href=\"#DejaVuSans-66\"/>\n       <use x=\"778.279297\" xlink:href=\"#DejaVuSans-66\"/>\n      </g>\n     </g>\n    </g>\n    <g id=\"ytick_2\">\n     <g id=\"line2d_9\">\n      <g>\n       <use style=\"stroke:#000000;stroke-width:0.8;\" x=\"98.339063\" xlink:href=\"#mcd0868728e\" y=\"61.56\"/>\n      </g>\n     </g>\n     <g id=\"text_10\">\n      <!-- lngDeg_prev_diff -->\n      <g transform=\"translate(7.2 65.359219)scale(0.1 -0.1)\">\n       <defs>\n        <path d=\"M 191 3500 \nL 800 3500 \nL 1894 563 \nL 2988 3500 \nL 3597 3500 \nL 2284 0 \nL 1503 0 \nL 191 3500 \nz\n\" id=\"DejaVuSans-76\" transform=\"scale(0.015625)\"/>\n       </defs>\n       <use xlink:href=\"#DejaVuSans-6c\"/>\n       <use x=\"27.783203\" xlink:href=\"#DejaVuSans-6e\"/>\n       <use x=\"91.162109\" xlink:href=\"#DejaVuSans-67\"/>\n       <use x=\"154.638672\" xlink:href=\"#DejaVuSans-44\"/>\n       <use x=\"231.640625\" xlink:href=\"#DejaVuSans-65\"/>\n       <use x=\"293.164062\" xlink:href=\"#DejaVuSans-67\"/>\n       <use x=\"356.640625\" xlink:href=\"#DejaVuSans-5f\"/>\n       <use x=\"406.640625\" xlink:href=\"#DejaVuSans-70\"/>\n       <use x=\"470.117188\" xlink:href=\"#DejaVuSans-72\"/>\n       <use x=\"508.980469\" xlink:href=\"#DejaVuSans-65\"/>\n       <use x=\"570.503906\" xlink:href=\"#DejaVuSans-76\"/>\n       <use x=\"629.683594\" xlink:href=\"#DejaVuSans-5f\"/>\n       <use x=\"679.683594\" xlink:href=\"#DejaVuSans-64\"/>\n       <use x=\"743.160156\" xlink:href=\"#DejaVuSans-69\"/>\n       <use x=\"770.943359\" xlink:href=\"#DejaVuSans-66\"/>\n       <use x=\"806.148438\" xlink:href=\"#DejaVuSans-66\"/>\n      </g>\n     </g>\n    </g>\n    <g id=\"ytick_3\">\n     <g id=\"line2d_10\">\n      <g>\n       <use style=\"stroke:#000000;stroke-width:0.8;\" x=\"98.339063\" xlink:href=\"#mcd0868728e\" y=\"97.8\"/>\n      </g>\n     </g>\n     <g id=\"text_11\">\n      <!-- lngDeg_next_diff -->\n      <g transform=\"translate(7.351562 101.599219)scale(0.1 -0.1)\">\n       <use xlink:href=\"#DejaVuSans-6c\"/>\n       <use x=\"27.783203\" xlink:href=\"#DejaVuSans-6e\"/>\n       <use x=\"91.162109\" xlink:href=\"#DejaVuSans-67\"/>\n       <use x=\"154.638672\" xlink:href=\"#DejaVuSans-44\"/>\n       <use x=\"231.640625\" xlink:href=\"#DejaVuSans-65\"/>\n       <use x=\"293.164062\" xlink:href=\"#DejaVuSans-67\"/>\n       <use x=\"356.640625\" xlink:href=\"#DejaVuSans-5f\"/>\n       <use x=\"406.640625\" xlink:href=\"#DejaVuSans-6e\"/>\n       <use x=\"470.019531\" xlink:href=\"#DejaVuSans-65\"/>\n       <use x=\"529.792969\" xlink:href=\"#DejaVuSans-78\"/>\n       <use x=\"588.972656\" xlink:href=\"#DejaVuSans-74\"/>\n       <use x=\"628.181641\" xlink:href=\"#DejaVuSans-5f\"/>\n       <use x=\"678.181641\" xlink:href=\"#DejaVuSans-64\"/>\n       <use x=\"741.658203\" xlink:href=\"#DejaVuSans-69\"/>\n       <use x=\"769.441406\" xlink:href=\"#DejaVuSans-66\"/>\n       <use x=\"804.646484\" xlink:href=\"#DejaVuSans-66\"/>\n      </g>\n     </g>\n    </g>\n    <g id=\"ytick_4\">\n     <g id=\"line2d_11\">\n      <g>\n       <use style=\"stroke:#000000;stroke-width:0.8;\" x=\"98.339063\" xlink:href=\"#mcd0868728e\" y=\"134.04\"/>\n      </g>\n     </g>\n     <g id=\"text_12\">\n      <!-- latDeg_prev_diff -->\n      <g transform=\"translate(9.8375 137.839219)scale(0.1 -0.1)\">\n       <use xlink:href=\"#DejaVuSans-6c\"/>\n       <use x=\"27.783203\" xlink:href=\"#DejaVuSans-61\"/>\n       <use x=\"89.0625\" xlink:href=\"#DejaVuSans-74\"/>\n       <use x=\"128.271484\" xlink:href=\"#DejaVuSans-44\"/>\n       <use x=\"205.273438\" xlink:href=\"#DejaVuSans-65\"/>\n       <use x=\"266.796875\" xlink:href=\"#DejaVuSans-67\"/>\n       <use x=\"330.273438\" xlink:href=\"#DejaVuSans-5f\"/>\n       <use x=\"380.273438\" xlink:href=\"#DejaVuSans-70\"/>\n       <use x=\"443.75\" xlink:href=\"#DejaVuSans-72\"/>\n       <use x=\"482.613281\" xlink:href=\"#DejaVuSans-65\"/>\n       <use x=\"544.136719\" xlink:href=\"#DejaVuSans-76\"/>\n       <use x=\"603.316406\" xlink:href=\"#DejaVuSans-5f\"/>\n       <use x=\"653.316406\" xlink:href=\"#DejaVuSans-64\"/>\n       <use x=\"716.792969\" xlink:href=\"#DejaVuSans-69\"/>\n       <use x=\"744.576172\" xlink:href=\"#DejaVuSans-66\"/>\n       <use x=\"779.78125\" xlink:href=\"#DejaVuSans-66\"/>\n      </g>\n     </g>\n    </g>\n    <g id=\"ytick_5\">\n     <g id=\"line2d_12\">\n      <g>\n       <use style=\"stroke:#000000;stroke-width:0.8;\" x=\"98.339063\" xlink:href=\"#mcd0868728e\" y=\"170.28\"/>\n      </g>\n     </g>\n     <g id=\"text_13\">\n      <!-- dist_prev -->\n      <g transform=\"translate(45.776563 174.079219)scale(0.1 -0.1)\">\n       <defs>\n        <path d=\"M 2834 3397 \nL 2834 2853 \nQ 2591 2978 2328 3040 \nQ 2066 3103 1784 3103 \nQ 1356 3103 1142 2972 \nQ 928 2841 928 2578 \nQ 928 2378 1081 2264 \nQ 1234 2150 1697 2047 \nL 1894 2003 \nQ 2506 1872 2764 1633 \nQ 3022 1394 3022 966 \nQ 3022 478 2636 193 \nQ 2250 -91 1575 -91 \nQ 1294 -91 989 -36 \nQ 684 19 347 128 \nL 347 722 \nQ 666 556 975 473 \nQ 1284 391 1588 391 \nQ 1994 391 2212 530 \nQ 2431 669 2431 922 \nQ 2431 1156 2273 1281 \nQ 2116 1406 1581 1522 \nL 1381 1569 \nQ 847 1681 609 1914 \nQ 372 2147 372 2553 \nQ 372 3047 722 3315 \nQ 1072 3584 1716 3584 \nQ 2034 3584 2315 3537 \nQ 2597 3491 2834 3397 \nz\n\" id=\"DejaVuSans-73\" transform=\"scale(0.015625)\"/>\n       </defs>\n       <use xlink:href=\"#DejaVuSans-64\"/>\n       <use x=\"63.476562\" xlink:href=\"#DejaVuSans-69\"/>\n       <use x=\"91.259766\" xlink:href=\"#DejaVuSans-73\"/>\n       <use x=\"143.359375\" xlink:href=\"#DejaVuSans-74\"/>\n       <use x=\"182.568359\" xlink:href=\"#DejaVuSans-5f\"/>\n       <use x=\"232.568359\" xlink:href=\"#DejaVuSans-70\"/>\n       <use x=\"296.044922\" xlink:href=\"#DejaVuSans-72\"/>\n       <use x=\"334.908203\" xlink:href=\"#DejaVuSans-65\"/>\n       <use x=\"396.431641\" xlink:href=\"#DejaVuSans-76\"/>\n      </g>\n     </g>\n    </g>\n    <g id=\"ytick_6\">\n     <g id=\"line2d_13\">\n      <g>\n       <use style=\"stroke:#000000;stroke-width:0.8;\" x=\"98.339063\" xlink:href=\"#mcd0868728e\" y=\"206.52\"/>\n      </g>\n     </g>\n     <g id=\"text_14\">\n      <!-- dist_next -->\n      <g transform=\"translate(45.928125 210.319219)scale(0.1 -0.1)\">\n       <use xlink:href=\"#DejaVuSans-64\"/>\n       <use x=\"63.476562\" xlink:href=\"#DejaVuSans-69\"/>\n       <use x=\"91.259766\" xlink:href=\"#DejaVuSans-73\"/>\n       <use x=\"143.359375\" xlink:href=\"#DejaVuSans-74\"/>\n       <use x=\"182.568359\" xlink:href=\"#DejaVuSans-5f\"/>\n       <use x=\"232.568359\" xlink:href=\"#DejaVuSans-6e\"/>\n       <use x=\"295.947266\" xlink:href=\"#DejaVuSans-65\"/>\n       <use x=\"355.720703\" xlink:href=\"#DejaVuSans-78\"/>\n       <use x=\"414.900391\" xlink:href=\"#DejaVuSans-74\"/>\n      </g>\n     </g>\n    </g>\n   </g>\n   <g id=\"line2d_14\">\n    <path clip-path=\"url(#p343e1e6fa9)\" d=\"M 417.920881 10.824 \nL 417.920881 39.816 \n\" style=\"fill:none;stroke:#3d3d3d;stroke-linecap:square;stroke-width:1.5;\"/>\n   </g>\n   <g id=\"line2d_15\">\n    <path clip-path=\"url(#p343e1e6fa9)\" d=\"M 281.128444 47.064 \nL 281.128444 76.056 \n\" style=\"fill:none;stroke:#3d3d3d;stroke-linecap:square;stroke-width:1.5;\"/>\n   </g>\n   <g id=\"line2d_16\">\n    <path clip-path=\"url(#p343e1e6fa9)\" d=\"M 271.71522 83.304 \nL 271.71522 112.296 \n\" style=\"fill:none;stroke:#3d3d3d;stroke-linecap:square;stroke-width:1.5;\"/>\n   </g>\n   <g id=\"line2d_17\">\n    <path clip-path=\"url(#p343e1e6fa9)\" d=\"M 265.933184 119.544 \nL 265.933184 148.536 \n\" style=\"fill:none;stroke:#3d3d3d;stroke-linecap:square;stroke-width:1.5;\"/>\n   </g>\n   <g id=\"line2d_18\">\n    <path clip-path=\"url(#p343e1e6fa9)\" d=\"M 134.796928 155.784 \nL 134.796928 184.776 \n\" style=\"fill:none;stroke:#3d3d3d;stroke-linecap:square;stroke-width:1.5;\"/>\n   </g>\n   <g id=\"line2d_19\">\n    <path clip-path=\"url(#p343e1e6fa9)\" d=\"M 113.557244 192.024 \nL 113.557244 221.016 \n\" style=\"fill:none;stroke:#3d3d3d;stroke-linecap:square;stroke-width:1.5;\"/>\n   </g>\n   <g id=\"patch_3\">\n    <path d=\"M 98.339063 224.64 \nL 98.339063 7.2 \n\" style=\"fill:none;stroke:#000000;stroke-linecap:square;stroke-linejoin:miter;stroke-width:0.8;\"/>\n   </g>\n   <g id=\"patch_4\">\n    <path d=\"M 433.139063 224.64 \nL 433.139063 7.2 \n\" style=\"fill:none;stroke:#000000;stroke-linecap:square;stroke-linejoin:miter;stroke-width:0.8;\"/>\n   </g>\n   <g id=\"patch_5\">\n    <path d=\"M 98.339062 224.64 \nL 433.139062 224.64 \n\" style=\"fill:none;stroke:#000000;stroke-linecap:square;stroke-linejoin:miter;stroke-width:0.8;\"/>\n   </g>\n   <g id=\"patch_6\">\n    <path d=\"M 98.339062 7.2 \nL 433.139062 7.2 \n\" style=\"fill:none;stroke:#000000;stroke-linecap:square;stroke-linejoin:miter;stroke-width:0.8;\"/>\n   </g>\n  </g>\n </g>\n <defs>\n  <clipPath id=\"p343e1e6fa9\">\n   <rect height=\"217.44\" width=\"334.8\" x=\"98.339063\" y=\"7.2\"/>\n  </clipPath>\n </defs>\n</svg>\n",
      "image/png": "[encoded data removed]"
     },
     "metadata": {
      "needs_background": "light"
     }
    }
   ],
   "source": [
    "importance = pd.DataFrame(model_ad.feature_importance(importance_type='gain'), index=all_df.columns, columns=['importance'])\n",
    "importance = importance.sort_values('importance', ascending=False)\n",
    "# display(importance)\n",
    "sns.boxenplot(data=importance, x='importance', y=importance.index)"
   ]
  },
  {
   "cell_type": "code",
   "execution_count": 149,
   "metadata": {},
   "outputs": [
    {
     "output_type": "execute_result",
     "data": {
      "text/plain": [
       "['latDeg_prev_diff',\n",
       " 'latDeg_next_diff',\n",
       " 'lngDeg_prev_diff',\n",
       " 'lngDeg_next_diff',\n",
       " 'dist_prev',\n",
       " 'dist_next']"
      ]
     },
     "metadata": {},
     "execution_count": 149
    }
   ],
   "source": [
    "model.feature_name()"
   ]
  },
  {
   "cell_type": "code",
   "execution_count": null,
   "metadata": {},
   "outputs": [],
   "source": []
  }
 ],
 "metadata": {
  "kernelspec": {
   "name": "python3",
   "display_name": "Python 3.7.4 64-bit ('venv_outdoor': venv)",
   "metadata": {
    "interpreter": {
     "hash": "bd00b75c79969edcf008edd1fd5973862c0c93beffacd004fb7d75ad6fcb357f"
    }
   }
  },
  "language_info": {
   "codemirror_mode": {
    "name": "ipython",
    "version": 3
   },
   "file_extension": ".py",
   "mimetype": "text/x-python",
   "name": "python",
   "nbconvert_exporter": "python",
   "pygments_lexer": "ipython3",
   "version": "3.7.4"
  }
 },
 "nbformat": 4,
 "nbformat_minor": 5
}